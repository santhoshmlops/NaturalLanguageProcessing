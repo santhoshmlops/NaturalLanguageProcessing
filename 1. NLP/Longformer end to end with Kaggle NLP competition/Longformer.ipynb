{
 "cells": [
  {
   "attachments": {},
   "cell_type": "markdown",
   "metadata": {
    "pycharm": {
     "name": "#%% md\n"
    }
   },
   "source": [
    "<a href=\"https://www.youtube.com/watch?v=EHtHF9Kvm0Y&list=PLxqBkZuBynVTn2lkHNAcw6lgm1MD5QiMK&index=28&ab_channel=Rohan-Paul-AI\"><h1 style=\"font-size:250%; font-family:cursive; color:#ff6666;\"><b>Link YouTube Video - LongFormer with Tensorflow | NER</b></h1></a>\n",
    "\n",
    "[![IMAGE ALT TEXT](https://imgur.com/h7u2oId.png)](https://www.youtube.com/watch?v=EHtHF9Kvm0Y&list=PLxqBkZuBynVTn2lkHNAcw6lgm1MD5QiMK&index=28&ab_channel=Rohan-Paul-AI \"\")\n",
    "\n",
    "\n",
    "---------------------\n",
    "\n",
    "## [Kaggle - Feedback Prize - Evaluating Student Writing](https://www.kaggle.com/competitions/feedback-prize-2021)\n",
    "\n",
    "### You can run this Notebook either Locally or in Kaggle - Just modify the 'ROOT_DIR' variable to properly refer to the dataset"
   ]
  },
  {
   "attachments": {},
   "cell_type": "markdown",
   "metadata": {
    "pycharm": {
     "name": "#%% md\n"
    }
   },
   "source": [
    "## The classification Problem in this competition\n",
    "\n",
    "Basically, we have a bunch of essays written by kids in the age range of about 12-18 years old in which we have to find word sequences that can be classified as one of 7 \"discourse types\", which are\n",
    "\n",
    "* Lead - an introduction that begins with a statistic, a quotation, a description, or some other device to grab the reader’s attention and point toward the thesis\n",
    "  Interestingly, this is not present in all the the training set data. Around 40% of the ids do not have a lead!\n",
    "\n",
    "* Position - an opinion or conclusion on the main question\n",
    "  Almost all the training data has a Position. However, it is not always at the beginning. \n",
    "\n",
    "* Claim - a claim that supports the position\n",
    "  Almost all the training data has a Claim. One training set data has 12 Claims!! Over half have at least 3 claims\n",
    "\n",
    "* Counterclaim - a claim that refutes another claim or gives an opposing reason to the position\n",
    "\n",
    "* Rebuttal - a claim that refutes a counterclaim\n",
    "\n",
    "* Evidence - ideas or examples that support claims, counterclaims, or rebuttals.\n",
    "\n",
    "* Concluding Statement - a concluding statement that restates the claims\n",
    "\n",
    "So basically, we are tasked with giving feedback on argumentative essays written by students. Specifically, our task is to predict the human annotations.\n",
    "\n",
    "This annotation will be done in 2 steps:\n",
    "\n",
    "### - Segment each essay into discrete, rhetorical and argumentative elements (i.e., discourse elements) .\n",
    "\n",
    "### - Classify each element as one of 7 \"discourse types\",\n",
    "\n",
    "## Basics on the training data\n",
    "\n",
    "We have a bunch of text files and a separate train.csv with labels. \n",
    "\n",
    "In the csv, we get reference to the text files, and then multiple lines per text file with spans indicating a specific discourse type.\n",
    "\n",
    "The Ground Truth here is a combination of the discourse type and the prediction string. \n",
    "\n",
    "Here, Kaggle provides labels as characters (discourse start, discourse end) or words (predictionstring). \n",
    "\n",
    "--------------\n",
    "\n",
    "train.csv - a .csv file containing the annotated version of all essays in the training set\n",
    "\n",
    "\n",
    "* **discourse_id** - discourse_id is a unique identifier for each discourse element. Basically, each row in train.csv contains one discourse element, and the discourse_id is what identifies each of these discourse elements.\n",
    "\n",
    "It is different to the 'id' column in that 'id' is the identifier of the full student essay that the discourse element came from. So multiple rows can have the same value for 'id'. On the other hand, each row in train.csv will have a different value for 'discourse_id', since each row is a different discourse element.\n",
    "\n",
    "Hope that helps and let me know if it's still unclear.\n",
    "\n",
    "* **discourse_start** - character position where discourse element begins in the essay response\n",
    "\n",
    "* **discourse_end** - character position where discourse element ends in the essay response\n",
    "\n",
    "* **discourse_text** - text of discourse element\n",
    "\n",
    "* **discourse_type** - classification of discourse element\n",
    "\n",
    "* **discourse_type_num** - enumerated class label of discourse element\n",
    "\n",
    "* **predictionstring** - the word indices of the training sample, as required for predictions\n",
    "\n",
    "The **predictionstring** corresponds to - the index of the words in the essay and the predicted discourse type for this sequence of words, SHOULD be correct. \n",
    "\n",
    "There can be partial matches, if the correct discourse type is predicted but on a longer or shorter sequence of words than specified in the Ground Truth.\n",
    "\n",
    "https://www.kaggle.com/code/erikbruin/nlp-on-student-writing-eda"
   ]
  },
  {
   "attachments": {},
   "cell_type": "markdown",
   "metadata": {},
   "source": [
    "------------------------------------\n",
    "\n",
    "## Evaluation Metric - Overlap Concept in this competition\n",
    "\n",
    "### 1. As per the Evaluation page - \"If the overlap between the ground truth and prediction is >= 0.5, and the overlap between the prediction and the ground truth >= 0.5, the prediction is a match and considered a true positive. If multiple matches exist, the match with the highest pair of overlaps is taken.\"\n",
    "\n",
    "The **\"overlap between the ground truth and prediction\"** is a measure of how many words in the ground truth match the predicted words. It is calculated as the number of words that appear in both the ground truth and the prediction divided by the total number of words in the ground truth. \n",
    "\n",
    "For example, if the ground truth for a sample contains 10 words and the model predicts 8 of those words correctly, the overlap between the ground truth and prediction would be 0.8 or 80%.\n",
    "\n",
    "On the other hand, the **\"overlap between the prediction and the ground truth\"** is a measure of how many words in the prediction match the words in the ground truth. It is calculated as the number of words that appear in both the ground truth and the prediction divided by the total number of words in the prediction. \n",
    "\n",
    "For example, if the model predicts 12 words for a sample and 10 of those words match the words in the ground truth, the overlap between the prediction and ground truth would be 0.83 or 83%.\n",
    "\n",
    "Example:\n",
    "Ground truth: 1 2 3 4 5\n",
    "Prediction: 1 2 3\n",
    "\n",
    "Common indices: 1 2 3 (3 common indices)\n",
    "\n",
    "- overlap between the ground truth and prediction: 3 common indices / 5 ground truth indices = 0.6 (>= 0.5)\n",
    "\n",
    "- overlap between the prediction and the ground truth: 3 common indices / 3 prediction indices = 1.0 (>= 0.5)\n",
    "\n",
    "Since both overlaps are greater than or equal to 0.5, this prediction is considered a match (true positive).\n",
    "\n",
    "### 2. In both, the numerator is the size of the intersection. Both calculations have to be at least 0.5 for the prediction to be considered a hit.\n",
    "\n",
    "These two measures are used together to determine whether a prediction is a true positive or not. \n",
    "\n",
    "By using both measures, the evaluation metric ensures that the predicted words are not only present in the ground truth, but also that the ground truth words are correctly identified by the model.\n",
    "\n",
    "In some cases, there might be multiple matches (multiple predictions with an overlap >= 0.5). If this happens, the competition rules state that the match with the highest pair of overlaps is considered.\n",
    "\n",
    "### 3. \"If multiple matches exist, the match with the highest pair of overlaps is taken\" - \n",
    "\n",
    "This statement means that if there are several predictions that match a single ground truth, only the prediction with the highest overlaps (for both ground truth and prediction) will be considered a true positive.\n",
    "\n",
    "Example:\n",
    "Ground truth: 1 2 3 4 5\n",
    "Prediction 1: 1 2 3\n",
    "Prediction 2: 1 2 3 4\n",
    "\n",
    "In this example, both predictions match the ground truth. However, Prediction 2 has a higher overlap and will be considered the true positive. Prediction 1 will not be considered.\n",
    "\n",
    "### 4. \"Any unmatched ground truths are false negatives and any unmatched predictions are false positives.\"\n",
    "\n",
    "\n",
    "This statement means that any ground truth without a corresponding matching prediction is considered a false negative (missed correct prediction), and any prediction without a corresponding matching ground truth is considered a false positive (incorrect prediction).\n",
    "\n",
    "Example:\n",
    "Ground truth: 1 2 3 4 5\n",
    "Prediction: 1 2\n",
    "\n",
    "Since the overlaps are not >= 0.5 for both ground truth and prediction, this prediction is considered a false positive. And since there's no match for the ground truth, it's considered a false negative.\n",
    "\n",
    "A basic implementation of the above concept will like below \n",
    "\n",
    "Below code is just for clarification of the concept, as for implementations for this project, I will use a slightly different version of this code later.\n",
    "\n",
    "```py\n",
    "\n",
    "def calculate_overlap(ground_truth, prediction):\n",
    "    ground_truth_set = set(ground_truth)\n",
    "    prediction_set = set(prediction)\n",
    "    \n",
    "    intersection = ground_truth_set.intersection(prediction_set)\n",
    "    overlap_ground_truth = len(intersection) / len(ground_truth_set)\n",
    "    overlap_prediction = len(intersection) / len(prediction_set)\n",
    "    \n",
    "    return overlap_ground_truth, overlap_prediction\n",
    "\n",
    "def evaluate_overlap(ground_truth, prediction):\n",
    "    overlap_ground_truth, overlap_prediction = calculate_overlap(ground_truth, prediction)\n",
    "    \n",
    "    if overlap_ground_truth >= 0.5 and overlap_prediction >= 0.5:\n",
    "        return \"True Positive\"\n",
    "    elif overlap_ground_truth < 0.5:\n",
    "        return \"False Negative\"\n",
    "    elif overlap_prediction < 0.5:\n",
    "        return \"False Positive\"\n",
    "\n",
    "# Example usage\n",
    "ground_truth = [1, 2, 3, 4, 5]\n",
    "prediction = [1, 2, 3]\n",
    "\n",
    "result = evaluate_overlap(ground_truth, prediction)\n",
    "print(result)  # Output: True Positive\n",
    "\n",
    "\n",
    "```"
   ]
  },
  {
   "cell_type": "code",
   "execution_count": 1,
   "metadata": {
    "pycharm": {
     "name": "#%%\n"
    }
   },
   "outputs": [
    {
     "name": "stdout",
     "output_type": "stream",
     "text": [
      "TF version 2.10.1\n"
     ]
    }
   ],
   "source": [
    "import warnings\n",
    "warnings.filterwarnings('ignore')\n",
    "\n",
    "import os\n",
    "\n",
    "import pandas as pd, numpy as np\n",
    "import matplotlib.pyplot as plt\n",
    "import tensorflow as tf\n",
    "import matplotlib.pyplot as plt\n",
    "from matplotlib.ticker import FuncFormatter\n",
    "\n",
    "os.environ['TF_CPP_MIN_LOG_LEVEL'] = '3'\n",
    "\n",
    "import plotly.express as px\n",
    "import plotly.graph_objects as go\n",
    "\n",
    "from pathlib import Path\n",
    "import spacy\n",
    "from spacy import displacy\n",
    "\n",
    "from transformers import *\n",
    "\n",
    "from transformers import AutoTokenizer, AutoConfig, TFAutoModel\n",
    "\n",
    "from train import *\n",
    "from util import *\n",
    "\n",
    "print('TF version',tf.__version__)\n"
   ]
  },
  {
   "cell_type": "code",
   "execution_count": 2,
   "metadata": {
    "pycharm": {
     "name": "#%%\n"
    }
   },
   "outputs": [],
   "source": [
    "\n",
    "# set number of gpus you wish to use. \n",
    "os.environ[\"CUDA_VISIBLE_DEVICES\"]=\"0\" #0,1 for 2 gpus if you are using Kaggle's 2 GPUs\n",
    "\n",
    "# ROOT_DIR = '../input/feedback-prize-2021/' # Directory when running in Kaggle\n",
    "ROOT_DIR = '../input/' # local machine's directory \n",
    "\n",
    "MODEL_NAME = 'allenai/longformer-base-4096'"
   ]
  },
  {
   "attachments": {},
   "cell_type": "markdown",
   "metadata": {},
   "source": [
    "## In tensorflow what is os.environ\\[\"CUDA\\_VISIBLE\\_DEVICES\"\\]\n",
    "\n",
    "`os.environ[\"CUDA_VISIBLE_DEVICES\"]` is an environment variable used in TensorFlow to specify which GPUs to use for computation.\n",
    "\n",
    "When a TensorFlow is run on a system with multiple GPUs, `os.environ[\"CUDA_VISIBLE_DEVICES\"]` can be set to a comma-separated list of integers representing the GPU IDs that the program is allowed to use.\n",
    "\n",
    "For example, if you have two GPUs and you want to use only the first GPU for computation, you can set `os.environ[\"CUDA_VISIBLE_DEVICES\"] = \"0\"` before running your TensorFlow program.\n",
    "\n",
    "This is useful in situations where you want to run multiple TensorFlow programs on the same system, each using a different set of GPUs, without having them interfere with each other."
   ]
  },
  {
   "cell_type": "code",
   "execution_count": 3,
   "metadata": {
    "pycharm": {
     "name": "#%%\n"
    }
   },
   "outputs": [
    {
     "name": "stdout",
     "output_type": "stream",
     "text": [
      "(1251, 8)\n"
     ]
    },
    {
     "data": {
      "text/html": [
       "<div>\n",
       "<style scoped>\n",
       "    .dataframe tbody tr th:only-of-type {\n",
       "        vertical-align: middle;\n",
       "    }\n",
       "\n",
       "    .dataframe tbody tr th {\n",
       "        vertical-align: top;\n",
       "    }\n",
       "\n",
       "    .dataframe thead th {\n",
       "        text-align: right;\n",
       "    }\n",
       "</style>\n",
       "<table border=\"1\" class=\"dataframe\">\n",
       "  <thead>\n",
       "    <tr style=\"text-align: right;\">\n",
       "      <th></th>\n",
       "      <th>id</th>\n",
       "      <th>discourse_id</th>\n",
       "      <th>discourse_start</th>\n",
       "      <th>discourse_end</th>\n",
       "      <th>discourse_text</th>\n",
       "      <th>discourse_type</th>\n",
       "      <th>discourse_type_num</th>\n",
       "      <th>predictionstring</th>\n",
       "    </tr>\n",
       "  </thead>\n",
       "  <tbody>\n",
       "    <tr>\n",
       "      <th>0</th>\n",
       "      <td>423A1CA112E2</td>\n",
       "      <td>1.622630e+12</td>\n",
       "      <td>8</td>\n",
       "      <td>229</td>\n",
       "      <td>Modern humans today are always on their phone....</td>\n",
       "      <td>Lead</td>\n",
       "      <td>Lead 1</td>\n",
       "      <td>1 2 3 4 5 6 7 8 9 10 11 12 13 14 15 16 17 18 1...</td>\n",
       "    </tr>\n",
       "    <tr>\n",
       "      <th>1</th>\n",
       "      <td>423A1CA112E2</td>\n",
       "      <td>1.622630e+12</td>\n",
       "      <td>230</td>\n",
       "      <td>312</td>\n",
       "      <td>They are some really bad consequences when stu...</td>\n",
       "      <td>Position</td>\n",
       "      <td>Position 1</td>\n",
       "      <td>45 46 47 48 49 50 51 52 53 54 55 56 57 58 59</td>\n",
       "    </tr>\n",
       "    <tr>\n",
       "      <th>2</th>\n",
       "      <td>423A1CA112E2</td>\n",
       "      <td>1.622630e+12</td>\n",
       "      <td>313</td>\n",
       "      <td>401</td>\n",
       "      <td>Some certain areas in the United States ban ph...</td>\n",
       "      <td>Evidence</td>\n",
       "      <td>Evidence 1</td>\n",
       "      <td>60 61 62 63 64 65 66 67 68 69 70 71 72 73 74 75</td>\n",
       "    </tr>\n",
       "    <tr>\n",
       "      <th>3</th>\n",
       "      <td>423A1CA112E2</td>\n",
       "      <td>1.622630e+12</td>\n",
       "      <td>402</td>\n",
       "      <td>758</td>\n",
       "      <td>When people have phones, they know about certa...</td>\n",
       "      <td>Evidence</td>\n",
       "      <td>Evidence 2</td>\n",
       "      <td>76 77 78 79 80 81 82 83 84 85 86 87 88 89 90 9...</td>\n",
       "    </tr>\n",
       "    <tr>\n",
       "      <th>4</th>\n",
       "      <td>423A1CA112E2</td>\n",
       "      <td>1.622630e+12</td>\n",
       "      <td>759</td>\n",
       "      <td>886</td>\n",
       "      <td>Driving is one of the way how to get around. P...</td>\n",
       "      <td>Claim</td>\n",
       "      <td>Claim 1</td>\n",
       "      <td>139 140 141 142 143 144 145 146 147 148 149 15...</td>\n",
       "    </tr>\n",
       "  </tbody>\n",
       "</table>\n",
       "</div>"
      ],
      "text/plain": [
       "             id  discourse_id  discourse_start  discourse_end  \\\n",
       "0  423A1CA112E2  1.622630e+12                8            229   \n",
       "1  423A1CA112E2  1.622630e+12              230            312   \n",
       "2  423A1CA112E2  1.622630e+12              313            401   \n",
       "3  423A1CA112E2  1.622630e+12              402            758   \n",
       "4  423A1CA112E2  1.622630e+12              759            886   \n",
       "\n",
       "                                      discourse_text discourse_type  \\\n",
       "0  Modern humans today are always on their phone....           Lead   \n",
       "1  They are some really bad consequences when stu...       Position   \n",
       "2  Some certain areas in the United States ban ph...       Evidence   \n",
       "3  When people have phones, they know about certa...       Evidence   \n",
       "4  Driving is one of the way how to get around. P...          Claim   \n",
       "\n",
       "  discourse_type_num                                   predictionstring  \n",
       "0             Lead 1  1 2 3 4 5 6 7 8 9 10 11 12 13 14 15 16 17 18 1...  \n",
       "1         Position 1       45 46 47 48 49 50 51 52 53 54 55 56 57 58 59  \n",
       "2         Evidence 1    60 61 62 63 64 65 66 67 68 69 70 71 72 73 74 75  \n",
       "3         Evidence 2  76 77 78 79 80 81 82 83 84 85 86 87 88 89 90 9...  \n",
       "4            Claim 1  139 140 141 142 143 144 145 146 147 148 149 15...  "
      ]
     },
     "execution_count": 3,
     "metadata": {},
     "output_type": "execute_result"
    }
   ],
   "source": [
    "train = pd.read_csv(ROOT_DIR + 'train.csv')\n",
    "\n",
    "print( train.shape )\n",
    "train.head()"
   ]
  },
  {
   "attachments": {},
   "cell_type": "markdown",
   "metadata": {
    "pycharm": {
     "name": "#%% md\n"
    }
   },
   "source": [
    "## First, lets check if the discourse_text and the predictionstring always have the same number of words (because ideally they should)."
   ]
  },
  {
   "cell_type": "code",
   "execution_count": 4,
   "metadata": {
    "pycharm": {
     "name": "#%%\n"
    }
   },
   "outputs": [
    {
     "data": {
      "text/html": [
       "<div>\n",
       "<style scoped>\n",
       "    .dataframe tbody tr th:only-of-type {\n",
       "        vertical-align: middle;\n",
       "    }\n",
       "\n",
       "    .dataframe tbody tr th {\n",
       "        vertical-align: top;\n",
       "    }\n",
       "\n",
       "    .dataframe thead th {\n",
       "        text-align: right;\n",
       "    }\n",
       "</style>\n",
       "<table border=\"1\" class=\"dataframe\">\n",
       "  <thead>\n",
       "    <tr style=\"text-align: right;\">\n",
       "      <th></th>\n",
       "      <th>discourse_id</th>\n",
       "      <th>discourse_text</th>\n",
       "      <th>discourse_type</th>\n",
       "      <th>predictionstring</th>\n",
       "      <th>discourse_len</th>\n",
       "      <th>pred_len</th>\n",
       "    </tr>\n",
       "  </thead>\n",
       "  <tbody>\n",
       "    <tr>\n",
       "      <th>0</th>\n",
       "      <td>1.622630e+12</td>\n",
       "      <td>Modern humans today are always on their phone....</td>\n",
       "      <td>Lead</td>\n",
       "      <td>1 2 3 4 5 6 7 8 9 10 11 12 13 14 15 16 17 18 1...</td>\n",
       "      <td>44</td>\n",
       "      <td>44</td>\n",
       "    </tr>\n",
       "    <tr>\n",
       "      <th>1</th>\n",
       "      <td>1.622630e+12</td>\n",
       "      <td>They are some really bad consequences when stu...</td>\n",
       "      <td>Position</td>\n",
       "      <td>45 46 47 48 49 50 51 52 53 54 55 56 57 58 59</td>\n",
       "      <td>15</td>\n",
       "      <td>15</td>\n",
       "    </tr>\n",
       "    <tr>\n",
       "      <th>2</th>\n",
       "      <td>1.622630e+12</td>\n",
       "      <td>Some certain areas in the United States ban ph...</td>\n",
       "      <td>Evidence</td>\n",
       "      <td>60 61 62 63 64 65 66 67 68 69 70 71 72 73 74 75</td>\n",
       "      <td>16</td>\n",
       "      <td>16</td>\n",
       "    </tr>\n",
       "    <tr>\n",
       "      <th>3</th>\n",
       "      <td>1.622630e+12</td>\n",
       "      <td>When people have phones, they know about certa...</td>\n",
       "      <td>Evidence</td>\n",
       "      <td>76 77 78 79 80 81 82 83 84 85 86 87 88 89 90 9...</td>\n",
       "      <td>63</td>\n",
       "      <td>63</td>\n",
       "    </tr>\n",
       "    <tr>\n",
       "      <th>4</th>\n",
       "      <td>1.622630e+12</td>\n",
       "      <td>Driving is one of the way how to get around. P...</td>\n",
       "      <td>Claim</td>\n",
       "      <td>139 140 141 142 143 144 145 146 147 148 149 15...</td>\n",
       "      <td>24</td>\n",
       "      <td>24</td>\n",
       "    </tr>\n",
       "  </tbody>\n",
       "</table>\n",
       "</div>"
      ],
      "text/plain": [
       "   discourse_id                                     discourse_text  \\\n",
       "0  1.622630e+12  Modern humans today are always on their phone....   \n",
       "1  1.622630e+12  They are some really bad consequences when stu...   \n",
       "2  1.622630e+12  Some certain areas in the United States ban ph...   \n",
       "3  1.622630e+12  When people have phones, they know about certa...   \n",
       "4  1.622630e+12  Driving is one of the way how to get around. P...   \n",
       "\n",
       "  discourse_type                                   predictionstring  \\\n",
       "0           Lead  1 2 3 4 5 6 7 8 9 10 11 12 13 14 15 16 17 18 1...   \n",
       "1       Position       45 46 47 48 49 50 51 52 53 54 55 56 57 58 59   \n",
       "2       Evidence    60 61 62 63 64 65 66 67 68 69 70 71 72 73 74 75   \n",
       "3       Evidence  76 77 78 79 80 81 82 83 84 85 86 87 88 89 90 9...   \n",
       "4          Claim  139 140 141 142 143 144 145 146 147 148 149 15...   \n",
       "\n",
       "   discourse_len  pred_len  \n",
       "0             44        44  \n",
       "1             15        15  \n",
       "2             16        16  \n",
       "3             63        63  \n",
       "4             24        24  "
      ]
     },
     "execution_count": 4,
     "metadata": {},
     "output_type": "execute_result"
    }
   ],
   "source": [
    "train[\"discourse_len\"] = train[\"discourse_text\"].apply(lambda x: len(x.split()))\n",
    "train[\"pred_len\"] = train[\"predictionstring\"].apply(lambda x: len(x.split()))\n",
    "\n",
    "\n",
    "cols_to_display = ['discourse_id', 'discourse_text', 'discourse_type','predictionstring', 'discourse_len', 'pred_len']\n",
    "train[cols_to_display].head()"
   ]
  },
  {
   "attachments": {},
   "cell_type": "markdown",
   "metadata": {
    "pycharm": {
     "name": "#%% md\n"
    }
   },
   "source": [
    "## Below we find 468 instances of discourses where this equality is NOT matched (by one word)\n",
    "\n",
    "And you can find the reason in discussion topic: [Mystery Solved - Discrepancy Between PredictionString and DiscourseText](https://www.kaggle.com/c/feedback-prize-2021/discussion/297591)"
   ]
  },
  {
   "cell_type": "code",
   "execution_count": 5,
   "metadata": {
    "pycharm": {
     "name": "#%%\n"
    }
   },
   "outputs": [
    {
     "name": "stdout",
     "output_type": "stream",
     "text": [
      "The total number of discourses is 1251\n"
     ]
    },
    {
     "data": {
      "text/html": [
       "<div>\n",
       "<style scoped>\n",
       "    .dataframe tbody tr th:only-of-type {\n",
       "        vertical-align: middle;\n",
       "    }\n",
       "\n",
       "    .dataframe tbody tr th {\n",
       "        vertical-align: top;\n",
       "    }\n",
       "\n",
       "    .dataframe thead th {\n",
       "        text-align: right;\n",
       "    }\n",
       "</style>\n",
       "<table border=\"1\" class=\"dataframe\">\n",
       "  <thead>\n",
       "    <tr style=\"text-align: right;\">\n",
       "      <th></th>\n",
       "      <th>discourse_id</th>\n",
       "      <th>discourse_text</th>\n",
       "      <th>discourse_type</th>\n",
       "      <th>predictionstring</th>\n",
       "      <th>discourse_len</th>\n",
       "      <th>pred_len</th>\n",
       "    </tr>\n",
       "  </thead>\n",
       "  <tbody>\n",
       "    <tr>\n",
       "      <th>107</th>\n",
       "      <td>1.622470e+12</td>\n",
       "      <td>if we would just make stricker laws for phone ...</td>\n",
       "      <td>Concluding Statement</td>\n",
       "      <td>303 304 305 306 307 308 309 310 311 312 313 31...</td>\n",
       "      <td>19</td>\n",
       "      <td>18</td>\n",
       "    </tr>\n",
       "    <tr>\n",
       "      <th>1025</th>\n",
       "      <td>1.622560e+12</td>\n",
       "      <td>for navigation to wherever they are going</td>\n",
       "      <td>Claim</td>\n",
       "      <td>105 106 107 108 109 110 111 112</td>\n",
       "      <td>7</td>\n",
       "      <td>8</td>\n",
       "    </tr>\n",
       "  </tbody>\n",
       "</table>\n",
       "</div>"
      ],
      "text/plain": [
       "      discourse_id                                     discourse_text  \\\n",
       "107   1.622470e+12  if we would just make stricker laws for phone ...   \n",
       "1025  1.622560e+12        for navigation to wherever they are going     \n",
       "\n",
       "            discourse_type                                   predictionstring  \\\n",
       "107   Concluding Statement  303 304 305 306 307 308 309 310 311 312 313 31...   \n",
       "1025                 Claim                    105 106 107 108 109 110 111 112   \n",
       "\n",
       "      discourse_len  pred_len  \n",
       "107              19        18  \n",
       "1025              7         8  "
      ]
     },
     "execution_count": 5,
     "metadata": {},
     "output_type": "execute_result"
    }
   ],
   "source": [
    "print(f\"The total number of discourses is {len(train)}\")\n",
    "\n",
    "train.query('discourse_len != pred_len')[cols_to_display]\n",
    "# The df.query function allows you to filter rows of the DataFrame based on a query expression written as a string. It provides a more concise and readable syntax compared to traditional boolean indexing and is particularly helpful when working with large DataFrames.\n",
    "# with the above line I filter rows of the DataFrame where the value in the 'discourse_len' column is not equal to the value in the 'pred_len' column.\n",
    "# The result will be a new DataFrame containing only the specified columns (i.e. `cols_to_display`) for the rows that meet the condition in the query function."
   ]
  },
  {
   "attachments": {},
   "cell_type": "markdown",
   "metadata": {
    "pycharm": {
     "name": "#%% md\n"
    }
   },
   "source": [
    "## Length and frequency and relative position per discourse_type"
   ]
  },
  {
   "cell_type": "code",
   "execution_count": 6,
   "metadata": {
    "pycharm": {
     "name": "#%%\n"
    }
   },
   "outputs": [
    {
     "data": {
      "image/png": "[encoded data removed]",
      "text/plain": [
       "<Figure size 1200x800 with 2 Axes>"
      ]
     },
     "metadata": {},
     "output_type": "display_data"
    }
   ],
   "source": [
    "fig = plt.figure(figsize=(12,8))\n",
    "\n",
    "ax1 = fig.add_subplot(211)\n",
    "ax1 = train.groupby('discourse_type')['discourse_len'].mean().sort_values().plot(kind=\"barh\")\n",
    "ax1.set_title(\"Average number of words versus Discourse Type\", fontsize=14, fontweight = 'bold')\n",
    "ax1.set_xlabel(\"Average number of words\", fontsize = 10)\n",
    "ax1.set_ylabel(\"\")\n",
    "\n",
    "ax2 = fig.add_subplot(212)\n",
    "ax2 = train.groupby('discourse_type')['discourse_type'].count().sort_values().plot(kind=\"barh\")\n",
    "ax2.get_xaxis().set_major_formatter(FuncFormatter(lambda x, p: format(int(x), ','))) #add thousands separator\n",
    "ax2.set_title(\"Frequency of Discourse Type in all essays\", fontsize=14, fontweight = 'bold')\n",
    "ax2.set_xlabel(\"Frequency\", fontsize = 10)\n",
    "ax2.set_ylabel(\"\")\n",
    "\n",
    "plt.tight_layout(pad=2)\n",
    "plt.show()"
   ]
  },
  {
   "attachments": {},
   "cell_type": "markdown",
   "metadata": {
    "pycharm": {
     "name": "#%% md\n"
    }
   },
   "source": [
    "Looking at the above graph, is there a correlation between the length of a discourse and the class (discourse_type)? Yes, there is. Evidence is the longest discourse type on average. \n",
    "\n",
    "When looking at the frequencies of occurence, we see that Counterclaim and Rebuttal are relatively rare"
   ]
  },
  {
   "attachments": {},
   "cell_type": "markdown",
   "metadata": {
    "pycharm": {
     "name": "#%% md\n"
    }
   },
   "source": [
    "## Plotting Discourse type against Number of Rows"
   ]
  },
  {
   "cell_type": "code",
   "execution_count": 7,
   "metadata": {
    "pycharm": {
     "name": "#%%\n"
    }
   },
   "outputs": [
    {
     "data": {
      "application/vnd.plotly.v1+json": {
       "config": {
        "plotlyServerURL": "https://plot.ly"
       },
       "data": [
        {
         "alignmentgroup": "True",
         "hovertemplate": "color=Claim<br>x=%{x}<br>y=%{y}<extra></extra>",
         "legendgroup": "Claim",
         "marker": {
          "color": "#636efa",
          "pattern": {
           "shape": ""
          }
         },
         "name": "Claim",
         "offsetgroup": "Claim",
         "orientation": "v",
         "showlegend": true,
         "textposition": "auto",
         "type": "bar",
         "x": [
          "Claim"
         ],
         "xaxis": "x",
         "y": [
          416
         ],
         "yaxis": "y"
        },
        {
         "alignmentgroup": "True",
         "hovertemplate": "color=Concluding Statement<br>x=%{x}<br>y=%{y}<extra></extra>",
         "legendgroup": "Concluding Statement",
         "marker": {
          "color": "#EF553B",
          "pattern": {
           "shape": ""
          }
         },
         "name": "Concluding Statement",
         "offsetgroup": "Concluding Statement",
         "orientation": "v",
         "showlegend": true,
         "textposition": "auto",
         "type": "bar",
         "x": [
          "Concluding Statement"
         ],
         "xaxis": "x",
         "y": [
          121
         ],
         "yaxis": "y"
        },
        {
         "alignmentgroup": "True",
         "hovertemplate": "color=Counterclaim<br>x=%{x}<br>y=%{y}<extra></extra>",
         "legendgroup": "Counterclaim",
         "marker": {
          "color": "#00cc96",
          "pattern": {
           "shape": ""
          }
         },
         "name": "Counterclaim",
         "offsetgroup": "Counterclaim",
         "orientation": "v",
         "showlegend": true,
         "textposition": "auto",
         "type": "bar",
         "x": [
          "Counterclaim"
         ],
         "xaxis": "x",
         "y": [
          40
         ],
         "yaxis": "y"
        },
        {
         "alignmentgroup": "True",
         "hovertemplate": "color=Evidence<br>x=%{x}<br>y=%{y}<extra></extra>",
         "legendgroup": "Evidence",
         "marker": {
          "color": "#ab63fa",
          "pattern": {
           "shape": ""
          }
         },
         "name": "Evidence",
         "offsetgroup": "Evidence",
         "orientation": "v",
         "showlegend": true,
         "textposition": "auto",
         "type": "bar",
         "x": [
          "Evidence"
         ],
         "xaxis": "x",
         "y": [
          400
         ],
         "yaxis": "y"
        },
        {
         "alignmentgroup": "True",
         "hovertemplate": "color=Lead<br>x=%{x}<br>y=%{y}<extra></extra>",
         "legendgroup": "Lead",
         "marker": {
          "color": "#FFA15A",
          "pattern": {
           "shape": ""
          }
         },
         "name": "Lead",
         "offsetgroup": "Lead",
         "orientation": "v",
         "showlegend": true,
         "textposition": "auto",
         "type": "bar",
         "x": [
          "Lead"
         ],
         "xaxis": "x",
         "y": [
          108
         ],
         "yaxis": "y"
        },
        {
         "alignmentgroup": "True",
         "hovertemplate": "color=Position<br>x=%{x}<br>y=%{y}<extra></extra>",
         "legendgroup": "Position",
         "marker": {
          "color": "#19d3f3",
          "pattern": {
           "shape": ""
          }
         },
         "name": "Position",
         "offsetgroup": "Position",
         "orientation": "v",
         "showlegend": true,
         "textposition": "auto",
         "type": "bar",
         "x": [
          "Position"
         ],
         "xaxis": "x",
         "y": [
          135
         ],
         "yaxis": "y"
        },
        {
         "alignmentgroup": "True",
         "hovertemplate": "color=Rebuttal<br>x=%{x}<br>y=%{y}<extra></extra>",
         "legendgroup": "Rebuttal",
         "marker": {
          "color": "#FF6692",
          "pattern": {
           "shape": ""
          }
         },
         "name": "Rebuttal",
         "offsetgroup": "Rebuttal",
         "orientation": "v",
         "showlegend": true,
         "textposition": "auto",
         "type": "bar",
         "x": [
          "Rebuttal"
         ],
         "xaxis": "x",
         "y": [
          31
         ],
         "yaxis": "y"
        }
       ],
       "layout": {
        "barmode": "relative",
        "legend": {
         "title": {
          "text": "color"
         },
         "tracegroupgap": 0
        },
        "margin": {
         "t": 60
        },
        "showlegend": true,
        "template": {
         "data": {
          "bar": [
           {
            "error_x": {
             "color": "#2a3f5f"
            },
            "error_y": {
             "color": "#2a3f5f"
            },
            "marker": {
             "line": {
              "color": "white",
              "width": 0.5
             },
             "pattern": {
              "fillmode": "overlay",
              "size": 10,
              "solidity": 0.2
             }
            },
            "type": "bar"
           }
          ],
          "barpolar": [
           {
            "marker": {
             "line": {
              "color": "white",
              "width": 0.5
             },
             "pattern": {
              "fillmode": "overlay",
              "size": 10,
              "solidity": 0.2
             }
            },
            "type": "barpolar"
           }
          ],
          "carpet": [
           {
            "aaxis": {
             "endlinecolor": "#2a3f5f",
             "gridcolor": "#C8D4E3",
             "linecolor": "#C8D4E3",
             "minorgridcolor": "#C8D4E3",
             "startlinecolor": "#2a3f5f"
            },
            "baxis": {
             "endlinecolor": "#2a3f5f",
             "gridcolor": "#C8D4E3",
             "linecolor": "#C8D4E3",
             "minorgridcolor": "#C8D4E3",
             "startlinecolor": "#2a3f5f"
            },
            "type": "carpet"
           }
          ],
          "choropleth": [
           {
            "colorbar": {
             "outlinewidth": 0,
             "ticks": ""
            },
            "type": "choropleth"
           }
          ],
          "contour": [
           {
            "colorbar": {
             "outlinewidth": 0,
             "ticks": ""
            },
            "colorscale": [
             [
              0,
              "#0d0887"
             ],
             [
              0.1111111111111111,
              "#46039f"
             ],
             [
              0.2222222222222222,
              "#7201a8"
             ],
             [
              0.3333333333333333,
              "#9c179e"
             ],
             [
              0.4444444444444444,
              "#bd3786"
             ],
             [
              0.5555555555555556,
              "#d8576b"
             ],
             [
              0.6666666666666666,
              "#ed7953"
             ],
             [
              0.7777777777777778,
              "#fb9f3a"
             ],
             [
              0.8888888888888888,
              "#fdca26"
             ],
             [
              1,
              "#f0f921"
             ]
            ],
            "type": "contour"
           }
          ],
          "contourcarpet": [
           {
            "colorbar": {
             "outlinewidth": 0,
             "ticks": ""
            },
            "type": "contourcarpet"
           }
          ],
          "heatmap": [
           {
            "colorbar": {
             "outlinewidth": 0,
             "ticks": ""
            },
            "colorscale": [
             [
              0,
              "#0d0887"
             ],
             [
              0.1111111111111111,
              "#46039f"
             ],
             [
              0.2222222222222222,
              "#7201a8"
             ],
             [
              0.3333333333333333,
              "#9c179e"
             ],
             [
              0.4444444444444444,
              "#bd3786"
             ],
             [
              0.5555555555555556,
              "#d8576b"
             ],
             [
              0.6666666666666666,
              "#ed7953"
             ],
             [
              0.7777777777777778,
              "#fb9f3a"
             ],
             [
              0.8888888888888888,
              "#fdca26"
             ],
             [
              1,
              "#f0f921"
             ]
            ],
            "type": "heatmap"
           }
          ],
          "heatmapgl": [
           {
            "colorbar": {
             "outlinewidth": 0,
             "ticks": ""
            },
            "colorscale": [
             [
              0,
              "#0d0887"
             ],
             [
              0.1111111111111111,
              "#46039f"
             ],
             [
              0.2222222222222222,
              "#7201a8"
             ],
             [
              0.3333333333333333,
              "#9c179e"
             ],
             [
              0.4444444444444444,
              "#bd3786"
             ],
             [
              0.5555555555555556,
              "#d8576b"
             ],
             [
              0.6666666666666666,
              "#ed7953"
             ],
             [
              0.7777777777777778,
              "#fb9f3a"
             ],
             [
              0.8888888888888888,
              "#fdca26"
             ],
             [
              1,
              "#f0f921"
             ]
            ],
            "type": "heatmapgl"
           }
          ],
          "histogram": [
           {
            "marker": {
             "pattern": {
              "fillmode": "overlay",
              "size": 10,
              "solidity": 0.2
             }
            },
            "type": "histogram"
           }
          ],
          "histogram2d": [
           {
            "colorbar": {
             "outlinewidth": 0,
             "ticks": ""
            },
            "colorscale": [
             [
              0,
              "#0d0887"
             ],
             [
              0.1111111111111111,
              "#46039f"
             ],
             [
              0.2222222222222222,
              "#7201a8"
             ],
             [
              0.3333333333333333,
              "#9c179e"
             ],
             [
              0.4444444444444444,
              "#bd3786"
             ],
             [
              0.5555555555555556,
              "#d8576b"
             ],
             [
              0.6666666666666666,
              "#ed7953"
             ],
             [
              0.7777777777777778,
              "#fb9f3a"
             ],
             [
              0.8888888888888888,
              "#fdca26"
             ],
             [
              1,
              "#f0f921"
             ]
            ],
            "type": "histogram2d"
           }
          ],
          "histogram2dcontour": [
           {
            "colorbar": {
             "outlinewidth": 0,
             "ticks": ""
            },
            "colorscale": [
             [
              0,
              "#0d0887"
             ],
             [
              0.1111111111111111,
              "#46039f"
             ],
             [
              0.2222222222222222,
              "#7201a8"
             ],
             [
              0.3333333333333333,
              "#9c179e"
             ],
             [
              0.4444444444444444,
              "#bd3786"
             ],
             [
              0.5555555555555556,
              "#d8576b"
             ],
             [
              0.6666666666666666,
              "#ed7953"
             ],
             [
              0.7777777777777778,
              "#fb9f3a"
             ],
             [
              0.8888888888888888,
              "#fdca26"
             ],
             [
              1,
              "#f0f921"
             ]
            ],
            "type": "histogram2dcontour"
           }
          ],
          "mesh3d": [
           {
            "colorbar": {
             "outlinewidth": 0,
             "ticks": ""
            },
            "type": "mesh3d"
           }
          ],
          "parcoords": [
           {
            "line": {
             "colorbar": {
              "outlinewidth": 0,
              "ticks": ""
             }
            },
            "type": "parcoords"
           }
          ],
          "pie": [
           {
            "automargin": true,
            "type": "pie"
           }
          ],
          "scatter": [
           {
            "fillpattern": {
             "fillmode": "overlay",
             "size": 10,
             "solidity": 0.2
            },
            "type": "scatter"
           }
          ],
          "scatter3d": [
           {
            "line": {
             "colorbar": {
              "outlinewidth": 0,
              "ticks": ""
             }
            },
            "marker": {
             "colorbar": {
              "outlinewidth": 0,
              "ticks": ""
             }
            },
            "type": "scatter3d"
           }
          ],
          "scattercarpet": [
           {
            "marker": {
             "colorbar": {
              "outlinewidth": 0,
              "ticks": ""
             }
            },
            "type": "scattercarpet"
           }
          ],
          "scattergeo": [
           {
            "marker": {
             "colorbar": {
              "outlinewidth": 0,
              "ticks": ""
             }
            },
            "type": "scattergeo"
           }
          ],
          "scattergl": [
           {
            "marker": {
             "colorbar": {
              "outlinewidth": 0,
              "ticks": ""
             }
            },
            "type": "scattergl"
           }
          ],
          "scattermapbox": [
           {
            "marker": {
             "colorbar": {
              "outlinewidth": 0,
              "ticks": ""
             }
            },
            "type": "scattermapbox"
           }
          ],
          "scatterpolar": [
           {
            "marker": {
             "colorbar": {
              "outlinewidth": 0,
              "ticks": ""
             }
            },
            "type": "scatterpolar"
           }
          ],
          "scatterpolargl": [
           {
            "marker": {
             "colorbar": {
              "outlinewidth": 0,
              "ticks": ""
             }
            },
            "type": "scatterpolargl"
           }
          ],
          "scatterternary": [
           {
            "marker": {
             "colorbar": {
              "outlinewidth": 0,
              "ticks": ""
             }
            },
            "type": "scatterternary"
           }
          ],
          "surface": [
           {
            "colorbar": {
             "outlinewidth": 0,
             "ticks": ""
            },
            "colorscale": [
             [
              0,
              "#0d0887"
             ],
             [
              0.1111111111111111,
              "#46039f"
             ],
             [
              0.2222222222222222,
              "#7201a8"
             ],
             [
              0.3333333333333333,
              "#9c179e"
             ],
             [
              0.4444444444444444,
              "#bd3786"
             ],
             [
              0.5555555555555556,
              "#d8576b"
             ],
             [
              0.6666666666666666,
              "#ed7953"
             ],
             [
              0.7777777777777778,
              "#fb9f3a"
             ],
             [
              0.8888888888888888,
              "#fdca26"
             ],
             [
              1,
              "#f0f921"
             ]
            ],
            "type": "surface"
           }
          ],
          "table": [
           {
            "cells": {
             "fill": {
              "color": "#EBF0F8"
             },
             "line": {
              "color": "white"
             }
            },
            "header": {
             "fill": {
              "color": "#C8D4E3"
             },
             "line": {
              "color": "white"
             }
            },
            "type": "table"
           }
          ]
         },
         "layout": {
          "annotationdefaults": {
           "arrowcolor": "#2a3f5f",
           "arrowhead": 0,
           "arrowwidth": 1
          },
          "autotypenumbers": "strict",
          "coloraxis": {
           "colorbar": {
            "outlinewidth": 0,
            "ticks": ""
           }
          },
          "colorscale": {
           "diverging": [
            [
             0,
             "#8e0152"
            ],
            [
             0.1,
             "#c51b7d"
            ],
            [
             0.2,
             "#de77ae"
            ],
            [
             0.3,
             "#f1b6da"
            ],
            [
             0.4,
             "#fde0ef"
            ],
            [
             0.5,
             "#f7f7f7"
            ],
            [
             0.6,
             "#e6f5d0"
            ],
            [
             0.7,
             "#b8e186"
            ],
            [
             0.8,
             "#7fbc41"
            ],
            [
             0.9,
             "#4d9221"
            ],
            [
             1,
             "#276419"
            ]
           ],
           "sequential": [
            [
             0,
             "#0d0887"
            ],
            [
             0.1111111111111111,
             "#46039f"
            ],
            [
             0.2222222222222222,
             "#7201a8"
            ],
            [
             0.3333333333333333,
             "#9c179e"
            ],
            [
             0.4444444444444444,
             "#bd3786"
            ],
            [
             0.5555555555555556,
             "#d8576b"
            ],
            [
             0.6666666666666666,
             "#ed7953"
            ],
            [
             0.7777777777777778,
             "#fb9f3a"
            ],
            [
             0.8888888888888888,
             "#fdca26"
            ],
            [
             1,
             "#f0f921"
            ]
           ],
           "sequentialminus": [
            [
             0,
             "#0d0887"
            ],
            [
             0.1111111111111111,
             "#46039f"
            ],
            [
             0.2222222222222222,
             "#7201a8"
            ],
            [
             0.3333333333333333,
             "#9c179e"
            ],
            [
             0.4444444444444444,
             "#bd3786"
            ],
            [
             0.5555555555555556,
             "#d8576b"
            ],
            [
             0.6666666666666666,
             "#ed7953"
            ],
            [
             0.7777777777777778,
             "#fb9f3a"
            ],
            [
             0.8888888888888888,
             "#fdca26"
            ],
            [
             1,
             "#f0f921"
            ]
           ]
          },
          "colorway": [
           "#636efa",
           "#EF553B",
           "#00cc96",
           "#ab63fa",
           "#FFA15A",
           "#19d3f3",
           "#FF6692",
           "#B6E880",
           "#FF97FF",
           "#FECB52"
          ],
          "font": {
           "color": "#2a3f5f"
          },
          "geo": {
           "bgcolor": "white",
           "lakecolor": "white",
           "landcolor": "white",
           "showlakes": true,
           "showland": true,
           "subunitcolor": "#C8D4E3"
          },
          "hoverlabel": {
           "align": "left"
          },
          "hovermode": "closest",
          "mapbox": {
           "style": "light"
          },
          "paper_bgcolor": "white",
          "plot_bgcolor": "white",
          "polar": {
           "angularaxis": {
            "gridcolor": "#EBF0F8",
            "linecolor": "#EBF0F8",
            "ticks": ""
           },
           "bgcolor": "white",
           "radialaxis": {
            "gridcolor": "#EBF0F8",
            "linecolor": "#EBF0F8",
            "ticks": ""
           }
          },
          "scene": {
           "xaxis": {
            "backgroundcolor": "white",
            "gridcolor": "#DFE8F3",
            "gridwidth": 2,
            "linecolor": "#EBF0F8",
            "showbackground": true,
            "ticks": "",
            "zerolinecolor": "#EBF0F8"
           },
           "yaxis": {
            "backgroundcolor": "white",
            "gridcolor": "#DFE8F3",
            "gridwidth": 2,
            "linecolor": "#EBF0F8",
            "showbackground": true,
            "ticks": "",
            "zerolinecolor": "#EBF0F8"
           },
           "zaxis": {
            "backgroundcolor": "white",
            "gridcolor": "#DFE8F3",
            "gridwidth": 2,
            "linecolor": "#EBF0F8",
            "showbackground": true,
            "ticks": "",
            "zerolinecolor": "#EBF0F8"
           }
          },
          "shapedefaults": {
           "line": {
            "color": "#2a3f5f"
           }
          },
          "ternary": {
           "aaxis": {
            "gridcolor": "#DFE8F3",
            "linecolor": "#A2B1C6",
            "ticks": ""
           },
           "baxis": {
            "gridcolor": "#DFE8F3",
            "linecolor": "#A2B1C6",
            "ticks": ""
           },
           "bgcolor": "white",
           "caxis": {
            "gridcolor": "#DFE8F3",
            "linecolor": "#A2B1C6",
            "ticks": ""
           }
          },
          "title": {
           "x": 0.05
          },
          "xaxis": {
           "automargin": true,
           "gridcolor": "#EBF0F8",
           "linecolor": "#EBF0F8",
           "ticks": "",
           "title": {
            "standoff": 15
           },
           "zerolinecolor": "#EBF0F8",
           "zerolinewidth": 2
          },
          "yaxis": {
           "automargin": true,
           "gridcolor": "#EBF0F8",
           "linecolor": "#EBF0F8",
           "ticks": "",
           "title": {
            "standoff": 15
           },
           "zerolinecolor": "#EBF0F8",
           "zerolinewidth": 2
          }
         }
        },
        "title": {
         "text": "Discourse Type Distribution ",
         "x": 0.5,
         "xanchor": "center",
         "y": 0.95,
         "yanchor": "top"
        },
        "xaxis": {
         "anchor": "y",
         "domain": [
          0,
          1
         ],
         "title": {
          "text": "Classes"
         }
        },
        "yaxis": {
         "anchor": "x",
         "domain": [
          0,
          1
         ],
         "title": {
          "text": "Number of Rows"
         }
        }
       }
      }
     },
     "metadata": {},
     "output_type": "display_data"
    }
   ],
   "source": [
    "fig = px.bar(x = np.unique(train[\"discourse_type\"]),\n",
    "\n",
    "y = [list(train[\"discourse_type\"]).count(i) for i in np.unique(train[\"discourse_type\"])] , \n",
    "            color = np.unique(train[\"discourse_type\"]),\n",
    "             color_continuous_scale=\"Emrld\") \n",
    "\n",
    "fig.update_xaxes(title=\"Classes\")\n",
    "\n",
    "fig.update_yaxes(title = \"Number of Rows\")\n",
    "\n",
    "fig.update_layout(showlegend = True,\n",
    "    title = {\n",
    "        'text': 'Discourse Type Distribution ',\n",
    "        'y':0.95,\n",
    "        'x':0.5,\n",
    "        'xanchor': 'center',\n",
    "        'yanchor': 'top'},\n",
    "        template=\"plotly_white\")\n",
    "\n",
    "fig.show()"
   ]
  },
  {
   "attachments": {},
   "cell_type": "markdown",
   "metadata": {
    "pycharm": {
     "name": "#%% md\n"
    }
   },
   "source": [
    "## Generate a visualization of a text file with annotated discourse segments, using Spacy and the `displacy.render` function."
   ]
  },
  {
   "cell_type": "code",
   "execution_count": 8,
   "metadata": {
    "pycharm": {
     "name": "#%%\n"
    }
   },
   "outputs": [
    {
     "data": {
      "text/html": [
       "<span class=\"tex2jax_ignore\"><h2 style=\"margin: 0\">66BD5DA864C8</h2>\n",
       "\n",
       "<div class=\"entities\" style=\"line-height: 2.5; direction: ltr\">C\n",
       "<mark class=\"entity\" style=\"background: #8000ff; padding: 0.45em 0.6em; margin: 0 0.25em; line-height: 1; border-radius: 0.35em;\">\n",
       "    ell phone use while driving is one of those hot-button issues at the moment. Everyone has a cell phone. When it goes off while they are driving whether it is a message, social media or a phone call, curiosity seems to get the best of them and they feel as if they have to look now.\n",
       "    <span style=\"font-size: 0.8em; font-weight: bold; line-height: 1; border-radius: 0.35em; vertical-align: middle; margin-left: 0.5rem\">Lead</span>\n",
       "</mark>\n",
       " \n",
       "<mark class=\"entity\" style=\"background: #2b7ff6; padding: 0.45em 0.6em; margin: 0 0.25em; line-height: 1; border-radius: 0.35em;\">\n",
       "    Using cell phones while driving should be banned completely for the safety of everyone on the road.\n",
       "    <span style=\"font-size: 0.8em; font-weight: bold; line-height: 1; border-radius: 0.35em; vertical-align: middle; margin-left: 0.5rem\">Position</span>\n",
       "</mark>\n",
       " \n",
       "<mark class=\"entity\" style=\"background: #2adddd; padding: 0.45em 0.6em; margin: 0 0.25em; line-height: 1; border-radius: 0.35em;\">\n",
       "    It does not matter how good you are at multitasking, it should be forbidden and against the law entirely. \n",
       "    <span style=\"font-size: 0.8em; font-weight: bold; line-height: 1; border-radius: 0.35em; vertical-align: middle; margin-left: 0.5rem\">Evidence</span>\n",
       "</mark>\n",
       "Here are just a few reasons for that.</br></br>\n",
       "<mark class=\"entity\" style=\"background: #2adddd; padding: 0.45em 0.6em; margin: 0 0.25em; line-height: 1; border-radius: 0.35em;\">\n",
       "    Let's start with texts, social media and any other written phone alert. To stop and read this message or update you would have to take your eyes off of the road for longer than the recommended time of the one second, it takes to check the rearview mirror.\n",
       "    <span style=\"font-size: 0.8em; font-weight: bold; line-height: 1; border-radius: 0.35em; vertical-align: middle; margin-left: 0.5rem\">Evidence</span>\n",
       "</mark>\n",
       " \n",
       "<mark class=\"entity\" style=\"background: #80ffb4; padding: 0.45em 0.6em; margin: 0 0.25em; line-height: 1; border-radius: 0.35em;\">\n",
       "    It is extremely dangerous to type or read while driving. It is a hazard to everyone on the road, so it is not just your own life you are risking.\n",
       "\n",
       "    <span style=\"font-size: 0.8em; font-weight: bold; line-height: 1; border-radius: 0.35em; vertical-align: middle; margin-left: 0.5rem\">Claim</span>\n",
       "</mark>\n",
       "</br>\n",
       "<mark class=\"entity\" style=\"background: #80ffb4; padding: 0.45em 0.6em; margin: 0 0.25em; line-height: 1; border-radius: 0.35em;\">\n",
       "    As for making phone calls, this too should be banned. \n",
       "    <span style=\"font-size: 0.8em; font-weight: bold; line-height: 1; border-radius: 0.35em; vertical-align: middle; margin-left: 0.5rem\">Claim</span>\n",
       "</mark>\n",
       "\n",
       "<mark class=\"entity\" style=\"background: #2adddd; padding: 0.45em 0.6em; margin: 0 0.25em; line-height: 1; border-radius: 0.35em;\">\n",
       "    I do understand that sometimes your spouse may call needing you to stop somewhere on the way home, or you think it may be an emergency. If that is the case, then pull over to the side of the road, take the call, and then return to driving. If the call can wait, return it later. If it can't wait, you can always stop briefly. There should be no reason to pick up your phone while driving your car.\n",
       "\n",
       "    <span style=\"font-size: 0.8em; font-weight: bold; line-height: 1; border-radius: 0.35em; vertical-align: middle; margin-left: 0.5rem\">Evidence</span>\n",
       "</mark>\n",
       "</br>\n",
       "<mark class=\"entity\" style=\"background: #80ffb4; padding: 0.45em 0.6em; margin: 0 0.25em; line-height: 1; border-radius: 0.35em;\">\n",
       "    Even hands-free devices that allow us to talk on the phone while driving with both hands on the wheel are still a hazard.\n",
       "    <span style=\"font-size: 0.8em; font-weight: bold; line-height: 1; border-radius: 0.35em; vertical-align: middle; margin-left: 0.5rem\">Claim</span>\n",
       "</mark>\n",
       " \n",
       "<mark class=\"entity\" style=\"background: #2adddd; padding: 0.45em 0.6em; margin: 0 0.25em; line-height: 1; border-radius: 0.35em;\">\n",
       "    Studies have shown that while talking to someone on the phone your brain is putting a; lot of its energy into the conversation. This means that less of your brain is focused on driving the car. Yes, that could also mean a conversation with someone in the car is dangerous but you add in bad reception, how uncomfortable the hands-free earpieces are to wear and the annoyance of static or wind and you have a worse distraction.\n",
       "\n",
       "Whatever it is can almost always wait until you get where you are going. If it can't wait, you can always stop to look.\n",
       "    <span style=\"font-size: 0.8em; font-weight: bold; line-height: 1; border-radius: 0.35em; vertical-align: middle; margin-left: 0.5rem\">Evidence</span>\n",
       "</mark>\n",
       " \n",
       "<mark class=\"entity\" style=\"background: d4dd80; padding: 0.45em 0.6em; margin: 0 0.25em; line-height: 1; border-radius: 0.35em;\">\n",
       "    Cell phone use should be banned for the safety of everyone on the roads. It may not be as convenient, but we won't lose nearly as many teenage lives to Tweets or texts if they know their license could be taken if they do look.   \n",
       "    <span style=\"font-size: 0.8em; font-weight: bold; line-height: 1; border-radius: 0.35em; vertical-align: middle; margin-left: 0.5rem\">Concluding Statement</span>\n",
       "</mark>\n",
       "</div></span>"
      ],
      "text/plain": [
       "<IPython.core.display.HTML object>"
      ]
     },
     "metadata": {},
     "output_type": "display_data"
    },
    {
     "name": "stdout",
     "output_type": "stream",
     "text": [
      "\n",
      "\n"
     ]
    },
    {
     "data": {
      "text/html": [
       "<span class=\"tex2jax_ignore\"><h2 style=\"margin: 0\">2B49B48C3B2C</h2>\n",
       "\n",
       "<div class=\"entities\" style=\"line-height: 2.5; direction: ltr\">Hands Free Law</br></br>\n",
       "<mark class=\"entity\" style=\"background: #8000ff; padding: 0.45em 0.6em; margin: 0 0.25em; line-height: 1; border-radius: 0.35em;\">\n",
       "    Losing the privilege to drive can be upsetting, all the work that's put in just to get the privilege to drive. Driving is a privilege that we earn and lose, this essay discusses the ways to lose and keep the privilege to drive. There are multiple ways to lose the privilege of driving but one way is by using a electronic device while behind the wheel. \n",
       "    <span style=\"font-size: 0.8em; font-weight: bold; line-height: 1; border-radius: 0.35em; vertical-align: middle; margin-left: 0.5rem\">Lead</span>\n",
       "</mark>\n",
       "\n",
       "<mark class=\"entity\" style=\"background: #2b7ff6; padding: 0.45em 0.6em; margin: 0 0.25em; line-height: 1; border-radius: 0.35em;\">\n",
       "    Most people believe that drivers should not be able to use cell phones,texting,etc. while operating a vehicle.\n",
       "\n",
       "    <span style=\"font-size: 0.8em; font-weight: bold; line-height: 1; border-radius: 0.35em; vertical-align: middle; margin-left: 0.5rem\">Position</span>\n",
       "</mark>\n",
       "</br>\n",
       "<mark class=\"entity\" style=\"background: #80ffb4; padding: 0.45em 0.6em; margin: 0 0.25em; line-height: 1; border-radius: 0.35em;\">\n",
       "    Driving while talking on the phone can get others and the driver hurt\n",
       "    <span style=\"font-size: 0.8em; font-weight: bold; line-height: 1; border-radius: 0.35em; vertical-align: middle; margin-left: 0.5rem\">Claim</span>\n",
       "</mark>\n",
       "\n",
       "<mark class=\"entity\" style=\"background: #2adddd; padding: 0.45em 0.6em; margin: 0 0.25em; line-height: 1; border-radius: 0.35em;\">\n",
       "    . One example could be hydroplaning. Hydroplaning is caused by traction and sliding on a film of water. Using one hand for driving and the other hand for the phone while it's raining is a creation of an accident and getting the privilege to drive taken away. Your driving privileges would be taken away because the driver has a phone in their hand and it's not allowed to have a phone in the vision of the driver behind the wheel.\n",
       "\n",
       "    <span style=\"font-size: 0.8em; font-weight: bold; line-height: 1; border-radius: 0.35em; vertical-align: middle; margin-left: 0.5rem\">Evidence</span>\n",
       "</mark>\n",
       "</br>\n",
       "<mark class=\"entity\" style=\"background: #80ffb4; padding: 0.45em 0.6em; margin: 0 0.25em; line-height: 1; border-radius: 0.35em;\">\n",
       "    Another example would be of course texting and driving because once again there is a phone in the hand of the driver instead of both hands on the wheel and no one paying attention to the road.\n",
       "    <span style=\"font-size: 0.8em; font-weight: bold; line-height: 1; border-radius: 0.35em; vertical-align: middle; margin-left: 0.5rem\">Claim</span>\n",
       "</mark>\n",
       " \n",
       "<mark class=\"entity\" style=\"background: #2adddd; padding: 0.45em 0.6em; margin: 0 0.25em; line-height: 1; border-radius: 0.35em;\">\n",
       "    This could lead to an accident because many drivers don't know where they're going and the car could lose control. Driving with a device in your hand is a distraction because your attention should be focusing on your surroundings and the vehicles on the road.\n",
       "\n",
       "    <span style=\"font-size: 0.8em; font-weight: bold; line-height: 1; border-radius: 0.35em; vertical-align: middle; margin-left: 0.5rem\">Evidence</span>\n",
       "</mark>\n",
       "</br>\n",
       "<mark class=\"entity\" style=\"background: #80ffb4; padding: 0.45em 0.6em; margin: 0 0.25em; line-height: 1; border-radius: 0.35em;\">\n",
       "    To keep from getting hurt and jeopardizing your life and the life of others,drivers should follow the Hands Free Law. \n",
       "    <span style=\"font-size: 0.8em; font-weight: bold; line-height: 1; border-radius: 0.35em; vertical-align: middle; margin-left: 0.5rem\">Claim</span>\n",
       "</mark>\n",
       "\n",
       "<mark class=\"entity\" style=\"background: #2adddd; padding: 0.45em 0.6em; margin: 0 0.25em; line-height: 1; border-radius: 0.35em;\">\n",
       "    The Hands Free Law is a proposed driving law that states that a driver shall not &quot;record or broadcast a video&quot; on any mobile phones, iPads, computers or touching any part of their bodies while operating a vehicle. Even with the Hands Free technology, drivers are not allowed to write, read, or send any messages or emails, but voice to text is allowed. Voice to text is a form of speech synthesis that converts text into spoken voice output or when the speaker can speak into their device and it translates their words into a text so that the speaker is able to answer the text message or any other important subject.\n",
       "\n",
       "    <span style=\"font-size: 0.8em; font-weight: bold; line-height: 1; border-radius: 0.35em; vertical-align: middle; margin-left: 0.5rem\">Evidence</span>\n",
       "</mark>\n",
       "</br>\n",
       "<mark class=\"entity\" style=\"background: d4dd80; padding: 0.45em 0.6em; margin: 0 0.25em; line-height: 1; border-radius: 0.35em;\">\n",
       "    Driving is a privilege. Responsible drivers should always pay attention to the road and other drivers. Cell phones should always be out of the drivers hand so they may maneuver the steering wheel and not drive reckless. Drivers need to remember that driving is a privilege and that it can easily be taken away from you.       \n",
       "    <span style=\"font-size: 0.8em; font-weight: bold; line-height: 1; border-radius: 0.35em; vertical-align: middle; margin-left: 0.5rem\">Concluding Statement</span>\n",
       "</mark>\n",
       "</div></span>"
      ],
      "text/plain": [
       "<IPython.core.display.HTML object>"
      ]
     },
     "metadata": {},
     "output_type": "display_data"
    },
    {
     "name": "stdout",
     "output_type": "stream",
     "text": [
      "\n",
      "\n"
     ]
    },
    {
     "data": {
      "text/html": [
       "<span class=\"tex2jax_ignore\"><h2 style=\"margin: 0\">8DB4751C05A1</h2>\n",
       "\n",
       "<div class=\"entities\" style=\"line-height: 2.5; direction: ltr\">&quot;Phones and driving&quot;</br></br>\n",
       "<mark class=\"entity\" style=\"background: #8000ff; padding: 0.45em 0.6em; margin: 0 0.25em; line-height: 1; border-radius: 0.35em;\">\n",
       "    Today's generation, phones are becoming an issue on the roads and putting people's lives at risk.\n",
       "\n",
       "    <span style=\"font-size: 0.8em; font-weight: bold; line-height: 1; border-radius: 0.35em; vertical-align: middle; margin-left: 0.5rem\">Lead</span>\n",
       "</mark>\n",
       "</br>\n",
       "<mark class=\"entity\" style=\"background: #2b7ff6; padding: 0.45em 0.6em; margin: 0 0.25em; line-height: 1; border-radius: 0.35em;\">\n",
       "    Phones should not be allowed to be touched or played on as you are on the roads so that you are fully aware of what's going on in your surroundings and also not taking your eyes off the roads.\n",
       "    <span style=\"font-size: 0.8em; font-weight: bold; line-height: 1; border-radius: 0.35em; vertical-align: middle; margin-left: 0.5rem\">Position</span>\n",
       "</mark>\n",
       " \n",
       "<mark class=\"entity\" style=\"background: #80ffb4; padding: 0.45em 0.6em; margin: 0 0.25em; line-height: 1; border-radius: 0.35em;\">\n",
       "    Texting while driving may ruin yours or another person's life.\n",
       "\n",
       "    <span style=\"font-size: 0.8em; font-weight: bold; line-height: 1; border-radius: 0.35em; vertical-align: middle; margin-left: 0.5rem\">Claim</span>\n",
       "</mark>\n",
       "</br>\n",
       "<mark class=\"entity\" style=\"background: #80ffb4; padding: 0.45em 0.6em; margin: 0 0.25em; line-height: 1; border-radius: 0.35em;\">\n",
       "    There are a lot of risks that could happen and put your life or someone else's lives in danger.\n",
       "    <span style=\"font-size: 0.8em; font-weight: bold; line-height: 1; border-radius: 0.35em; vertical-align: middle; margin-left: 0.5rem\">Claim</span>\n",
       "</mark>\n",
       " \n",
       "<mark class=\"entity\" style=\"background: #ff8042; padding: 0.45em 0.6em; margin: 0 0.25em; line-height: 1; border-radius: 0.35em;\">\n",
       "    Most people pick up the phone because they say it's important,\n",
       "    <span style=\"font-size: 0.8em; font-weight: bold; line-height: 1; border-radius: 0.35em; vertical-align: middle; margin-left: 0.5rem\">Counterclaim</span>\n",
       "</mark>\n",
       " \n",
       "<mark class=\"entity\" style=\"background: #ff0000; padding: 0.45em 0.6em; margin: 0 0.25em; line-height: 1; border-radius: 0.35em;\">\n",
       "    but even then the phone would be a distraction.\n",
       "    <span style=\"font-size: 0.8em; font-weight: bold; line-height: 1; border-radius: 0.35em; vertical-align: middle; margin-left: 0.5rem\">Rebuttal</span>\n",
       "</mark>\n",
       " \n",
       "<mark class=\"entity\" style=\"background: #2adddd; padding: 0.45em 0.6em; margin: 0 0.25em; line-height: 1; border-radius: 0.35em;\">\n",
       "    Take a moment to sit and think about how many accidents occur because of a text, now think about in old times when texting while driving was not a problem at all.\n",
       "\n",
       "    <span style=\"font-size: 0.8em; font-weight: bold; line-height: 1; border-radius: 0.35em; vertical-align: middle; margin-left: 0.5rem\">Evidence</span>\n",
       "</mark>\n",
       "</br>\n",
       "<mark class=\"entity\" style=\"background: #80ffb4; padding: 0.45em 0.6em; margin: 0 0.25em; line-height: 1; border-radius: 0.35em;\">\n",
       "    Authorities put down strict detailed laws about having your phone in your hand while driving.\n",
       "    <span style=\"font-size: 0.8em; font-weight: bold; line-height: 1; border-radius: 0.35em; vertical-align: middle; margin-left: 0.5rem\">Claim</span>\n",
       "</mark>\n",
       " \n",
       "<mark class=\"entity\" style=\"background: #2adddd; padding: 0.45em 0.6em; margin: 0 0.25em; line-height: 1; border-radius: 0.35em;\">\n",
       "    Each offence doubles every time you get caught but this law was hardly effective because no one is taking the safer advice to insure the safety of yourself and others on the roads. The fines would turn into something more serious and if you got into a wreck, injuring another person you could more than likely spent some jail time.\n",
       "\n",
       "    <span style=\"font-size: 0.8em; font-weight: bold; line-height: 1; border-radius: 0.35em; vertical-align: middle; margin-left: 0.5rem\">Evidence</span>\n",
       "</mark>\n",
       "</br>\n",
       "<mark class=\"entity\" style=\"background: d4dd80; padding: 0.45em 0.6em; margin: 0 0.25em; line-height: 1; border-radius: 0.35em;\">\n",
       "    I know phones shouldn't be allowed to be messed with while you are driving because imagine if it were you in the situation and getting into a wreck all because someone was paying attention to their phone and not the road. You could lose it all in a blink of an eye or you could make someone else lose everything, don't be that person because either one there are causes and effects to your actions even if you didn't get hurt , you probably hurt someone else that has family that loves them like crazy.\n",
       "\n",
       "\n",
       "    <span style=\"font-size: 0.8em; font-weight: bold; line-height: 1; border-radius: 0.35em; vertical-align: middle; margin-left: 0.5rem\">Concluding Statement</span>\n",
       "</mark>\n",
       "https://www. usatoday. com/story/news/nation-now/2018/07/02/georgia-hands-free-law-bans-holding-phone-while-driving/752752002/       </div></span>"
      ],
      "text/plain": [
       "<IPython.core.display.HTML object>"
      ]
     },
     "metadata": {},
     "output_type": "display_data"
    },
    {
     "name": "stdout",
     "output_type": "stream",
     "text": [
      "\n",
      "\n"
     ]
    },
    {
     "data": {
      "text/html": [
       "<span class=\"tex2jax_ignore\"><h2 style=\"margin: 0\">3EE7CF68EFAA</h2>\n",
       "\n",
       "<div class=\"entities\" style=\"line-height: 2.5; direction: ltr\">\n",
       "<mark class=\"entity\" style=\"background: #8000ff; padding: 0.45em 0.6em; margin: 0 0.25em; line-height: 1; border-radius: 0.35em;\">\n",
       "    Using your phone while driving is dangerous.\n",
       "    <span style=\"font-size: 0.8em; font-weight: bold; line-height: 1; border-radius: 0.35em; vertical-align: middle; margin-left: 0.5rem\">Lead</span>\n",
       "</mark>\n",
       " \n",
       "<mark class=\"entity\" style=\"background: #2b7ff6; padding: 0.45em 0.6em; margin: 0 0.25em; line-height: 1; border-radius: 0.35em;\">\n",
       "    People should not be able to use a cellphone while driving because it is a hazard.\n",
       "    <span style=\"font-size: 0.8em; font-weight: bold; line-height: 1; border-radius: 0.35em; vertical-align: middle; margin-left: 0.5rem\">Position</span>\n",
       "</mark>\n",
       " \n",
       "<mark class=\"entity\" style=\"background: #80ffb4; padding: 0.45em 0.6em; margin: 0 0.25em; line-height: 1; border-radius: 0.35em;\">\n",
       "    People can die in car wrecks because they were on their phones while driving. People can get paralyzed by these car wrecks because of a cellphone.\n",
       "    <span style=\"font-size: 0.8em; font-weight: bold; line-height: 1; border-radius: 0.35em; vertical-align: middle; margin-left: 0.5rem\">Claim</span>\n",
       "</mark>\n",
       " \n",
       "<mark class=\"entity\" style=\"background: #80ffb4; padding: 0.45em 0.6em; margin: 0 0.25em; line-height: 1; border-radius: 0.35em;\">\n",
       "    It is hypothesized that despite an effective way of communication, using cell phones during driving results in distracting attention of driver increasing road safety concerns.\n",
       "\n",
       "    <span style=\"font-size: 0.8em; font-weight: bold; line-height: 1; border-radius: 0.35em; vertical-align: middle; margin-left: 0.5rem\">Claim</span>\n",
       "</mark>\n",
       "</br>\n",
       "<mark class=\"entity\" style=\"background: #2adddd; padding: 0.45em 0.6em; margin: 0 0.25em; line-height: 1; border-radius: 0.35em;\">\n",
       "    Your main concern while your driving is that you obey the law and don't get in any wrecks. Your cellphone should not be your main concern while you are driving because it causes wrecks because your not paying attition to the road. Most wreck are because of people on their cellphones. About 421,000 people are injured in wrecks caused by texting and driving.\n",
       "    <span style=\"font-size: 0.8em; font-weight: bold; line-height: 1; border-radius: 0.35em; vertical-align: middle; margin-left: 0.5rem\">Evidence</span>\n",
       "</mark>\n",
       " \n",
       "<mark class=\"entity\" style=\"background: #80ffb4; padding: 0.45em 0.6em; margin: 0 0.25em; line-height: 1; border-radius: 0.35em;\">\n",
       "    Texting and driving are the number one reason for wrecks in the US.\n",
       "\n",
       "    <span style=\"font-size: 0.8em; font-weight: bold; line-height: 1; border-radius: 0.35em; vertical-align: middle; margin-left: 0.5rem\">Claim</span>\n",
       "</mark>\n",
       "</br>\n",
       "<mark class=\"entity\" style=\"background: #80ffb4; padding: 0.45em 0.6em; margin: 0 0.25em; line-height: 1; border-radius: 0.35em;\">\n",
       "    Texting and driving has its pros and cons.\n",
       "    <span style=\"font-size: 0.8em; font-weight: bold; line-height: 1; border-radius: 0.35em; vertical-align: middle; margin-left: 0.5rem\">Claim</span>\n",
       "</mark>\n",
       " \n",
       "<mark class=\"entity\" style=\"background: #2adddd; padding: 0.45em 0.6em; margin: 0 0.25em; line-height: 1; border-radius: 0.35em;\">\n",
       "    One pro is that you could get a text about an emergency and you could possibly save someones life. Another pro is that if your lost then you can look up where you have to go or get directions. Some of the cons are that you can get in wrecks, get injured, and even die because you were texting and driving. You should be able to be on your phone is there is bad traffic or if your at a red light.\n",
       "\n",
       "    <span style=\"font-size: 0.8em; font-weight: bold; line-height: 1; border-radius: 0.35em; vertical-align: middle; margin-left: 0.5rem\">Evidence</span>\n",
       "</mark>\n",
       "</br>\n",
       "<mark class=\"entity\" style=\"background: #80ffb4; padding: 0.45em 0.6em; margin: 0 0.25em; line-height: 1; border-radius: 0.35em;\">\n",
       "    Having your phone out while your driving is illegal now because of the risks of doing so\n",
       "    <span style=\"font-size: 0.8em; font-weight: bold; line-height: 1; border-radius: 0.35em; vertical-align: middle; margin-left: 0.5rem\">Claim</span>\n",
       "</mark>\n",
       ".\n",
       "<mark class=\"entity\" style=\"background: #2adddd; padding: 0.45em 0.6em; margin: 0 0.25em; line-height: 1; border-radius: 0.35em;\">\n",
       "     You cant even eat or drink while driving because of the hazards. Texting and driving is no joke. It is the number one cause for wrecks in the world and it can also take your life.\n",
       "    <span style=\"font-size: 0.8em; font-weight: bold; line-height: 1; border-radius: 0.35em; vertical-align: middle; margin-left: 0.5rem\">Evidence</span>\n",
       "</mark>\n",
       " \n",
       "<mark class=\"entity\" style=\"background: d4dd80; padding: 0.45em 0.6em; margin: 0 0.25em; line-height: 1; border-radius: 0.35em;\">\n",
       "    I think that texting and driving should be illegal because if your lost or have to text somebody you can always pull over to the side of the road and use your phone because you can put not only your life at risk, but everyone else that is in the car as well.   \n",
       "    <span style=\"font-size: 0.8em; font-weight: bold; line-height: 1; border-radius: 0.35em; vertical-align: middle; margin-left: 0.5rem\">Concluding Statement</span>\n",
       "</mark>\n",
       "</div></span>"
      ],
      "text/plain": [
       "<IPython.core.display.HTML object>"
      ]
     },
     "metadata": {},
     "output_type": "display_data"
    },
    {
     "name": "stdout",
     "output_type": "stream",
     "text": [
      "\n",
      "\n"
     ]
    },
    {
     "data": {
      "text/html": [
       "<span class=\"tex2jax_ignore\"><h2 style=\"margin: 0\">6CC267680CD2</h2>\n",
       "\n",
       "<div class=\"entities\" style=\"line-height: 2.5; direction: ltr\">Phones &amp; Driving</br></br>\n",
       "<mark class=\"entity\" style=\"background: #8000ff; padding: 0.45em 0.6em; margin: 0 0.25em; line-height: 1; border-radius: 0.35em;\">\n",
       "    There is no doubt that with how advanced technology has become in the past few years or so people have really advanced the technological possibilities. People have now started to make some of the AI's (artificial intelligence) like Alexa and Google Home. There are even some cars that allow you to ask it questions in order to find out the weather or finding the fastest route to take to work. Along with all of these technological advancements comes the ability to hook the phone up to a car using bluetooth. Now, should drivers be able to use their phones in the car while driving.\n",
       "\n",
       "    <span style=\"font-size: 0.8em; font-weight: bold; line-height: 1; border-radius: 0.35em; vertical-align: middle; margin-left: 0.5rem\">Lead</span>\n",
       "</mark>\n",
       "</br>\n",
       "<mark class=\"entity\" style=\"background: #2adddd; padding: 0.45em 0.6em; margin: 0 0.25em; line-height: 1; border-radius: 0.35em;\">\n",
       "    There are some really good uses for using the bluetooth phone hookup. For one in Georgia people are not allowed to drive if they have their phone in their hand. This is where the bluetooth phone hookup comes in handy because you can do in the car phone calls to work or to somewhere else.\n",
       "    <span style=\"font-size: 0.8em; font-weight: bold; line-height: 1; border-radius: 0.35em; vertical-align: middle; margin-left: 0.5rem\">Evidence</span>\n",
       "</mark>\n",
       " \n",
       "<mark class=\"entity\" style=\"background: #80ffb4; padding: 0.45em 0.6em; margin: 0 0.25em; line-height: 1; border-radius: 0.35em;\">\n",
       "    This feature can come in really handy because if someone takes a day off of work and someone from their work calls them and starts to ask questions they can answer those questions right then and there.\n",
       "    <span style=\"font-size: 0.8em; font-weight: bold; line-height: 1; border-radius: 0.35em; vertical-align: middle; margin-left: 0.5rem\">Claim</span>\n",
       "</mark>\n",
       " \n",
       "<mark class=\"entity\" style=\"background: #2adddd; padding: 0.45em 0.6em; margin: 0 0.25em; line-height: 1; border-radius: 0.35em;\">\n",
       "    That way if someone was ever needed to give someone some advice in their place of work they could just click a button and give them the advice over the phone.\n",
       "\n",
       "    <span style=\"font-size: 0.8em; font-weight: bold; line-height: 1; border-radius: 0.35em; vertical-align: middle; margin-left: 0.5rem\">Evidence</span>\n",
       "</mark>\n",
       "</br>\n",
       "<mark class=\"entity\" style=\"background: #80ffb4; padding: 0.45em 0.6em; margin: 0 0.25em; line-height: 1; border-radius: 0.35em;\">\n",
       "    There is also another use for the phone hookup to the car feature and that is so that someone can get notified if they do happen to have a family emergency.\n",
       "    <span style=\"font-size: 0.8em; font-weight: bold; line-height: 1; border-radius: 0.35em; vertical-align: middle; margin-left: 0.5rem\">Claim</span>\n",
       "</mark>\n",
       " \n",
       "<mark class=\"entity\" style=\"background: #2adddd; padding: 0.45em 0.6em; margin: 0 0.25em; line-height: 1; border-radius: 0.35em;\">\n",
       "    This is so that if someone does happen to have a family emergency and they are in the car already all they have to do is drive over to where the family emergency actually is. This is so that you can get notified if something bad does happen to someone's family member they won't have to wait until they get home to find out what happened.\n",
       "\n",
       "Once again being that when they do find out instead of having to leave the house again to go and see what happened because this person is actually out and about all they have to do is go to the place of the emergency. This may be one of the sadder ways that a phone can be used for while driving but it still is one of the more important things.\n",
       "\n",
       "    <span style=\"font-size: 0.8em; font-weight: bold; line-height: 1; border-radius: 0.35em; vertical-align: middle; margin-left: 0.5rem\">Evidence</span>\n",
       "</mark>\n",
       "</br>\n",
       "<mark class=\"entity\" style=\"background: #80ffb4; padding: 0.45em 0.6em; margin: 0 0.25em; line-height: 1; border-radius: 0.35em;\">\n",
       "    The next reason for why people should be able to use their phone while driving is what if someone has to call the police.\n",
       "    <span style=\"font-size: 0.8em; font-weight: bold; line-height: 1; border-radius: 0.35em; vertical-align: middle; margin-left: 0.5rem\">Claim</span>\n",
       "</mark>\n",
       " \n",
       "<mark class=\"entity\" style=\"background: #2adddd; padding: 0.45em 0.6em; margin: 0 0.25em; line-height: 1; border-radius: 0.35em;\">\n",
       "    Using the bluetooth phone hookup feature that most cars have nowadays someone can call up the police and say that they need assistance with something. For instance let's say that someone has a very strong feeling that they are being stalked on the way home from work or somewhere else so they can then call the police for their assistance. This can also be a real life saver because this can also be used if someone's water breaks on the way to the hospital that way someone can go ahead and let the hospital know what is happening so someone won't have to wait. So, in short, phones can be used to save someone's life.\n",
       "\n",
       "    <span style=\"font-size: 0.8em; font-weight: bold; line-height: 1; border-radius: 0.35em; vertical-align: middle; margin-left: 0.5rem\">Evidence</span>\n",
       "</mark>\n",
       "</br>\n",
       "<mark class=\"entity\" style=\"background: d4dd80; padding: 0.45em 0.6em; margin: 0 0.25em; line-height: 1; border-radius: 0.35em;\">\n",
       "    Phone's have been useful since the time of their invention. From the ability to be able to talk to people from a long distance away to making sure that people can keep in touch with their work life. Next, being able to keep in touch with the family making sure to be kept in the loop if something bad does happen. Lastly, being able to call the police and other emergency services to save lives.\n",
       "    <span style=\"font-size: 0.8em; font-weight: bold; line-height: 1; border-radius: 0.35em; vertical-align: middle; margin-left: 0.5rem\">Concluding Statement</span>\n",
       "</mark>\n",
       " \n",
       "<mark class=\"entity\" style=\"background: #2b7ff6; padding: 0.45em 0.6em; margin: 0 0.25em; line-height: 1; border-radius: 0.35em;\">\n",
       "    Phones are a necessity in day to day life which includes on the road.   \n",
       "    <span style=\"font-size: 0.8em; font-weight: bold; line-height: 1; border-radius: 0.35em; vertical-align: middle; margin-left: 0.5rem\">Position</span>\n",
       "</mark>\n",
       "</div></span>"
      ],
      "text/plain": [
       "<IPython.core.display.HTML object>"
      ]
     },
     "metadata": {},
     "output_type": "display_data"
    },
    {
     "name": "stdout",
     "output_type": "stream",
     "text": [
      "\n",
      "\n"
     ]
    }
   ],
   "source": [
    "path = Path(ROOT_DIR+'train')\n",
    "\n",
    "examples = train['id'].sample(n=5, random_state=42).values.tolist()\n",
    "\n",
    "for ex in examples:\n",
    "    displacy_discourse_type_visualize(ex, train, path)\n",
    "    print('\\n')"
   ]
  },
  {
   "cell_type": "code",
   "execution_count": 9,
   "metadata": {
    "pycharm": {
     "name": "#%%\n"
    },
    "trusted": true
   },
   "outputs": [
    {
     "name": "stdout",
     "output_type": "stream",
     "text": [
      "Tue Mar 21 14:39:43 2023       \n",
      "+-----------------------------------------------------------------------------+\n",
      "| NVIDIA-SMI 528.49       Driver Version: 528.49       CUDA Version: 12.0     |\n",
      "|-------------------------------+----------------------+----------------------+\n",
      "| GPU  Name            TCC/WDDM | Bus-Id        Disp.A | Volatile Uncorr. ECC |\n",
      "| Fan  Temp  Perf  Pwr:Usage/Cap|         Memory-Usage | GPU-Util  Compute M. |\n",
      "|                               |                      |               MIG M. |\n",
      "|===============================+======================+======================|\n",
      "|   0  NVIDIA GeForce ... WDDM  | 00000000:01:00.0  On |                  N/A |\n",
      "| 65%   49C    P8    16W / 170W |    641MiB / 12288MiB |      9%      Default |\n",
      "|                               |                      |                  N/A |\n",
      "+-------------------------------+----------------------+----------------------+\n",
      "                                                                               \n",
      "+-----------------------------------------------------------------------------+\n",
      "| Processes:                                                                  |\n",
      "|  GPU   GI   CI        PID   Type   Process name                  GPU Memory |\n",
      "|        ID   ID                                                   Usage      |\n",
      "|=============================================================================|\n",
      "|    0   N/A  N/A      2416    C+G   ...werToys.ColorPickerUI.exe    N/A      |\n",
      "|    0   N/A  N/A      6008    C+G   ...werToys.PowerLauncher.exe    N/A      |\n",
      "|    0   N/A  N/A      8752    C+G   C:\\Windows\\explorer.exe         N/A      |\n",
      "|    0   N/A  N/A      9240    C+G   ...\\PowerToys.FancyZones.exe    N/A      |\n",
      "|    0   N/A  N/A      9516    C+G   ...n1h2txyewy\\SearchHost.exe    N/A      |\n",
      "|    0   N/A  N/A      9544    C+G   ...artMenuExperienceHost.exe    N/A      |\n",
      "|    0   N/A  N/A      9580    C+G   ...icrosoft VS Code\\Code.exe    N/A      |\n",
      "|    0   N/A  N/A     10408    C+G   ...lPanel\\SystemSettings.exe    N/A      |\n",
      "|    0   N/A  N/A     11384    C+G   ...cw5n1h2txyewy\\LockApp.exe    N/A      |\n",
      "|    0   N/A  N/A     12020    C+G   ...y\\ShellExperienceHost.exe    N/A      |\n",
      "|    0   N/A  N/A     12036    C+G   ...me\\Application\\chrome.exe    N/A      |\n",
      "|    0   N/A  N/A     12992    C+G   ...e\\PhoneExperienceHost.exe    N/A      |\n",
      "|    0   N/A  N/A     13992    C+G   ...661.44\\msedgewebview2.exe    N/A      |\n",
      "|    0   N/A  N/A     21424    C+G   C:\\Windows\\explorer.exe         N/A      |\n",
      "+-----------------------------------------------------------------------------+\n"
     ]
    }
   ],
   "source": [
    "!nvidia-smi"
   ]
  },
  {
   "cell_type": "code",
   "execution_count": 10,
   "metadata": {
    "pycharm": {
     "name": "#%%\n"
    },
    "trusted": true
   },
   "outputs": [
    {
     "name": "stderr",
     "output_type": "stream",
     "text": [
      "Could not locate the tokenizer configuration file, will try to use the model config instead.\n",
      "loading configuration file config.json from cache at C:\\Users\\PC60/.cache\\huggingface\\hub\\models--allenai--longformer-base-4096\\snapshots\\7a2d50a05513897192e79ea7c750493795d7cec0\\config.json\n",
      "Model config LongformerConfig {\n",
      "  \"_name_or_path\": \"allenai/longformer-base-4096\",\n",
      "  \"attention_mode\": \"longformer\",\n",
      "  \"attention_probs_dropout_prob\": 0.1,\n",
      "  \"attention_window\": [\n",
      "    512,\n",
      "    512,\n",
      "    512,\n",
      "    512,\n",
      "    512,\n",
      "    512,\n",
      "    512,\n",
      "    512,\n",
      "    512,\n",
      "    512,\n",
      "    512,\n",
      "    512\n",
      "  ],\n",
      "  \"bos_token_id\": 0,\n",
      "  \"classifier_dropout\": null,\n",
      "  \"eos_token_id\": 2,\n",
      "  \"gradient_checkpointing\": false,\n",
      "  \"hidden_act\": \"gelu\",\n",
      "  \"hidden_dropout_prob\": 0.1,\n",
      "  \"hidden_size\": 768,\n",
      "  \"ignore_attention_mask\": false,\n",
      "  \"initializer_range\": 0.02,\n",
      "  \"intermediate_size\": 3072,\n",
      "  \"layer_norm_eps\": 1e-05,\n",
      "  \"max_position_embeddings\": 4098,\n",
      "  \"model_type\": \"longformer\",\n",
      "  \"num_attention_heads\": 12,\n",
      "  \"num_hidden_layers\": 12,\n",
      "  \"onnx_export\": false,\n",
      "  \"pad_token_id\": 1,\n",
      "  \"position_embedding_type\": \"absolute\",\n",
      "  \"sep_token_id\": 2,\n",
      "  \"transformers_version\": \"4.26.1\",\n",
      "  \"type_vocab_size\": 1,\n",
      "  \"vocab_size\": 50265\n",
      "}\n",
      "\n",
      "loading file vocab.json from cache at C:\\Users\\PC60/.cache\\huggingface\\hub\\models--allenai--longformer-base-4096\\snapshots\\7a2d50a05513897192e79ea7c750493795d7cec0\\vocab.json\n",
      "loading file merges.txt from cache at C:\\Users\\PC60/.cache\\huggingface\\hub\\models--allenai--longformer-base-4096\\snapshots\\7a2d50a05513897192e79ea7c750493795d7cec0\\merges.txt\n",
      "loading file tokenizer.json from cache at C:\\Users\\PC60/.cache\\huggingface\\hub\\models--allenai--longformer-base-4096\\snapshots\\7a2d50a05513897192e79ea7c750493795d7cec0\\tokenizer.json\n",
      "loading file added_tokens.json from cache at None\n",
      "loading file special_tokens_map.json from cache at None\n",
      "loading file tokenizer_config.json from cache at None\n",
      "loading configuration file config.json from cache at C:\\Users\\PC60/.cache\\huggingface\\hub\\models--allenai--longformer-base-4096\\snapshots\\7a2d50a05513897192e79ea7c750493795d7cec0\\config.json\n",
      "Model config LongformerConfig {\n",
      "  \"_name_or_path\": \"allenai/longformer-base-4096\",\n",
      "  \"attention_mode\": \"longformer\",\n",
      "  \"attention_probs_dropout_prob\": 0.1,\n",
      "  \"attention_window\": [\n",
      "    512,\n",
      "    512,\n",
      "    512,\n",
      "    512,\n",
      "    512,\n",
      "    512,\n",
      "    512,\n",
      "    512,\n",
      "    512,\n",
      "    512,\n",
      "    512,\n",
      "    512\n",
      "  ],\n",
      "  \"bos_token_id\": 0,\n",
      "  \"classifier_dropout\": null,\n",
      "  \"eos_token_id\": 2,\n",
      "  \"gradient_checkpointing\": false,\n",
      "  \"hidden_act\": \"gelu\",\n",
      "  \"hidden_dropout_prob\": 0.1,\n",
      "  \"hidden_size\": 768,\n",
      "  \"ignore_attention_mask\": false,\n",
      "  \"initializer_range\": 0.02,\n",
      "  \"intermediate_size\": 3072,\n",
      "  \"layer_norm_eps\": 1e-05,\n",
      "  \"max_position_embeddings\": 4098,\n",
      "  \"model_type\": \"longformer\",\n",
      "  \"num_attention_heads\": 12,\n",
      "  \"num_hidden_layers\": 12,\n",
      "  \"onnx_export\": false,\n",
      "  \"pad_token_id\": 1,\n",
      "  \"position_embedding_type\": \"absolute\",\n",
      "  \"sep_token_id\": 2,\n",
      "  \"transformers_version\": \"4.26.1\",\n",
      "  \"type_vocab_size\": 1,\n",
      "  \"vocab_size\": 50265\n",
      "}\n",
      "\n",
      "loading configuration file config.json from cache at C:\\Users\\PC60/.cache\\huggingface\\hub\\models--allenai--longformer-base-4096\\snapshots\\7a2d50a05513897192e79ea7c750493795d7cec0\\config.json\n",
      "Model config LongformerConfig {\n",
      "  \"_name_or_path\": \"allenai/longformer-base-4096\",\n",
      "  \"attention_mode\": \"longformer\",\n",
      "  \"attention_probs_dropout_prob\": 0.1,\n",
      "  \"attention_window\": [\n",
      "    512,\n",
      "    512,\n",
      "    512,\n",
      "    512,\n",
      "    512,\n",
      "    512,\n",
      "    512,\n",
      "    512,\n",
      "    512,\n",
      "    512,\n",
      "    512,\n",
      "    512\n",
      "  ],\n",
      "  \"bos_token_id\": 0,\n",
      "  \"classifier_dropout\": null,\n",
      "  \"eos_token_id\": 2,\n",
      "  \"gradient_checkpointing\": false,\n",
      "  \"hidden_act\": \"gelu\",\n",
      "  \"hidden_dropout_prob\": 0.1,\n",
      "  \"hidden_size\": 768,\n",
      "  \"ignore_attention_mask\": false,\n",
      "  \"initializer_range\": 0.02,\n",
      "  \"intermediate_size\": 3072,\n",
      "  \"layer_norm_eps\": 1e-05,\n",
      "  \"max_position_embeddings\": 4098,\n",
      "  \"model_type\": \"longformer\",\n",
      "  \"num_attention_heads\": 12,\n",
      "  \"num_hidden_layers\": 12,\n",
      "  \"onnx_export\": false,\n",
      "  \"pad_token_id\": 1,\n",
      "  \"position_embedding_type\": \"absolute\",\n",
      "  \"sep_token_id\": 2,\n",
      "  \"transformers_version\": \"4.26.1\",\n",
      "  \"type_vocab_size\": 1,\n",
      "  \"vocab_size\": 50265\n",
      "}\n",
      "\n",
      "loading weights file tf_model.h5 from cache at C:\\Users\\PC60/.cache\\huggingface\\hub\\models--allenai--longformer-base-4096\\snapshots\\7a2d50a05513897192e79ea7c750493795d7cec0\\tf_model.h5\n",
      "Input ids are automatically padded from 5 to 512 to be a multiple of `config.attention_window`: 512\n",
      "Input ids are automatically padded from 5 to 512 to be a multiple of `config.attention_window`: 512\n",
      "Some layers from the model checkpoint at allenai/longformer-base-4096 were not used when initializing TFLongformerModel: ['lm_head']\n",
      "- This IS expected if you are initializing TFLongformerModel from the checkpoint of a model trained on another task or with another architecture (e.g. initializing a BertForSequenceClassification model from a BertForPreTraining model).\n",
      "- This IS NOT expected if you are initializing TFLongformerModel from the checkpoint of a model that you expect to be exactly identical (initializing a BertForSequenceClassification model from a BertForSequenceClassification model).\n",
      "All the layers of TFLongformerModel were initialized from the model checkpoint at allenai/longformer-base-4096.\n",
      "If your task is similar to the task the model of the checkpoint was trained on, you can already use TFLongformerModel for predictions without further training.\n"
     ]
    }
   ],
   "source": [
    "tokenizer = AutoTokenizer.from_pretrained(MODEL_NAME)\n",
    "\n",
    "config = AutoConfig.from_pretrained(MODEL_NAME) \n",
    "\n",
    "backbone = TFAutoModel.from_pretrained(MODEL_NAME, config=config)"
   ]
  },
  {
   "cell_type": "code",
   "execution_count": 11,
   "metadata": {
    "pycharm": {
     "name": "#%%\n"
    },
    "trusted": true
   },
   "outputs": [
    {
     "name": "stdout",
     "output_type": "stream",
     "text": [
      "single strategy\n"
     ]
    }
   ],
   "source": [
    "strategy = multi_gpu_use()"
   ]
  },
  {
   "attachments": {},
   "cell_type": "markdown",
   "metadata": {
    "pycharm": {
     "name": "#%% md\n"
    }
   },
   "source": [
    "# Enable Mixed precision\n",
    "\n",
    "When using Kaggle's P100 GPU, mixed precision does not make a difference. However, if you run this code locally on a recent GPU, using mixed precision, get speed up train time by as much as 2x.\n",
    "\n",
    "Mixed-precision training is a technique for training deep neural networks using both lower-precision (e.g., half-precision) and higher-precision (e.g., single-precision) floating-point numbers. This technique can lead to significant speedups in training and can reduce memory usage, especially when training large models with many layers.\n",
    "\n",
    "This line of code, the \"auto_mixed_precision\" option enables TensorFlow to automatically select the best precision format for each tensor during training, based on the tensor's dynamic range - without requiring manual specification of precision formats for each tensor, which can be time-consuming and error-prone.\n",
    "\n",
    "Further, mixed-precision training can also improve the numerical stability of the training process. Specifically, using lower-precision numbers can help avoid numerical underflow, which can occur when using single-precision numbers in deep neural networks with many layers. By using mixed-precision training, the numerical stability of the training process can be improved without sacrificing performance.\n",
    "\n",
    "However, it’s important to note that not all hardware supports mixed-precision training, and not all models may benefit from it. Therefore, it’s important to experiment with different precision formats and configurations to determine the optimal approach for a particular model and hardware setup."
   ]
  },
  {
   "cell_type": "code",
   "execution_count": 12,
   "metadata": {
    "pycharm": {
     "name": "#%%\n"
    },
    "trusted": true
   },
   "outputs": [],
   "source": [
    "tf.config.optimizer.set_experimental_options({\"auto_mixed_precision\": True})"
   ]
  },
  {
   "cell_type": "code",
   "execution_count": 13,
   "metadata": {
    "pycharm": {
     "name": "#%%\n"
    },
    "trusted": true
   },
   "outputs": [
    {
     "name": "stdout",
     "output_type": "stream",
     "text": [
      "The train labels are:\n"
     ]
    },
    {
     "data": {
      "text/plain": [
       "array(['Lead', 'Position', 'Evidence', 'Claim', 'Concluding Statement',\n",
       "       'Counterclaim', 'Rebuttal'], dtype=object)"
      ]
     },
     "execution_count": 13,
     "metadata": {},
     "output_type": "execute_result"
    }
   ],
   "source": [
    "print('The train labels are:')\n",
    "train.discourse_type.unique()"
   ]
  },
  {
   "cell_type": "code",
   "execution_count": 14,
   "metadata": {
    "pycharm": {
     "name": "#%%\n"
    },
    "trusted": true
   },
   "outputs": [
    {
     "name": "stdout",
     "output_type": "stream",
     "text": [
      "There are 136 train texts.\n"
     ]
    }
   ],
   "source": [
    "unique_doc_ids = train.id.unique()\n",
    "\n",
    "print('There are',len(unique_doc_ids),'train texts.')"
   ]
  },
  {
   "attachments": {},
   "cell_type": "markdown",
   "metadata": {
    "pycharm": {
     "name": "#%% md\n"
    }
   },
   "source": [
    "# Tokenize Train\n",
    "\n",
    "Code in the next cell is for converting Kaggle's train dataset into a NER token array that we can use to train a NER transformer. \n",
    "\n",
    "\n",
    "---------------------\n",
    "\n",
    "## B_ and I_ are used to indicate the boundary of a named entity.\n",
    "\n",
    "In NER, the prefix B_ is used to indicate the beginning of a named entity, and is typically followed by a label indicating the type of entity (e.g. B_PERSON for the first token in a person's name). The prefix I_ is used to indicate tokens that are inside a named entity, and is also followed by the entity type (e.g. I_PERSON for the second and subsequent tokens in a person's name). \n",
    "\n",
    "In NER, the goal is to identify and classify named entities (such as people, organizations, and locations) in a text. To do this, NER models often assign a label to each token in the input text, indicating whether the token is part of a named entity and, if so, what type of entity it is.\n",
    "\n",
    "For example, consider the sentence \"John Smith is the CEO of Acme Corporation\". A NER model might output the following sequence of labels:\n",
    "\n",
    "```\n",
    "B_PERSON   I_PERSON    O   O  O   B_ORGANIZATION    I_ORGANIZATION\n",
    "John      Smith       is  the CEO of              Acme          Corporation\n",
    "```\n",
    "\n",
    "Here, B_PERSON and I_PERSON are used to mark the tokens that make up the person's name, while B_ORGANIZATION and I_ORGANIZATION mark the tokens that make up the organization name.\n",
    "\n",
    "------------------------------------------------\n",
    "\n",
    "In this NB, the B label is the start and I labels are all the middles and the end. \n",
    "\n",
    "Lets take an example below. \n",
    "\n",
    "In below, the square brackets designate different tokens. And the total text is 4-sentences long, where sentence-1 is the \"position\", sentence-2 nothing, sentence-3 is \"evidence\" and sentence-4 is a another \"evidence\".\n",
    "\n",
    "```\n",
    "[This ][is ][sentence ][one. ][This ][is ][sentence ][two. ][This ][is ][sentence ][three. ][This ][is ][sentence ][four. ]\n",
    "\n",
    "```\n",
    "Then the prediction from our model is as follows:\n",
    "\n",
    "```\n",
    "[2][3][3][3] [14][14][14][14] [4][5][5][5] [4][5][5][5]\n",
    "\n",
    "```\n",
    "Total, there are 16 tokens so our model makes 16 predictions. Each prediction is a softmax class from 0 thru 14. The prediction [2] is position-B, the prediction [3] is position-I. The prediction [14] is O which means it is no class. The prediction [4] is evidence-B, the prediction [5] is evidence-I.\n",
    "\n",
    "Notice how each span begins with a class-B and continues with class-I. When we see a new class-B, we know that we are starting a new span.\n",
    "\n",
    "The `calculate_preds()` divides each prediction by 2 and then looks for [1][1.5][1.5][1.5] [7][7][7][7] [2][2.5][2.5][2.5] [2][2.5][2.5][2.5])\n",
    "\n",
    "\n",
    "-------------------------------------------------\n",
    "\n",
    "## In below Why do we need 2 arrays for each class? LEAD_b and LEAD_i for example?\n",
    "\n",
    "Its to capture the start and continuation of tokens. `LEAD_b` is the start token e.g. and `LEAD_i` is every other token including the middle tokens and end token for the LEAD span."
   ]
  },
  {
   "cell_type": "code",
   "execution_count": 15,
   "metadata": {
    "pycharm": {
     "name": "#%%\n"
    },
    "trusted": true
   },
   "outputs": [
    {
     "name": "stderr",
     "output_type": "stream",
     "text": [
      "Could not locate the tokenizer configuration file, will try to use the model config instead.\n",
      "loading configuration file config.json from cache at C:\\Users\\PC60/.cache\\huggingface\\hub\\models--allenai--longformer-base-4096\\snapshots\\7a2d50a05513897192e79ea7c750493795d7cec0\\config.json\n",
      "Model config LongformerConfig {\n",
      "  \"_name_or_path\": \"allenai/longformer-base-4096\",\n",
      "  \"attention_mode\": \"longformer\",\n",
      "  \"attention_probs_dropout_prob\": 0.1,\n",
      "  \"attention_window\": [\n",
      "    512,\n",
      "    512,\n",
      "    512,\n",
      "    512,\n",
      "    512,\n",
      "    512,\n",
      "    512,\n",
      "    512,\n",
      "    512,\n",
      "    512,\n",
      "    512,\n",
      "    512\n",
      "  ],\n",
      "  \"bos_token_id\": 0,\n",
      "  \"classifier_dropout\": null,\n",
      "  \"eos_token_id\": 2,\n",
      "  \"gradient_checkpointing\": false,\n",
      "  \"hidden_act\": \"gelu\",\n",
      "  \"hidden_dropout_prob\": 0.1,\n",
      "  \"hidden_size\": 768,\n",
      "  \"ignore_attention_mask\": false,\n",
      "  \"initializer_range\": 0.02,\n",
      "  \"intermediate_size\": 3072,\n",
      "  \"layer_norm_eps\": 1e-05,\n",
      "  \"max_position_embeddings\": 4098,\n",
      "  \"model_type\": \"longformer\",\n",
      "  \"num_attention_heads\": 12,\n",
      "  \"num_hidden_layers\": 12,\n",
      "  \"onnx_export\": false,\n",
      "  \"pad_token_id\": 1,\n",
      "  \"position_embedding_type\": \"absolute\",\n",
      "  \"sep_token_id\": 2,\n",
      "  \"transformers_version\": \"4.26.1\",\n",
      "  \"type_vocab_size\": 1,\n",
      "  \"vocab_size\": 50265\n",
      "}\n",
      "\n",
      "loading file vocab.json from cache at C:\\Users\\PC60/.cache\\huggingface\\hub\\models--allenai--longformer-base-4096\\snapshots\\7a2d50a05513897192e79ea7c750493795d7cec0\\vocab.json\n",
      "loading file merges.txt from cache at C:\\Users\\PC60/.cache\\huggingface\\hub\\models--allenai--longformer-base-4096\\snapshots\\7a2d50a05513897192e79ea7c750493795d7cec0\\merges.txt\n",
      "loading file tokenizer.json from cache at C:\\Users\\PC60/.cache\\huggingface\\hub\\models--allenai--longformer-base-4096\\snapshots\\7a2d50a05513897192e79ea7c750493795d7cec0\\tokenizer.json\n",
      "loading file added_tokens.json from cache at None\n",
      "loading file special_tokens_map.json from cache at None\n",
      "loading file tokenizer_config.json from cache at None\n",
      "loading configuration file config.json from cache at C:\\Users\\PC60/.cache\\huggingface\\hub\\models--allenai--longformer-base-4096\\snapshots\\7a2d50a05513897192e79ea7c750493795d7cec0\\config.json\n",
      "Model config LongformerConfig {\n",
      "  \"_name_or_path\": \"allenai/longformer-base-4096\",\n",
      "  \"attention_mode\": \"longformer\",\n",
      "  \"attention_probs_dropout_prob\": 0.1,\n",
      "  \"attention_window\": [\n",
      "    512,\n",
      "    512,\n",
      "    512,\n",
      "    512,\n",
      "    512,\n",
      "    512,\n",
      "    512,\n",
      "    512,\n",
      "    512,\n",
      "    512,\n",
      "    512,\n",
      "    512\n",
      "  ],\n",
      "  \"bos_token_id\": 0,\n",
      "  \"classifier_dropout\": null,\n",
      "  \"eos_token_id\": 2,\n",
      "  \"gradient_checkpointing\": false,\n",
      "  \"hidden_act\": \"gelu\",\n",
      "  \"hidden_dropout_prob\": 0.1,\n",
      "  \"hidden_size\": 768,\n",
      "  \"ignore_attention_mask\": false,\n",
      "  \"initializer_range\": 0.02,\n",
      "  \"intermediate_size\": 3072,\n",
      "  \"layer_norm_eps\": 1e-05,\n",
      "  \"max_position_embeddings\": 4098,\n",
      "  \"model_type\": \"longformer\",\n",
      "  \"num_attention_heads\": 12,\n",
      "  \"num_hidden_layers\": 12,\n",
      "  \"onnx_export\": false,\n",
      "  \"pad_token_id\": 1,\n",
      "  \"position_embedding_type\": \"absolute\",\n",
      "  \"sep_token_id\": 2,\n",
      "  \"transformers_version\": \"4.26.1\",\n",
      "  \"type_vocab_size\": 1,\n",
      "  \"vocab_size\": 50265\n",
      "}\n",
      "\n"
     ]
    }
   ],
   "source": [
    "MAX_LEN = 1024\n",
    "# means that each token array will have a maximum length of 1024 tokens.\n",
    "\n",
    "# initialize the tokenizer object \n",
    "tokenizer = AutoTokenizer.from_pretrained(MODEL_NAME)\n",
    "\n",
    "train_tokens = np.zeros((len(unique_doc_ids),MAX_LEN), dtype='int32')\n",
    "# train_tokens array is of shape (len(unique_doc_ids), MAX_LEN). \n",
    "# This array will store the tokenized versions of the text documents of train dataset\n",
    "\n",
    "train_attention = np.zeros((len(unique_doc_ids),MAX_LEN), dtype='int32')\n",
    "# train_attention has the same shape as train_tokens. \n",
    "# This array will store the attention masks for each tokenized document  of train dataset\n",
    "\n",
    "# Declare 2 arrays for each class\n",
    "# Threre are a total of 14 classes\n",
    "B_Lead = np.zeros((len(unique_doc_ids),MAX_LEN))\n",
    "I_Lead = np.zeros((len(unique_doc_ids),MAX_LEN))\n",
    "\n",
    "B_Position = np.zeros((len(unique_doc_ids),MAX_LEN))\n",
    "I_Position = np.zeros((len(unique_doc_ids),MAX_LEN))\n",
    "\n",
    "B_Evidence = np.zeros((len(unique_doc_ids),MAX_LEN))\n",
    "Evidence_I = np.zeros((len(unique_doc_ids),MAX_LEN))\n",
    "\n",
    "B_Claim = np.zeros((len(unique_doc_ids),MAX_LEN))\n",
    "I_Claim = np.zeros((len(unique_doc_ids),MAX_LEN))\n",
    "\n",
    "B_Conclusion = np.zeros((len(unique_doc_ids),MAX_LEN))\n",
    "I_Conclusion = np.zeros((len(unique_doc_ids),MAX_LEN))\n",
    "\n",
    "B_Counterclaim = np.zeros((len(unique_doc_ids),MAX_LEN))\n",
    "I_Counterclaim = np.zeros((len(unique_doc_ids),MAX_LEN))\n",
    "\n",
    "B_Rebuttal = np.zeros((len(unique_doc_ids),MAX_LEN))\n",
    "I_Rebuttal = np.zeros((len(unique_doc_ids),MAX_LEN))\n",
    "\n",
    "# lets define some helper vars\n",
    "train_lens = []\n",
    "\n",
    "targets_b = [B_Lead, B_Position, B_Evidence, B_Claim, B_Conclusion, B_Counterclaim, B_Rebuttal]\n",
    "\n",
    "targets_i = [I_Lead, I_Position, Evidence_I, I_Claim, I_Conclusion, I_Counterclaim, I_Rebuttal]\n",
    "\n",
    "target_id_map = {'Lead':0, 'Position':1, 'Evidence':2, 'Claim':3, 'Concluding Statement':4,\n",
    "             'Counterclaim':5, 'Rebuttal':6}"
   ]
  },
  {
   "attachments": {},
   "cell_type": "markdown",
   "metadata": {},
   "source": [
    "`targets_b` and `targets_i` arrays are used to store the ground truth labels for the beginning and intermediate tokens of each named entity class in the tokenized input. Each class has its own pair of arrays (`B_*` and `I_*`), with the same shape as `train_tokens` and `train_attention` arrays.\n",
    "    \n",
    "Align with tokenized input and attention masks: By having the same shape as `train_tokens` and `train_attention` arrays, the `targets_b` and `targets_i` arrays ensure that the ground truth labels are aligned with the tokenized input and attention masks. This alignment is essential for training the model, as it helps the model learn to map the tokenized input to the correct named entity labels.    "
   ]
  },
  {
   "cell_type": "code",
   "execution_count": 16,
   "metadata": {
    "pycharm": {
     "name": "#%%\n"
    },
    "trusted": true
   },
   "outputs": [
    {
     "name": "stdout",
     "output_type": "stream",
     "text": [
      "0 , 100 , "
     ]
    }
   ],
   "source": [
    "prepare_data(train, unique_doc_ids,train_lens, tokenizer, train_tokens, train_attention, ROOT_DIR, MAX_LEN, target_id_map, targets_b, targets_i)"
   ]
  },
  {
   "cell_type": "code",
   "execution_count": 17,
   "metadata": {
    "execution": {
     "iopub.execute_input": "2023-03-05T19:18:41.254514Z",
     "iopub.status.busy": "2023-03-05T19:18:41.254244Z",
     "iopub.status.idle": "2023-03-05T19:18:41.738695Z",
     "shell.execute_reply": "2023-03-05T19:18:41.737800Z",
     "shell.execute_reply.started": "2023-03-05T19:18:41.254484Z"
    },
    "pycharm": {
     "name": "#%%\n"
    },
    "trusted": true
   },
   "outputs": [
    {
     "data": {
      "image/png": "[encoded data removed]",
      "text/plain": [
       "<Figure size 640x480 with 1 Axes>"
      ]
     },
     "metadata": {},
     "output_type": "display_data"
    }
   ],
   "source": [
    "plt.hist(train_lens,bins=100)\n",
    "# In the prepare_data() method, train_lens is a list that holds the lengths (number of words) of each original text document in the training dataset. The line train_lens.append(len(txt.split())) appends the length of the current document to the train_lens list.\n",
    "plt.title('Histogram of Train Word Counts',size=16)\n",
    "plt.xlabel('Train Word Count',size=14)\n",
    "plt.show()"
   ]
  },
  {
   "attachments": {},
   "cell_type": "markdown",
   "metadata": {
    "pycharm": {
     "name": "#%% md\n"
    }
   },
   "source": [
    "From the histogram of train word counts above, we see that using a transformer width of 1024 is a good enough for capturing most of the data's signal and also not having too large a model.\n",
    "\n",
    "We could probably explore other widths between 512 and 1024 also. Or we could use widths of size 512 or smaller and use a stride which breaks a single text into multiple chunks (with possible overlap).\n",
    "\n",
    "-------------------------------------------------------------------------\n",
    "\n",
    "## Build a Tensor (with interleaving structure) to represent 15 classes of Targets\n",
    "\n",
    "Now why do we need 15 classes - Could we not use 8 classes instead of those 15 classes?\n",
    "\n",
    "Basically, we could use 8 if we do ONLY \"IO\" NER tagging formats for all the NERs here. \n",
    "\n",
    "But we are doing \"BIO\". So each of the seven classes needs 1 \"B\" and each of seven classes needs 1 \"I\" and then the 15th class is \"O\".\n",
    "\n",
    "Background on BIO/IO - In an NLP/NER project, IO and BIO are two different tagging formats for tagging tokens in a chunking task. BIO (short for Beginning, Inside, Outside) format is a common tagging format where the B- prefix before a tag indicates that the tag is the beginning of a chunk, and an I- prefix before a tag indicates that the tag is inside a chunk. \n",
    "On the other hand, IO (short for Inside, Outside) is another tagging format that is easy to implement but should be worse than IOBES for NER tasks\n",
    "\n",
    "There are several other tagging formats used in NLP/NER projects. Some of these include IOBES (short for Beginning, Inside, Outside, End, Single) and BILOU (short for Beginning, Inside, Last, Outside, and Unit) . These tagging formats help to distinguish between the end of a named entity and single entities."
   ]
  },
  {
   "cell_type": "code",
   "execution_count": 18,
   "metadata": {
    "execution": {
     "iopub.execute_input": "2023-03-05T19:18:41.741026Z",
     "iopub.status.busy": "2023-03-05T19:18:41.740713Z",
     "iopub.status.idle": "2023-03-05T19:18:44.784915Z",
     "shell.execute_reply": "2023-03-05T19:18:44.784070Z",
     "shell.execute_reply.started": "2023-03-05T19:18:41.740984Z"
    },
    "pycharm": {
     "name": "#%%\n"
    },
    "trusted": true
   },
   "outputs": [],
   "source": [
    "#  initializes a 3D NumPy array called targets with zeros\n",
    "# The purpose of this array is to store target labels for each unique document and for each token (word or character) up to the maximum length (MAX_LEN) specified. The depth of 15 layers is used to store different label information for each token.\n",
    "targets = np.zeros((len(unique_doc_ids),MAX_LEN,15), dtype='int32')\n",
    "\n",
    "# In below loop, for each class (k i.e. each of the 7 classes Lead, Position, Evidence, Claim, Conclusion, Counterclaim, and Rebuttal), the code assigns the corresponding \"beginning\" (targets_b) and \"inside\" (targets_i) labels to the 'targets' 3D NumPy array in an interleaved fashion. \n",
    "# --------------\n",
    "# For each class, it assigns the \"beginning\" labels (targets_b) to the even indices (2 * k) and the \"inside\" labels (targets_i) to the odd indices (2 * k + 1) of the 'targets' array. \n",
    "# The result is an interleaved structure that allows for efficient storage and retrieval of target labels for each component during the training and evaluation of the NLP model.\n",
    "# So, the 'targets' array will store the \"beginning\" label for class k at depth 2 * k and the \"inside\" label for class k at depth 2 * k + 1.\n",
    "for k in range(7):\n",
    "    targets[:,:,2*k] = targets_b[k]\n",
    "    targets[:,:,2*k+1] = targets_i[k]\n",
    "# The for loop iterates 7 times and sets the values of the even-numbered columns (0, 2, 4, etc.) to the values of the targets for the beginning of entities (targets_b) for each entity type. It sets the values of the odd-numbered columns (1, 3, 5, etc.) to the values of the targets for the inside of entities (targets_i) for each entity type.\n",
    "\n",
    "targets[:,:,14] = 1-np.max(targets,axis=-1)\n",
    "# Finally, set the values of the last column to 1 minus the maximum value of the targets in the third dimension. This column corresponds to the \"outside\" of any entities in the text, meaning it is not part of any entity. This is done to ensure that the model can distinguish between entities and non-entities in the text.\n",
    "# np.max(targets, axis=-1): This calculates the maximum value along the last axis. The axis=-1 notation is shorthand for selecting the last axis."
   ]
  },
  {
   "cell_type": "code",
   "execution_count": 19,
   "metadata": {},
   "outputs": [
    {
     "name": "stdout",
     "output_type": "stream",
     "text": [
      "targets : [[[0 0 0 ... 0 0 1]\n",
      "  [0 0 0 ... 0 0 1]\n",
      "  [0 0 0 ... 0 0 1]\n",
      "  ...\n",
      "  [0 0 0 ... 0 0 1]\n",
      "  [0 0 0 ... 0 0 1]\n",
      "  [0 0 0 ... 0 0 1]]\n",
      "\n",
      " [[0 0 0 ... 0 0 1]\n",
      "  [0 0 0 ... 0 0 1]\n",
      "  [0 0 0 ... 0 0 1]\n",
      "  ...\n",
      "  [0 0 0 ... 0 0 1]\n",
      "  [0 0 0 ... 0 0 1]\n",
      "  [0 0 0 ... 0 0 1]]\n",
      "\n",
      " [[0 0 0 ... 0 0 1]\n",
      "  [0 0 0 ... 0 0 1]\n",
      "  [0 0 0 ... 0 0 1]\n",
      "  ...\n",
      "  [0 0 0 ... 0 0 1]\n",
      "  [0 0 0 ... 0 0 1]\n",
      "  [0 0 0 ... 0 0 1]]\n",
      "\n",
      " ...\n",
      "\n",
      " [[0 0 0 ... 0 0 1]\n",
      "  [0 0 0 ... 0 0 1]\n",
      "  [0 0 0 ... 0 0 1]\n",
      "  ...\n",
      "  [0 0 0 ... 0 0 1]\n",
      "  [0 0 0 ... 0 0 1]\n",
      "  [0 0 0 ... 0 0 1]]\n",
      "\n",
      " [[0 0 0 ... 0 0 1]\n",
      "  [0 0 0 ... 0 0 1]\n",
      "  [0 0 0 ... 0 0 1]\n",
      "  ...\n",
      "  [0 0 0 ... 0 0 1]\n",
      "  [0 0 0 ... 0 0 1]\n",
      "  [0 0 0 ... 0 0 1]]\n",
      "\n",
      " [[0 0 0 ... 0 0 1]\n",
      "  [0 0 0 ... 0 0 1]\n",
      "  [0 0 0 ... 0 0 1]\n",
      "  ...\n",
      "  [0 0 0 ... 0 0 1]\n",
      "  [0 0 0 ... 0 0 1]\n",
      "  [0 0 0 ... 0 0 1]]]\n"
     ]
    }
   ],
   "source": [
    "print(\"targets :\", targets)\n"
   ]
  },
  {
   "cell_type": "code",
   "execution_count": 20,
   "metadata": {},
   "outputs": [
    {
     "name": "stdout",
     "output_type": "stream",
     "text": [
      "targets.shape : (136, 1024, 15)\n"
     ]
    }
   ],
   "source": [
    "print(\"targets.shape :\", targets.shape)\n",
    "# targets.shape : (136, 1024, 15)"
   ]
  },
  {
   "attachments": {},
   "cell_type": "markdown",
   "metadata": {},
   "source": [
    "----------------------\n",
    "\n",
    "## Why exactly the `targets` array is built like this with even and odd positioning of target labels\n",
    "\n",
    "Interleaving structures for target labels, like the one used here, are quite common in deep learning NLP projects, particularly for sequence labeling tasks and especially when handling a multi-class problem with multiple entity types.\n",
    "\n",
    "This structure has a couple of benefits for the NLP/NER model training and evaluation:\n",
    "\n",
    "**Compact representation**: By interleaving the \"beginning\" and \"inside\" labels, the targets array effectively stores information about the named entities in a compact manner. This allows the model to have a single array to reference when it needs information about the labels, simplifying the process of accessing and updating the target labels during training and evaluation.\n",
    "\n",
    "**Easier indexing:** The even and odd positioning makes it easy to index and retrieve the \"beginning\" and \"inside\" labels for a specific argument component. You can directly access the \"beginning\" label for the k-th component using the index 2 * k and the \"inside\" label using the index 2 * k + 1. This clear, mathematical relationship between the component index and the target label position simplifies the process of working with the target labels during model training and evaluation.\n",
    "\n",
    "**Flexibility:** The interleaved structure allows for the possibility of extending the model to support additional types of labels or components in the future. You can add new components by simply extending the depth of the targets array and updating the indices accordingly.\n",
    "\n",
    "So my final 'target' variable will be of the following form\n",
    "\n",
    "```\n",
    "targets = [\n",
    "    [\n",
    "        [1, 0, 0, 0, 0, 0, 0, 0, 0, 0, 0, 0, 0, 0, 0],  # Token 0: B_Lead\n",
    "        [0, 1, 0, 0, 0, 0, 0, 0, 0, 0, 0, 0, 0, 0, 0],  # Token 1: I_Lead\n",
    "        [0, 0, 1, 0, 0, 0, 0, 0, 0, 0, 0, 0, 0, 0, 0],  # Token 2: B_Position\n",
    "        [0, 0, 0, 1, 0, 0, 0, 0, 0, 0, 0, 0, 0, 0, 0],  # Token 3: I_Position\n",
    "        [0, 0, 0, 0, 0, 0, 0, 0, 0, 0, 0, 0, 0, 0, 0]   # Token 4: No labels\n",
    "    ],\n",
    "    [\n",
    "        [0, 0, 0, 0, 0, 0, 0, 0, 0, 0, 0, 0, 0, 0, 0],  # Token 0: No labels\n",
    "        [0, 0, 0, 0, 0, 0, 0, 0, 1, 0, 0, 0, 0, 0, 0],  # Token 1: B_Evidence\n",
    "        [0, 0, 0, 0, 0, 0, 0, 0, 0, 1, 0, 0, 0, 0, 0],  # Token 2: I_Evidence\n",
    "        [0, 0, 0, 0, 0, 0, 0, 0, 0, 0, 0, 0, 0, 0, 0],  # Token 3: No labels\n",
    "        [0, 0, 0, 0, 0, 0, 0, 0, 0, 0, 0, 0, 1, 0, 0]   # Token 4: B_Conclusion\n",
    "    ]\n",
    "]\n",
    "```\n",
    "\n",
    "The 15 columns in each innermost array represent the interleaved \"beginning\" and \"inside\" labels for the 7 classes or entity-types, as well as an additional column for tokens with no labels (if applicable)."
   ]
  },
  {
   "attachments": {},
   "cell_type": "markdown",
   "metadata": {},
   "source": [
    "### Why this line is needed - `targets[:,:,14] = 1-np.max(targets,axis=-1)`\n",
    "\n",
    "The line sets the values of the last column of the targets array to 1 minus the maximum value along the third axis (i.e., the axis representing the 15 entity types). This is done to ensure that there is a \"non-entity\" label in the target labels.\n",
    "\n",
    "In NER tasks, the objective is to predict named entities in the input text, and the labels for each token in the text indicate whether it is the beginning or continuation of an entity, or not part of any entity at all. \n",
    "\n",
    "In this case, there are 7 entity types, and each entity has a beginning label and a continuation label. That means there are 14 columns of target labels representing the 7 entity types.\n",
    "\n",
    "The 15th i.e. the last column in targets (i.e., column 14) represents the \"non-entity\" label. **The values in this column should be 1 if the token is not part of any entity, and 0 otherwise.** \n",
    "\n",
    "The expression `1-np.max(targets,axis=-1)` computes the maximum value of the target labels along the third axis, and subtracts it from 1. \n",
    "\n",
    "### This means that the value in the \"non-entity\" column will be 1 if there are no entity labels (i.e., the maximum value is 0), and 0 otherwise.\n",
    "\n",
    "So overall, by setting the values in the last column of targets to `1 minus the maximum value of the target labels`, the code ensures that there is a \"non-entity\" label in the targets, and that the model can learn to distinguish between named entities and non-entities in the input text."
   ]
  },
  {
   "cell_type": "code",
   "execution_count": 21,
   "metadata": {
    "execution": {
     "iopub.execute_input": "2023-03-05T19:18:44.789079Z",
     "iopub.status.busy": "2023-03-05T19:18:44.788445Z",
     "iopub.status.idle": "2023-03-05T19:18:45.619557Z",
     "shell.execute_reply": "2023-03-05T19:18:45.618741Z",
     "shell.execute_reply.started": "2023-03-05T19:18:44.789045Z"
    },
    "pycharm": {
     "name": "#%%\n"
    },
    "trusted": true
   },
   "outputs": [
    {
     "name": "stdout",
     "output_type": "stream",
     "text": [
      "Saved NER tokens\n"
     ]
    }
   ],
   "source": [
    "np.save(f'targets_{MAX_LEN}', targets)\n",
    "np.save(f'tokens_{MAX_LEN}', train_tokens)\n",
    "np.save(f'attention_{MAX_LEN}', train_attention)\n",
    "print('Saved NER tokens')\n"
   ]
  },
  {
   "cell_type": "markdown",
   "metadata": {
    "pycharm": {
     "name": "#%% md\n"
    }
   },
   "source": [
    "# Build Model\n",
    "We will use LongFormer backbone and add our own NER head using one hidden layer of size 256 and one final layer with softmax. We use 15 classes because we have a `B` class and `I` class for each of 7 labels. And we have an additional class (called `O` class) for tokens that do not belong to one of the 14 classes."
   ]
  },
  {
   "cell_type": "code",
   "execution_count": 22,
   "metadata": {
    "execution": {
     "iopub.execute_input": "2023-03-05T19:18:45.645732Z",
     "iopub.status.busy": "2023-03-05T19:18:45.645074Z",
     "iopub.status.idle": "2023-03-05T19:19:05.961834Z",
     "shell.execute_reply": "2023-03-05T19:19:05.961105Z",
     "shell.execute_reply.started": "2023-03-05T19:18:45.645689Z"
    },
    "pycharm": {
     "name": "#%%\n"
    },
    "trusted": true
   },
   "outputs": [
    {
     "name": "stderr",
     "output_type": "stream",
     "text": [
      "loading configuration file config.json from cache at C:\\Users\\PC60/.cache\\huggingface\\hub\\models--allenai--longformer-base-4096\\snapshots\\7a2d50a05513897192e79ea7c750493795d7cec0\\config.json\n",
      "Model config LongformerConfig {\n",
      "  \"_name_or_path\": \"allenai/longformer-base-4096\",\n",
      "  \"attention_mode\": \"longformer\",\n",
      "  \"attention_probs_dropout_prob\": 0.1,\n",
      "  \"attention_window\": [\n",
      "    512,\n",
      "    512,\n",
      "    512,\n",
      "    512,\n",
      "    512,\n",
      "    512,\n",
      "    512,\n",
      "    512,\n",
      "    512,\n",
      "    512,\n",
      "    512,\n",
      "    512\n",
      "  ],\n",
      "  \"bos_token_id\": 0,\n",
      "  \"classifier_dropout\": null,\n",
      "  \"eos_token_id\": 2,\n",
      "  \"gradient_checkpointing\": false,\n",
      "  \"hidden_act\": \"gelu\",\n",
      "  \"hidden_dropout_prob\": 0.1,\n",
      "  \"hidden_size\": 768,\n",
      "  \"ignore_attention_mask\": false,\n",
      "  \"initializer_range\": 0.02,\n",
      "  \"intermediate_size\": 3072,\n",
      "  \"layer_norm_eps\": 1e-05,\n",
      "  \"max_position_embeddings\": 4098,\n",
      "  \"model_type\": \"longformer\",\n",
      "  \"num_attention_heads\": 12,\n",
      "  \"num_hidden_layers\": 12,\n",
      "  \"onnx_export\": false,\n",
      "  \"pad_token_id\": 1,\n",
      "  \"position_embedding_type\": \"absolute\",\n",
      "  \"sep_token_id\": 2,\n",
      "  \"transformers_version\": \"4.26.1\",\n",
      "  \"type_vocab_size\": 1,\n",
      "  \"vocab_size\": 50265\n",
      "}\n",
      "\n",
      "loading weights file tf_model.h5 from cache at C:\\Users\\PC60/.cache\\huggingface\\hub\\models--allenai--longformer-base-4096\\snapshots\\7a2d50a05513897192e79ea7c750493795d7cec0\\tf_model.h5\n",
      "Input ids are automatically padded from 5 to 512 to be a multiple of `config.attention_window`: 512\n",
      "Input ids are automatically padded from 5 to 512 to be a multiple of `config.attention_window`: 512\n",
      "Some layers from the model checkpoint at allenai/longformer-base-4096 were not used when initializing TFLongformerModel: ['lm_head']\n",
      "- This IS expected if you are initializing TFLongformerModel from the checkpoint of a model trained on another task or with another architecture (e.g. initializing a BertForSequenceClassification model from a BertForPreTraining model).\n",
      "- This IS NOT expected if you are initializing TFLongformerModel from the checkpoint of a model that you expect to be exactly identical (initializing a BertForSequenceClassification model from a BertForSequenceClassification model).\n",
      "All the layers of TFLongformerModel were initialized from the model checkpoint at allenai/longformer-base-4096.\n",
      "If your task is similar to the task the model of the checkpoint was trained on, you can already use TFLongformerModel for predictions without further training.\n"
     ]
    }
   ],
   "source": [
    "with strategy.scope():\n",
    "    model = build_model(MODEL_NAME, MAX_LEN)"
   ]
  },
  {
   "attachments": {},
   "cell_type": "markdown",
   "metadata": {
    "pycharm": {
     "name": "#%% md\n"
    }
   },
   "source": [
    "# Train or Load Model"
   ]
  },
  {
   "cell_type": "code",
   "execution_count": 23,
   "metadata": {
    "execution": {
     "iopub.execute_input": "2023-03-05T19:19:05.963679Z",
     "iopub.status.busy": "2023-03-05T19:19:05.963210Z",
     "iopub.status.idle": "2023-03-05T19:19:05.969155Z",
     "shell.execute_reply": "2023-03-05T19:19:05.968274Z",
     "shell.execute_reply.started": "2023-03-05T19:19:05.963629Z"
    },
    "pycharm": {
     "name": "#%%\n"
    },
    "trusted": true
   },
   "outputs": [],
   "source": [
    "EPOCHS = 4\n",
    "BATCH_SIZE = 2\n",
    "\n",
    "# Below learning rates, I am setting only for running the entire NB fast\n",
    "# For better result, you should experiement with even lower learning rates\n",
    "LRS = [.0001, .0002]\n",
    "\n",
    "def learning_func(epoch):\n",
    "    return LRS[epoch]\n",
    "\n",
    "lr_callback = tf.keras.callbacks.LearningRateScheduler(learning_func, verbose = True)"
   ]
  },
  {
   "cell_type": "code",
   "execution_count": 24,
   "metadata": {
    "execution": {
     "iopub.execute_input": "2023-03-05T19:19:05.970759Z",
     "iopub.status.busy": "2023-03-05T19:19:05.970473Z",
     "iopub.status.idle": "2023-03-05T19:19:05.993525Z",
     "shell.execute_reply": "2023-03-05T19:19:05.992814Z",
     "shell.execute_reply.started": "2023-03-05T19:19:05.970725Z"
    },
    "pycharm": {
     "name": "#%%\n"
    },
    "trusted": true
   },
   "outputs": [
    {
     "name": "stdout",
     "output_type": "stream",
     "text": [
      "Train size 122 , Valid size 14\n"
     ]
    }
   ],
   "source": [
    "# Split the data with train (90%) and valid(10%)\n",
    "np.random.seed(42)\n",
    "train_idx = np.random.choice(np.arange(len(unique_doc_ids)),int(0.9*len(unique_doc_ids)),replace=False)\n",
    "\n",
    "valid_idx = np.setdiff1d(np.arange(len(unique_doc_ids)),train_idx)\n",
    "# np.setdiff1d() returns an array of indices that are not present in the train_idx array. \n",
    "\n",
    "np.random.seed(None)\n",
    "\n",
    "print('Train size',len(train_idx),', Valid size',len(valid_idx))"
   ]
  },
  {
   "attachments": {},
   "cell_type": "markdown",
   "metadata": {
    "pycharm": {
     "name": "#%% md\n"
    }
   },
   "source": [
    "## Train Model"
   ]
  },
  {
   "cell_type": "code",
   "execution_count": 25,
   "metadata": {},
   "outputs": [
    {
     "name": "stdout",
     "output_type": "stream",
     "text": [
      "\n",
      "Epoch 1: LearningRateScheduler setting learning rate to 0.01.\n",
      "WARNING:tensorflow:Gradients do not exist for variables ['tf_longformer_model_1/longformer/pooler/dense/kernel:0', 'tf_longformer_model_1/longformer/pooler/dense/bias:0'] when minimizing the loss. If you're using `model.compile()`, did you forget to provide a `loss` argument?\n",
      "WARNING:tensorflow:Gradients do not exist for variables ['tf_longformer_model_1/longformer/pooler/dense/kernel:0', 'tf_longformer_model_1/longformer/pooler/dense/bias:0'] when minimizing the loss. If you're using `model.compile()`, did you forget to provide a `loss` argument?\n",
      "61/61 - 70s - loss: nan - categorical_accuracy: 0.0083 - val_loss: nan - val_categorical_accuracy: 8.3705e-04 - lr: 0.0100 - 70s/epoch - 1s/step\n"
     ]
    }
   ],
   "source": [
    "model.fit(x=[train_tokens[train_idx,], train_attention[train_idx,]],\n",
    "              y=targets[train_idx,],\n",
    "              validation_data=([train_tokens[valid_idx,], train_attention[valid_idx,]],\n",
    "                               targets[valid_idx,]),\n",
    "              callbacks=[lr_callback],\n",
    "              epochs=EPOCHS,\n",
    "              batch_size=BATCH_SIZE,\n",
    "              verbose=2,\n",
    "              )\n",
    "model.save_weights(f'longf_train_model')\n"
   ]
  },
  {
   "cell_type": "markdown",
   "metadata": {
    "pycharm": {
     "name": "#%% md\n"
    }
   },
   "source": [
    "# Validate Model - Infer OOF\n",
    "We will now make predictions on the validation texts. Our model makes label predictions for each token, we need to convert this into a list of word indices for each label. Note that the tokens and words are not the same. A single word may be broken into multiple tokens. Therefore we need to first create a map to change token indices to word indices."
   ]
  },
  {
   "cell_type": "code",
   "execution_count": 26,
   "metadata": {
    "pycharm": {
     "name": "#%%\n"
    },
    "trusted": true
   },
   "outputs": [
    {
     "name": "stdout",
     "output_type": "stream",
     "text": [
      "1/1 - 13s - 13s/epoch - 13s/step\n",
      "OOF predictions shape: (14, 1024, 15)\n"
     ]
    }
   ],
   "source": [
    "p = model.predict([train_tokens[valid_idx,], train_attention[valid_idx,]], \n",
    "                  batch_size=16, verbose=2)\n",
    "\n",
    "print('OOF predictions shape:',p.shape)\n",
    "\n",
    "oof_preds = np.argmax(p,axis=-1)"
   ]
  },
  {
   "cell_type": "code",
   "execution_count": 37,
   "metadata": {},
   "outputs": [
    {
     "data": {
      "text/plain": [
       "(14, 1024)"
      ]
     },
     "execution_count": 37,
     "metadata": {},
     "output_type": "execute_result"
    }
   ],
   "source": [
    "oof_preds.shape"
   ]
  },
  {
   "attachments": {},
   "cell_type": "markdown",
   "metadata": {},
   "source": [
    "## Explanation for `oof_preds = np.argmax(p,axis=-1)`\n",
    "\n",
    "In the given code snippet for an NER (Named Entity Recognition) / NLP (Natural Language Processing) project, the line `oof_preds = np.argmax(p, axis=-1)` is used for extracting the most likely predicted class for each token in the input sequence.\n",
    "\n",
    "Let's break down the line and explain each part:\n",
    "\n",
    "1. `np.argmax()`: will find the index (position) of the maximum value along a specified axis in an array (in this case, the prediction array `p`). The maximum value corresponds to the highest probability of a token belonging to a certain class (e.g., entity type like person, location, organization, etc.).\n",
    "\n",
    "2. `p`: The prediction array, which has the shape `(number_of_samples, sequence_length, number_of_classes)`. (Refer to the print statement above for `p.shape`)\n",
    "\n",
    "Each element `p[i, j, k]` represents the probability that the token at position `j` in the input sequence `i` belongs to class `k`.\n",
    "\n",
    "3. `axis=-1`:By setting `axis=-1`, we're looking for the maximum value along the last axis, which corresponds to the class probabilities. This means we're finding the class with the highest probability for each token in every input sequence.\n",
    "\n",
    "So, `oof_preds = np.argmax(p, axis=-1)` results in an array with the shape `(number_of_samples, sequence_length)`, where each element `oof_preds[i, j]` is the index (class label) of the most likely class for the token at position `j` in the input sequence `i`.\n",
    "\n",
    "`oof_preds` will be used in the project to evaluate the model's performance by comparing its predictions with the ground truth labels."
   ]
  },
  {
   "cell_type": "code",
   "execution_count": 27,
   "metadata": {
    "pycharm": {
     "name": "#%%\n"
    },
    "trusted": true
   },
   "outputs": [],
   "source": [
    "target_id_map_updated = {0: 'Lead', 1: 'Position', 2: 'Evidence', 3: 'Claim',\n",
    "                         4: 'Concluding Statement', 5: 'Counterclaim', 6: 'Rebuttal', 7: 'blank'}"
   ]
  },
  {
   "cell_type": "code",
   "execution_count": 28,
   "metadata": {
    "pycharm": {
     "name": "#%%\n"
    },
    "trusted": true
   },
   "outputs": [
    {
     "name": "stdout",
     "output_type": "stream",
     "text": [
      "0 , all_predictions  [('019328A0D7A3', 'Lead', '0'), ('019328A0D7A3', 'Lead', '1'), ('019328A0D7A3', 'Lead', '2'), ('019328A0D7A3', 'Lead', '2'), ('019328A0D7A3', 'Lead', '2'), ('019328A0D7A3', 'Lead', '2'), ('019328A0D7A3', 'Lead', '3'), ('019328A0D7A3', 'Lead', '4'), ('019328A0D7A3', 'Lead', '4'), ('019328A0D7A3', 'Lead', '5'), ('019328A0D7A3', 'Lead', '6'), ('019328A0D7A3', 'Lead', '7'), ('019328A0D7A3', 'Lead', '8'), ('019328A0D7A3', 'Lead', '9'), ('019328A0D7A3', 'Lead', '10'), ('019328A0D7A3', 'Lead', '11'), ('019328A0D7A3', 'Lead', '12'), ('019328A0D7A3', 'Lead', '13'), ('019328A0D7A3', 'Lead', '14'), ('019328A0D7A3', 'Lead', '15'), ('019328A0D7A3', 'Lead', '16'), ('019328A0D7A3', 'Lead', '17'), ('019328A0D7A3', 'Lead', '18'), ('019328A0D7A3', 'Lead', '19'), ('019328A0D7A3', 'Lead', '20'), ('019328A0D7A3', 'Lead', '21'), ('019328A0D7A3', 'Lead', '22'), ('019328A0D7A3', 'Lead', '22'), ('019328A0D7A3', 'Lead', '23'), ('019328A0D7A3', 'Lead', '24'), ('019328A0D7A3', 'Lead', '25'), ('019328A0D7A3', 'Lead', '26'), ('019328A0D7A3', 'Lead', '27'), ('019328A0D7A3', 'Lead', '28'), ('019328A0D7A3', 'Lead', '29'), ('019328A0D7A3', 'Lead', '29'), ('019328A0D7A3', 'Lead', '30'), ('019328A0D7A3', 'Lead', '31'), ('019328A0D7A3', 'Lead', '32'), ('019328A0D7A3', 'Lead', '33'), ('019328A0D7A3', 'Lead', '34'), ('019328A0D7A3', 'Lead', '35'), ('019328A0D7A3', 'Lead', '36'), ('019328A0D7A3', 'Lead', '37'), ('019328A0D7A3', 'Lead', '38'), ('019328A0D7A3', 'Lead', '39'), ('019328A0D7A3', 'Lead', '39'), ('019328A0D7A3', 'Lead', '39'), ('019328A0D7A3', 'Lead', '40'), ('019328A0D7A3', 'Lead', '40'), ('019328A0D7A3', 'Lead', '41'), ('019328A0D7A3', 'Lead', '41'), ('019328A0D7A3', 'Lead', '41'), ('019328A0D7A3', 'Lead', '41'), ('019328A0D7A3', 'Lead', '41'), ('019328A0D7A3', 'Lead', '41'), ('019328A0D7A3', 'Lead', '42'), ('019328A0D7A3', 'Lead', '42'), ('019328A0D7A3', 'Lead', '43'), ('019328A0D7A3', 'Lead', '44'), ('019328A0D7A3', 'Lead', '45'), ('019328A0D7A3', 'Lead', '46'), ('019328A0D7A3', 'Lead', '47'), ('019328A0D7A3', 'Lead', '48'), ('019328A0D7A3', 'Lead', '49'), ('019328A0D7A3', 'Lead', '50'), ('019328A0D7A3', 'Lead', '51'), ('019328A0D7A3', 'Lead', '52'), ('019328A0D7A3', 'Lead', '53'), ('019328A0D7A3', 'Lead', '54'), ('019328A0D7A3', 'Lead', '54'), ('019328A0D7A3', 'Lead', '55'), ('019328A0D7A3', 'Lead', '56'), ('019328A0D7A3', 'Lead', '57'), ('019328A0D7A3', 'Lead', '57'), ('019328A0D7A3', 'Lead', '58'), ('019328A0D7A3', 'Lead', '59'), ('019328A0D7A3', 'Lead', '60'), ('019328A0D7A3', 'Lead', '61'), ('019328A0D7A3', 'Lead', '62'), ('019328A0D7A3', 'Lead', '63'), ('019328A0D7A3', 'Lead', '63'), ('019328A0D7A3', 'Lead', '63'), ('019328A0D7A3', 'Lead', '63'), ('019328A0D7A3', 'Lead', '63'), ('019328A0D7A3', 'Lead', '64'), ('019328A0D7A3', 'Lead', '65'), ('019328A0D7A3', 'Lead', '66'), ('019328A0D7A3', 'Lead', '67'), ('019328A0D7A3', 'Lead', '68'), ('019328A0D7A3', 'Lead', '69'), ('019328A0D7A3', 'Lead', '70'), ('019328A0D7A3', 'Lead', '71'), ('019328A0D7A3', 'Lead', '72'), ('019328A0D7A3', 'Lead', '73'), ('019328A0D7A3', 'Lead', '74'), ('019328A0D7A3', 'Lead', '75'), ('019328A0D7A3', 'Lead', '76'), ('019328A0D7A3', 'Lead', '77'), ('019328A0D7A3', 'Lead', '78'), ('019328A0D7A3', 'Lead', '79'), ('019328A0D7A3', 'Lead', '80'), ('019328A0D7A3', 'Lead', '80'), ('019328A0D7A3', 'Lead', '81'), ('019328A0D7A3', 'Lead', '82'), ('019328A0D7A3', 'Lead', '83'), ('019328A0D7A3', 'Lead', '84'), ('019328A0D7A3', 'Lead', '85'), ('019328A0D7A3', 'Lead', '86'), ('019328A0D7A3', 'Lead', '87'), ('019328A0D7A3', 'Lead', '88'), ('019328A0D7A3', 'Lead', '89'), ('019328A0D7A3', 'Lead', '90'), ('019328A0D7A3', 'Lead', '91'), ('019328A0D7A3', 'Lead', '92'), ('019328A0D7A3', 'Lead', '93'), ('019328A0D7A3', 'Lead', '94'), ('019328A0D7A3', 'Lead', '95'), ('019328A0D7A3', 'Lead', '96'), ('019328A0D7A3', 'Lead', '97'), ('019328A0D7A3', 'Lead', '98'), ('019328A0D7A3', 'Lead', '99'), ('019328A0D7A3', 'Lead', '100'), ('019328A0D7A3', 'Lead', '100'), ('019328A0D7A3', 'Lead', '101'), ('019328A0D7A3', 'Lead', '101'), ('019328A0D7A3', 'Lead', '102'), ('019328A0D7A3', 'Lead', '102'), ('019328A0D7A3', 'Lead', '102'), ('019328A0D7A3', 'Lead', '103'), ('019328A0D7A3', 'Lead', '104'), ('019328A0D7A3', 'Lead', '105'), ('019328A0D7A3', 'Lead', '106'), ('019328A0D7A3', 'Lead', '107'), ('019328A0D7A3', 'Lead', '108'), ('019328A0D7A3', 'Lead', '109'), ('019328A0D7A3', 'Lead', '109'), ('019328A0D7A3', 'Lead', '110'), ('019328A0D7A3', 'Lead', '111'), ('019328A0D7A3', 'Lead', '112'), ('019328A0D7A3', 'Lead', '112'), ('019328A0D7A3', 'Lead', '113'), ('019328A0D7A3', 'Lead', '114'), ('019328A0D7A3', 'Lead', '115'), ('019328A0D7A3', 'Lead', '116'), ('019328A0D7A3', 'Lead', '117'), ('019328A0D7A3', 'Lead', '118'), ('019328A0D7A3', 'Lead', '119'), ('019328A0D7A3', 'Lead', '120'), ('019328A0D7A3', 'Lead', '121'), ('019328A0D7A3', 'Lead', '122'), ('019328A0D7A3', 'Lead', '123'), ('019328A0D7A3', 'Lead', '124'), ('019328A0D7A3', 'Lead', '125'), ('019328A0D7A3', 'Lead', '126'), ('019328A0D7A3', 'Lead', '126'), ('019328A0D7A3', 'Lead', '127'), ('019328A0D7A3', 'Lead', '128'), ('019328A0D7A3', 'Lead', '129'), ('019328A0D7A3', 'Lead', '130'), ('019328A0D7A3', 'Lead', '131'), ('019328A0D7A3', 'Lead', '132'), ('019328A0D7A3', 'Lead', '133'), ('019328A0D7A3', 'Lead', '134'), ('019328A0D7A3', 'Lead', '135'), ('019328A0D7A3', 'Lead', '136'), ('019328A0D7A3', 'Lead', '137'), ('019328A0D7A3', 'Lead', '138'), ('019328A0D7A3', 'Lead', '139'), ('019328A0D7A3', 'Lead', '140'), ('019328A0D7A3', 'Lead', '141'), ('019328A0D7A3', 'Lead', '142'), ('019328A0D7A3', 'Lead', '143'), ('019328A0D7A3', 'Lead', '143'), ('019328A0D7A3', 'Lead', '144'), ('019328A0D7A3', 'Lead', '145'), ('019328A0D7A3', 'Lead', '146'), ('019328A0D7A3', 'Lead', '147'), ('019328A0D7A3', 'Lead', '147'), ('019328A0D7A3', 'Lead', '148'), ('019328A0D7A3', 'Lead', '149'), ('019328A0D7A3', 'Lead', '150'), ('019328A0D7A3', 'Lead', '151'), ('019328A0D7A3', 'Lead', '151'), ('019328A0D7A3', 'Lead', '152'), ('019328A0D7A3', 'Lead', '153'), ('019328A0D7A3', 'Lead', '154'), ('019328A0D7A3', 'Lead', '154'), ('019328A0D7A3', 'Lead', '154'), ('019328A0D7A3', 'Lead', '155'), ('019328A0D7A3', 'Lead', '156'), ('019328A0D7A3', 'Lead', '157'), ('019328A0D7A3', 'Lead', '158'), ('019328A0D7A3', 'Lead', '159'), ('019328A0D7A3', 'Lead', '160'), ('019328A0D7A3', 'Lead', '161'), ('019328A0D7A3', 'Lead', '162'), ('019328A0D7A3', 'Lead', '163'), ('019328A0D7A3', 'Lead', '163'), ('019328A0D7A3', 'Lead', '164'), ('019328A0D7A3', 'Lead', '165'), ('019328A0D7A3', 'Lead', '166'), ('019328A0D7A3', 'Lead', '167'), ('019328A0D7A3', 'Lead', '168'), ('019328A0D7A3', 'Lead', '169'), ('019328A0D7A3', 'Lead', '169'), ('019328A0D7A3', 'Lead', '169'), ('019328A0D7A3', 'Lead', '169'), ('019328A0D7A3', 'Lead', '169'), ('019328A0D7A3', 'Lead', '169'), ('019328A0D7A3', 'Lead', '169'), ('019328A0D7A3', 'Lead', '169'), ('019328A0D7A3', 'Lead', '170'), ('019328A0D7A3', 'Lead', '170'), ('019328A0D7A3', 'Lead', '171'), ('019328A0D7A3', 'Lead', '172'), ('019328A0D7A3', 'Lead', '172'), ('019328A0D7A3', 'Lead', '173'), ('019328A0D7A3', 'Lead', '174'), ('019328A0D7A3', 'Lead', '175'), ('019328A0D7A3', 'Lead', '176'), ('019328A0D7A3', 'Lead', '177'), ('019328A0D7A3', 'Lead', '178'), ('019328A0D7A3', 'Lead', '179'), ('019328A0D7A3', 'Lead', '180'), ('019328A0D7A3', 'Lead', '181'), ('019328A0D7A3', 'Lead', '182'), ('019328A0D7A3', 'Lead', '183'), ('019328A0D7A3', 'Lead', '184'), ('019328A0D7A3', 'Lead', '185'), ('019328A0D7A3', 'Lead', '186'), ('019328A0D7A3', 'Lead', '187'), ('019328A0D7A3', 'Lead', '188'), ('019328A0D7A3', 'Lead', '189'), ('019328A0D7A3', 'Lead', '190'), ('019328A0D7A3', 'Lead', '191'), ('019328A0D7A3', 'Lead', '192'), ('019328A0D7A3', 'Lead', '193'), ('019328A0D7A3', 'Lead', '194'), ('019328A0D7A3', 'Lead', '195'), ('019328A0D7A3', 'Lead', '196'), ('019328A0D7A3', 'Lead', '196'), ('019328A0D7A3', 'Lead', '197'), ('019328A0D7A3', 'Lead', '198'), ('019328A0D7A3', 'Lead', '199'), ('019328A0D7A3', 'Lead', '200'), ('019328A0D7A3', 'Lead', '201'), ('019328A0D7A3', 'Lead', '202'), ('019328A0D7A3', 'Lead', '203'), ('019328A0D7A3', 'Lead', '204'), ('019328A0D7A3', 'Lead', '205'), ('019328A0D7A3', 'Lead', '206'), ('019328A0D7A3', 'Lead', '207'), ('019328A0D7A3', 'Lead', '208'), ('019328A0D7A3', 'Lead', '209'), ('019328A0D7A3', 'Lead', '210'), ('019328A0D7A3', 'Lead', '211'), ('019328A0D7A3', 'Lead', '212'), ('019328A0D7A3', 'Lead', '213'), ('019328A0D7A3', 'Lead', '214'), ('019328A0D7A3', 'Lead', '215'), ('019328A0D7A3', 'Lead', '216'), ('019328A0D7A3', 'Lead', '217'), ('019328A0D7A3', 'Lead', '218'), ('019328A0D7A3', 'Lead', '219'), ('019328A0D7A3', 'Lead', '220'), ('019328A0D7A3', 'Lead', '221'), ('019328A0D7A3', 'Lead', '222'), ('019328A0D7A3', 'Lead', '223'), ('019328A0D7A3', 'Lead', '224'), ('019328A0D7A3', 'Lead', '225'), ('019328A0D7A3', 'Lead', '226'), ('019328A0D7A3', 'Lead', '226'), ('019328A0D7A3', 'Lead', '226'), ('019328A0D7A3', 'Lead', '226'), ('019328A0D7A3', 'Lead', '226'), ('019328A0D7A3', 'Lead', '227'), ('019328A0D7A3', 'Lead', '228'), ('019328A0D7A3', 'Lead', '229'), ('019328A0D7A3', 'Lead', '230'), ('019328A0D7A3', 'Lead', '231'), ('019328A0D7A3', 'Lead', '232'), ('019328A0D7A3', 'Lead', '233'), ('019328A0D7A3', 'Lead', '234'), ('019328A0D7A3', 'Lead', '235'), ('019328A0D7A3', 'Lead', '236'), ('019328A0D7A3', 'Lead', '236'), ('019328A0D7A3', 'Lead', '236'), ('019328A0D7A3', 'Lead', '237'), ('019328A0D7A3', 'Lead', '238'), ('019328A0D7A3', 'Lead', '239'), ('019328A0D7A3', 'Lead', '240'), ('019328A0D7A3', 'Lead', '241'), ('019328A0D7A3', 'Lead', '242'), ('019328A0D7A3', 'Lead', '243'), ('019328A0D7A3', 'Lead', '244'), ('019328A0D7A3', 'Lead', '244'), ('019328A0D7A3', 'Lead', '245'), ('019328A0D7A3', 'Lead', '246'), ('019328A0D7A3', 'Lead', '246'), ('019328A0D7A3', 'Lead', '247'), ('019328A0D7A3', 'Lead', '248'), ('019328A0D7A3', 'Lead', '249'), ('019328A0D7A3', 'Lead', '250'), ('019328A0D7A3', 'Lead', '251'), ('019328A0D7A3', 'Lead', '252'), ('019328A0D7A3', 'Lead', '252'), ('019328A0D7A3', 'Lead', '252'), ('019328A0D7A3', 'Lead', '253'), ('019328A0D7A3', 'Lead', '253'), ('019328A0D7A3', 'Lead', '254'), ('019328A0D7A3', 'Lead', '255'), ('019328A0D7A3', 'Lead', '256'), ('019328A0D7A3', 'Lead', '257'), ('019328A0D7A3', 'Lead', '258'), ('019328A0D7A3', 'Lead', '259'), ('019328A0D7A3', 'Lead', '260'), ('019328A0D7A3', 'Lead', '261'), ('019328A0D7A3', 'Lead', '262'), ('019328A0D7A3', 'Lead', '262'), ('019328A0D7A3', 'Lead', '263'), ('019328A0D7A3', 'Lead', '263'), ('019328A0D7A3', 'Lead', '264'), ('019328A0D7A3', 'Lead', '264'), ('019328A0D7A3', 'Lead', '265'), ('019328A0D7A3', 'Lead', '266'), ('019328A0D7A3', 'Lead', '267'), ('019328A0D7A3', 'Lead', '268'), ('019328A0D7A3', 'Lead', '269'), ('019328A0D7A3', 'Lead', '270'), ('019328A0D7A3', 'Lead', '271'), ('019328A0D7A3', 'Lead', '272'), ('019328A0D7A3', 'Lead', '273'), ('019328A0D7A3', 'Lead', '274'), ('019328A0D7A3', 'Lead', '275'), ('019328A0D7A3', 'Lead', '276'), ('019328A0D7A3', 'Lead', '277'), ('019328A0D7A3', 'Lead', '278'), ('019328A0D7A3', 'Lead', '279'), ('019328A0D7A3', 'Lead', '280'), ('019328A0D7A3', 'Lead', '281'), ('019328A0D7A3', 'Lead', '282'), ('019328A0D7A3', 'Lead', '283'), ('019328A0D7A3', 'Lead', '284'), ('019328A0D7A3', 'Lead', '285'), ('019328A0D7A3', 'Lead', '285'), ('019328A0D7A3', 'Lead', '285'), ('019328A0D7A3', 'Lead', '286'), ('019328A0D7A3', 'Lead', '287'), ('019328A0D7A3', 'Lead', '288'), ('019328A0D7A3', 'Lead', '289'), ('019328A0D7A3', 'Lead', '290'), ('019328A0D7A3', 'Lead', '291'), ('019328A0D7A3', 'Lead', '292'), ('019328A0D7A3', 'Lead', '293'), ('019328A0D7A3', 'Lead', '294'), ('019328A0D7A3', 'Lead', '295'), ('019328A0D7A3', 'Lead', '296'), ('019328A0D7A3', 'Lead', '297'), ('019328A0D7A3', 'Lead', '298'), ('019328A0D7A3', 'Lead', '299'), ('019328A0D7A3', 'Lead', '300'), ('019328A0D7A3', 'Lead', '301'), ('019328A0D7A3', 'Lead', '302'), ('019328A0D7A3', 'Lead', '303'), ('019328A0D7A3', 'Lead', '304'), ('019328A0D7A3', 'Lead', '305'), ('019328A0D7A3', 'Lead', '305'), ('019328A0D7A3', 'Lead', '306'), ('019328A0D7A3', 'Lead', '307'), ('019328A0D7A3', 'Lead', '308'), ('019328A0D7A3', 'Lead', '309'), ('019328A0D7A3', 'Lead', '310'), ('019328A0D7A3', 'Lead', '310'), ('019328A0D7A3', 'Lead', '311'), ('019328A0D7A3', 'Lead', '311'), ('019328A0D7A3', 'Lead', '312'), ('019328A0D7A3', 'Lead', '313'), ('019328A0D7A3', 'Lead', '313'), ('019328A0D7A3', 'Lead', '314'), ('019328A0D7A3', 'Lead', '315'), ('019328A0D7A3', 'Lead', '316'), ('019328A0D7A3', 'Lead', '317'), ('019328A0D7A3', 'Lead', '318'), ('019328A0D7A3', 'Lead', '319'), ('019328A0D7A3', 'Lead', '320'), ('019328A0D7A3', 'Lead', '321'), ('019328A0D7A3', 'Lead', '322'), ('019328A0D7A3', 'Lead', '323'), ('019328A0D7A3', 'Lead', '324'), ('019328A0D7A3', 'Lead', '325'), ('019328A0D7A3', 'Lead', '326'), ('019328A0D7A3', 'Lead', '327'), ('019328A0D7A3', 'Lead', '328'), ('019328A0D7A3', 'Lead', '329'), ('019328A0D7A3', 'Lead', '329'), ('019328A0D7A3', 'Lead', '330'), ('019328A0D7A3', 'Lead', '331'), ('019328A0D7A3', 'Lead', '331'), ('019328A0D7A3', 'Lead', '332'), ('019328A0D7A3', 'Lead', '333'), ('019328A0D7A3', 'Lead', '334'), ('019328A0D7A3', 'Lead', '334'), ('019328A0D7A3', 'Lead', '335'), ('019328A0D7A3', 'Lead', '336'), ('019328A0D7A3', 'Lead', '337'), ('019328A0D7A3', 'Lead', '338'), ('019328A0D7A3', 'Lead', '339'), ('019328A0D7A3', 'Lead', '339'), ('019328A0D7A3', 'Lead', '340'), ('019328A0D7A3', 'Lead', '341'), ('019328A0D7A3', 'Lead', '342'), ('019328A0D7A3', 'Lead', '343'), ('019328A0D7A3', 'Lead', '344'), ('019328A0D7A3', 'Lead', '345'), ('019328A0D7A3', 'Lead', '346'), ('019328A0D7A3', 'Lead', '347'), ('019328A0D7A3', 'Lead', '348'), ('019328A0D7A3', 'Lead', '349'), ('019328A0D7A3', 'Lead', '350'), ('019328A0D7A3', 'Lead', '351'), ('019328A0D7A3', 'Lead', '352'), ('019328A0D7A3', 'Lead', '353'), ('019328A0D7A3', 'Lead', '354'), ('019328A0D7A3', 'Lead', '355'), ('019328A0D7A3', 'Lead', '356'), ('019328A0D7A3', 'Lead', '357'), ('019328A0D7A3', 'Lead', '358'), ('019328A0D7A3', 'Lead', '359'), ('019328A0D7A3', 'Lead', '360'), ('019328A0D7A3', 'Lead', '361'), ('019328A0D7A3', 'Lead', '362'), ('019328A0D7A3', 'Lead', '363'), ('019328A0D7A3', 'Lead', '363'), ('019328A0D7A3', 'Lead', '363'), ('019328A0D7A3', 'Lead', '363'), ('019328A0D7A3', 'Lead', '363'), ('019328A0D7A3', 'Lead', '364'), ('019328A0D7A3', 'Lead', '365'), ('019328A0D7A3', 'Lead', '366'), ('019328A0D7A3', 'Lead', '367'), ('019328A0D7A3', 'Lead', '368'), ('019328A0D7A3', 'Lead', '369'), ('019328A0D7A3', 'Lead', '370'), ('019328A0D7A3', 'Lead', '371'), ('019328A0D7A3', 'Lead', '372'), ('019328A0D7A3', 'Lead', '373'), ('019328A0D7A3', 'Lead', '374'), ('019328A0D7A3', 'Lead', '374'), ('019328A0D7A3', 'Lead', '375'), ('019328A0D7A3', 'Lead', '376'), ('019328A0D7A3', 'Lead', '377'), ('019328A0D7A3', 'Lead', '378'), ('019328A0D7A3', 'Lead', '379'), ('019328A0D7A3', 'Lead', '380'), ('019328A0D7A3', 'Lead', '381'), ('019328A0D7A3', 'Lead', '382'), ('019328A0D7A3', 'Lead', '383'), ('019328A0D7A3', 'Lead', '384'), ('019328A0D7A3', 'Lead', '385'), ('019328A0D7A3', 'Lead', '385'), ('019328A0D7A3', 'Lead', '385'), ('019328A0D7A3', 'Lead', '385'), ('019328A0D7A3', 'Lead', '385'), ('019328A0D7A3', 'Lead', '386'), ('019328A0D7A3', 'Lead', '387'), ('019328A0D7A3', 'Lead', '388'), ('019328A0D7A3', 'Lead', '389'), ('019328A0D7A3', 'Lead', '390'), ('019328A0D7A3', 'Lead', '391'), ('019328A0D7A3', 'Lead', '392'), ('019328A0D7A3', 'Lead', '393'), ('019328A0D7A3', 'Lead', '394'), ('019328A0D7A3', 'Lead', '395'), ('019328A0D7A3', 'Lead', '396'), ('019328A0D7A3', 'Lead', '397'), ('019328A0D7A3', 'Lead', '397'), ('019328A0D7A3', 'Lead', '398'), ('019328A0D7A3', 'Lead', '399'), ('019328A0D7A3', 'Lead', '400'), ('019328A0D7A3', 'Lead', '400'), ('019328A0D7A3', 'Lead', '401'), ('019328A0D7A3', 'Lead', '402'), ('019328A0D7A3', 'Lead', '403'), ('019328A0D7A3', 'Lead', '404'), ('019328A0D7A3', 'Lead', '405'), ('019328A0D7A3', 'Lead', '406'), ('019328A0D7A3', 'Lead', '407'), ('019328A0D7A3', 'Lead', '408'), ('019328A0D7A3', 'Lead', '409'), ('019328A0D7A3', 'Lead', '409'), ('019328A0D7A3', 'Lead', '410'), ('019328A0D7A3', 'Lead', '411'), ('019328A0D7A3', 'Lead', '412'), ('019328A0D7A3', 'Lead', '413'), ('019328A0D7A3', 'Lead', '414'), ('019328A0D7A3', 'Lead', '415'), ('019328A0D7A3', 'Lead', '416'), ('019328A0D7A3', 'Lead', '416'), ('019328A0D7A3', 'Lead', '417'), ('019328A0D7A3', 'Lead', '418'), ('019328A0D7A3', 'Lead', '419'), ('019328A0D7A3', 'Lead', '420'), ('019328A0D7A3', 'Lead', '421'), ('019328A0D7A3', 'Lead', '422'), ('019328A0D7A3', 'Lead', '423'), ('019328A0D7A3', 'Lead', '424'), ('019328A0D7A3', 'Lead', '425'), ('019328A0D7A3', 'Lead', '426'), ('019328A0D7A3', 'Lead', '427'), ('019328A0D7A3', 'Lead', '428'), ('019328A0D7A3', 'Lead', '429'), ('019328A0D7A3', 'Lead', '430'), ('019328A0D7A3', 'Lead', '431'), ('019328A0D7A3', 'Lead', '431'), ('019328A0D7A3', 'Lead', '431'), ('019328A0D7A3', 'Lead', '432'), ('019328A0D7A3', 'Lead', '433'), ('019328A0D7A3', 'Lead', '434'), ('019328A0D7A3', 'Lead', '435'), ('019328A0D7A3', 'Lead', '436'), ('019328A0D7A3', 'Lead', '437'), ('019328A0D7A3', 'Lead', '437'), ('019328A0D7A3', 'Lead', '438'), ('019328A0D7A3', 'Lead', '439'), ('019328A0D7A3', 'Lead', '440'), ('019328A0D7A3', 'Lead', '441'), ('019328A0D7A3', 'Lead', '442'), ('019328A0D7A3', 'Lead', '443'), ('019328A0D7A3', 'Lead', '444'), ('019328A0D7A3', 'Lead', '445'), ('019328A0D7A3', 'Lead', '446'), ('019328A0D7A3', 'Lead', '447'), ('019328A0D7A3', 'Lead', '448'), ('019328A0D7A3', 'Lead', '449'), ('019328A0D7A3', 'Lead', '450'), ('019328A0D7A3', 'Lead', '450'), ('019328A0D7A3', 'Lead', '451'), ('019328A0D7A3', 'Lead', '452'), ('019328A0D7A3', 'Lead', '453'), ('019328A0D7A3', 'Lead', '454'), ('019328A0D7A3', 'Lead', '455'), ('019328A0D7A3', 'Lead', '456'), ('019328A0D7A3', 'Lead', '457'), ('019328A0D7A3', 'Lead', '458'), ('019328A0D7A3', 'Lead', '459'), ('019328A0D7A3', 'Lead', '460'), ('019328A0D7A3', 'Lead', '460'), ('019328A0D7A3', 'Lead', '461'), ('019328A0D7A3', 'Lead', '462'), ('019328A0D7A3', 'Lead', '463'), ('019328A0D7A3', 'Lead', '464'), ('019328A0D7A3', 'Lead', '465'), ('019328A0D7A3', 'Lead', '466'), ('019328A0D7A3', 'Lead', '467'), ('019328A0D7A3', 'Lead', '468'), ('019328A0D7A3', 'Lead', '469'), ('019328A0D7A3', 'Lead', '470'), ('019328A0D7A3', 'Lead', '471'), ('019328A0D7A3', 'Lead', '472'), ('019328A0D7A3', 'Lead', '473'), ('019328A0D7A3', 'Lead', '474'), ('019328A0D7A3', 'Lead', '475'), ('019328A0D7A3', 'Lead', '476'), ('019328A0D7A3', 'Lead', '476'), ('019328A0D7A3', 'Lead', '477'), ('019328A0D7A3', 'Lead', '478'), ('019328A0D7A3', 'Lead', '479'), ('019328A0D7A3', 'Lead', '480'), ('019328A0D7A3', 'Lead', '481'), ('019328A0D7A3', 'Lead', '482'), ('019328A0D7A3', 'Lead', '483'), ('019328A0D7A3', 'Lead', '484'), ('019328A0D7A3', 'Lead', '485'), ('019328A0D7A3', 'Lead', '485'), ('019328A0D7A3', 'Lead', '486'), ('019328A0D7A3', 'Lead', '487'), ('019328A0D7A3', 'Lead', '487'), ('019328A0D7A3', 'Lead', '488'), ('019328A0D7A3', 'Lead', '489'), ('019328A0D7A3', 'Lead', '490'), ('019328A0D7A3', 'Lead', '491'), ('019328A0D7A3', 'Lead', '492'), ('019328A0D7A3', 'Lead', '493'), ('019328A0D7A3', 'Lead', '493'), ('019328A0D7A3', 'Lead', '493'), ('019328A0D7A3', 'Lead', '494'), ('019328A0D7A3', 'Lead', '495'), ('019328A0D7A3', 'Lead', '496'), ('019328A0D7A3', 'Lead', '497'), ('019328A0D7A3', 'Lead', '498'), ('019328A0D7A3', 'Lead', '498'), ('019328A0D7A3', 'Lead', '498'), ('019328A0D7A3', 'Lead', '498'), ('019328A0D7A3', 'Lead', '499'), ('019328A0D7A3', 'Lead', '500'), ('019328A0D7A3', 'Lead', '501'), ('019328A0D7A3', 'Lead', '502'), ('019328A0D7A3', 'Lead', '503'), ('019328A0D7A3', 'Lead', '504'), ('019328A0D7A3', 'Lead', '504'), ('019328A0D7A3', 'Lead', '504'), ('019328A0D7A3', 'Lead', '505'), ('019328A0D7A3', 'Lead', '506'), ('019328A0D7A3', 'Lead', '507'), ('019328A0D7A3', 'Lead', '508'), ('019328A0D7A3', 'Lead', '509'), ('019328A0D7A3', 'Lead', '510'), ('019328A0D7A3', 'Lead', '511'), ('019328A0D7A3', 'Lead', '512'), ('019328A0D7A3', 'Lead', '513'), ('019328A0D7A3', 'Lead', '514'), ('019328A0D7A3', 'Lead', '515'), ('019328A0D7A3', 'Lead', '516'), ('019328A0D7A3', 'Lead', '517'), ('019328A0D7A3', 'Lead', '518'), ('019328A0D7A3', 'Lead', '519'), ('019328A0D7A3', 'Lead', '520'), ('019328A0D7A3', 'Lead', '521'), ('019328A0D7A3', 'Lead', '522'), ('019328A0D7A3', 'Lead', '523'), ('019328A0D7A3', 'Lead', '524'), ('019328A0D7A3', 'Lead', '525'), ('019328A0D7A3', 'Lead', '526'), ('019328A0D7A3', 'Lead', '527'), ('019328A0D7A3', 'Lead', '528'), ('019328A0D7A3', 'Lead', '528'), ('019328A0D7A3', 'Lead', '529'), ('019328A0D7A3', 'Lead', '530'), ('019328A0D7A3', 'Lead', '531'), ('019328A0D7A3', 'Lead', '532'), ('019328A0D7A3', 'Lead', '533'), ('019328A0D7A3', 'Lead', '534'), ('019328A0D7A3', 'Lead', '535'), ('019328A0D7A3', 'Lead', '535'), ('019328A0D7A3', 'Lead', '536'), ('019328A0D7A3', 'Lead', '537'), ('019328A0D7A3', 'Lead', '538'), ('019328A0D7A3', 'Lead', '539'), ('019328A0D7A3', 'Lead', '540'), ('019328A0D7A3', 'Lead', '541'), ('019328A0D7A3', 'Lead', '542'), ('019328A0D7A3', 'Lead', '543'), ('019328A0D7A3', 'Lead', '544'), ('019328A0D7A3', 'Lead', '545'), ('019328A0D7A3', 'Lead', '546'), ('019328A0D7A3', 'Lead', '547'), ('019328A0D7A3', 'Lead', '548'), ('019328A0D7A3', 'Lead', '549'), ('019328A0D7A3', 'Lead', '550'), ('019328A0D7A3', 'Lead', '551'), ('019328A0D7A3', 'Lead', '552'), ('019328A0D7A3', 'Lead', '553'), ('019328A0D7A3', 'Lead', '554'), ('019328A0D7A3', 'Lead', '554'), ('019328A0D7A3', 'Lead', '554'), ('019328A0D7A3', 'Lead', '554'), ('019328A0D7A3', 'Lead', '554'), ('019328A0D7A3', 'Lead', '555'), ('019328A0D7A3', 'Lead', '555'), ('019328A0D7A3', 'Lead', '556'), ('019328A0D7A3', 'Lead', '557'), ('019328A0D7A3', 'Lead', '558'), ('019328A0D7A3', 'Lead', '559'), ('019328A0D7A3', 'Lead', '560'), ('019328A0D7A3', 'Lead', '561'), ('019328A0D7A3', 'Lead', '562'), ('019328A0D7A3', 'Lead', '563'), ('019328A0D7A3', 'Lead', '564'), ('019328A0D7A3', 'Lead', '564'), ('019328A0D7A3', 'Lead', '565'), ('019328A0D7A3', 'Lead', '565'), ('019328A0D7A3', 'Lead', '566'), ('019328A0D7A3', 'Lead', '567'), ('019328A0D7A3', 'Lead', '568'), ('019328A0D7A3', 'Lead', '569'), ('019328A0D7A3', 'Lead', '570'), ('019328A0D7A3', 'Lead', '571'), ('019328A0D7A3', 'Lead', '572'), ('019328A0D7A3', 'Lead', '573'), ('019328A0D7A3', 'Lead', '573'), ('019328A0D7A3', 'Lead', '574'), ('019328A0D7A3', 'Lead', '574'), ('019328A0D7A3', 'Lead', '575'), ('019328A0D7A3', 'Lead', '576'), ('019328A0D7A3', 'Lead', '577'), ('019328A0D7A3', 'Lead', '578'), ('019328A0D7A3', 'Lead', '579'), ('019328A0D7A3', 'Lead', '579'), ('019328A0D7A3', 'Lead', '580'), ('019328A0D7A3', 'Lead', '581'), ('019328A0D7A3', 'Lead', '582'), ('019328A0D7A3', 'Lead', '583'), ('019328A0D7A3', 'Lead', '584'), ('019328A0D7A3', 'Lead', '585'), ('019328A0D7A3', 'Lead', '586'), ('019328A0D7A3', 'Lead', '587'), ('019328A0D7A3', 'Lead', '588'), ('019328A0D7A3', 'Lead', '589'), ('019328A0D7A3', 'Lead', '590'), ('019328A0D7A3', 'Lead', '591'), ('019328A0D7A3', 'Lead', '592'), ('019328A0D7A3', 'Lead', '593'), ('019328A0D7A3', 'Lead', '594'), ('019328A0D7A3', 'Lead', '595'), ('019328A0D7A3', 'Lead', '596'), ('019328A0D7A3', 'Lead', '597'), ('019328A0D7A3', 'Lead', '598'), ('019328A0D7A3', 'Lead', '598'), ('019328A0D7A3', 'Lead', '599'), ('019328A0D7A3', 'Lead', '600'), ('019328A0D7A3', 'Lead', '601'), ('019328A0D7A3', 'Lead', '602'), ('019328A0D7A3', 'Lead', '603'), ('019328A0D7A3', 'Lead', '604'), ('019328A0D7A3', 'Lead', '605'), ('019328A0D7A3', 'Lead', '606'), ('019328A0D7A3', 'Lead', '607'), ('019328A0D7A3', 'Lead', '608'), ('019328A0D7A3', 'Lead', '609'), ('019328A0D7A3', 'Lead', '610'), ('019328A0D7A3', 'Lead', '611'), ('019328A0D7A3', 'Lead', '612'), ('019328A0D7A3', 'Lead', '612'), ('019328A0D7A3', 'Lead', '612'), ('019328A0D7A3', 'Lead', '612'), ('019328A0D7A3', 'Lead', '612'), ('019328A0D7A3', 'Lead', '612'), ('019328A0D7A3', 'Lead', '612'), ('019328A0D7A3', 'Lead', '612'), ('019328A0D7A3', 'Lead', '612'), ('A783D3241786', 'Lead', '0'), ('A783D3241786', 'Lead', '1'), ('A783D3241786', 'Lead', '2'), ('A783D3241786', 'Lead', '3'), ('A783D3241786', 'Lead', '4'), ('A783D3241786', 'Lead', '5'), ('A783D3241786', 'Lead', '6'), ('A783D3241786', 'Lead', '7'), ('A783D3241786', 'Lead', '8'), ('A783D3241786', 'Lead', '9'), ('A783D3241786', 'Lead', '10'), ('A783D3241786', 'Lead', '11'), ('A783D3241786', 'Lead', '12'), ('A783D3241786', 'Lead', '13'), ('A783D3241786', 'Lead', '13'), ('A783D3241786', 'Lead', '14'), ('A783D3241786', 'Lead', '15'), ('A783D3241786', 'Lead', '16'), ('A783D3241786', 'Lead', '17'), ('A783D3241786', 'Lead', '18'), ('A783D3241786', 'Lead', '19'), ('A783D3241786', 'Lead', '20'), ('A783D3241786', 'Lead', '21'), ('A783D3241786', 'Lead', '22'), ('A783D3241786', 'Lead', '23'), ('A783D3241786', 'Lead', '24'), ('A783D3241786', 'Lead', '25'), ('A783D3241786', 'Lead', '26'), ('A783D3241786', 'Lead', '27'), ('A783D3241786', 'Lead', '27'), ('A783D3241786', 'Lead', '28'), ('A783D3241786', 'Lead', '29'), ('A783D3241786', 'Lead', '30'), ('A783D3241786', 'Lead', '31'), ('A783D3241786', 'Lead', '32'), ('A783D3241786', 'Lead', '33'), ('A783D3241786', 'Lead', '34'), ('A783D3241786', 'Lead', '35'), ('A783D3241786', 'Lead', '36'), ('A783D3241786', 'Lead', '36'), ('A783D3241786', 'Lead', '36'), ('A783D3241786', 'Lead', '36'), ('A783D3241786', 'Lead', '36'), ('A783D3241786', 'Lead', '37'), ('A783D3241786', 'Lead', '38'), ('A783D3241786', 'Lead', '39'), ('A783D3241786', 'Lead', '39'), ('A783D3241786', 'Lead', '40'), ('A783D3241786', 'Lead', '41'), ('A783D3241786', 'Lead', '42'), ('A783D3241786', 'Lead', '43'), ('A783D3241786', 'Lead', '44'), ('A783D3241786', 'Lead', '45'), ('A783D3241786', 'Lead', '46'), ('A783D3241786', 'Lead', '47'), ('A783D3241786', 'Lead', '48'), ('A783D3241786', 'Lead', '49'), ('A783D3241786', 'Lead', '50'), ('A783D3241786', 'Lead', '51'), ('A783D3241786', 'Lead', '52'), ('A783D3241786', 'Lead', '53'), ('A783D3241786', 'Lead', '54'), ('A783D3241786', 'Lead', '55'), ('A783D3241786', 'Lead', '56'), ('A783D3241786', 'Lead', '57'), ('A783D3241786', 'Lead', '57'), ('A783D3241786', 'Lead', '58'), ('A783D3241786', 'Lead', '59'), ('A783D3241786', 'Lead', '60'), ('A783D3241786', 'Lead', '61'), ('A783D3241786', 'Lead', '62'), ('A783D3241786', 'Lead', '63'), ('A783D3241786', 'Lead', '64'), ('A783D3241786', 'Lead', '65'), ('A783D3241786', 'Lead', '66'), ('A783D3241786', 'Lead', '67'), ('A783D3241786', 'Lead', '67'), ('A783D3241786', 'Lead', '68'), ('A783D3241786', 'Lead', '69'), ('A783D3241786', 'Lead', '70'), ('A783D3241786', 'Lead', '71'), ('A783D3241786', 'Lead', '72'), ('A783D3241786', 'Lead', '73'), ('A783D3241786', 'Lead', '74'), ('A783D3241786', 'Lead', '75'), ('A783D3241786', 'Lead', '76'), ('A783D3241786', 'Lead', '77'), ('A783D3241786', 'Lead', '78'), ('A783D3241786', 'Lead', '79'), ('A783D3241786', 'Lead', '80'), ('A783D3241786', 'Lead', '81'), ('A783D3241786', 'Lead', '82'), ('A783D3241786', 'Lead', '83'), ('A783D3241786', 'Lead', '84'), ('A783D3241786', 'Lead', '85'), ('A783D3241786', 'Lead', '86'), ('A783D3241786', 'Lead', '87'), ('A783D3241786', 'Lead', '87'), ('A783D3241786', 'Lead', '88'), ('A783D3241786', 'Lead', '89'), ('A783D3241786', 'Lead', '90'), ('A783D3241786', 'Lead', '91'), ('A783D3241786', 'Lead', '92'), ('A783D3241786', 'Lead', '93'), ('A783D3241786', 'Lead', '94'), ('A783D3241786', 'Lead', '95'), ('A783D3241786', 'Lead', '95'), ('A783D3241786', 'Lead', '96'), ('A783D3241786', 'Lead', '97'), ('A783D3241786', 'Lead', '98'), ('A783D3241786', 'Lead', '99'), ('A783D3241786', 'Lead', '100'), ('A783D3241786', 'Lead', '101'), ('A783D3241786', 'Lead', '102'), ('A783D3241786', 'Lead', '103'), ('A783D3241786', 'Lead', '104'), ('A783D3241786', 'Lead', '105'), ('A783D3241786', 'Lead', '106'), ('A783D3241786', 'Lead', '107'), ('A783D3241786', 'Lead', '108'), ('A783D3241786', 'Lead', '109'), ('A783D3241786', 'Lead', '110'), ('A783D3241786', 'Lead', '111'), ('A783D3241786', 'Lead', '112'), ('A783D3241786', 'Lead', '113'), ('A783D3241786', 'Lead', '114'), ('A783D3241786', 'Lead', '115'), ('A783D3241786', 'Lead', '116'), ('A783D3241786', 'Lead', '117'), ('A783D3241786', 'Lead', '118'), ('A783D3241786', 'Lead', '119'), ('A783D3241786', 'Lead', '120'), ('A783D3241786', 'Lead', '121'), ('A783D3241786', 'Lead', '122'), ('A783D3241786', 'Lead', '123'), ('A783D3241786', 'Lead', '124'), ('A783D3241786', 'Lead', '125'), ('A783D3241786', 'Lead', '126'), ('A783D3241786', 'Lead', '126'), ('A783D3241786', 'Lead', '127'), ('A783D3241786', 'Lead', '127'), ('A783D3241786', 'Lead', '128'), ('A783D3241786', 'Lead', '129'), ('A783D3241786', 'Lead', '130'), ('A783D3241786', 'Lead', '131'), ('A783D3241786', 'Lead', '132'), ('A783D3241786', 'Lead', '133'), ('A783D3241786', 'Lead', '134'), ('A783D3241786', 'Lead', '135'), ('A783D3241786', 'Lead', '136'), ('A783D3241786', 'Lead', '137'), ('A783D3241786', 'Lead', '138'), ('A783D3241786', 'Lead', '139'), ('A783D3241786', 'Lead', '140'), ('A783D3241786', 'Lead', '141'), ('A783D3241786', 'Lead', '142'), ('A783D3241786', 'Lead', '143'), ('A783D3241786', 'Lead', '144'), ('A783D3241786', 'Lead', '145'), ('A783D3241786', 'Lead', '145'), ('A783D3241786', 'Lead', '146'), ('A783D3241786', 'Lead', '147'), ('A783D3241786', 'Lead', '148'), ('A783D3241786', 'Lead', '149'), ('A783D3241786', 'Lead', '150'), ('A783D3241786', 'Lead', '151'), ('A783D3241786', 'Lead', '152'), ('A783D3241786', 'Lead', '153'), ('A783D3241786', 'Lead', '154'), ('A783D3241786', 'Lead', '155'), ('A783D3241786', 'Lead', '156'), ('A783D3241786', 'Lead', '157'), ('A783D3241786', 'Lead', '158'), ('A783D3241786', 'Lead', '158'), ('A783D3241786', 'Lead', '159'), ('A783D3241786', 'Lead', '160'), ('A783D3241786', 'Lead', '160'), ('A783D3241786', 'Lead', '161'), ('A783D3241786', 'Lead', '162'), ('A783D3241786', 'Lead', '163'), ('A783D3241786', 'Lead', '164'), ('A783D3241786', 'Lead', '165'), ('A783D3241786', 'Lead', '166'), ('A783D3241786', 'Lead', '167'), ('A783D3241786', 'Lead', '167'), ('A783D3241786', 'Lead', '168'), ('A783D3241786', 'Lead', '169'), ('A783D3241786', 'Lead', '170'), ('A783D3241786', 'Lead', '171'), ('A783D3241786', 'Lead', '172'), ('A783D3241786', 'Lead', '173'), ('A783D3241786', 'Lead', '174'), ('A783D3241786', 'Lead', '175'), ('A783D3241786', 'Lead', '176'), ('A783D3241786', 'Lead', '177'), ('A783D3241786', 'Lead', '178'), ('A783D3241786', 'Lead', '179'), ('A783D3241786', 'Lead', '180'), ('A783D3241786', 'Lead', '181'), ('A783D3241786', 'Lead', '182'), ('A783D3241786', 'Lead', '183'), ('A783D3241786', 'Lead', '183'), ('A783D3241786', 'Lead', '184'), ('A783D3241786', 'Lead', '185'), ('A783D3241786', 'Lead', '186'), ('A783D3241786', 'Lead', '187'), ('A783D3241786', 'Lead', '188'), ('A783D3241786', 'Lead', '189'), ('A783D3241786', 'Lead', '190'), ('A783D3241786', 'Lead', '191'), ('A783D3241786', 'Lead', '192'), ('A783D3241786', 'Lead', '193'), ('A783D3241786', 'Lead', '194'), ('A783D3241786', 'Lead', '195'), ('A783D3241786', 'Lead', '196'), ('A783D3241786', 'Lead', '197'), ('A783D3241786', 'Lead', '198'), ('A783D3241786', 'Lead', '199'), ('A783D3241786', 'Lead', '200'), ('A783D3241786', 'Lead', '201'), ('A783D3241786', 'Lead', '202'), ('A783D3241786', 'Lead', '203'), ('A783D3241786', 'Lead', '204'), ('A783D3241786', 'Lead', '205'), ('A783D3241786', 'Lead', '206'), ('A783D3241786', 'Lead', '207'), ('A783D3241786', 'Lead', '208'), ('A783D3241786', 'Lead', '209'), ('A783D3241786', 'Lead', '210'), ('A783D3241786', 'Lead', '211'), ('A783D3241786', 'Lead', '212'), ('A783D3241786', 'Lead', '213'), ('A783D3241786', 'Lead', '214'), ('A783D3241786', 'Lead', '215'), ('A783D3241786', 'Lead', '216'), ('A783D3241786', 'Lead', '217'), ('A783D3241786', 'Lead', '218'), ('A783D3241786', 'Lead', '219'), ('A783D3241786', 'Lead', '220'), ('A783D3241786', 'Lead', '221'), ('A783D3241786', 'Lead', '222'), ('A783D3241786', 'Lead', '223'), ('A783D3241786', 'Lead', '224'), ('A783D3241786', 'Lead', '225'), ('A783D3241786', 'Lead', '226'), ('A783D3241786', 'Lead', '227'), ('A783D3241786', 'Lead', '228'), ('A783D3241786', 'Lead', '229'), ('A783D3241786', 'Lead', '230'), ('A783D3241786', 'Lead', '231'), ('A783D3241786', 'Lead', '232'), ('A783D3241786', 'Lead', '233'), ('A783D3241786', 'Lead', '234'), ('A783D3241786', 'Lead', '235'), ('A783D3241786', 'Lead', '236'), ('A783D3241786', 'Lead', '237'), ('A783D3241786', 'Lead', '238'), ('A783D3241786', 'Lead', '239'), ('A783D3241786', 'Lead', '240'), ('A783D3241786', 'Lead', '241'), ('A783D3241786', 'Lead', '242'), ('A783D3241786', 'Lead', '243'), ('A783D3241786', 'Lead', '244'), ('A783D3241786', 'Lead', '245'), ('A783D3241786', 'Lead', '246'), ('A783D3241786', 'Lead', '247'), ('A783D3241786', 'Lead', '248'), ('A783D3241786', 'Lead', '249'), ('A783D3241786', 'Lead', '250'), ('A783D3241786', 'Lead', '251'), ('A783D3241786', 'Lead', '252'), ('A783D3241786', 'Lead', '253'), ('A783D3241786', 'Lead', '254'), ('A783D3241786', 'Lead', '255'), ('A783D3241786', 'Lead', '256'), ('A783D3241786', 'Lead', '256'), ('A783D3241786', 'Lead', '256'), ('A783D3241786', 'Lead', '256'), ('A783D3241786', 'Lead', '256'), ('A783D3241786', 'Lead', '256'), ('A783D3241786', 'Lead', '257'), ('A783D3241786', 'Lead', '258'), ('A783D3241786', 'Lead', '259'), ('A783D3241786', 'Lead', '260'), ('A783D3241786', 'Lead', '261'), ('A783D3241786', 'Lead', '262'), ('A783D3241786', 'Lead', '263'), ('A783D3241786', 'Lead', '264'), ('A783D3241786', 'Lead', '265'), ('A783D3241786', 'Lead', '266'), ('A783D3241786', 'Lead', '267'), ('A783D3241786', 'Lead', '268'), ('A783D3241786', 'Lead', '269'), ('A783D3241786', 'Lead', '269'), ('A783D3241786', 'Lead', '270'), ('A783D3241786', 'Lead', '271'), ('A783D3241786', 'Lead', '272'), ('A783D3241786', 'Lead', '273'), ('A783D3241786', 'Lead', '274'), ('A783D3241786', 'Lead', '275'), ('A783D3241786', 'Lead', '276'), ('A783D3241786', 'Lead', '277'), ('A783D3241786', 'Lead', '278'), ('A783D3241786', 'Lead', '279'), ('A783D3241786', 'Lead', '280'), ('A783D3241786', 'Lead', '281'), ('A783D3241786', 'Lead', '282'), ('A783D3241786', 'Lead', '282'), ('A783D3241786', 'Lead', '283'), ('A783D3241786', 'Lead', '284'), ('A783D3241786', 'Lead', '285'), ('A783D3241786', 'Lead', '286'), ('A783D3241786', 'Lead', '287'), ('A783D3241786', 'Lead', '288'), ('A783D3241786', 'Lead', '288'), ('A783D3241786', 'Lead', '289'), ('A783D3241786', 'Lead', '290'), ('A783D3241786', 'Lead', '291'), ('A783D3241786', 'Lead', '292'), ('A783D3241786', 'Lead', '293'), ('A783D3241786', 'Lead', '294'), ('A783D3241786', 'Lead', '295'), ('A783D3241786', 'Lead', '296'), ('A783D3241786', 'Lead', '297'), ('A783D3241786', 'Lead', '298'), ('A783D3241786', 'Lead', '299'), ('A783D3241786', 'Lead', '300'), ('A783D3241786', 'Lead', '301'), ('A783D3241786', 'Lead', '302'), ('A783D3241786', 'Lead', '303'), ('A783D3241786', 'Lead', '303'), ('A783D3241786', 'Lead', '303'), ('A783D3241786', 'Lead', '303'), ('A783D3241786', 'Lead', '303'), ('A783D3241786', 'Lead', '304'), ('A783D3241786', 'Lead', '305'), ('A783D3241786', 'Lead', '306'), ('A783D3241786', 'Lead', '307'), ('A783D3241786', 'Lead', '308'), ('A783D3241786', 'Lead', '309'), ('A783D3241786', 'Lead', '310'), ('A783D3241786', 'Lead', '311'), ('A783D3241786', 'Lead', '312'), ('A783D3241786', 'Lead', '313'), ('A783D3241786', 'Lead', '314'), ('A783D3241786', 'Lead', '315'), ('A783D3241786', 'Lead', '316'), ('A783D3241786', 'Lead', '317'), ('A783D3241786', 'Lead', '318'), ('A783D3241786', 'Lead', '319'), ('A783D3241786', 'Lead', '320'), ('A783D3241786', 'Lead', '320'), ('A783D3241786', 'Lead', '321'), ('A783D3241786', 'Lead', '322'), ('A783D3241786', 'Lead', '323'), ('A783D3241786', 'Lead', '324'), ('A783D3241786', 'Lead', '325'), ('A783D3241786', 'Lead', '326'), ('A783D3241786', 'Lead', '327'), ('A783D3241786', 'Lead', '328'), ('A783D3241786', 'Lead', '329'), ('A783D3241786', 'Lead', '330'), ('A783D3241786', 'Lead', '331'), ('A783D3241786', 'Lead', '332'), ('A783D3241786', 'Lead', '333'), ('A783D3241786', 'Lead', '334'), ('A783D3241786', 'Lead', '335'), ('A783D3241786', 'Lead', '335'), ('A783D3241786', 'Lead', '336'), ('A783D3241786', 'Lead', '337'), ('A783D3241786', 'Lead', '338'), ('A783D3241786', 'Lead', '339'), ('A783D3241786', 'Lead', '340'), ('A783D3241786', 'Lead', '341'), ('A783D3241786', 'Lead', '342'), ('A783D3241786', 'Lead', '343'), ('A783D3241786', 'Lead', '344'), ('A783D3241786', 'Lead', '345'), ('A783D3241786', 'Lead', '346'), ('A783D3241786', 'Lead', '347'), ('A783D3241786', 'Lead', '348'), ('A783D3241786', 'Lead', '348'), ('A783D3241786', 'Lead', '349'), ('A783D3241786', 'Lead', '350'), ('A783D3241786', 'Lead', '351'), ('A783D3241786', 'Lead', '352'), ('A783D3241786', 'Lead', '353'), ('A783D3241786', 'Lead', '354'), ('A783D3241786', 'Lead', '355'), ('A783D3241786', 'Lead', '356'), ('A783D3241786', 'Lead', '357'), ('A783D3241786', 'Lead', '358'), ('A783D3241786', 'Lead', '359'), ('A783D3241786', 'Lead', '360'), ('A783D3241786', 'Lead', '361'), ('A783D3241786', 'Lead', '362'), ('A783D3241786', 'Lead', '363'), ('A783D3241786', 'Lead', '364'), ('A783D3241786', 'Lead', '365'), ('A783D3241786', 'Lead', '366'), ('A783D3241786', 'Lead', '367'), ('A783D3241786', 'Lead', '368'), ('A783D3241786', 'Lead', '369'), ('A783D3241786', 'Lead', '370'), ('A783D3241786', 'Lead', '371'), ('A783D3241786', 'Lead', '372'), ('A783D3241786', 'Lead', '373'), ('A783D3241786', 'Lead', '374'), ('A783D3241786', 'Lead', '375'), ('A783D3241786', 'Lead', '376'), ('A783D3241786', 'Lead', '377'), ('A783D3241786', 'Lead', '378'), ('A783D3241786', 'Lead', '379'), ('A783D3241786', 'Lead', '379'), ('A783D3241786', 'Lead', '380'), ('A783D3241786', 'Lead', '381'), ('A783D3241786', 'Lead', '382'), ('A783D3241786', 'Lead', '383'), ('A783D3241786', 'Lead', '384'), ('A783D3241786', 'Lead', '385'), ('A783D3241786', 'Lead', '386'), ('A783D3241786', 'Lead', '387'), ('A783D3241786', 'Lead', '388'), ('A783D3241786', 'Lead', '389'), ('A783D3241786', 'Lead', '390'), ('A783D3241786', 'Lead', '390'), ('A783D3241786', 'Lead', '390'), ('A783D3241786', 'Lead', '390'), ('A783D3241786', 'Lead', '390'), ('A783D3241786', 'Lead', '390'), ('A783D3241786', 'Lead', '391'), ('A783D3241786', 'Lead', '392'), ('A783D3241786', 'Lead', '392'), ('A783D3241786', 'Lead', '393'), ('A783D3241786', 'Lead', '394'), ('A783D3241786', 'Lead', '395'), ('A783D3241786', 'Lead', '396'), ('A783D3241786', 'Lead', '397'), ('A783D3241786', 'Lead', '398'), ('A783D3241786', 'Lead', '399'), ('A783D3241786', 'Lead', '400'), ('A783D3241786', 'Lead', '401'), ('A783D3241786', 'Lead', '402'), ('A783D3241786', 'Lead', '402'), ('A783D3241786', 'Lead', '403'), ('A783D3241786', 'Lead', '403'), ('A783D3241786', 'Lead', '404'), ('A783D3241786', 'Lead', '405'), ('A783D3241786', 'Lead', '406'), ('A783D3241786', 'Lead', '407'), ('A783D3241786', 'Lead', '408'), ('A783D3241786', 'Lead', '409'), ('A783D3241786', 'Lead', '410'), ('A783D3241786', 'Lead', '411'), ('A783D3241786', 'Lead', '412'), ('A783D3241786', 'Lead', '413'), ('A783D3241786', 'Lead', '413'), ('A783D3241786', 'Lead', '414'), ('A783D3241786', 'Lead', '414'), ('A783D3241786', 'Lead', '415'), ('A783D3241786', 'Lead', '416'), ('A783D3241786', 'Lead', '417'), ('A783D3241786', 'Lead', '418'), ('A783D3241786', 'Lead', '419'), ('A783D3241786', 'Lead', '420'), ('A783D3241786', 'Lead', '421'), ('A783D3241786', 'Lead', '422'), ('A783D3241786', 'Lead', '423'), ('A783D3241786', 'Lead', '424'), ('A783D3241786', 'Lead', '425'), ('A783D3241786', 'Lead', '426'), ('A783D3241786', 'Lead', '427'), ('A783D3241786', 'Lead', '428'), ('A783D3241786', 'Lead', '428'), ('A783D3241786', 'Lead', '429'), ('A783D3241786', 'Lead', '430'), ('A783D3241786', 'Lead', '431'), ('A783D3241786', 'Lead', '432'), ('A783D3241786', 'Lead', '433'), ('A783D3241786', 'Lead', '434'), ('A783D3241786', 'Lead', '435'), ('A783D3241786', 'Lead', '436'), ('A783D3241786', 'Lead', '437'), ('A783D3241786', 'Lead', '438'), ('A783D3241786', 'Lead', '439'), ('A783D3241786', 'Lead', '440'), ('A783D3241786', 'Lead', '441'), ('A783D3241786', 'Lead', '442'), ('A783D3241786', 'Lead', '443'), ('A783D3241786', 'Lead', '444'), ('A783D3241786', 'Lead', '445'), ('A783D3241786', 'Lead', '445'), ('A783D3241786', 'Lead', '446'), ('A783D3241786', 'Lead', '447'), ('A783D3241786', 'Lead', '448'), ('A783D3241786', 'Lead', '449'), ('A783D3241786', 'Lead', '449'), ('A783D3241786', 'Lead', '450'), ('A783D3241786', 'Lead', '451'), ('A783D3241786', 'Lead', '452'), ('A783D3241786', 'Lead', '453'), ('A783D3241786', 'Lead', '454'), ('A783D3241786', 'Lead', '455'), ('A783D3241786', 'Lead', '456'), ('A783D3241786', 'Lead', '456'), ('A783D3241786', 'Lead', '457'), ('A783D3241786', 'Lead', '458'), ('A783D3241786', 'Lead', '459'), ('A783D3241786', 'Lead', '460'), ('A783D3241786', 'Lead', '461'), ('A783D3241786', 'Lead', '462'), ('A783D3241786', 'Lead', '463'), ('A783D3241786', 'Lead', '464'), ('A783D3241786', 'Lead', '465'), ('A783D3241786', 'Lead', '466'), ('A783D3241786', 'Lead', '466'), ('A783D3241786', 'Lead', '467'), ('A783D3241786', 'Lead', '468'), ('A783D3241786', 'Lead', '469'), ('A783D3241786', 'Lead', '470'), ('A783D3241786', 'Lead', '471'), ('A783D3241786', 'Lead', '472'), ('A783D3241786', 'Lead', '473'), ('A783D3241786', 'Lead', '474'), ('A783D3241786', 'Lead', '475'), ('A783D3241786', 'Lead', '476'), ('A783D3241786', 'Lead', '477'), ('A783D3241786', 'Lead', '478'), ('A783D3241786', 'Lead', '479'), ('A783D3241786', 'Lead', '479'), ('A783D3241786', 'Lead', '480'), ('A783D3241786', 'Lead', '481'), ('A783D3241786', 'Lead', '482'), ('A783D3241786', 'Lead', '482'), ('A783D3241786', 'Lead', '483'), ('A783D3241786', 'Lead', '484'), ('A783D3241786', 'Lead', '485'), ('A783D3241786', 'Lead', '486'), ('A783D3241786', 'Lead', '487'), ('A783D3241786', 'Lead', '488'), ('A783D3241786', 'Lead', '489'), ('A783D3241786', 'Lead', '490'), ('A783D3241786', 'Lead', '491'), ('A783D3241786', 'Lead', '492'), ('A783D3241786', 'Lead', '493'), ('A783D3241786', 'Lead', '494'), ('A783D3241786', 'Lead', '494'), ('A783D3241786', 'Lead', '495'), ('A783D3241786', 'Lead', '496'), ('A783D3241786', 'Lead', '497'), ('A783D3241786', 'Lead', '498'), ('A783D3241786', 'Lead', '499'), ('A783D3241786', 'Lead', '500'), ('A783D3241786', 'Lead', '501'), ('A783D3241786', 'Lead', '502'), ('A783D3241786', 'Lead', '503'), ('A783D3241786', 'Lead', '504'), ('A783D3241786', 'Lead', '505'), ('A783D3241786', 'Lead', '506'), ('A783D3241786', 'Lead', '507'), ('A783D3241786', 'Lead', '508'), ('A783D3241786', 'Lead', '509'), ('A783D3241786', 'Lead', '509'), ('A783D3241786', 'Lead', '509'), ('A783D3241786', 'Lead', '509'), ('A783D3241786', 'Lead', '509'), ('A783D3241786', 'Lead', '509'), ('A783D3241786', 'Lead', '510'), ('A783D3241786', 'Lead', '511'), ('A783D3241786', 'Lead', '512'), ('A783D3241786', 'Lead', '513'), ('A783D3241786', 'Lead', '514'), ('A783D3241786', 'Lead', '515'), ('A783D3241786', 'Lead', '516'), ('A783D3241786', 'Lead', '517'), ('A783D3241786', 'Lead', '518'), ('A783D3241786', 'Lead', '519'), ('A783D3241786', 'Lead', '519'), ('A783D3241786', 'Lead', '520'), ('A783D3241786', 'Lead', '521'), ('A783D3241786', 'Lead', '522'), ('A783D3241786', 'Lead', '523'), ('A783D3241786', 'Lead', '524'), ('A783D3241786', 'Lead', '525'), ('A783D3241786', 'Lead', '525'), ('A783D3241786', 'Lead', '525'), ('A783D3241786', 'Lead', '525'), ('A783D3241786', 'Lead', '525'), ('A783D3241786', 'Lead', '526'), ('A783D3241786', 'Lead', '526'), ('A783D3241786', 'Lead', '527'), ('A783D3241786', 'Lead', '528'), ('A783D3241786', 'Lead', '529'), ('A783D3241786', 'Lead', '530'), ('A783D3241786', 'Lead', '531'), ('A783D3241786', 'Lead', '532'), ('A783D3241786', 'Lead', '533'), ('A783D3241786', 'Lead', '534'), ('A783D3241786', 'Lead', '535'), ('A783D3241786', 'Lead', '536'), ('A783D3241786', 'Lead', '537'), ('A783D3241786', 'Lead', '538'), ('A783D3241786', 'Lead', '538'), ('A783D3241786', 'Lead', '539'), ('A783D3241786', 'Lead', '540'), ('A783D3241786', 'Lead', '541'), ('A783D3241786', 'Lead', '542'), ('A783D3241786', 'Lead', '543'), ('A783D3241786', 'Lead', '544'), ('A783D3241786', 'Lead', '545'), ('A783D3241786', 'Lead', '546'), ('A783D3241786', 'Lead', '547'), ('A783D3241786', 'Lead', '548'), ('A783D3241786', 'Lead', '549'), ('A783D3241786', 'Lead', '549'), ('A783D3241786', 'Lead', '550'), ('A783D3241786', 'Lead', '551'), ('A783D3241786', 'Lead', '552'), ('A783D3241786', 'Lead', '553'), ('A783D3241786', 'Lead', '554'), ('A783D3241786', 'Lead', '555'), ('A783D3241786', 'Lead', '556'), ('A783D3241786', 'Lead', '557'), ('A783D3241786', 'Lead', '558'), ('A783D3241786', 'Lead', '559'), ('A783D3241786', 'Lead', '560'), ('A783D3241786', 'Lead', '560'), ('A783D3241786', 'Lead', '561'), ('A783D3241786', 'Lead', '562'), ('A783D3241786', 'Lead', '563'), ('A783D3241786', 'Lead', '564'), ('A783D3241786', 'Lead', '565'), ('A783D3241786', 'Lead', '566'), ('A783D3241786', 'Lead', '567'), ('A783D3241786', 'Lead', '568'), ('A783D3241786', 'Lead', '569'), ('A783D3241786', 'Lead', '570'), ('A783D3241786', 'Lead', '571'), ('A783D3241786', 'Lead', '572'), ('A783D3241786', 'Lead', '573'), ('A783D3241786', 'Lead', '574'), ('A783D3241786', 'Lead', '575'), ('A783D3241786', 'Lead', '576'), ('A783D3241786', 'Lead', '577'), ('A783D3241786', 'Lead', '578'), ('A783D3241786', 'Lead', '579'), ('A783D3241786', 'Lead', '580'), ('A783D3241786', 'Lead', '581'), ('A783D3241786', 'Lead', '581'), ('A783D3241786', 'Lead', '581'), ('A783D3241786', 'Lead', '581'), ('A783D3241786', 'Lead', '581'), ('A783D3241786', 'Lead', '581'), ('A783D3241786', 'Lead', '581'), ('A783D3241786', 'Lead', '581'), ('A783D3241786', 'Lead', '581'), ('C161EEA83234', 'Lead', '0'), ('C161EEA83234', 'Lead', '1'), ('C161EEA83234', 'Lead', '2'), ('C161EEA83234', 'Lead', '2'), ('C161EEA83234', 'Lead', '2'), ('C161EEA83234', 'Lead', '2'), ('C161EEA83234', 'Lead', '2'), ('C161EEA83234', 'Lead', '3'), ('C161EEA83234', 'Lead', '4'), ('C161EEA83234', 'Lead', '5'), ('C161EEA83234', 'Lead', '6'), ('C161EEA83234', 'Lead', '7'), ('C161EEA83234', 'Lead', '8'), ('C161EEA83234', 'Lead', '9'), ('C161EEA83234', 'Lead', '10'), ('C161EEA83234', 'Lead', '11'), ('C161EEA83234', 'Lead', '12'), ('C161EEA83234', 'Lead', '13'), ('C161EEA83234', 'Lead', '14'), ('C161EEA83234', 'Lead', '15'), ('C161EEA83234', 'Lead', '16'), ('C161EEA83234', 'Lead', '17'), ('C161EEA83234', 'Lead', '18'), ('C161EEA83234', 'Lead', '19'), ('C161EEA83234', 'Lead', '20'), ('C161EEA83234', 'Lead', '21'), ('C161EEA83234', 'Lead', '22'), ('C161EEA83234', 'Lead', '22'), ('C161EEA83234', 'Lead', '23'), ('C161EEA83234', 'Lead', '24'), ('C161EEA83234', 'Lead', '25'), ('C161EEA83234', 'Lead', '26'), ('C161EEA83234', 'Lead', '27'), ('C161EEA83234', 'Lead', '28'), ('C161EEA83234', 'Lead', '29'), ('C161EEA83234', 'Lead', '30'), ('C161EEA83234', 'Lead', '31'), ('C161EEA83234', 'Lead', '32'), ('C161EEA83234', 'Lead', '33'), ('C161EEA83234', 'Lead', '34'), ('C161EEA83234', 'Lead', '35'), ('C161EEA83234', 'Lead', '36'), ('C161EEA83234', 'Lead', '37'), ('C161EEA83234', 'Lead', '38'), ('C161EEA83234', 'Lead', '39'), ('C161EEA83234', 'Lead', '39'), ('C161EEA83234', 'Lead', '40'), ('C161EEA83234', 'Lead', '41'), ('C161EEA83234', 'Lead', '42'), ('C161EEA83234', 'Lead', '43'), ('C161EEA83234', 'Lead', '44'), ('C161EEA83234', 'Lead', '45'), ('C161EEA83234', 'Lead', '46'), ('C161EEA83234', 'Lead', '47'), ('C161EEA83234', 'Lead', '48'), ('C161EEA83234', 'Lead', '49'), ('C161EEA83234', 'Lead', '50'), ('C161EEA83234', 'Lead', '51'), ('C161EEA83234', 'Lead', '52'), ('C161EEA83234', 'Lead', '53'), ('C161EEA83234', 'Lead', '54'), ('C161EEA83234', 'Lead', '55'), ('C161EEA83234', 'Lead', '55'), ('C161EEA83234', 'Lead', '55'), ('C161EEA83234', 'Lead', '55'), ('C161EEA83234', 'Lead', '55'), ('C161EEA83234', 'Lead', '55'), ('C161EEA83234', 'Lead', '56'), ('C161EEA83234', 'Lead', '57'), ('C161EEA83234', 'Lead', '58'), ('C161EEA83234', 'Lead', '59'), ('C161EEA83234', 'Lead', '60'), ('C161EEA83234', 'Lead', '61'), ('C161EEA83234', 'Lead', '62'), ('C161EEA83234', 'Lead', '63'), ('C161EEA83234', 'Lead', '64'), ('C161EEA83234', 'Lead', '65'), ('C161EEA83234', 'Lead', '65'), ('C161EEA83234', 'Lead', '66'), ('C161EEA83234', 'Lead', '67'), ('C161EEA83234', 'Lead', '68'), ('C161EEA83234', 'Lead', '69'), ('C161EEA83234', 'Lead', '70'), ('C161EEA83234', 'Lead', '71'), ('C161EEA83234', 'Lead', '72'), ('C161EEA83234', 'Lead', '73'), ('C161EEA83234', 'Lead', '74'), ('C161EEA83234', 'Lead', '75'), ('C161EEA83234', 'Lead', '76'), ('C161EEA83234', 'Lead', '77'), ('C161EEA83234', 'Lead', '78'), ('C161EEA83234', 'Lead', '79'), ('C161EEA83234', 'Lead', '80'), ('C161EEA83234', 'Lead', '81'), ('C161EEA83234', 'Lead', '82'), ('C161EEA83234', 'Lead', '83'), ('C161EEA83234', 'Lead', '84'), ('C161EEA83234', 'Lead', '85'), ('C161EEA83234', 'Lead', '86'), ('C161EEA83234', 'Lead', '87'), ('C161EEA83234', 'Lead', '87'), ('C161EEA83234', 'Lead', '88'), ('C161EEA83234', 'Lead', '89'), ('C161EEA83234', 'Lead', '90'), ('C161EEA83234', 'Lead', '91'), ('C161EEA83234', 'Lead', '92'), ('C161EEA83234', 'Lead', '93'), ('C161EEA83234', 'Lead', '94'), ('C161EEA83234', 'Lead', '95'), ('C161EEA83234', 'Lead', '96'), ('C161EEA83234', 'Lead', '97'), ('C161EEA83234', 'Lead', '98'), ('C161EEA83234', 'Lead', '99'), ('C161EEA83234', 'Lead', '99'), ('C161EEA83234', 'Lead', '100'), ('C161EEA83234', 'Lead', '100'), ('C161EEA83234', 'Lead', '101'), ('C161EEA83234', 'Lead', '102'), ('C161EEA83234', 'Lead', '103'), ('C161EEA83234', 'Lead', '103'), ('C161EEA83234', 'Lead', '103'), ('C161EEA83234', 'Lead', '103'), ('C161EEA83234', 'Lead', '103'), ('C161EEA83234', 'Lead', '104'), ('C161EEA83234', 'Lead', '105'), ('C161EEA83234', 'Lead', '106'), ('C161EEA83234', 'Lead', '107'), ('C161EEA83234', 'Lead', '108'), ('C161EEA83234', 'Lead', '109'), ('C161EEA83234', 'Lead', '110'), ('C161EEA83234', 'Lead', '111'), ('C161EEA83234', 'Lead', '112'), ('C161EEA83234', 'Lead', '113'), ('C161EEA83234', 'Lead', '114'), ('C161EEA83234', 'Lead', '115'), ('C161EEA83234', 'Lead', '116'), ('C161EEA83234', 'Lead', '117'), ('C161EEA83234', 'Lead', '117'), ('C161EEA83234', 'Lead', '118'), ('C161EEA83234', 'Lead', '119'), ('C161EEA83234', 'Lead', '120'), ('C161EEA83234', 'Lead', '121'), ('C161EEA83234', 'Lead', '122'), ('C161EEA83234', 'Lead', '123'), ('C161EEA83234', 'Lead', '124'), ('C161EEA83234', 'Lead', '125'), ('C161EEA83234', 'Lead', '126'), ('C161EEA83234', 'Lead', '127'), ('C161EEA83234', 'Lead', '128'), ('C161EEA83234', 'Lead', '129'), ('C161EEA83234', 'Lead', '130'), ('C161EEA83234', 'Lead', '130'), ('C161EEA83234', 'Lead', '131'), ('C161EEA83234', 'Lead', '132'), ('C161EEA83234', 'Lead', '133'), ('C161EEA83234', 'Lead', '133'), ('C161EEA83234', 'Lead', '134'), ('C161EEA83234', 'Lead', '135'), ('C161EEA83234', 'Lead', '136'), ('C161EEA83234', 'Lead', '137'), ('C161EEA83234', 'Lead', '138'), ('C161EEA83234', 'Lead', '139'), ('C161EEA83234', 'Lead', '140'), ('C161EEA83234', 'Lead', '141'), ('C161EEA83234', 'Lead', '142'), ('C161EEA83234', 'Lead', '143'), ('C161EEA83234', 'Lead', '144'), ('C161EEA83234', 'Lead', '145'), ('C161EEA83234', 'Lead', '146'), ('C161EEA83234', 'Lead', '147'), ('C161EEA83234', 'Lead', '148'), ('C161EEA83234', 'Lead', '149'), ('C161EEA83234', 'Lead', '150'), ('C161EEA83234', 'Lead', '151'), ('C161EEA83234', 'Lead', '152'), ('C161EEA83234', 'Lead', '153'), ('C161EEA83234', 'Lead', '153'), ('C161EEA83234', 'Lead', '154'), ('C161EEA83234', 'Lead', '155'), ('C161EEA83234', 'Lead', '156'), ('C161EEA83234', 'Lead', '157'), ('C161EEA83234', 'Lead', '158'), ('C161EEA83234', 'Lead', '159'), ('C161EEA83234', 'Lead', '160'), ('C161EEA83234', 'Lead', '161'), ('C161EEA83234', 'Lead', '161'), ('C161EEA83234', 'Lead', '161'), ('C161EEA83234', 'Lead', '162'), ('C161EEA83234', 'Lead', '163'), ('C161EEA83234', 'Lead', '164'), ('C161EEA83234', 'Lead', '165'), ('C161EEA83234', 'Lead', '166'), ('C161EEA83234', 'Lead', '167'), ('C161EEA83234', 'Lead', '168'), ('C161EEA83234', 'Lead', '169'), ('C161EEA83234', 'Lead', '170'), ('C161EEA83234', 'Lead', '171'), ('C161EEA83234', 'Lead', '172'), ('C161EEA83234', 'Lead', '173'), ('C161EEA83234', 'Lead', '174'), ('C161EEA83234', 'Lead', '175'), ('C161EEA83234', 'Lead', '175'), ('C161EEA83234', 'Lead', '176'), ('C161EEA83234', 'Lead', '177'), ('C161EEA83234', 'Lead', '178'), ('C161EEA83234', 'Lead', '179'), ('C161EEA83234', 'Lead', '180'), ('C161EEA83234', 'Lead', '181'), ('C161EEA83234', 'Lead', '182'), ('C161EEA83234', 'Lead', '183'), ('C161EEA83234', 'Lead', '184'), ('C161EEA83234', 'Lead', '185'), ('C161EEA83234', 'Lead', '186'), ('C161EEA83234', 'Lead', '187'), ('C161EEA83234', 'Lead', '188'), ('C161EEA83234', 'Lead', '189'), ('C161EEA83234', 'Lead', '190'), ('C161EEA83234', 'Lead', '191'), ('C161EEA83234', 'Lead', '192'), ('C161EEA83234', 'Lead', '193'), ('C161EEA83234', 'Lead', '194'), ('C161EEA83234', 'Lead', '195'), ('C161EEA83234', 'Lead', '195'), ('C161EEA83234', 'Lead', '196'), ('C161EEA83234', 'Lead', '197'), ('C161EEA83234', 'Lead', '198'), ('C161EEA83234', 'Lead', '199'), ('C161EEA83234', 'Lead', '199'), ('C161EEA83234', 'Lead', '200'), ('C161EEA83234', 'Lead', '201'), ('C161EEA83234', 'Lead', '202'), ('C161EEA83234', 'Lead', '202'), ('C161EEA83234', 'Lead', '203'), ('C161EEA83234', 'Lead', '203'), ('C161EEA83234', 'Lead', '204'), ('C161EEA83234', 'Lead', '205'), ('C161EEA83234', 'Lead', '206'), ('C161EEA83234', 'Lead', '207'), ('C161EEA83234', 'Lead', '207'), ('C161EEA83234', 'Lead', '207'), ('C161EEA83234', 'Lead', '207'), ('C161EEA83234', 'Lead', '207'), ('C161EEA83234', 'Lead', '207'), ('C161EEA83234', 'Lead', '208'), ('C161EEA83234', 'Lead', '209'), ('C161EEA83234', 'Lead', '210'), ('C161EEA83234', 'Lead', '211'), ('C161EEA83234', 'Lead', '212'), ('C161EEA83234', 'Lead', '213'), ('C161EEA83234', 'Lead', '214'), ('C161EEA83234', 'Lead', '215'), ('C161EEA83234', 'Lead', '216'), ('C161EEA83234', 'Lead', '217'), ('C161EEA83234', 'Lead', '218'), ('C161EEA83234', 'Lead', '219'), ('C161EEA83234', 'Lead', '220'), ('C161EEA83234', 'Lead', '221'), ('C161EEA83234', 'Lead', '222'), ('C161EEA83234', 'Lead', '223'), ('C161EEA83234', 'Lead', '224'), ('C161EEA83234', 'Lead', '225'), ('C161EEA83234', 'Lead', '225'), ('C161EEA83234', 'Lead', '226'), ('C161EEA83234', 'Lead', '227'), ('C161EEA83234', 'Lead', '228'), ('C161EEA83234', 'Lead', '229'), ('C161EEA83234', 'Lead', '230'), ('C161EEA83234', 'Lead', '231'), ('C161EEA83234', 'Lead', '232'), ('C161EEA83234', 'Lead', '233'), ('C161EEA83234', 'Lead', '234'), ('C161EEA83234', 'Lead', '235'), ('C161EEA83234', 'Lead', '236'), ('C161EEA83234', 'Lead', '237'), ('C161EEA83234', 'Lead', '238'), ('C161EEA83234', 'Lead', '239'), ('C161EEA83234', 'Lead', '240'), ('C161EEA83234', 'Lead', '241'), ('C161EEA83234', 'Lead', '242'), ('C161EEA83234', 'Lead', '243'), ('C161EEA83234', 'Lead', '244'), ('C161EEA83234', 'Lead', '245'), ('C161EEA83234', 'Lead', '246'), ('C161EEA83234', 'Lead', '246'), ('C161EEA83234', 'Lead', '247'), ('C161EEA83234', 'Lead', '248'), ('C161EEA83234', 'Lead', '249'), ('C161EEA83234', 'Lead', '250'), ('C161EEA83234', 'Lead', '251'), ('C161EEA83234', 'Lead', '251'), ('C161EEA83234', 'Lead', '252'), ('C161EEA83234', 'Lead', '253'), ('C161EEA83234', 'Lead', '254'), ('C161EEA83234', 'Lead', '255'), ('C161EEA83234', 'Lead', '256'), ('C161EEA83234', 'Lead', '257'), ('C161EEA83234', 'Lead', '258'), ('C161EEA83234', 'Lead', '259'), ('C161EEA83234', 'Lead', '260'), ('C161EEA83234', 'Lead', '261'), ('C161EEA83234', 'Lead', '262'), ('C161EEA83234', 'Lead', '263'), ('C161EEA83234', 'Lead', '264'), ('C161EEA83234', 'Lead', '265'), ('C161EEA83234', 'Lead', '266'), ('C161EEA83234', 'Lead', '267'), ('C161EEA83234', 'Lead', '268'), ('C161EEA83234', 'Lead', '269'), ('C161EEA83234', 'Lead', '270'), ('C161EEA83234', 'Lead', '271'), ('C161EEA83234', 'Lead', '271'), ('C161EEA83234', 'Lead', '271'), ('C161EEA83234', 'Lead', '271'), ('C161EEA83234', 'Lead', '271'), ('C161EEA83234', 'Lead', '271'), ('C161EEA83234', 'Lead', '271'), ('C161EEA83234', 'Lead', '271'), ('D5D31918A943', 'Lead', '0'), ('D5D31918A943', 'Lead', '1'), ('D5D31918A943', 'Lead', '1'), ('D5D31918A943', 'Lead', '2'), ('D5D31918A943', 'Lead', '3'), ('D5D31918A943', 'Lead', '3'), ('D5D31918A943', 'Lead', '4'), ('D5D31918A943', 'Lead', '5'), ('D5D31918A943', 'Lead', '5'), ('D5D31918A943', 'Lead', '5'), ('D5D31918A943', 'Lead', '5'), ('D5D31918A943', 'Lead', '6'), ('D5D31918A943', 'Lead', '7'), ('D5D31918A943', 'Lead', '8'), ('D5D31918A943', 'Lead', '9'), ('D5D31918A943', 'Lead', '10'), ('D5D31918A943', 'Lead', '11'), ('D5D31918A943', 'Lead', '12'), ('D5D31918A943', 'Lead', '13'), ('D5D31918A943', 'Lead', '14'), ('D5D31918A943', 'Lead', '15'), ('D5D31918A943', 'Lead', '16'), ('D5D31918A943', 'Lead', '17'), ('D5D31918A943', 'Lead', '18'), ('D5D31918A943', 'Lead', '19'), ('D5D31918A943', 'Lead', '19'), ('D5D31918A943', 'Lead', '20'), ('D5D31918A943', 'Lead', '20'), ('D5D31918A943', 'Lead', '20'), ('D5D31918A943', 'Lead', '21'), ('D5D31918A943', 'Lead', '22'), ('D5D31918A943', 'Lead', '22'), ('D5D31918A943', 'Lead', '23'), ('D5D31918A943', 'Lead', '23'), ('D5D31918A943', 'Lead', '24'), ('D5D31918A943', 'Lead', '24'), ('D5D31918A943', 'Lead', '25'), ('D5D31918A943', 'Lead', '26'), ('D5D31918A943', 'Lead', '27'), ('D5D31918A943', 'Lead', '28'), ('D5D31918A943', 'Lead', '29'), ('D5D31918A943', 'Lead', '30'), ('D5D31918A943', 'Lead', '31'), ('D5D31918A943', 'Lead', '32'), ('D5D31918A943', 'Lead', '33'), ('D5D31918A943', 'Lead', '34'), ('D5D31918A943', 'Lead', '35'), ('D5D31918A943', 'Lead', '36'), ('D5D31918A943', 'Lead', '37'), ('D5D31918A943', 'Lead', '38'), ('D5D31918A943', 'Lead', '39'), ('D5D31918A943', 'Lead', '40'), ('D5D31918A943', 'Lead', '41'), ('D5D31918A943', 'Lead', '42'), ('D5D31918A943', 'Lead', '43'), ('D5D31918A943', 'Lead', '44'), ('D5D31918A943', 'Lead', '44'), ('D5D31918A943', 'Lead', '45'), ('D5D31918A943', 'Lead', '46'), ('D5D31918A943', 'Lead', '47'), ('D5D31918A943', 'Lead', '48'), ('D5D31918A943', 'Lead', '49'), ('D5D31918A943', 'Lead', '50'), ('D5D31918A943', 'Lead', '51'), ('D5D31918A943', 'Lead', '52'), ('D5D31918A943', 'Lead', '53'), ('D5D31918A943', 'Lead', '54'), ('D5D31918A943', 'Lead', '55'), ('D5D31918A943', 'Lead', '55'), ('D5D31918A943', 'Lead', '56'), ('D5D31918A943', 'Lead', '57'), ('D5D31918A943', 'Lead', '58'), ('D5D31918A943', 'Lead', '59'), ('D5D31918A943', 'Lead', '59'), ('D5D31918A943', 'Lead', '60'), ('D5D31918A943', 'Lead', '61'), ('D5D31918A943', 'Lead', '62'), ('D5D31918A943', 'Lead', '63'), ('D5D31918A943', 'Lead', '64'), ('D5D31918A943', 'Lead', '65'), ('D5D31918A943', 'Lead', '66'), ('D5D31918A943', 'Lead', '67'), ('D5D31918A943', 'Lead', '68'), ('D5D31918A943', 'Lead', '69'), ('D5D31918A943', 'Lead', '70'), ('D5D31918A943', 'Lead', '71'), ('D5D31918A943', 'Lead', '72'), ('D5D31918A943', 'Lead', '73'), ('D5D31918A943', 'Lead', '74'), ('D5D31918A943', 'Lead', '75'), ('D5D31918A943', 'Lead', '76'), ('D5D31918A943', 'Lead', '77'), ('D5D31918A943', 'Lead', '77'), ('D5D31918A943', 'Lead', '78'), ('D5D31918A943', 'Lead', '79'), ('D5D31918A943', 'Lead', '80'), ('D5D31918A943', 'Lead', '81'), ('D5D31918A943', 'Lead', '82'), ('D5D31918A943', 'Lead', '83'), ('D5D31918A943', 'Lead', '84'), ('D5D31918A943', 'Lead', '85'), ('D5D31918A943', 'Lead', '86'), ('D5D31918A943', 'Lead', '87'), ('D5D31918A943', 'Lead', '88'), ('D5D31918A943', 'Lead', '89'), ('D5D31918A943', 'Lead', '90'), ('D5D31918A943', 'Lead', '91'), ('D5D31918A943', 'Lead', '92'), ('D5D31918A943', 'Lead', '93'), ('D5D31918A943', 'Lead', '94'), ('D5D31918A943', 'Lead', '95'), ('D5D31918A943', 'Lead', '96'), ('D5D31918A943', 'Lead', '97'), ('D5D31918A943', 'Lead', '98'), ('D5D31918A943', 'Lead', '99'), ('D5D31918A943', 'Lead', '100'), ('D5D31918A943', 'Lead', '101'), ('D5D31918A943', 'Lead', '102'), ('D5D31918A943', 'Lead', '102'), ('D5D31918A943', 'Lead', '102'), ('D5D31918A943', 'Lead', '102'), ('D5D31918A943', 'Lead', '102'), ('D5D31918A943', 'Lead', '102'), ('D5D31918A943', 'Lead', '103'), ('D5D31918A943', 'Lead', '104'), ('D5D31918A943', 'Lead', '105'), ('D5D31918A943', 'Lead', '106'), ('D5D31918A943', 'Lead', '107'), ('D5D31918A943', 'Lead', '108'), ('D5D31918A943', 'Lead', '109'), ('D5D31918A943', 'Lead', '110'), ('D5D31918A943', 'Lead', '110'), ('D5D31918A943', 'Lead', '111'), ('D5D31918A943', 'Lead', '112'), ('D5D31918A943', 'Lead', '113'), ('D5D31918A943', 'Lead', '114'), ('D5D31918A943', 'Lead', '115'), ('D5D31918A943', 'Lead', '116'), ('D5D31918A943', 'Lead', '117'), ('D5D31918A943', 'Lead', '118'), ('D5D31918A943', 'Lead', '119'), ('D5D31918A943', 'Lead', '120'), ('D5D31918A943', 'Lead', '121'), ('D5D31918A943', 'Lead', '121'), ('D5D31918A943', 'Lead', '122'), ('D5D31918A943', 'Lead', '122'), ('D5D31918A943', 'Lead', '123'), ('D5D31918A943', 'Lead', '124'), ('D5D31918A943', 'Lead', '125'), ('D5D31918A943', 'Lead', '126'), ('D5D31918A943', 'Lead', '127'), ('D5D31918A943', 'Lead', '128'), ('D5D31918A943', 'Lead', '129'), ('D5D31918A943', 'Lead', '130'), ('D5D31918A943', 'Lead', '131'), ('D5D31918A943', 'Lead', '132'), ('D5D31918A943', 'Lead', '133'), ('D5D31918A943', 'Lead', '134'), ('D5D31918A943', 'Lead', '135'), ('D5D31918A943', 'Lead', '136'), ('D5D31918A943', 'Lead', '137'), ('D5D31918A943', 'Lead', '138'), ('D5D31918A943', 'Lead', '139'), ('D5D31918A943', 'Lead', '139'), ('D5D31918A943', 'Lead', '140'), ('D5D31918A943', 'Lead', '141'), ('D5D31918A943', 'Lead', '142'), ('D5D31918A943', 'Lead', '143'), ('D5D31918A943', 'Lead', '144'), ('D5D31918A943', 'Lead', '145'), ('D5D31918A943', 'Lead', '146'), ('D5D31918A943', 'Lead', '146'), ('D5D31918A943', 'Lead', '147'), ('D5D31918A943', 'Lead', '148'), ('D5D31918A943', 'Lead', '149'), ('D5D31918A943', 'Lead', '150'), ('D5D31918A943', 'Lead', '151'), ('D5D31918A943', 'Lead', '152'), ('D5D31918A943', 'Lead', '153'), ('D5D31918A943', 'Lead', '154'), ('D5D31918A943', 'Lead', '154'), ('D5D31918A943', 'Lead', '155'), ('D5D31918A943', 'Lead', '156'), ('D5D31918A943', 'Lead', '157'), ('D5D31918A943', 'Lead', '158'), ('D5D31918A943', 'Lead', '159'), ('D5D31918A943', 'Lead', '160'), ('D5D31918A943', 'Lead', '161'), ('D5D31918A943', 'Lead', '162'), ('D5D31918A943', 'Lead', '163'), ('D5D31918A943', 'Lead', '164'), ('D5D31918A943', 'Lead', '165'), ('D5D31918A943', 'Lead', '165'), ('D5D31918A943', 'Lead', '166'), ('D5D31918A943', 'Lead', '167'), ('D5D31918A943', 'Lead', '168'), ('D5D31918A943', 'Lead', '169'), ('D5D31918A943', 'Lead', '170'), ('D5D31918A943', 'Lead', '171'), ('D5D31918A943', 'Lead', '172'), ('D5D31918A943', 'Lead', '173'), ('D5D31918A943', 'Lead', '173'), ('D5D31918A943', 'Lead', '173'), ('D5D31918A943', 'Lead', '173'), ('D5D31918A943', 'Lead', '173'), ('D5D31918A943', 'Lead', '174'), ('D5D31918A943', 'Lead', '175'), ('D5D31918A943', 'Lead', '176'), ('D5D31918A943', 'Lead', '177'), ('D5D31918A943', 'Lead', '178'), ('D5D31918A943', 'Lead', '179'), ('D5D31918A943', 'Lead', '180'), ('D5D31918A943', 'Lead', '181'), ('D5D31918A943', 'Lead', '182'), ('D5D31918A943', 'Lead', '183'), ('D5D31918A943', 'Lead', '184'), ('D5D31918A943', 'Lead', '185'), ('D5D31918A943', 'Lead', '186'), ('D5D31918A943', 'Lead', '187'), ('D5D31918A943', 'Lead', '188'), ('D5D31918A943', 'Lead', '189'), ('D5D31918A943', 'Lead', '189'), ('D5D31918A943', 'Lead', '190'), ('D5D31918A943', 'Lead', '191'), ('D5D31918A943', 'Lead', '192'), ('D5D31918A943', 'Lead', '193'), ('D5D31918A943', 'Lead', '194'), ('D5D31918A943', 'Lead', '195'), ('D5D31918A943', 'Lead', '196'), ('D5D31918A943', 'Lead', '197'), ('D5D31918A943', 'Lead', '198'), ('D5D31918A943', 'Lead', '199'), ('D5D31918A943', 'Lead', '200'), ('D5D31918A943', 'Lead', '201'), ('D5D31918A943', 'Lead', '202'), ('D5D31918A943', 'Lead', '203'), ('D5D31918A943', 'Lead', '204'), ('D5D31918A943', 'Lead', '205'), ('D5D31918A943', 'Lead', '206'), ('D5D31918A943', 'Lead', '207'), ('D5D31918A943', 'Lead', '207'), ('D5D31918A943', 'Lead', '208'), ('D5D31918A943', 'Lead', '208'), ('D5D31918A943', 'Lead', '209'), ('D5D31918A943', 'Lead', '210'), ('D5D31918A943', 'Lead', '211'), ('D5D31918A943', 'Lead', '212'), ('D5D31918A943', 'Lead', '213'), ('D5D31918A943', 'Lead', '214'), ('D5D31918A943', 'Lead', '215'), ('D5D31918A943', 'Lead', '215'), ('D5D31918A943', 'Lead', '216'), ('D5D31918A943', 'Lead', '217'), ('D5D31918A943', 'Lead', '217'), ('D5D31918A943', 'Lead', '218'), ('D5D31918A943', 'Lead', '219'), ('D5D31918A943', 'Lead', '220'), ('D5D31918A943', 'Lead', '221'), ('D5D31918A943', 'Lead', '222'), ('D5D31918A943', 'Lead', '223'), ('D5D31918A943', 'Lead', '224'), ('D5D31918A943', 'Lead', '225'), ('D5D31918A943', 'Lead', '226'), ('D5D31918A943', 'Lead', '227'), ('D5D31918A943', 'Lead', '228'), ('D5D31918A943', 'Lead', '229'), ('D5D31918A943', 'Lead', '230'), ('D5D31918A943', 'Lead', '231'), ('D5D31918A943', 'Lead', '232'), ('D5D31918A943', 'Lead', '232'), ('D5D31918A943', 'Lead', '233'), ('D5D31918A943', 'Lead', '234'), ('D5D31918A943', 'Lead', '235'), ('D5D31918A943', 'Lead', '236'), ('D5D31918A943', 'Lead', '237'), ('D5D31918A943', 'Lead', '238'), ('D5D31918A943', 'Lead', '239'), ('D5D31918A943', 'Lead', '240'), ('D5D31918A943', 'Lead', '241'), ('D5D31918A943', 'Lead', '242'), ('D5D31918A943', 'Lead', '243'), ('D5D31918A943', 'Lead', '243'), ('D5D31918A943', 'Lead', '243'), ('D5D31918A943', 'Lead', '243'), ('D5D31918A943', 'Lead', '243'), ('D5D31918A943', 'Lead', '244'), ('D5D31918A943', 'Lead', '244'), ('D5D31918A943', 'Lead', '245'), ('D5D31918A943', 'Lead', '246'), ('D5D31918A943', 'Lead', '247'), ('D5D31918A943', 'Lead', '248'), ('D5D31918A943', 'Lead', '249'), ('D5D31918A943', 'Lead', '250'), ('D5D31918A943', 'Lead', '251'), ('D5D31918A943', 'Lead', '252'), ('D5D31918A943', 'Lead', '253'), ('D5D31918A943', 'Lead', '254'), ('D5D31918A943', 'Lead', '255'), ('D5D31918A943', 'Lead', '256'), ('D5D31918A943', 'Lead', '257'), ('D5D31918A943', 'Lead', '258'), ('D5D31918A943', 'Lead', '259'), ('D5D31918A943', 'Lead', '260'), ('D5D31918A943', 'Lead', '261'), ('D5D31918A943', 'Lead', '262'), ('D5D31918A943', 'Lead', '263'), ('D5D31918A943', 'Lead', '264'), ('D5D31918A943', 'Lead', '265'), ('D5D31918A943', 'Lead', '266'), ('D5D31918A943', 'Lead', '267'), ('D5D31918A943', 'Lead', '268'), ('D5D31918A943', 'Lead', '269'), ('D5D31918A943', 'Lead', '269'), ('D5D31918A943', 'Lead', '270'), ('D5D31918A943', 'Lead', '271'), ('D5D31918A943', 'Lead', '272'), ('D5D31918A943', 'Lead', '273'), ('D5D31918A943', 'Lead', '274'), ('D5D31918A943', 'Lead', '275'), ('D5D31918A943', 'Lead', '276'), ('D5D31918A943', 'Lead', '277'), ('D5D31918A943', 'Lead', '278'), ('D5D31918A943', 'Lead', '279'), ('D5D31918A943', 'Lead', '280'), ('D5D31918A943', 'Lead', '281'), ('D5D31918A943', 'Lead', '282'), ('D5D31918A943', 'Lead', '283'), ('D5D31918A943', 'Lead', '284'), ('D5D31918A943', 'Lead', '284'), ('D5D31918A943', 'Lead', '285'), ('D5D31918A943', 'Lead', '286'), ('D5D31918A943', 'Lead', '287'), ('D5D31918A943', 'Lead', '288'), ('D5D31918A943', 'Lead', '289'), ('D5D31918A943', 'Lead', '290'), ('D5D31918A943', 'Lead', '290'), ('D5D31918A943', 'Lead', '291'), ('D5D31918A943', 'Lead', '292'), ('D5D31918A943', 'Lead', '293'), ('D5D31918A943', 'Lead', '294'), ('D5D31918A943', 'Lead', '295'), ('D5D31918A943', 'Lead', '296'), ('D5D31918A943', 'Lead', '297'), ('D5D31918A943', 'Lead', '298'), ('D5D31918A943', 'Lead', '299'), ('D5D31918A943', 'Lead', '300'), ('D5D31918A943', 'Lead', '301'), ('D5D31918A943', 'Lead', '302'), ('D5D31918A943', 'Lead', '303'), ('D5D31918A943', 'Lead', '304'), ('D5D31918A943', 'Lead', '305'), ('D5D31918A943', 'Lead', '305'), ('D5D31918A943', 'Lead', '305'), ('D5D31918A943', 'Lead', '306'), ('D5D31918A943', 'Lead', '307'), ('D5D31918A943', 'Lead', '308'), ('D5D31918A943', 'Lead', '309'), ('D5D31918A943', 'Lead', '309'), ('D5D31918A943', 'Lead', '310'), ('D5D31918A943', 'Lead', '310'), ('D5D31918A943', 'Lead', '310'), ('D5D31918A943', 'Lead', '310'), ('D5D31918A943', 'Lead', '311'), ('D5D31918A943', 'Lead', '311'), ('D5D31918A943', 'Lead', '312'), ('D5D31918A943', 'Lead', '313'), ('D5D31918A943', 'Lead', '314'), ('D5D31918A943', 'Lead', '315'), ('D5D31918A943', 'Lead', '316'), ('D5D31918A943', 'Lead', '317'), ('D5D31918A943', 'Lead', '318'), ('D5D31918A943', 'Lead', '319'), ('D5D31918A943', 'Lead', '320'), ('D5D31918A943', 'Lead', '320'), ('D5D31918A943', 'Lead', '321'), ('D5D31918A943', 'Lead', '322'), ('D5D31918A943', 'Lead', '323'), ('D5D31918A943', 'Lead', '324'), ('D5D31918A943', 'Lead', '325'), ('D5D31918A943', 'Lead', '326'), ('D5D31918A943', 'Lead', '327'), ('D5D31918A943', 'Lead', '327'), ('D5D31918A943', 'Lead', '328'), ('D5D31918A943', 'Lead', '329'), ('D5D31918A943', 'Lead', '330'), ('D5D31918A943', 'Lead', '331'), ('D5D31918A943', 'Lead', '332'), ('D5D31918A943', 'Lead', '333'), ('D5D31918A943', 'Lead', '334'), ('D5D31918A943', 'Lead', '335'), ('D5D31918A943', 'Lead', '336'), ('D5D31918A943', 'Lead', '337'), ('D5D31918A943', 'Lead', '338'), ('D5D31918A943', 'Lead', '339'), ('D5D31918A943', 'Lead', '340'), ('D5D31918A943', 'Lead', '341'), ('D5D31918A943', 'Lead', '342'), ('D5D31918A943', 'Lead', '343'), ('D5D31918A943', 'Lead', '344'), ('D5D31918A943', 'Lead', '344'), ('D5D31918A943', 'Lead', '345'), ('D5D31918A943', 'Lead', '346'), ('D5D31918A943', 'Lead', '347'), ('D5D31918A943', 'Lead', '347'), ('D5D31918A943', 'Lead', '348'), ('D5D31918A943', 'Lead', '349'), ('D5D31918A943', 'Lead', '350'), ('D5D31918A943', 'Lead', '351'), ('D5D31918A943', 'Lead', '352'), ('D5D31918A943', 'Lead', '353'), ('D5D31918A943', 'Lead', '353'), ('D5D31918A943', 'Lead', '354'), ('D5D31918A943', 'Lead', '355'), ('D5D31918A943', 'Lead', '356'), ('D5D31918A943', 'Lead', '357'), ('D5D31918A943', 'Lead', '358'), ('D5D31918A943', 'Lead', '359'), ('D5D31918A943', 'Lead', '360'), ('D5D31918A943', 'Lead', '361'), ('D5D31918A943', 'Lead', '362'), ('D5D31918A943', 'Lead', '363'), ('D5D31918A943', 'Lead', '364'), ('D5D31918A943', 'Lead', '365'), ('D5D31918A943', 'Lead', '366'), ('D5D31918A943', 'Lead', '367'), ('D5D31918A943', 'Lead', '367'), ('D5D31918A943', 'Lead', '368'), ('D5D31918A943', 'Lead', '369'), ('D5D31918A943', 'Lead', '370'), ('D5D31918A943', 'Lead', '371'), ('D5D31918A943', 'Lead', '372'), ('D5D31918A943', 'Lead', '373'), ('D5D31918A943', 'Lead', '373'), ('D5D31918A943', 'Lead', '374'), ('D5D31918A943', 'Lead', '375'), ('D5D31918A943', 'Lead', '376'), ('D5D31918A943', 'Lead', '377'), ('D5D31918A943', 'Lead', '378'), ('D5D31918A943', 'Lead', '379'), ('D5D31918A943', 'Lead', '380'), ('D5D31918A943', 'Lead', '381'), ('D5D31918A943', 'Lead', '382'), ('D5D31918A943', 'Lead', '383'), ('D5D31918A943', 'Lead', '384'), ('D5D31918A943', 'Lead', '385'), ('D5D31918A943', 'Lead', '385'), ('D5D31918A943', 'Lead', '386'), ('D5D31918A943', 'Lead', '387'), ('D5D31918A943', 'Lead', '388'), ('D5D31918A943', 'Lead', '389'), ('D5D31918A943', 'Lead', '389'), ('D5D31918A943', 'Lead', '390'), ('D5D31918A943', 'Lead', '391'), ('D5D31918A943', 'Lead', '392'), ('D5D31918A943', 'Lead', '393'), ('D5D31918A943', 'Lead', '394'), ('D5D31918A943', 'Lead', '395'), ('D5D31918A943', 'Lead', '396'), ('D5D31918A943', 'Lead', '397'), ('D5D31918A943', 'Lead', '398'), ('D5D31918A943', 'Lead', '398'), ('D5D31918A943', 'Lead', '399'), ('D5D31918A943', 'Lead', '400'), ('D5D31918A943', 'Lead', '401'), ('D5D31918A943', 'Lead', '402'), ('D5D31918A943', 'Lead', '403'), ('D5D31918A943', 'Lead', '404'), ('D5D31918A943', 'Lead', '404'), ('D5D31918A943', 'Lead', '404'), ('D5D31918A943', 'Lead', '404'), ('D5D31918A943', 'Lead', '404'), ('D5D31918A943', 'Lead', '405'), ('D5D31918A943', 'Lead', '406'), ('D5D31918A943', 'Lead', '407'), ('D5D31918A943', 'Lead', '408'), ('D5D31918A943', 'Lead', '409'), ('D5D31918A943', 'Lead', '410'), ('D5D31918A943', 'Lead', '411'), ('D5D31918A943', 'Lead', '412'), ('D5D31918A943', 'Lead', '413'), ('D5D31918A943', 'Lead', '414'), ('D5D31918A943', 'Lead', '415'), ('D5D31918A943', 'Lead', '416'), ('D5D31918A943', 'Lead', '417'), ('D5D31918A943', 'Lead', '418'), ('D5D31918A943', 'Lead', '419'), ('D5D31918A943', 'Lead', '420'), ('D5D31918A943', 'Lead', '421'), ('D5D31918A943', 'Lead', '422'), ('D5D31918A943', 'Lead', '422'), ('D5D31918A943', 'Lead', '423'), ('D5D31918A943', 'Lead', '424'), ('D5D31918A943', 'Lead', '425'), ('D5D31918A943', 'Lead', '426'), ('D5D31918A943', 'Lead', '427'), ('D5D31918A943', 'Lead', '428'), ('D5D31918A943', 'Lead', '429'), ('D5D31918A943', 'Lead', '430'), ('D5D31918A943', 'Lead', '431'), ('D5D31918A943', 'Lead', '432'), ('D5D31918A943', 'Lead', '432'), ('D5D31918A943', 'Lead', '433'), ('D5D31918A943', 'Lead', '433'), ('D5D31918A943', 'Lead', '433'), ('D5D31918A943', 'Lead', '433'), ('D5D31918A943', 'Lead', '433'), ('D5D31918A943', 'Lead', '433'), ('D5D31918A943', 'Lead', '434'), ('D5D31918A943', 'Lead', '434'), ('D5D31918A943', 'Lead', '435'), ('D5D31918A943', 'Lead', '435'), ('D5D31918A943', 'Lead', '436'), ('D5D31918A943', 'Lead', '437'), ('D5D31918A943', 'Lead', '438'), ('D5D31918A943', 'Lead', '439'), ('D5D31918A943', 'Lead', '440'), ('D5D31918A943', 'Lead', '441'), ('D5D31918A943', 'Lead', '442'), ('D5D31918A943', 'Lead', '443'), ('D5D31918A943', 'Lead', '444'), ('D5D31918A943', 'Lead', '445'), ('D5D31918A943', 'Lead', '446'), ('D5D31918A943', 'Lead', '446'), ('D5D31918A943', 'Lead', '447'), ('D5D31918A943', 'Lead', '448'), ('D5D31918A943', 'Lead', '449'), ('D5D31918A943', 'Lead', '450'), ('D5D31918A943', 'Lead', '451'), ('D5D31918A943', 'Lead', '452'), ('D5D31918A943', 'Lead', '453'), ('D5D31918A943', 'Lead', '454'), ('D5D31918A943', 'Lead', '454'), ('D5D31918A943', 'Lead', '455'), ('D5D31918A943', 'Lead', '456'), ('D5D31918A943', 'Lead', '457'), ('D5D31918A943', 'Lead', '458'), ('D5D31918A943', 'Lead', '459'), ('D5D31918A943', 'Lead', '460'), ('D5D31918A943', 'Lead', '461'), ('D5D31918A943', 'Lead', '462'), ('D5D31918A943', 'Lead', '463'), ('D5D31918A943', 'Lead', '464'), ('D5D31918A943', 'Lead', '465'), ('D5D31918A943', 'Lead', '465'), ('D5D31918A943', 'Lead', '466'), ('D5D31918A943', 'Lead', '467'), ('D5D31918A943', 'Lead', '468'), ('D5D31918A943', 'Lead', '469'), ('D5D31918A943', 'Lead', '470'), ('D5D31918A943', 'Lead', '471'), ('D5D31918A943', 'Lead', '471'), ('D5D31918A943', 'Lead', '472'), ('D5D31918A943', 'Lead', '473'), ('D5D31918A943', 'Lead', '474'), ('D5D31918A943', 'Lead', '475'), ('D5D31918A943', 'Lead', '476'), ('D5D31918A943', 'Lead', '477'), ('D5D31918A943', 'Lead', '478'), ('D5D31918A943', 'Lead', '479'), ('D5D31918A943', 'Lead', '480'), ('D5D31918A943', 'Lead', '481'), ('D5D31918A943', 'Lead', '482'), ('D5D31918A943', 'Lead', '483'), ('D5D31918A943', 'Lead', '483'), ('D5D31918A943', 'Lead', '484'), ('D5D31918A943', 'Lead', '485'), ('D5D31918A943', 'Lead', '486'), ('D5D31918A943', 'Lead', '487'), ('D5D31918A943', 'Lead', '488'), ('D5D31918A943', 'Lead', '489'), ('D5D31918A943', 'Lead', '490'), ('D5D31918A943', 'Lead', '491'), ('D5D31918A943', 'Lead', '492'), ('D5D31918A943', 'Lead', '493'), ('D5D31918A943', 'Lead', '494'), ('D5D31918A943', 'Lead', '495'), ('D5D31918A943', 'Lead', '496'), ('D5D31918A943', 'Lead', '497'), ('D5D31918A943', 'Lead', '498'), ('D5D31918A943', 'Lead', '499'), ('D5D31918A943', 'Lead', '500'), ('D5D31918A943', 'Lead', '501'), ('D5D31918A943', 'Lead', '502'), ('D5D31918A943', 'Lead', '503'), ('D5D31918A943', 'Lead', '504'), ('D5D31918A943', 'Lead', '505'), ('D5D31918A943', 'Lead', '506'), ('D5D31918A943', 'Lead', '506'), ('D5D31918A943', 'Lead', '507'), ('D5D31918A943', 'Lead', '508'), ('D5D31918A943', 'Lead', '509'), ('D5D31918A943', 'Lead', '510'), ('D5D31918A943', 'Lead', '511'), ('D5D31918A943', 'Lead', '512'), ('D5D31918A943', 'Lead', '513'), ('D5D31918A943', 'Lead', '514'), ('D5D31918A943', 'Lead', '515'), ('D5D31918A943', 'Lead', '516'), ('D5D31918A943', 'Lead', '516'), ('D5D31918A943', 'Lead', '517'), ('D5D31918A943', 'Lead', '518'), ('D5D31918A943', 'Lead', '519'), ('D5D31918A943', 'Lead', '520'), ('D5D31918A943', 'Lead', '521'), ('D5D31918A943', 'Lead', '522'), ('D5D31918A943', 'Lead', '523'), ('D5D31918A943', 'Lead', '524'), ('D5D31918A943', 'Lead', '525'), ('D5D31918A943', 'Lead', '525'), ('D5D31918A943', 'Lead', '526'), ('D5D31918A943', 'Lead', '527'), ('D5D31918A943', 'Lead', '528'), ('D5D31918A943', 'Lead', '529'), ('D5D31918A943', 'Lead', '530'), ('D5D31918A943', 'Lead', '531'), ('D5D31918A943', 'Lead', '532'), ('D5D31918A943', 'Lead', '533'), ('D5D31918A943', 'Lead', '534'), ('D5D31918A943', 'Lead', '535'), ('D5D31918A943', 'Lead', '536'), ('D5D31918A943', 'Lead', '537'), ('D5D31918A943', 'Lead', '538'), ('D5D31918A943', 'Lead', '538'), ('D5D31918A943', 'Lead', '538'), ('D5D31918A943', 'Lead', '538'), ('D5D31918A943', 'Lead', '538'), ('D5D31918A943', 'Lead', '538'), ('D5D31918A943', 'Lead', '539'), ('D5D31918A943', 'Lead', '540'), ('D5D31918A943', 'Lead', '541'), ('D5D31918A943', 'Lead', '542'), ('D5D31918A943', 'Lead', '543'), ('D5D31918A943', 'Lead', '544'), ('D5D31918A943', 'Lead', '545'), ('D5D31918A943', 'Lead', '546'), ('D5D31918A943', 'Lead', '547'), ('D5D31918A943', 'Lead', '548'), ('D5D31918A943', 'Lead', '549'), ('D5D31918A943', 'Lead', '550'), ('D5D31918A943', 'Lead', '551'), ('D5D31918A943', 'Lead', '552'), ('D5D31918A943', 'Lead', '553'), ('D5D31918A943', 'Lead', '554'), ('D5D31918A943', 'Lead', '555'), ('D5D31918A943', 'Lead', '556'), ('D5D31918A943', 'Lead', '557'), ('D5D31918A943', 'Lead', '558'), ('D5D31918A943', 'Lead', '558'), ('D5D31918A943', 'Lead', '559'), ('D5D31918A943', 'Lead', '559'), ('D5D31918A943', 'Lead', '560'), ('D5D31918A943', 'Lead', '561'), ('D5D31918A943', 'Lead', '562'), ('D5D31918A943', 'Lead', '563'), ('D5D31918A943', 'Lead', '564'), ('D5D31918A943', 'Lead', '565'), ('D5D31918A943', 'Lead', '566'), ('D5D31918A943', 'Lead', '567'), ('D5D31918A943', 'Lead', '568'), ('D5D31918A943', 'Lead', '569'), ('D5D31918A943', 'Lead', '570'), ('D5D31918A943', 'Lead', '571'), ('D5D31918A943', 'Lead', '572'), ('D5D31918A943', 'Lead', '572'), ('D5D31918A943', 'Lead', '573'), ('D5D31918A943', 'Lead', '574'), ('D5D31918A943', 'Lead', '575'), ('D5D31918A943', 'Lead', '576'), ('D5D31918A943', 'Lead', '576'), ('D5D31918A943', 'Lead', '577'), ('D5D31918A943', 'Lead', '578'), ('D5D31918A943', 'Lead', '579'), ('D5D31918A943', 'Lead', '580'), ('D5D31918A943', 'Lead', '581'), ('D5D31918A943', 'Lead', '582'), ('D5D31918A943', 'Lead', '582'), ('D5D31918A943', 'Lead', '583'), ('D5D31918A943', 'Lead', '584'), ('D5D31918A943', 'Lead', '585'), ('D5D31918A943', 'Lead', '586'), ('D5D31918A943', 'Lead', '587'), ('D5D31918A943', 'Lead', '588'), ('D5D31918A943', 'Lead', '589'), ('D5D31918A943', 'Lead', '590'), ('D5D31918A943', 'Lead', '591'), ('D5D31918A943', 'Lead', '592'), ('D5D31918A943', 'Lead', '593'), ('D5D31918A943', 'Lead', '594'), ('D5D31918A943', 'Lead', '595'), ('D5D31918A943', 'Lead', '596'), ('D5D31918A943', 'Lead', '597'), ('D5D31918A943', 'Lead', '597'), ('D5D31918A943', 'Lead', '598'), ('D5D31918A943', 'Lead', '599'), ('D5D31918A943', 'Lead', '600'), ('D5D31918A943', 'Lead', '601'), ('D5D31918A943', 'Lead', '602'), ('D5D31918A943', 'Lead', '603'), ('D5D31918A943', 'Lead', '604'), ('D5D31918A943', 'Lead', '605'), ('D5D31918A943', 'Lead', '606'), ('D5D31918A943', 'Lead', '607'), ('D5D31918A943', 'Lead', '607'), ('D5D31918A943', 'Lead', '608'), ('D5D31918A943', 'Lead', '609'), ('D5D31918A943', 'Lead', '610'), ('D5D31918A943', 'Lead', '611'), ('D5D31918A943', 'Lead', '612'), ('D5D31918A943', 'Lead', '613'), ('D5D31918A943', 'Lead', '614'), ('D5D31918A943', 'Lead', '615'), ('D5D31918A943', 'Lead', '616'), ('D5D31918A943', 'Lead', '617'), ('D5D31918A943', 'Lead', '618'), ('D5D31918A943', 'Lead', '619'), ('D5D31918A943', 'Lead', '620'), ('D5D31918A943', 'Lead', '621'), ('D5D31918A943', 'Lead', '622'), ('D5D31918A943', 'Lead', '623'), ('D5D31918A943', 'Lead', '624'), ('D5D31918A943', 'Lead', '625'), ('D5D31918A943', 'Lead', '625'), ('D5D31918A943', 'Lead', '625'), ('D5D31918A943', 'Lead', '625'), ('D5D31918A943', 'Lead', '625'), ('D5D31918A943', 'Lead', '626'), ('D5D31918A943', 'Lead', '626'), ('D5D31918A943', 'Lead', '626'), ('D5D31918A943', 'Lead', '626'), ('D5D31918A943', 'Lead', '626'), ('D5D31918A943', 'Lead', '626'), ('D5D31918A943', 'Lead', '627'), ('D5D31918A943', 'Lead', '627'), ('D5D31918A943', 'Lead', '627'), ('D5D31918A943', 'Lead', '628'), ('D5D31918A943', 'Lead', '628'), ('D5D31918A943', 'Lead', '628'), ('D5D31918A943', 'Lead', '628'), ('D5D31918A943', 'Lead', '628'), ('D5D31918A943', 'Lead', '629'), ('D5D31918A943', 'Lead', '629'), ('D5D31918A943', 'Lead', '629'), ('D5D31918A943', 'Lead', '630'), ('D5D31918A943', 'Lead', '630'), ('D5D31918A943', 'Lead', '631'), ('D5D31918A943', 'Lead', '631'), ('D5D31918A943', 'Lead', '632'), ('D5D31918A943', 'Lead', '633'), ('D5D31918A943', 'Lead', '633'), ('D5D31918A943', 'Lead', '634'), ('D5D31918A943', 'Lead', '635'), ('D5D31918A943', 'Lead', '635'), ('D5D31918A943', 'Lead', '636'), ('D5D31918A943', 'Lead', '636'), ('D5D31918A943', 'Lead', '636'), ('D5D31918A943', 'Lead', '636'), ('D5D31918A943', 'Lead', '637'), ('D5D31918A943', 'Lead', '638'), ('D5D31918A943', 'Lead', '639'), ('D5D31918A943', 'Lead', '639'), ('D5D31918A943', 'Lead', '640'), ('D5D31918A943', 'Lead', '640'), ('D5D31918A943', 'Lead', '641'), ('D5D31918A943', 'Lead', '641'), ('D5D31918A943', 'Lead', '641'), ('D5D31918A943', 'Lead', '641'), ('D5D31918A943', 'Lead', '641'), ('D5D31918A943', 'Lead', '642'), ('D5D31918A943', 'Lead', '642'), ('D5D31918A943', 'Lead', '642'), ('D5D31918A943', 'Lead', '642'), ('D5D31918A943', 'Lead', '642'), ('D5D31918A943', 'Lead', '642'), ('D5D31918A943', 'Lead', '642'), ('D5D31918A943', 'Lead', '642'), ('D5D31918A943', 'Lead', '642'), ('D5D31918A943', 'Lead', '642'), ('D5D31918A943', 'Lead', '642'), ('D5D31918A943', 'Lead', '642'), ('D5D31918A943', 'Lead', '642'), ('D5D31918A943', 'Lead', '642'), ('D5D31918A943', 'Lead', '642'), ('D5D31918A943', 'Lead', '642'), ('D5D31918A943', 'Lead', '642'), ('D5D31918A943', 'Lead', '642'), ('D5D31918A943', 'Lead', '642'), ('D5D31918A943', 'Lead', '642'), ('D5D31918A943', 'Lead', '642'), ('D5D31918A943', 'Lead', '643'), ('D5D31918A943', 'Lead', '643'), ('D5D31918A943', 'Lead', '644'), ('D5D31918A943', 'Lead', '644'), ('D5D31918A943', 'Lead', '644'), ('D5D31918A943', 'Lead', '644'), ('D5D31918A943', 'Lead', '645'), ('D5D31918A943', 'Lead', '646'), ('D5D31918A943', 'Lead', '647'), ('D5D31918A943', 'Lead', '648'), ('D5D31918A943', 'Lead', '649'), ('D5D31918A943', 'Lead', '649'), ('D5D31918A943', 'Lead', '650'), ('D5D31918A943', 'Lead', '651'), ('D5D31918A943', 'Lead', '652'), ('D5D31918A943', 'Lead', '653'), ('D5D31918A943', 'Lead', '653'), ('D5D31918A943', 'Lead', '654'), ('D5D31918A943', 'Lead', '655'), ('D5D31918A943', 'Lead', '656'), ('D5D31918A943', 'Lead', '656'), ('D5D31918A943', 'Lead', '657'), ('D5D31918A943', 'Lead', '658'), ('D5D31918A943', 'Lead', '659'), ('D5D31918A943', 'Lead', '659'), ('D5D31918A943', 'Lead', '660'), ('D5D31918A943', 'Lead', '660'), ('D5D31918A943', 'Lead', '661'), ('D5D31918A943', 'Lead', '661'), ('D5D31918A943', 'Lead', '661'), ('D5D31918A943', 'Lead', '661'), ('D5D31918A943', 'Lead', '661'), ('D5D31918A943', 'Lead', '662'), ('D5D31918A943', 'Lead', '662'), ('D5D31918A943', 'Lead', '662'), ('D5D31918A943', 'Lead', '662'), ('D5D31918A943', 'Lead', '662'), ('D5D31918A943', 'Lead', '662'), ('D5D31918A943', 'Lead', '662'), ('D5D31918A943', 'Lead', '662'), ('D5D31918A943', 'Lead', '662'), ('D5D31918A943', 'Lead', '662'), ('D5D31918A943', 'Lead', '662'), ('D5D31918A943', 'Lead', '662'), ('D5D31918A943', 'Lead', '662'), ('D5D31918A943', 'Lead', '662'), ('D5D31918A943', 'Lead', '662'), ('D5D31918A943', 'Lead', '662'), ('D5D31918A943', 'Lead', '662'), ('D5D31918A943', 'Lead', '662'), ('D5D31918A943', 'Lead', '662'), ('D5D31918A943', 'Lead', '662'), ('D5D31918A943', 'Lead', '662'), ('D5D31918A943', 'Lead', '662'), ('D5D31918A943', 'Lead', '662'), ('D5D31918A943', 'Lead', '662'), ('D5D31918A943', 'Lead', '662'), ('D5D31918A943', 'Lead', '662'), ('D5D31918A943', 'Lead', '662'), ('D5D31918A943', 'Lead', '662'), ('D5D31918A943', 'Lead', '662'), ('D5D31918A943', 'Lead', '662'), ('D5D31918A943', 'Lead', '662'), ('D5D31918A943', 'Lead', '662'), ('D5D31918A943', 'Lead', '662'), ('D5D31918A943', 'Lead', '662'), ('D5D31918A943', 'Lead', '662'), ('D5D31918A943', 'Lead', '663'), ('D5D31918A943', 'Lead', '663'), ('D5D31918A943', 'Lead', '663'), ('D5D31918A943', 'Lead', '664'), ('D5D31918A943', 'Lead', '665'), ('D5D31918A943', 'Lead', '666'), ('D5D31918A943', 'Lead', '666'), ('D5D31918A943', 'Lead', '667'), ('D5D31918A943', 'Lead', '667'), ('D5D31918A943', 'Lead', '668'), ('D5D31918A943', 'Lead', '668'), ('D5D31918A943', 'Lead', '668'), ('D5D31918A943', 'Lead', '668'), ('D5D31918A943', 'Lead', '668'), ('D5D31918A943', 'Lead', '668'), ('D5D31918A943', 'Lead', '669'), ('D5D31918A943', 'Lead', '669'), ('D5D31918A943', 'Lead', '669'), ('D5D31918A943', 'Lead', '669'), ('D5D31918A943', 'Lead', '669'), ('D5D31918A943', 'Lead', '669'), ('D5D31918A943', 'Lead', '669'), ('D5D31918A943', 'Lead', '669'), ('D5D31918A943', 'Lead', '669'), ('D5D31918A943', 'Lead', '669'), ('D5D31918A943', 'Lead', '669'), ('D5D31918A943', 'Lead', '669'), ('D5D31918A943', 'Lead', '669'), ('D5D31918A943', 'Lead', '669'), ('D5D31918A943', 'Lead', '669'), ('D5D31918A943', 'Lead', '669'), ('D5D31918A943', 'Lead', '669'), ('D5D31918A943', 'Lead', '669'), ('D5D31918A943', 'Lead', '669'), ('D5D31918A943', 'Lead', '669'), ('D5D31918A943', 'Lead', '669'), ('D5D31918A943', 'Lead', '669'), ('D5D31918A943', 'Lead', '669'), ('D5D31918A943', 'Lead', '669'), ('D5D31918A943', 'Lead', '669'), ('D5D31918A943', 'Lead', '669'), ('D5D31918A943', 'Lead', '669'), ('D5D31918A943', 'Lead', '670'), ('D5D31918A943', 'Lead', '671'), ('D5D31918A943', 'Lead', '671'), ('D5D31918A943', 'Lead', '672'), ('D5D31918A943', 'Lead', '672'), ('D5D31918A943', 'Lead', '673'), ('D5D31918A943', 'Lead', '673'), ('D5D31918A943', 'Lead', '674'), ('D5D31918A943', 'Lead', '674'), ('D5D31918A943', 'Lead', '675'), ('D5D31918A943', 'Lead', '675'), ('D5D31918A943', 'Lead', '676'), ('D5D31918A943', 'Lead', '676'), ('D5D31918A943', 'Lead', '677'), ('D5D31918A943', 'Lead', '677'), ('D5D31918A943', 'Lead', '678'), ('D5D31918A943', 'Lead', '678'), ('D5D31918A943', 'Lead', '678'), ('D5D31918A943', 'Lead', '678'), ('D5D31918A943', 'Lead', '678'), ('D5D31918A943', 'Lead', '678'), ('D5D31918A943', 'Lead', '678'), ('D5D31918A943', 'Lead', '678'), ('D5D31918A943', 'Lead', '678'), ('D5D31918A943', 'Lead', '678'), ('D5D31918A943', 'Lead', '678'), ('D5D31918A943', 'Lead', '678'), ('D5D31918A943', 'Lead', '678'), ('D5D31918A943', 'Lead', '678'), ('D5D31918A943', 'Lead', '678'), ('D5D31918A943', 'Lead', '678'), ('D5D31918A943', 'Lead', '678'), ('D5D31918A943', 'Lead', '678'), ('D5D31918A943', 'Lead', '678'), ('D5D31918A943', 'Lead', '678'), ('D5D31918A943', 'Lead', '678'), ('D5D31918A943', 'Lead', '679'), ('D5D31918A943', 'Lead', '680'), ('D5D31918A943', 'Lead', '681'), ('D5D31918A943', 'Lead', '682'), ('D5D31918A943', 'Lead', '683'), ('D5D31918A943', 'Lead', '683'), ('D5D31918A943', 'Lead', '684'), ('D5D31918A943', 'Lead', '684'), ('D5D31918A943', 'Lead', '684'), ('D5D31918A943', 'Lead', '685'), ('D5D31918A943', 'Lead', '686'), ('D5D31918A943', 'Lead', '686'), ('D5D31918A943', 'Lead', '687'), ('D5D31918A943', 'Lead', '687'), ('D5D31918A943', 'Lead', '688'), ('D5D31918A943', 'Lead', '688'), ('D5D31918A943', 'Lead', '689'), ('D5D31918A943', 'Lead', '689'), ('D5D31918A943', 'Lead', '689'), ('D5D31918A943', 'Lead', '689'), ('D5D31918A943', 'Lead', '690'), ('D5D31918A943', 'Lead', '690'), ('D5D31918A943', 'Lead', '690'), ('D5D31918A943', 'Lead', '691'), ('D5D31918A943', 'Lead', '691'), ('D5D31918A943', 'Lead', '691'), ('D5D31918A943', 'Lead', '691'), ('D5D31918A943', 'Lead', '691'), ('D5D31918A943', 'Lead', '691'), ('D5D31918A943', 'Lead', '691'), ('D5D31918A943', 'Lead', '691'), ('D5D31918A943', 'Lead', '691'), ('D5D31918A943', 'Lead', '691'), ('D5D31918A943', 'Lead', '691'), ('D5D31918A943', 'Lead', '691'), ('D5D31918A943', 'Lead', '691'), ('D5D31918A943', 'Lead', '691'), ('D5D31918A943', 'Lead', '691'), ('D5D31918A943', 'Lead', '691'), ('D5D31918A943', 'Lead', '691'), ('D5D31918A943', 'Lead', '691'), ('D5D31918A943', 'Lead', '691'), ('D5D31918A943', 'Lead', '691'), ('D5D31918A943', 'Lead', '691'), ('D5D31918A943', 'Lead', '691'), ('D5D31918A943', 'Lead', '691'), ('D5D31918A943', 'Lead', '691'), ('D5D31918A943', 'Lead', '691'), ('D5D31918A943', 'Lead', '691'), ('D5D31918A943', 'Lead', '691'), ('D5D31918A943', 'Lead', '691'), ('D5D31918A943', 'Lead', '691'), ('D5D31918A943', 'Lead', '691'), ('D5D31918A943', 'Lead', '691'), ('D5D31918A943', 'Lead', '691'), ('D5D31918A943', 'Lead', '691'), ('D5D31918A943', 'Lead', '691'), ('D5D31918A943', 'Lead', '691'), ('D5D31918A943', 'Lead', '691'), ('D5D31918A943', 'Lead', '691'), ('D5D31918A943', 'Lead', '691'), ('D5D31918A943', 'Lead', '691'), ('D5D31918A943', 'Lead', '691'), ('D5D31918A943', 'Lead', '691'), ('D5D31918A943', 'Lead', '691'), ('D5D31918A943', 'Lead', '691'), ('D5D31918A943', 'Lead', '691'), ('D5D31918A943', 'Lead', '691'), ('D5D31918A943', 'Lead', '691'), ('D5D31918A943', 'Lead', '691'), ('D5D31918A943', 'Lead', '691'), ('D5D31918A943', 'Lead', '691'), ('D5D31918A943', 'Lead', '691'), ('D5D31918A943', 'Lead', '691'), ('D5D31918A943', 'Lead', '691'), ('D5D31918A943', 'Lead', '691'), ('D5D31918A943', 'Lead', '691'), ('D5D31918A943', 'Lead', '691'), ('D5D31918A943', 'Lead', '691'), ('D5D31918A943', 'Lead', '691'), ('D5D31918A943', 'Lead', '691'), ('D5D31918A943', 'Lead', '691'), ('D5D31918A943', 'Lead', '691'), ('D5D31918A943', 'Lead', '691'), ('D5D31918A943', 'Lead', '691'), ('D5D31918A943', 'Lead', '691'), ('D5D31918A943', 'Lead', '691'), ('D5D31918A943', 'Lead', '691'), ('D5D31918A943', 'Lead', '691'), ('4B361B943DFD', 'Lead', '0'), ('4B361B943DFD', 'Lead', '1'), ('4B361B943DFD', 'Lead', '2'), ('4B361B943DFD', 'Lead', '2'), ('4B361B943DFD', 'Lead', '2'), ('4B361B943DFD', 'Lead', '2'), ('4B361B943DFD', 'Lead', '3'), ('4B361B943DFD', 'Lead', '4'), ('4B361B943DFD', 'Lead', '5'), ('4B361B943DFD', 'Lead', '6'), ('4B361B943DFD', 'Lead', '7'), ('4B361B943DFD', 'Lead', '8'), ('4B361B943DFD', 'Lead', '9'), ('4B361B943DFD', 'Lead', '10'), ('4B361B943DFD', 'Lead', '11'), ('4B361B943DFD', 'Lead', '11'), ('4B361B943DFD', 'Lead', '12'), ('4B361B943DFD', 'Lead', '13'), ('4B361B943DFD', 'Lead', '14'), ('4B361B943DFD', 'Lead', '15'), ('4B361B943DFD', 'Lead', '16'), ('4B361B943DFD', 'Lead', '17'), ('4B361B943DFD', 'Lead', '18'), ('4B361B943DFD', 'Lead', '19'), ('4B361B943DFD', 'Lead', '20'), ('4B361B943DFD', 'Lead', '21'), ('4B361B943DFD', 'Lead', '22'), ('4B361B943DFD', 'Lead', '23'), ('4B361B943DFD', 'Lead', '23'), ('4B361B943DFD', 'Lead', '24'), ('4B361B943DFD', 'Lead', '24'), ('4B361B943DFD', 'Lead', '25'), ('4B361B943DFD', 'Lead', '26'), ('4B361B943DFD', 'Lead', '26'), ('4B361B943DFD', 'Lead', '27'), ('4B361B943DFD', 'Lead', '28'), ('4B361B943DFD', 'Lead', '29'), ('4B361B943DFD', 'Lead', '30'), ('4B361B943DFD', 'Lead', '31'), ('4B361B943DFD', 'Lead', '32'), ('4B361B943DFD', 'Lead', '33'), ('4B361B943DFD', 'Lead', '33'), ('4B361B943DFD', 'Lead', '34'), ('4B361B943DFD', 'Lead', '35'), ('4B361B943DFD', 'Lead', '35'), ('4B361B943DFD', 'Lead', '36'), ('4B361B943DFD', 'Lead', '36'), ('4B361B943DFD', 'Lead', '37'), ('4B361B943DFD', 'Lead', '38'), ('4B361B943DFD', 'Lead', '38'), ('4B361B943DFD', 'Lead', '39'), ('4B361B943DFD', 'Lead', '40'), ('4B361B943DFD', 'Lead', '41'), ('4B361B943DFD', 'Lead', '42'), ('4B361B943DFD', 'Lead', '43'), ('4B361B943DFD', 'Lead', '44'), ('4B361B943DFD', 'Lead', '45'), ('4B361B943DFD', 'Lead', '46'), ('4B361B943DFD', 'Lead', '47'), ('4B361B943DFD', 'Lead', '47'), ('4B361B943DFD', 'Lead', '48'), ('4B361B943DFD', 'Lead', '48'), ('4B361B943DFD', 'Lead', '49'), ('4B361B943DFD', 'Lead', '50'), ('4B361B943DFD', 'Lead', '51'), ('4B361B943DFD', 'Lead', '52'), ('4B361B943DFD', 'Lead', '53'), ('4B361B943DFD', 'Lead', '54'), ('4B361B943DFD', 'Lead', '55'), ('4B361B943DFD', 'Lead', '56'), ('4B361B943DFD', 'Lead', '57'), ('4B361B943DFD', 'Lead', '58'), ('4B361B943DFD', 'Lead', '59'), ('4B361B943DFD', 'Lead', '60'), ('4B361B943DFD', 'Lead', '61'), ('4B361B943DFD', 'Lead', '62'), ('4B361B943DFD', 'Lead', '63'), ('4B361B943DFD', 'Lead', '63'), ('4B361B943DFD', 'Lead', '64'), ('4B361B943DFD', 'Lead', '65'), ('4B361B943DFD', 'Lead', '66'), ('4B361B943DFD', 'Lead', '67'), ('4B361B943DFD', 'Lead', '68'), ('4B361B943DFD', 'Lead', '69'), ('4B361B943DFD', 'Lead', '69'), ('4B361B943DFD', 'Lead', '69'), ('4B361B943DFD', 'Lead', '69'), ('4B361B943DFD', 'Lead', '70'), ('4B361B943DFD', 'Lead', '71'), ('4B361B943DFD', 'Lead', '72'), ('4B361B943DFD', 'Lead', '73'), ('4B361B943DFD', 'Lead', '74'), ('4B361B943DFD', 'Lead', '75'), ('4B361B943DFD', 'Lead', '76'), ('4B361B943DFD', 'Lead', '76'), ('4B361B943DFD', 'Lead', '77'), ('4B361B943DFD', 'Lead', '78'), ('4B361B943DFD', 'Lead', '79'), ('4B361B943DFD', 'Lead', '80'), ('4B361B943DFD', 'Lead', '81'), ('4B361B943DFD', 'Lead', '82'), ('4B361B943DFD', 'Lead', '83'), ('4B361B943DFD', 'Lead', '84'), ('4B361B943DFD', 'Lead', '85'), ('4B361B943DFD', 'Lead', '86'), ('4B361B943DFD', 'Lead', '87'), ('4B361B943DFD', 'Lead', '88'), ('4B361B943DFD', 'Lead', '89'), ('4B361B943DFD', 'Lead', '90'), ('4B361B943DFD', 'Lead', '91'), ('4B361B943DFD', 'Lead', '92'), ('4B361B943DFD', 'Lead', '93'), ('4B361B943DFD', 'Lead', '94'), ('4B361B943DFD', 'Lead', '95'), ('4B361B943DFD', 'Lead', '95'), ('4B361B943DFD', 'Lead', '95'), ('4B361B943DFD', 'Lead', '95'), ('4B361B943DFD', 'Lead', '95'), ('4B361B943DFD', 'Lead', '95'), ('4B361B943DFD', 'Lead', '95'), ('4B361B943DFD', 'Lead', '96'), ('4B361B943DFD', 'Lead', '97'), ('4B361B943DFD', 'Lead', '98'), ('4B361B943DFD', 'Lead', '98'), ('4B361B943DFD', 'Lead', '99'), ('4B361B943DFD', 'Lead', '100'), ('4B361B943DFD', 'Lead', '101'), ('4B361B943DFD', 'Lead', '102'), ('4B361B943DFD', 'Lead', '103'), ('4B361B943DFD', 'Lead', '104'), ('4B361B943DFD', 'Lead', '105'), ('4B361B943DFD', 'Lead', '106'), ('4B361B943DFD', 'Lead', '107'), ('4B361B943DFD', 'Lead', '108'), ('4B361B943DFD', 'Lead', '109'), ('4B361B943DFD', 'Lead', '110'), ('4B361B943DFD', 'Lead', '111'), ('4B361B943DFD', 'Lead', '112'), ('4B361B943DFD', 'Lead', '112'), ('4B361B943DFD', 'Lead', '113'), ('4B361B943DFD', 'Lead', '114'), ('4B361B943DFD', 'Lead', '115'), ('4B361B943DFD', 'Lead', '116'), ('4B361B943DFD', 'Lead', '117'), ('4B361B943DFD', 'Lead', '118'), ('4B361B943DFD', 'Lead', '119'), ('4B361B943DFD', 'Lead', '120'), ('4B361B943DFD', 'Lead', '120'), ('4B361B943DFD', 'Lead', '121'), ('4B361B943DFD', 'Lead', '122'), ('4B361B943DFD', 'Lead', '122'), ('4B361B943DFD', 'Lead', '123'), ('4B361B943DFD', 'Lead', '123'), ('4B361B943DFD', 'Lead', '124'), ('4B361B943DFD', 'Lead', '125'), ('4B361B943DFD', 'Lead', '126'), ('4B361B943DFD', 'Lead', '127'), ('4B361B943DFD', 'Lead', '128'), ('4B361B943DFD', 'Lead', '129'), ('4B361B943DFD', 'Lead', '130'), ('4B361B943DFD', 'Lead', '130'), ('4B361B943DFD', 'Lead', '131'), ('4B361B943DFD', 'Lead', '132'), ('4B361B943DFD', 'Lead', '132'), ('4B361B943DFD', 'Lead', '132'), ('4B361B943DFD', 'Lead', '133'), ('4B361B943DFD', 'Lead', '134'), ('4B361B943DFD', 'Lead', '135'), ('4B361B943DFD', 'Lead', '136'), ('4B361B943DFD', 'Lead', '137'), ('4B361B943DFD', 'Lead', '138'), ('4B361B943DFD', 'Lead', '139'), ('4B361B943DFD', 'Lead', '140'), ('4B361B943DFD', 'Lead', '141'), ('4B361B943DFD', 'Lead', '142'), ('4B361B943DFD', 'Lead', '142'), ('4B361B943DFD', 'Lead', '143'), ('4B361B943DFD', 'Lead', '143'), ('4B361B943DFD', 'Lead', '143'), ('4B361B943DFD', 'Lead', '143'), ('4B361B943DFD', 'Lead', '143'), ('4B361B943DFD', 'Lead', '144'), ('4B361B943DFD', 'Lead', '144'), ('4B361B943DFD', 'Lead', '145'), ('4B361B943DFD', 'Lead', '146'), ('4B361B943DFD', 'Lead', '147'), ('4B361B943DFD', 'Lead', '148'), ('4B361B943DFD', 'Lead', '149'), ('4B361B943DFD', 'Lead', '149'), ('4B361B943DFD', 'Lead', '150'), ('4B361B943DFD', 'Lead', '150'), ('4B361B943DFD', 'Lead', '151'), ('4B361B943DFD', 'Lead', '152'), ('4B361B943DFD', 'Lead', '153'), ('4B361B943DFD', 'Lead', '154'), ('4B361B943DFD', 'Lead', '155'), ('4B361B943DFD', 'Lead', '156'), ('4B361B943DFD', 'Lead', '157'), ('4B361B943DFD', 'Lead', '158'), ('4B361B943DFD', 'Lead', '159'), ('4B361B943DFD', 'Lead', '160'), ('4B361B943DFD', 'Lead', '161'), ('4B361B943DFD', 'Lead', '162'), ('4B361B943DFD', 'Lead', '163'), ('4B361B943DFD', 'Lead', '164'), ('4B361B943DFD', 'Lead', '165'), ('4B361B943DFD', 'Lead', '166'), ('4B361B943DFD', 'Lead', '167'), ('4B361B943DFD', 'Lead', '168'), ('4B361B943DFD', 'Lead', '168'), ('4B361B943DFD', 'Lead', '169'), ('4B361B943DFD', 'Lead', '170'), ('4B361B943DFD', 'Lead', '171'), ('4B361B943DFD', 'Lead', '172'), ('4B361B943DFD', 'Lead', '173'), ('4B361B943DFD', 'Lead', '174'), ('4B361B943DFD', 'Lead', '175'), ('4B361B943DFD', 'Lead', '176'), ('4B361B943DFD', 'Lead', '177'), ('4B361B943DFD', 'Lead', '178'), ('4B361B943DFD', 'Lead', '179'), ('4B361B943DFD', 'Lead', '180'), ('4B361B943DFD', 'Lead', '181'), ('4B361B943DFD', 'Lead', '182'), ('4B361B943DFD', 'Lead', '183'), ('4B361B943DFD', 'Lead', '183'), ('4B361B943DFD', 'Lead', '184'), ('4B361B943DFD', 'Lead', '185'), ('4B361B943DFD', 'Lead', '185'), ('4B361B943DFD', 'Lead', '185'), ('4B361B943DFD', 'Lead', '186'), ('4B361B943DFD', 'Lead', '187'), ('4B361B943DFD', 'Lead', '188'), ('4B361B943DFD', 'Lead', '189'), ('4B361B943DFD', 'Lead', '190'), ('4B361B943DFD', 'Lead', '191'), ('4B361B943DFD', 'Lead', '192'), ('4B361B943DFD', 'Lead', '192'), ('4B361B943DFD', 'Lead', '193'), ('4B361B943DFD', 'Lead', '193'), ('4B361B943DFD', 'Lead', '194'), ('4B361B943DFD', 'Lead', '195'), ('4B361B943DFD', 'Lead', '196'), ('4B361B943DFD', 'Lead', '197'), ('4B361B943DFD', 'Lead', '198'), ('4B361B943DFD', 'Lead', '199'), ('4B361B943DFD', 'Lead', '200'), ('4B361B943DFD', 'Lead', '201'), ('4B361B943DFD', 'Lead', '202'), ('4B361B943DFD', 'Lead', '203'), ('4B361B943DFD', 'Lead', '204'), ('4B361B943DFD', 'Lead', '205'), ('4B361B943DFD', 'Lead', '206'), ('4B361B943DFD', 'Lead', '207'), ('4B361B943DFD', 'Lead', '207'), ('4B361B943DFD', 'Lead', '208'), ('4B361B943DFD', 'Lead', '209'), ('4B361B943DFD', 'Lead', '210'), ('4B361B943DFD', 'Lead', '211'), ('4B361B943DFD', 'Lead', '211'), ('4B361B943DFD', 'Lead', '212'), ('4B361B943DFD', 'Lead', '212'), ('4B361B943DFD', 'Lead', '212'), ('4B361B943DFD', 'Lead', '212'), ('4B361B943DFD', 'Lead', '213'), ('4B361B943DFD', 'Lead', '213'), ('4B361B943DFD', 'Lead', '214'), ('4B361B943DFD', 'Lead', '215'), ('4B361B943DFD', 'Lead', '216'), ('4B361B943DFD', 'Lead', '217'), ('4B361B943DFD', 'Lead', '218'), ('4B361B943DFD', 'Lead', '219'), ('4B361B943DFD', 'Lead', '220'), ('4B361B943DFD', 'Lead', '221'), ('4B361B943DFD', 'Lead', '221'), ('4B361B943DFD', 'Lead', '222'), ('4B361B943DFD', 'Lead', '223'), ('4B361B943DFD', 'Lead', '224'), ('4B361B943DFD', 'Lead', '225'), ('4B361B943DFD', 'Lead', '226'), ('4B361B943DFD', 'Lead', '227'), ('4B361B943DFD', 'Lead', '228'), ('4B361B943DFD', 'Lead', '229'), ('4B361B943DFD', 'Lead', '230'), ('4B361B943DFD', 'Lead', '230'), ('4B361B943DFD', 'Lead', '231'), ('4B361B943DFD', 'Lead', '231'), ('4B361B943DFD', 'Lead', '231'), ('4B361B943DFD', 'Lead', '231'), ('4B361B943DFD', 'Lead', '232'), ('4B361B943DFD', 'Lead', '232'), ('4B361B943DFD', 'Lead', '233'), ('4B361B943DFD', 'Lead', '234'), ('4B361B943DFD', 'Lead', '235'), ('4B361B943DFD', 'Lead', '236'), ('4B361B943DFD', 'Lead', '237'), ('4B361B943DFD', 'Lead', '238'), ('4B361B943DFD', 'Lead', '239'), ('4B361B943DFD', 'Lead', '240'), ('4B361B943DFD', 'Lead', '241'), ('4B361B943DFD', 'Lead', '242'), ('4B361B943DFD', 'Lead', '243'), ('4B361B943DFD', 'Lead', '244'), ('4B361B943DFD', 'Lead', '245'), ('4B361B943DFD', 'Lead', '246'), ('4B361B943DFD', 'Lead', '247'), ('4B361B943DFD', 'Lead', '248'), ('4B361B943DFD', 'Lead', '249'), ('4B361B943DFD', 'Lead', '249'), ('4B361B943DFD', 'Lead', '249'), ('4B361B943DFD', 'Lead', '249'), ('4B361B943DFD', 'Lead', '249'), ('4B361B943DFD', 'Lead', '249'), ('4B361B943DFD', 'Lead', '250'), ('4B361B943DFD', 'Lead', '251'), ('4B361B943DFD', 'Lead', '252'), ('4B361B943DFD', 'Lead', '253'), ('4B361B943DFD', 'Lead', '254'), ('4B361B943DFD', 'Lead', '255'), ('4B361B943DFD', 'Lead', '256'), ('4B361B943DFD', 'Lead', '257'), ('4B361B943DFD', 'Lead', '258'), ('4B361B943DFD', 'Lead', '259'), ('4B361B943DFD', 'Lead', '260'), ('4B361B943DFD', 'Lead', '261'), ('4B361B943DFD', 'Lead', '262'), ('4B361B943DFD', 'Lead', '263'), ('4B361B943DFD', 'Lead', '264'), ('4B361B943DFD', 'Lead', '264'), ('4B361B943DFD', 'Lead', '265'), ('4B361B943DFD', 'Lead', '266'), ('4B361B943DFD', 'Lead', '267'), ('4B361B943DFD', 'Lead', '268'), ('4B361B943DFD', 'Lead', '269'), ('4B361B943DFD', 'Lead', '270'), ('4B361B943DFD', 'Lead', '271'), ('4B361B943DFD', 'Lead', '272'), ('4B361B943DFD', 'Lead', '273'), ('4B361B943DFD', 'Lead', '274'), ('4B361B943DFD', 'Lead', '274'), ('4B361B943DFD', 'Lead', '275'), ('4B361B943DFD', 'Lead', '276'), ('4B361B943DFD', 'Lead', '277'), ('4B361B943DFD', 'Lead', '277'), ('4B361B943DFD', 'Lead', '278'), ('4B361B943DFD', 'Lead', '279'), ('4B361B943DFD', 'Lead', '280'), ('4B361B943DFD', 'Lead', '281'), ('4B361B943DFD', 'Lead', '282'), ('4B361B943DFD', 'Lead', '283'), ('4B361B943DFD', 'Lead', '284'), ('4B361B943DFD', 'Lead', '285'), ('4B361B943DFD', 'Lead', '286'), ('4B361B943DFD', 'Lead', '287'), ('4B361B943DFD', 'Lead', '288'), ('4B361B943DFD', 'Lead', '289'), ('4B361B943DFD', 'Lead', '290'), ('4B361B943DFD', 'Lead', '291'), ('4B361B943DFD', 'Lead', '292'), ('4B361B943DFD', 'Lead', '293'), ('4B361B943DFD', 'Lead', '293'), ('4B361B943DFD', 'Lead', '294'), ('4B361B943DFD', 'Lead', '295'), ('4B361B943DFD', 'Lead', '296'), ('4B361B943DFD', 'Lead', '297'), ('4B361B943DFD', 'Lead', '298'), ('4B361B943DFD', 'Lead', '299'), ('4B361B943DFD', 'Lead', '300'), ('4B361B943DFD', 'Lead', '301'), ('4B361B943DFD', 'Lead', '302'), ('4B361B943DFD', 'Lead', '303'), ('4B361B943DFD', 'Lead', '304'), ('4B361B943DFD', 'Lead', '305'), ('4B361B943DFD', 'Lead', '306'), ('4B361B943DFD', 'Lead', '306'), ('4B361B943DFD', 'Lead', '307'), ('4B361B943DFD', 'Lead', '308'), ('4B361B943DFD', 'Lead', '309'), ('4B361B943DFD', 'Lead', '310'), ('4B361B943DFD', 'Lead', '311'), ('4B361B943DFD', 'Lead', '312'), ('4B361B943DFD', 'Lead', '313'), ('4B361B943DFD', 'Lead', '314'), ('4B361B943DFD', 'Lead', '315'), ('4B361B943DFD', 'Lead', '316'), ('4B361B943DFD', 'Lead', '317'), ('4B361B943DFD', 'Lead', '318'), ('4B361B943DFD', 'Lead', '318'), ('4B361B943DFD', 'Lead', '318'), ('4B361B943DFD', 'Lead', '318'), ('4B361B943DFD', 'Lead', '318'), ('4B361B943DFD', 'Lead', '319'), ('4B361B943DFD', 'Lead', '319'), ('4B361B943DFD', 'Lead', '319'), ('4B361B943DFD', 'Lead', '319'), ('4B361B943DFD', 'Lead', '319'), ('4B361B943DFD', 'Lead', '319'), ('4B361B943DFD', 'Lead', '319'), ('4B361B943DFD', 'Lead', '319'), ('4B361B943DFD', 'Lead', '319'), ('4B361B943DFD', 'Lead', '320'), ('4B361B943DFD', 'Lead', '320'), ('4B361B943DFD', 'Lead', '321'), ('4B361B943DFD', 'Lead', '321'), ('4B361B943DFD', 'Lead', '322'), ('4B361B943DFD', 'Lead', '323'), ('4B361B943DFD', 'Lead', '323'), ('4B361B943DFD', 'Lead', '324'), ('4B361B943DFD', 'Lead', '325'), ('4B361B943DFD', 'Lead', '326'), ('4B361B943DFD', 'Lead', '327'), ('4B361B943DFD', 'Lead', '328'), ('4B361B943DFD', 'Lead', '329'), ('4B361B943DFD', 'Lead', '329'), ('4B361B943DFD', 'Lead', '330'), ('4B361B943DFD', 'Lead', '331'), ('4B361B943DFD', 'Lead', '332'), ('4B361B943DFD', 'Lead', '332'), ('4B361B943DFD', 'Lead', '333'), ('4B361B943DFD', 'Lead', '334'), ('4B361B943DFD', 'Lead', '335'), ('4B361B943DFD', 'Lead', '336'), ('4B361B943DFD', 'Lead', '337'), ('4B361B943DFD', 'Lead', '338'), ('4B361B943DFD', 'Lead', '338'), ('4B361B943DFD', 'Lead', '339'), ('4B361B943DFD', 'Lead', '339'), ('4B361B943DFD', 'Lead', '340'), ('4B361B943DFD', 'Lead', '340'), ('4B361B943DFD', 'Lead', '341'), ('4B361B943DFD', 'Lead', '341'), ('4B361B943DFD', 'Lead', '341'), ('4B361B943DFD', 'Lead', '341'), ('4B361B943DFD', 'Lead', '342'), ('4B361B943DFD', 'Lead', '342'), ('4B361B943DFD', 'Lead', '342'), ('4B361B943DFD', 'Lead', '342'), ('4B361B943DFD', 'Lead', '342'), ('4B361B943DFD', 'Lead', '342'), ('4B361B943DFD', 'Lead', '342'), ('4B361B943DFD', 'Lead', '342'), ('4B361B943DFD', 'Lead', '342'), ('4B361B943DFD', 'Lead', '342'), ('4B361B943DFD', 'Lead', '342'), ('4B361B943DFD', 'Lead', '342'), ('4B361B943DFD', 'Lead', '342'), ('4B361B943DFD', 'Lead', '343'), ('4B361B943DFD', 'Lead', '343'), ('4B361B943DFD', 'Lead', '344'), ('4B361B943DFD', 'Lead', '344'), ('4B361B943DFD', 'Lead', '345'), ('4B361B943DFD', 'Lead', '345'), ('4B361B943DFD', 'Lead', '345'), ('4B361B943DFD', 'Lead', '345'), ('4B361B943DFD', 'Lead', '346'), ('4B361B943DFD', 'Lead', '347'), ('4B361B943DFD', 'Lead', '348'), ('4B361B943DFD', 'Lead', '348'), ('4B361B943DFD', 'Lead', '349'), ('4B361B943DFD', 'Lead', '349'), ('4B361B943DFD', 'Lead', '350'), ('4B361B943DFD', 'Lead', '350'), ('4B361B943DFD', 'Lead', '350'), ('4B361B943DFD', 'Lead', '350'), ('4B361B943DFD', 'Lead', '350'), ('4B361B943DFD', 'Lead', '351'), ('4B361B943DFD', 'Lead', '351'), ('4B361B943DFD', 'Lead', '351'), ('4B361B943DFD', 'Lead', '351'), ('4B361B943DFD', 'Lead', '351'), ('4B361B943DFD', 'Lead', '351'), ('4B361B943DFD', 'Lead', '351'), ('4B361B943DFD', 'Lead', '351'), ('4B361B943DFD', 'Lead', '351'), ('4B361B943DFD', 'Lead', '351'), ('4B361B943DFD', 'Lead', '351'), ('4B361B943DFD', 'Lead', '351'), ('4B361B943DFD', 'Lead', '351'), ('4B361B943DFD', 'Lead', '351'), ('4B361B943DFD', 'Lead', '351'), ('4B361B943DFD', 'Lead', '351'), ('4B361B943DFD', 'Lead', '352'), ('4B361B943DFD', 'Lead', '352'), ('4B361B943DFD', 'Lead', '352'), ('4B361B943DFD', 'Lead', '353'), ('4B361B943DFD', 'Lead', '354'), ('4B361B943DFD', 'Lead', '355'), ('4B361B943DFD', 'Lead', '355'), ('4B361B943DFD', 'Lead', '356'), ('4B361B943DFD', 'Lead', '357'), ('4B361B943DFD', 'Lead', '358'), ('4B361B943DFD', 'Lead', '358'), ('4B361B943DFD', 'Lead', '359'), ('4B361B943DFD', 'Lead', '359'), ('4B361B943DFD', 'Lead', '359'), ('4B361B943DFD', 'Lead', '360'), ('4B361B943DFD', 'Lead', '361'), ('4B361B943DFD', 'Lead', '361'), ('4B361B943DFD', 'Lead', '362'), ('4B361B943DFD', 'Lead', '362'), ('4B361B943DFD', 'Lead', '363'), ('4B361B943DFD', 'Lead', '363'), ('4B361B943DFD', 'Lead', '363'), ('4B361B943DFD', 'Lead', '364'), ('4B361B943DFD', 'Lead', '364'), ('4B361B943DFD', 'Lead', '364'), ('4B361B943DFD', 'Lead', '364'), ('4B361B943DFD', 'Lead', '364'), ('4B361B943DFD', 'Lead', '364'), ('4B361B943DFD', 'Lead', '364'), ('4B361B943DFD', 'Lead', '364'), ('4B361B943DFD', 'Lead', '364'), ('4B361B943DFD', 'Lead', '364'), ('4B361B943DFD', 'Lead', '364'), ('4B361B943DFD', 'Lead', '364'), ('4B361B943DFD', 'Lead', '364'), ('4B361B943DFD', 'Lead', '364'), ('4B361B943DFD', 'Lead', '364'), ('4B361B943DFD', 'Lead', '364'), ('4B361B943DFD', 'Lead', '364'), ('4B361B943DFD', 'Lead', '364'), ('4B361B943DFD', 'Lead', '364'), ('4B361B943DFD', 'Lead', '364'), ('4B361B943DFD', 'Lead', '364'), ('4B361B943DFD', 'Lead', '364'), ('4B361B943DFD', 'Lead', '364'), ('4B361B943DFD', 'Lead', '364'), ('4B361B943DFD', 'Lead', '364'), ('4B361B943DFD', 'Lead', '364'), ('4B361B943DFD', 'Lead', '364'), ('4B361B943DFD', 'Lead', '364'), ('4B361B943DFD', 'Lead', '364'), ('4B361B943DFD', 'Lead', '364'), ('4B361B943DFD', 'Lead', '364'), ('4B361B943DFD', 'Lead', '364'), ('4B361B943DFD', 'Lead', '364'), ('4B361B943DFD', 'Lead', '364'), ('63E8EF40EF1D', 'Lead', '0'), ('63E8EF40EF1D', 'Lead', '1'), ('63E8EF40EF1D', 'Lead', '2'), ('63E8EF40EF1D', 'Lead', '2'), ('63E8EF40EF1D', 'Lead', '2'), ('63E8EF40EF1D', 'Lead', '2'), ('63E8EF40EF1D', 'Lead', '3'), ('63E8EF40EF1D', 'Lead', '4'), ('63E8EF40EF1D', 'Lead', '5'), ('63E8EF40EF1D', 'Lead', '6'), ('63E8EF40EF1D', 'Lead', '7'), ('63E8EF40EF1D', 'Lead', '8'), ('63E8EF40EF1D', 'Lead', '9'), ('63E8EF40EF1D', 'Lead', '10'), ('63E8EF40EF1D', 'Lead', '11'), ('63E8EF40EF1D', 'Lead', '12'), ('63E8EF40EF1D', 'Lead', '13'), ('63E8EF40EF1D', 'Lead', '14'), ('63E8EF40EF1D', 'Lead', '15'), ('63E8EF40EF1D', 'Lead', '16'), ('63E8EF40EF1D', 'Lead', '17'), ('63E8EF40EF1D', 'Lead', '18'), ('63E8EF40EF1D', 'Lead', '19'), ('63E8EF40EF1D', 'Lead', '20'), ('63E8EF40EF1D', 'Lead', '21'), ('63E8EF40EF1D', 'Lead', '22'), ('63E8EF40EF1D', 'Lead', '23'), ('63E8EF40EF1D', 'Lead', '24'), ('63E8EF40EF1D', 'Lead', '25'), ('63E8EF40EF1D', 'Lead', '25'), ('63E8EF40EF1D', 'Lead', '26'), ('63E8EF40EF1D', 'Lead', '27'), ('63E8EF40EF1D', 'Lead', '28'), ('63E8EF40EF1D', 'Lead', '29'), ('63E8EF40EF1D', 'Lead', '30'), ('63E8EF40EF1D', 'Lead', '31'), ('63E8EF40EF1D', 'Lead', '32'), ('63E8EF40EF1D', 'Lead', '33'), ('63E8EF40EF1D', 'Lead', '34'), ('63E8EF40EF1D', 'Lead', '35'), ('63E8EF40EF1D', 'Lead', '36'), ('63E8EF40EF1D', 'Lead', '37'), ('63E8EF40EF1D', 'Lead', '38'), ('63E8EF40EF1D', 'Lead', '38'), ('63E8EF40EF1D', 'Lead', '39'), ('63E8EF40EF1D', 'Lead', '40'), ('63E8EF40EF1D', 'Lead', '41'), ('63E8EF40EF1D', 'Lead', '42'), ('63E8EF40EF1D', 'Lead', '43'), ('63E8EF40EF1D', 'Lead', '44'), ('63E8EF40EF1D', 'Lead', '45'), ('63E8EF40EF1D', 'Lead', '46'), ('63E8EF40EF1D', 'Lead', '47'), ('63E8EF40EF1D', 'Lead', '48'), ('63E8EF40EF1D', 'Lead', '49'), ('63E8EF40EF1D', 'Lead', '49'), ('63E8EF40EF1D', 'Lead', '50'), ('63E8EF40EF1D', 'Lead', '51'), ('63E8EF40EF1D', 'Lead', '52'), ('63E8EF40EF1D', 'Lead', '53'), ('63E8EF40EF1D', 'Lead', '54'), ('63E8EF40EF1D', 'Lead', '55'), ('63E8EF40EF1D', 'Lead', '56'), ('63E8EF40EF1D', 'Lead', '57'), ('63E8EF40EF1D', 'Lead', '58'), ('63E8EF40EF1D', 'Lead', '59'), ('63E8EF40EF1D', 'Lead', '60'), ('63E8EF40EF1D', 'Lead', '61'), ('63E8EF40EF1D', 'Lead', '62'), ('63E8EF40EF1D', 'Lead', '63'), ('63E8EF40EF1D', 'Lead', '64'), ('63E8EF40EF1D', 'Lead', '65'), ('63E8EF40EF1D', 'Lead', '66'), ('63E8EF40EF1D', 'Lead', '66'), ('63E8EF40EF1D', 'Lead', '67'), ('63E8EF40EF1D', 'Lead', '68'), ('63E8EF40EF1D', 'Lead', '69'), ('63E8EF40EF1D', 'Lead', '69'), ('63E8EF40EF1D', 'Lead', '70'), ('63E8EF40EF1D', 'Lead', '71'), ('63E8EF40EF1D', 'Lead', '72'), ('63E8EF40EF1D', 'Lead', '73'), ('63E8EF40EF1D', 'Lead', '74'), ('63E8EF40EF1D', 'Lead', '75'), ('63E8EF40EF1D', 'Lead', '76'), ('63E8EF40EF1D', 'Lead', '77'), ('63E8EF40EF1D', 'Lead', '78'), ('63E8EF40EF1D', 'Lead', '79'), ('63E8EF40EF1D', 'Lead', '80'), ('63E8EF40EF1D', 'Lead', '81'), ('63E8EF40EF1D', 'Lead', '82'), ('63E8EF40EF1D', 'Lead', '83'), ('63E8EF40EF1D', 'Lead', '84'), ('63E8EF40EF1D', 'Lead', '85'), ('63E8EF40EF1D', 'Lead', '86'), ('63E8EF40EF1D', 'Lead', '87'), ('63E8EF40EF1D', 'Lead', '88'), ('63E8EF40EF1D', 'Lead', '88'), ('63E8EF40EF1D', 'Lead', '89'), ('63E8EF40EF1D', 'Lead', '89'), ('63E8EF40EF1D', 'Lead', '90'), ('63E8EF40EF1D', 'Lead', '91'), ('63E8EF40EF1D', 'Lead', '92'), ('63E8EF40EF1D', 'Lead', '93'), ('63E8EF40EF1D', 'Lead', '94'), ('63E8EF40EF1D', 'Lead', '94'), ('63E8EF40EF1D', 'Lead', '94'), ('63E8EF40EF1D', 'Lead', '95'), ('63E8EF40EF1D', 'Lead', '96'), ('63E8EF40EF1D', 'Lead', '97'), ('63E8EF40EF1D', 'Lead', '98'), ('63E8EF40EF1D', 'Lead', '99'), ('63E8EF40EF1D', 'Lead', '100'), ('63E8EF40EF1D', 'Lead', '101'), ('63E8EF40EF1D', 'Lead', '102'), ('63E8EF40EF1D', 'Lead', '103'), ('63E8EF40EF1D', 'Lead', '104'), ('63E8EF40EF1D', 'Lead', '104'), ('63E8EF40EF1D', 'Lead', '105'), ('63E8EF40EF1D', 'Lead', '105'), ('63E8EF40EF1D', 'Lead', '106'), ('63E8EF40EF1D', 'Lead', '107'), ('63E8EF40EF1D', 'Lead', '108'), ('63E8EF40EF1D', 'Lead', '109'), ('63E8EF40EF1D', 'Lead', '110'), ('63E8EF40EF1D', 'Lead', '111'), ('63E8EF40EF1D', 'Lead', '112'), ('63E8EF40EF1D', 'Lead', '113'), ('63E8EF40EF1D', 'Lead', '114'), ('63E8EF40EF1D', 'Lead', '115'), ('63E8EF40EF1D', 'Lead', '116'), ('63E8EF40EF1D', 'Lead', '116'), ('63E8EF40EF1D', 'Lead', '117'), ('63E8EF40EF1D', 'Lead', '118'), ('63E8EF40EF1D', 'Lead', '119'), ('63E8EF40EF1D', 'Lead', '120'), ('63E8EF40EF1D', 'Lead', '121'), ('63E8EF40EF1D', 'Lead', '122'), ('63E8EF40EF1D', 'Lead', '123'), ('63E8EF40EF1D', 'Lead', '124'), ('63E8EF40EF1D', 'Lead', '125'), ('63E8EF40EF1D', 'Lead', '125'), ('63E8EF40EF1D', 'Lead', '126'), ('63E8EF40EF1D', 'Lead', '127'), ('63E8EF40EF1D', 'Lead', '128'), ('63E8EF40EF1D', 'Lead', '129'), ('63E8EF40EF1D', 'Lead', '130'), ('63E8EF40EF1D', 'Lead', '131'), ('63E8EF40EF1D', 'Lead', '132'), ('63E8EF40EF1D', 'Lead', '133'), ('63E8EF40EF1D', 'Lead', '134'), ('63E8EF40EF1D', 'Lead', '135'), ('63E8EF40EF1D', 'Lead', '136'), ('63E8EF40EF1D', 'Lead', '137'), ('63E8EF40EF1D', 'Lead', '138'), ('63E8EF40EF1D', 'Lead', '139'), ('63E8EF40EF1D', 'Lead', '139'), ('63E8EF40EF1D', 'Lead', '139'), ('63E8EF40EF1D', 'Lead', '139'), ('63E8EF40EF1D', 'Lead', '139'), ('63E8EF40EF1D', 'Lead', '139'), ('63E8EF40EF1D', 'Lead', '140'), ('63E8EF40EF1D', 'Lead', '141'), ('63E8EF40EF1D', 'Lead', '142'), ('63E8EF40EF1D', 'Lead', '143'), ('63E8EF40EF1D', 'Lead', '144'), ('63E8EF40EF1D', 'Lead', '145'), ('63E8EF40EF1D', 'Lead', '146'), ('63E8EF40EF1D', 'Lead', '147'), ('63E8EF40EF1D', 'Lead', '148'), ('63E8EF40EF1D', 'Lead', '149'), ('63E8EF40EF1D', 'Lead', '150'), ('63E8EF40EF1D', 'Lead', '151'), ('63E8EF40EF1D', 'Lead', '152'), ('63E8EF40EF1D', 'Lead', '153'), ('63E8EF40EF1D', 'Lead', '154'), ('63E8EF40EF1D', 'Lead', '155'), ('63E8EF40EF1D', 'Lead', '156'), ('63E8EF40EF1D', 'Lead', '157'), ('63E8EF40EF1D', 'Lead', '158'), ('63E8EF40EF1D', 'Lead', '159'), ('63E8EF40EF1D', 'Lead', '160'), ('63E8EF40EF1D', 'Lead', '161'), ('63E8EF40EF1D', 'Lead', '162'), ('63E8EF40EF1D', 'Lead', '163'), ('63E8EF40EF1D', 'Lead', '164'), ('63E8EF40EF1D', 'Lead', '165'), ('63E8EF40EF1D', 'Lead', '166'), ('63E8EF40EF1D', 'Lead', '167'), ('63E8EF40EF1D', 'Lead', '167'), ('63E8EF40EF1D', 'Lead', '168'), ('63E8EF40EF1D', 'Lead', '168'), ('63E8EF40EF1D', 'Lead', '169'), ('63E8EF40EF1D', 'Lead', '170'), ('63E8EF40EF1D', 'Lead', '171'), ('63E8EF40EF1D', 'Lead', '172'), ('63E8EF40EF1D', 'Lead', '172'), ('63E8EF40EF1D', 'Lead', '173'), ('63E8EF40EF1D', 'Lead', '174'), ('63E8EF40EF1D', 'Lead', '175'), ('63E8EF40EF1D', 'Lead', '176'), ('63E8EF40EF1D', 'Lead', '177'), ('63E8EF40EF1D', 'Lead', '178'), ('63E8EF40EF1D', 'Lead', '179'), ('63E8EF40EF1D', 'Lead', '180'), ('63E8EF40EF1D', 'Lead', '181'), ('63E8EF40EF1D', 'Lead', '182'), ('63E8EF40EF1D', 'Lead', '183'), ('63E8EF40EF1D', 'Lead', '184'), ('63E8EF40EF1D', 'Lead', '185'), ('63E8EF40EF1D', 'Lead', '185'), ('63E8EF40EF1D', 'Lead', '186'), ('63E8EF40EF1D', 'Lead', '187'), ('63E8EF40EF1D', 'Lead', '188'), ('63E8EF40EF1D', 'Lead', '189'), ('63E8EF40EF1D', 'Lead', '190'), ('63E8EF40EF1D', 'Lead', '191'), ('63E8EF40EF1D', 'Lead', '192'), ('63E8EF40EF1D', 'Lead', '193'), ('63E8EF40EF1D', 'Lead', '194'), ('63E8EF40EF1D', 'Lead', '195'), ('63E8EF40EF1D', 'Lead', '196'), ('63E8EF40EF1D', 'Lead', '197'), ('63E8EF40EF1D', 'Lead', '198'), ('63E8EF40EF1D', 'Lead', '199'), ('63E8EF40EF1D', 'Lead', '200'), ('63E8EF40EF1D', 'Lead', '201'), ('63E8EF40EF1D', 'Lead', '202'), ('63E8EF40EF1D', 'Lead', '203'), ('63E8EF40EF1D', 'Lead', '204'), ('63E8EF40EF1D', 'Lead', '205'), ('63E8EF40EF1D', 'Lead', '205'), ('63E8EF40EF1D', 'Lead', '206'), ('63E8EF40EF1D', 'Lead', '207'), ('63E8EF40EF1D', 'Lead', '208'), ('63E8EF40EF1D', 'Lead', '209'), ('63E8EF40EF1D', 'Lead', '210'), ('63E8EF40EF1D', 'Lead', '211'), ('63E8EF40EF1D', 'Lead', '212'), ('63E8EF40EF1D', 'Lead', '213'), ('63E8EF40EF1D', 'Lead', '214'), ('63E8EF40EF1D', 'Lead', '215'), ('63E8EF40EF1D', 'Lead', '216'), ('63E8EF40EF1D', 'Lead', '217'), ('63E8EF40EF1D', 'Lead', '218'), ('63E8EF40EF1D', 'Lead', '219'), ('63E8EF40EF1D', 'Lead', '220'), ('63E8EF40EF1D', 'Lead', '221'), ('63E8EF40EF1D', 'Lead', '222'), ('63E8EF40EF1D', 'Lead', '223'), ('63E8EF40EF1D', 'Lead', '224'), ('63E8EF40EF1D', 'Lead', '225'), ('63E8EF40EF1D', 'Lead', '226'), ('63E8EF40EF1D', 'Lead', '227'), ('63E8EF40EF1D', 'Lead', '228'), ('63E8EF40EF1D', 'Lead', '229'), ('63E8EF40EF1D', 'Lead', '229'), ('63E8EF40EF1D', 'Lead', '230'), ('63E8EF40EF1D', 'Lead', '231'), ('63E8EF40EF1D', 'Lead', '232'), ('63E8EF40EF1D', 'Lead', '233'), ('63E8EF40EF1D', 'Lead', '233'), ('63E8EF40EF1D', 'Lead', '234'), ('63E8EF40EF1D', 'Lead', '235'), ('63E8EF40EF1D', 'Lead', '236'), ('63E8EF40EF1D', 'Lead', '237'), ('63E8EF40EF1D', 'Lead', '238'), ('63E8EF40EF1D', 'Lead', '239'), ('63E8EF40EF1D', 'Lead', '240'), ('63E8EF40EF1D', 'Lead', '241'), ('63E8EF40EF1D', 'Lead', '242'), ('63E8EF40EF1D', 'Lead', '243'), ('63E8EF40EF1D', 'Lead', '244'), ('63E8EF40EF1D', 'Lead', '245'), ('63E8EF40EF1D', 'Lead', '246'), ('63E8EF40EF1D', 'Lead', '247'), ('63E8EF40EF1D', 'Lead', '248'), ('63E8EF40EF1D', 'Lead', '248'), ('63E8EF40EF1D', 'Lead', '248'), ('63E8EF40EF1D', 'Lead', '248'), ('63E8EF40EF1D', 'Lead', '248'), ('63E8EF40EF1D', 'Lead', '248'), ('63E8EF40EF1D', 'Lead', '249'), ('63E8EF40EF1D', 'Lead', '250'), ('63E8EF40EF1D', 'Lead', '251'), ('63E8EF40EF1D', 'Lead', '252'), ('63E8EF40EF1D', 'Lead', '252'), ('63E8EF40EF1D', 'Lead', '252'), ('63E8EF40EF1D', 'Lead', '253'), ('63E8EF40EF1D', 'Lead', '254'), ('63E8EF40EF1D', 'Lead', '255'), ('63E8EF40EF1D', 'Lead', '256'), ('63E8EF40EF1D', 'Lead', '257'), ('63E8EF40EF1D', 'Lead', '258'), ('63E8EF40EF1D', 'Lead', '259'), ('63E8EF40EF1D', 'Lead', '260'), ('63E8EF40EF1D', 'Lead', '261'), ('63E8EF40EF1D', 'Lead', '262'), ('63E8EF40EF1D', 'Lead', '262'), ('63E8EF40EF1D', 'Lead', '263'), ('63E8EF40EF1D', 'Lead', '263'), ('63E8EF40EF1D', 'Lead', '264'), ('63E8EF40EF1D', 'Lead', '264'), ('63E8EF40EF1D', 'Lead', '264'), ('63E8EF40EF1D', 'Lead', '265'), ('63E8EF40EF1D', 'Lead', '266'), ('63E8EF40EF1D', 'Lead', '266'), ('63E8EF40EF1D', 'Lead', '267'), ('63E8EF40EF1D', 'Lead', '268'), ('63E8EF40EF1D', 'Lead', '269'), ('63E8EF40EF1D', 'Lead', '270'), ('63E8EF40EF1D', 'Lead', '271'), ('63E8EF40EF1D', 'Lead', '272'), ('63E8EF40EF1D', 'Lead', '273'), ('63E8EF40EF1D', 'Lead', '274'), ('63E8EF40EF1D', 'Lead', '275'), ('63E8EF40EF1D', 'Lead', '276'), ('63E8EF40EF1D', 'Lead', '277'), ('63E8EF40EF1D', 'Lead', '278'), ('63E8EF40EF1D', 'Lead', '279'), ('63E8EF40EF1D', 'Lead', '280'), ('63E8EF40EF1D', 'Lead', '281'), ('63E8EF40EF1D', 'Lead', '282'), ('63E8EF40EF1D', 'Lead', '283'), ('63E8EF40EF1D', 'Lead', '284'), ('63E8EF40EF1D', 'Lead', '285'), ('63E8EF40EF1D', 'Lead', '285'), ('63E8EF40EF1D', 'Lead', '286'), ('63E8EF40EF1D', 'Lead', '286'), ('63E8EF40EF1D', 'Lead', '286'), ('63E8EF40EF1D', 'Lead', '287'), ('63E8EF40EF1D', 'Lead', '288'), ('63E8EF40EF1D', 'Lead', '289'), ('63E8EF40EF1D', 'Lead', '290'), ('63E8EF40EF1D', 'Lead', '291'), ('63E8EF40EF1D', 'Lead', '292'), ('63E8EF40EF1D', 'Lead', '293'), ('63E8EF40EF1D', 'Lead', '294'), ('63E8EF40EF1D', 'Lead', '295'), ('63E8EF40EF1D', 'Lead', '296'), ('63E8EF40EF1D', 'Lead', '297'), ('63E8EF40EF1D', 'Lead', '298'), ('63E8EF40EF1D', 'Lead', '299'), ('63E8EF40EF1D', 'Lead', '300'), ('63E8EF40EF1D', 'Lead', '301'), ('63E8EF40EF1D', 'Lead', '302'), ('63E8EF40EF1D', 'Lead', '303'), ('63E8EF40EF1D', 'Lead', '304'), ('63E8EF40EF1D', 'Lead', '305'), ('63E8EF40EF1D', 'Lead', '306'), ('63E8EF40EF1D', 'Lead', '307'), ('63E8EF40EF1D', 'Lead', '308'), ('63E8EF40EF1D', 'Lead', '309'), ('63E8EF40EF1D', 'Lead', '309'), ('63E8EF40EF1D', 'Lead', '310'), ('63E8EF40EF1D', 'Lead', '311'), ('63E8EF40EF1D', 'Lead', '312'), ('63E8EF40EF1D', 'Lead', '313'), ('63E8EF40EF1D', 'Lead', '314'), ('63E8EF40EF1D', 'Lead', '315'), ('63E8EF40EF1D', 'Lead', '316'), ('63E8EF40EF1D', 'Lead', '317'), ('63E8EF40EF1D', 'Lead', '318'), ('63E8EF40EF1D', 'Lead', '319'), ('63E8EF40EF1D', 'Lead', '320'), ('63E8EF40EF1D', 'Lead', '321'), ('63E8EF40EF1D', 'Lead', '322'), ('63E8EF40EF1D', 'Lead', '323'), ('63E8EF40EF1D', 'Lead', '324'), ('63E8EF40EF1D', 'Lead', '325'), ('63E8EF40EF1D', 'Lead', '326'), ('63E8EF40EF1D', 'Lead', '327'), ('63E8EF40EF1D', 'Lead', '328'), ('63E8EF40EF1D', 'Lead', '329'), ('63E8EF40EF1D', 'Lead', '330'), ('63E8EF40EF1D', 'Lead', '330'), ('63E8EF40EF1D', 'Lead', '331'), ('63E8EF40EF1D', 'Lead', '332'), ('63E8EF40EF1D', 'Lead', '333'), ('63E8EF40EF1D', 'Lead', '333'), ('63E8EF40EF1D', 'Lead', '334'), ('63E8EF40EF1D', 'Lead', '335'), ('63E8EF40EF1D', 'Lead', '336'), ('63E8EF40EF1D', 'Lead', '337'), ('63E8EF40EF1D', 'Lead', '338'), ('63E8EF40EF1D', 'Lead', '339'), ('63E8EF40EF1D', 'Lead', '340'), ('63E8EF40EF1D', 'Lead', '340'), ('63E8EF40EF1D', 'Lead', '341'), ('63E8EF40EF1D', 'Lead', '342'), ('63E8EF40EF1D', 'Lead', '343'), ('63E8EF40EF1D', 'Lead', '344'), ('63E8EF40EF1D', 'Lead', '345'), ('63E8EF40EF1D', 'Lead', '346'), ('63E8EF40EF1D', 'Lead', '346'), ('63E8EF40EF1D', 'Lead', '347'), ('63E8EF40EF1D', 'Lead', '348'), ('63E8EF40EF1D', 'Lead', '349'), ('63E8EF40EF1D', 'Lead', '350'), ('63E8EF40EF1D', 'Lead', '351'), ('63E8EF40EF1D', 'Lead', '352'), ('63E8EF40EF1D', 'Lead', '353'), ('63E8EF40EF1D', 'Lead', '354'), ('63E8EF40EF1D', 'Lead', '355'), ('63E8EF40EF1D', 'Lead', '356'), ('63E8EF40EF1D', 'Lead', '357'), ('63E8EF40EF1D', 'Lead', '357'), ('63E8EF40EF1D', 'Lead', '358'), ('63E8EF40EF1D', 'Lead', '359'), ('63E8EF40EF1D', 'Lead', '360'), ('63E8EF40EF1D', 'Lead', '361'), ('63E8EF40EF1D', 'Lead', '361'), ('63E8EF40EF1D', 'Lead', '362'), ('63E8EF40EF1D', 'Lead', '363'), ('63E8EF40EF1D', 'Lead', '364'), ('63E8EF40EF1D', 'Lead', '365'), ('63E8EF40EF1D', 'Lead', '366'), ('63E8EF40EF1D', 'Lead', '367'), ('63E8EF40EF1D', 'Lead', '368'), ('63E8EF40EF1D', 'Lead', '369'), ('63E8EF40EF1D', 'Lead', '370'), ('63E8EF40EF1D', 'Lead', '371'), ('63E8EF40EF1D', 'Lead', '372'), ('63E8EF40EF1D', 'Lead', '373'), ('63E8EF40EF1D', 'Lead', '374'), ('63E8EF40EF1D', 'Lead', '375'), ('63E8EF40EF1D', 'Lead', '376'), ('63E8EF40EF1D', 'Lead', '377'), ('63E8EF40EF1D', 'Lead', '378'), ('63E8EF40EF1D', 'Lead', '379'), ('63E8EF40EF1D', 'Lead', '380'), ('63E8EF40EF1D', 'Lead', '381'), ('63E8EF40EF1D', 'Lead', '381'), ('63E8EF40EF1D', 'Lead', '381'), ('63E8EF40EF1D', 'Lead', '382'), ('63E8EF40EF1D', 'Lead', '383'), ('63E8EF40EF1D', 'Lead', '384'), ('63E8EF40EF1D', 'Lead', '385'), ('63E8EF40EF1D', 'Lead', '386'), ('63E8EF40EF1D', 'Lead', '387'), ('63E8EF40EF1D', 'Lead', '388'), ('63E8EF40EF1D', 'Lead', '389'), ('63E8EF40EF1D', 'Lead', '390'), ('63E8EF40EF1D', 'Lead', '391'), ('63E8EF40EF1D', 'Lead', '392'), ('63E8EF40EF1D', 'Lead', '393'), ('63E8EF40EF1D', 'Lead', '394'), ('63E8EF40EF1D', 'Lead', '394'), ('63E8EF40EF1D', 'Lead', '394'), ('63E8EF40EF1D', 'Lead', '394'), ('63E8EF40EF1D', 'Lead', '394'), ('63E8EF40EF1D', 'Lead', '394'), ('63E8EF40EF1D', 'Lead', '395'), ('63E8EF40EF1D', 'Lead', '396'), ('63E8EF40EF1D', 'Lead', '397'), ('63E8EF40EF1D', 'Lead', '398'), ('63E8EF40EF1D', 'Lead', '399'), ('63E8EF40EF1D', 'Lead', '400'), ('63E8EF40EF1D', 'Lead', '401'), ('63E8EF40EF1D', 'Lead', '402'), ('63E8EF40EF1D', 'Lead', '403'), ('63E8EF40EF1D', 'Lead', '404'), ('63E8EF40EF1D', 'Lead', '405'), ('63E8EF40EF1D', 'Lead', '406'), ('63E8EF40EF1D', 'Lead', '407'), ('63E8EF40EF1D', 'Lead', '408'), ('63E8EF40EF1D', 'Lead', '409'), ('63E8EF40EF1D', 'Lead', '410'), ('63E8EF40EF1D', 'Lead', '411'), ('63E8EF40EF1D', 'Lead', '412'), ('63E8EF40EF1D', 'Lead', '413'), ('63E8EF40EF1D', 'Lead', '413'), ('63E8EF40EF1D', 'Lead', '414'), ('63E8EF40EF1D', 'Lead', '414'), ('63E8EF40EF1D', 'Lead', '415'), ('63E8EF40EF1D', 'Lead', '416'), ('63E8EF40EF1D', 'Lead', '417'), ('63E8EF40EF1D', 'Lead', '418'), ('63E8EF40EF1D', 'Lead', '419'), ('63E8EF40EF1D', 'Lead', '420'), ('63E8EF40EF1D', 'Lead', '421'), ('63E8EF40EF1D', 'Lead', '422'), ('63E8EF40EF1D', 'Lead', '423'), ('63E8EF40EF1D', 'Lead', '424'), ('63E8EF40EF1D', 'Lead', '425'), ('63E8EF40EF1D', 'Lead', '426'), ('63E8EF40EF1D', 'Lead', '427'), ('63E8EF40EF1D', 'Lead', '428'), ('63E8EF40EF1D', 'Lead', '429'), ('63E8EF40EF1D', 'Lead', '430'), ('63E8EF40EF1D', 'Lead', '430'), ('63E8EF40EF1D', 'Lead', '431'), ('63E8EF40EF1D', 'Lead', '432'), ('63E8EF40EF1D', 'Lead', '433'), ('63E8EF40EF1D', 'Lead', '434'), ('63E8EF40EF1D', 'Lead', '435'), ('63E8EF40EF1D', 'Lead', '436'), ('63E8EF40EF1D', 'Lead', '437'), ('63E8EF40EF1D', 'Lead', '438'), ('63E8EF40EF1D', 'Lead', '439'), ('63E8EF40EF1D', 'Lead', '440'), ('63E8EF40EF1D', 'Lead', '441'), ('63E8EF40EF1D', 'Lead', '442'), ('63E8EF40EF1D', 'Lead', '442'), ('63E8EF40EF1D', 'Lead', '443'), ('63E8EF40EF1D', 'Lead', '444'), ('63E8EF40EF1D', 'Lead', '444'), ('63E8EF40EF1D', 'Lead', '445'), ('63E8EF40EF1D', 'Lead', '446'), ('63E8EF40EF1D', 'Lead', '447'), ('63E8EF40EF1D', 'Lead', '448'), ('63E8EF40EF1D', 'Lead', '449'), ('63E8EF40EF1D', 'Lead', '450'), ('63E8EF40EF1D', 'Lead', '451'), ('63E8EF40EF1D', 'Lead', '452'), ('63E8EF40EF1D', 'Lead', '453'), ('63E8EF40EF1D', 'Lead', '454'), ('63E8EF40EF1D', 'Lead', '454'), ('63E8EF40EF1D', 'Lead', '455'), ('63E8EF40EF1D', 'Lead', '456'), ('63E8EF40EF1D', 'Lead', '457'), ('63E8EF40EF1D', 'Lead', '457'), ('63E8EF40EF1D', 'Lead', '458'), ('63E8EF40EF1D', 'Lead', '459'), ('63E8EF40EF1D', 'Lead', '460'), ('63E8EF40EF1D', 'Lead', '461'), ('63E8EF40EF1D', 'Lead', '462'), ('63E8EF40EF1D', 'Lead', '463'), ('63E8EF40EF1D', 'Lead', '464'), ('63E8EF40EF1D', 'Lead', '464'), ('63E8EF40EF1D', 'Lead', '464'), ('63E8EF40EF1D', 'Lead', '465'), ('63E8EF40EF1D', 'Lead', '465'), ('63E8EF40EF1D', 'Lead', '466'), ('63E8EF40EF1D', 'Lead', '467'), ('63E8EF40EF1D', 'Lead', '468'), ('63E8EF40EF1D', 'Lead', '469'), ('63E8EF40EF1D', 'Lead', '470'), ('63E8EF40EF1D', 'Lead', '471'), ('63E8EF40EF1D', 'Lead', '472'), ('63E8EF40EF1D', 'Lead', '473'), ('63E8EF40EF1D', 'Lead', '474'), ('63E8EF40EF1D', 'Lead', '475'), ('63E8EF40EF1D', 'Lead', '476'), ('63E8EF40EF1D', 'Lead', '477'), ('63E8EF40EF1D', 'Lead', '478'), ('63E8EF40EF1D', 'Lead', '479'), ('63E8EF40EF1D', 'Lead', '480'), ('63E8EF40EF1D', 'Lead', '480'), ('63E8EF40EF1D', 'Lead', '481'), ('63E8EF40EF1D', 'Lead', '482'), ('63E8EF40EF1D', 'Lead', '483'), ('63E8EF40EF1D', 'Lead', '484'), ('63E8EF40EF1D', 'Lead', '485'), ('63E8EF40EF1D', 'Lead', '486'), ('63E8EF40EF1D', 'Lead', '487'), ('63E8EF40EF1D', 'Lead', '487'), ('63E8EF40EF1D', 'Lead', '488'), ('63E8EF40EF1D', 'Lead', '489'), ('63E8EF40EF1D', 'Lead', '490'), ('63E8EF40EF1D', 'Lead', '491'), ('63E8EF40EF1D', 'Lead', '492'), ('63E8EF40EF1D', 'Lead', '493'), ('63E8EF40EF1D', 'Lead', '493'), ('63E8EF40EF1D', 'Lead', '494'), ('63E8EF40EF1D', 'Lead', '495'), ('63E8EF40EF1D', 'Lead', '496'), ('63E8EF40EF1D', 'Lead', '497'), ('63E8EF40EF1D', 'Lead', '498'), ('63E8EF40EF1D', 'Lead', '499'), ('63E8EF40EF1D', 'Lead', '500'), ('63E8EF40EF1D', 'Lead', '501'), ('63E8EF40EF1D', 'Lead', '502'), ('63E8EF40EF1D', 'Lead', '503'), ('63E8EF40EF1D', 'Lead', '503'), ('63E8EF40EF1D', 'Lead', '504'), ('63E8EF40EF1D', 'Lead', '504'), ('63E8EF40EF1D', 'Lead', '505'), ('63E8EF40EF1D', 'Lead', '506'), ('63E8EF40EF1D', 'Lead', '507'), ('63E8EF40EF1D', 'Lead', '508'), ('63E8EF40EF1D', 'Lead', '509'), ('63E8EF40EF1D', 'Lead', '510'), ('63E8EF40EF1D', 'Lead', '511'), ('63E8EF40EF1D', 'Lead', '512'), ('63E8EF40EF1D', 'Lead', '513'), ('63E8EF40EF1D', 'Lead', '514'), ('63E8EF40EF1D', 'Lead', '515'), ('63E8EF40EF1D', 'Lead', '516'), ('63E8EF40EF1D', 'Lead', '517'), ('63E8EF40EF1D', 'Lead', '518'), ('63E8EF40EF1D', 'Lead', '519'), ('63E8EF40EF1D', 'Lead', '520'), ('63E8EF40EF1D', 'Lead', '521'), ('63E8EF40EF1D', 'Lead', '522'), ('63E8EF40EF1D', 'Lead', '523'), ('63E8EF40EF1D', 'Lead', '524'), ('63E8EF40EF1D', 'Lead', '525'), ('63E8EF40EF1D', 'Lead', '526'), ('63E8EF40EF1D', 'Lead', '527'), ('63E8EF40EF1D', 'Lead', '528'), ('63E8EF40EF1D', 'Lead', '529'), ('63E8EF40EF1D', 'Lead', '529'), ('63E8EF40EF1D', 'Lead', '529'), ('63E8EF40EF1D', 'Lead', '529'), ('63E8EF40EF1D', 'Lead', '529'), ('63E8EF40EF1D', 'Lead', '529'), ('63E8EF40EF1D', 'Lead', '529'), ('63E8EF40EF1D', 'Lead', '530'), ('63E8EF40EF1D', 'Lead', '531'), ('63E8EF40EF1D', 'Lead', '532'), ('63E8EF40EF1D', 'Lead', '532'), ('63E8EF40EF1D', 'Lead', '533'), ('63E8EF40EF1D', 'Lead', '534'), ('63E8EF40EF1D', 'Lead', '535'), ('63E8EF40EF1D', 'Lead', '535'), ('63E8EF40EF1D', 'Lead', '535'), ('63E8EF40EF1D', 'Lead', '536'), ('63E8EF40EF1D', 'Lead', '537'), ('63E8EF40EF1D', 'Lead', '538'), ('63E8EF40EF1D', 'Lead', '539'), ('63E8EF40EF1D', 'Lead', '540'), ('63E8EF40EF1D', 'Lead', '541'), ('63E8EF40EF1D', 'Lead', '542'), ('63E8EF40EF1D', 'Lead', '543'), ('63E8EF40EF1D', 'Lead', '544'), ('63E8EF40EF1D', 'Lead', '545'), ('63E8EF40EF1D', 'Lead', '545'), ('63E8EF40EF1D', 'Lead', '546'), ('63E8EF40EF1D', 'Lead', '547'), ('63E8EF40EF1D', 'Lead', '548'), ('63E8EF40EF1D', 'Lead', '548'), ('63E8EF40EF1D', 'Lead', '549'), ('63E8EF40EF1D', 'Lead', '550'), ('63E8EF40EF1D', 'Lead', '551'), ('63E8EF40EF1D', 'Lead', '552'), ('63E8EF40EF1D', 'Lead', '553'), ('63E8EF40EF1D', 'Lead', '554'), ('63E8EF40EF1D', 'Lead', '555'), ('63E8EF40EF1D', 'Lead', '556'), ('63E8EF40EF1D', 'Lead', '557'), ('63E8EF40EF1D', 'Lead', '557'), ('63E8EF40EF1D', 'Lead', '558'), ('63E8EF40EF1D', 'Lead', '558'), ('63E8EF40EF1D', 'Lead', '558'), ('63E8EF40EF1D', 'Lead', '558'), ('63E8EF40EF1D', 'Lead', '558'), ('63E8EF40EF1D', 'Lead', '558'), ('63E8EF40EF1D', 'Lead', '558'), ('63E8EF40EF1D', 'Lead', '558'), ('AC71A062B952', 'Lead', '0'), ('AC71A062B952', 'Lead', '0'), ('AC71A062B952', 'Lead', '1'), ('AC71A062B952', 'Lead', '2'), ('AC71A062B952', 'Lead', '3'), ('AC71A062B952', 'Lead', '4'), ('AC71A062B952', 'Lead', '5'), ('AC71A062B952', 'Lead', '6'), ('AC71A062B952', 'Lead', '7'), ('AC71A062B952', 'Lead', '8'), ('AC71A062B952', 'Lead', '9'), ('AC71A062B952', 'Lead', '10'), ('AC71A062B952', 'Lead', '11'), ('AC71A062B952', 'Lead', '12'), ('AC71A062B952', 'Lead', '12'), ('AC71A062B952', 'Lead', '13'), ('AC71A062B952', 'Lead', '14'), ('AC71A062B952', 'Lead', '15'), ('AC71A062B952', 'Lead', '16'), ('AC71A062B952', 'Lead', '17'), ('AC71A062B952', 'Lead', '18'), ('AC71A062B952', 'Lead', '19'), ('AC71A062B952', 'Lead', '19'), ('AC71A062B952', 'Lead', '20'), ('AC71A062B952', 'Lead', '20'), ('AC71A062B952', 'Lead', '21'), ('AC71A062B952', 'Lead', '22'), ('AC71A062B952', 'Lead', '23'), ('AC71A062B952', 'Lead', '24'), ('AC71A062B952', 'Lead', '25'), ('AC71A062B952', 'Lead', '26'), ('AC71A062B952', 'Lead', '27'), ('AC71A062B952', 'Lead', '28'), ('AC71A062B952', 'Lead', '29'), ('AC71A062B952', 'Lead', '30'), ('AC71A062B952', 'Lead', '31'), ('AC71A062B952', 'Lead', '32'), ('AC71A062B952', 'Lead', '32'), ('AC71A062B952', 'Lead', '33'), ('AC71A062B952', 'Lead', '34'), ('AC71A062B952', 'Lead', '35'), ('AC71A062B952', 'Lead', '36'), ('AC71A062B952', 'Lead', '37'), ('AC71A062B952', 'Lead', '38'), ('AC71A062B952', 'Lead', '39'), ('AC71A062B952', 'Lead', '40'), ('AC71A062B952', 'Lead', '41'), ('AC71A062B952', 'Lead', '42'), ('AC71A062B952', 'Lead', '43'), ('AC71A062B952', 'Lead', '43'), ('AC71A062B952', 'Lead', '44'), ('AC71A062B952', 'Lead', '45'), ('AC71A062B952', 'Lead', '46'), ('AC71A062B952', 'Lead', '47'), ('AC71A062B952', 'Lead', '48'), ('AC71A062B952', 'Lead', '49'), ('AC71A062B952', 'Lead', '50'), ('AC71A062B952', 'Lead', '51'), ('AC71A062B952', 'Lead', '51'), ('AC71A062B952', 'Lead', '52'), ('AC71A062B952', 'Lead', '53'), ('AC71A062B952', 'Lead', '54'), ('AC71A062B952', 'Lead', '55'), ('AC71A062B952', 'Lead', '56'), ('AC71A062B952', 'Lead', '57'), ('AC71A062B952', 'Lead', '58'), ('AC71A062B952', 'Lead', '58'), ('AC71A062B952', 'Lead', '58'), ('AC71A062B952', 'Lead', '58'), ('AC71A062B952', 'Lead', '58'), ('AC71A062B952', 'Lead', '59'), ('AC71A062B952', 'Lead', '60'), ('AC71A062B952', 'Lead', '60'), ('AC71A062B952', 'Lead', '61'), ('AC71A062B952', 'Lead', '61'), ('AC71A062B952', 'Lead', '62'), ('AC71A062B952', 'Lead', '63'), ('AC71A062B952', 'Lead', '64'), ('AC71A062B952', 'Lead', '65'), ('AC71A062B952', 'Lead', '66'), ('AC71A062B952', 'Lead', '67'), ('AC71A062B952', 'Lead', '68'), ('AC71A062B952', 'Lead', '69'), ('AC71A062B952', 'Lead', '70'), ('AC71A062B952', 'Lead', '71'), ('AC71A062B952', 'Lead', '72'), ('AC71A062B952', 'Lead', '73'), ('AC71A062B952', 'Lead', '74'), ('AC71A062B952', 'Lead', '74'), ('AC71A062B952', 'Lead', '75'), ('AC71A062B952', 'Lead', '76'), ('AC71A062B952', 'Lead', '77'), ('AC71A062B952', 'Lead', '78'), ('AC71A062B952', 'Lead', '79'), ('AC71A062B952', 'Lead', '80'), ('AC71A062B952', 'Lead', '81'), ('AC71A062B952', 'Lead', '82'), ('AC71A062B952', 'Lead', '83'), ('AC71A062B952', 'Lead', '84'), ('AC71A062B952', 'Lead', '85'), ('AC71A062B952', 'Lead', '86'), ('AC71A062B952', 'Lead', '87'), ('AC71A062B952', 'Lead', '88'), ('AC71A062B952', 'Lead', '88'), ('AC71A062B952', 'Lead', '89'), ('AC71A062B952', 'Lead', '90'), ('AC71A062B952', 'Lead', '91'), ('AC71A062B952', 'Lead', '92'), ('AC71A062B952', 'Lead', '93'), ('AC71A062B952', 'Lead', '94'), ('AC71A062B952', 'Lead', '94'), ('AC71A062B952', 'Lead', '95'), ('AC71A062B952', 'Lead', '96'), ('AC71A062B952', 'Lead', '97'), ('AC71A062B952', 'Lead', '98'), ('AC71A062B952', 'Lead', '99'), ('AC71A062B952', 'Lead', '100'), ('AC71A062B952', 'Lead', '101'), ('AC71A062B952', 'Lead', '102'), ('AC71A062B952', 'Lead', '103'), ('AC71A062B952', 'Lead', '104'), ('AC71A062B952', 'Lead', '105'), ('AC71A062B952', 'Lead', '106'), ('AC71A062B952', 'Lead', '107'), ('AC71A062B952', 'Lead', '108'), ('AC71A062B952', 'Lead', '109'), ('AC71A062B952', 'Lead', '110'), ('AC71A062B952', 'Lead', '110'), ('AC71A062B952', 'Lead', '111'), ('AC71A062B952', 'Lead', '112'), ('AC71A062B952', 'Lead', '112'), ('AC71A062B952', 'Lead', '113'), ('AC71A062B952', 'Lead', '114'), ('AC71A062B952', 'Lead', '114'), ('AC71A062B952', 'Lead', '115'), ('AC71A062B952', 'Lead', '116'), ('AC71A062B952', 'Lead', '117'), ('AC71A062B952', 'Lead', '118'), ('AC71A062B952', 'Lead', '118'), ('AC71A062B952', 'Lead', '119'), ('AC71A062B952', 'Lead', '120'), ('AC71A062B952', 'Lead', '121'), ('AC71A062B952', 'Lead', '122'), ('AC71A062B952', 'Lead', '123'), ('AC71A062B952', 'Lead', '124'), ('AC71A062B952', 'Lead', '125'), ('AC71A062B952', 'Lead', '126'), ('AC71A062B952', 'Lead', '127'), ('AC71A062B952', 'Lead', '128'), ('AC71A062B952', 'Lead', '129'), ('AC71A062B952', 'Lead', '130'), ('AC71A062B952', 'Lead', '131'), ('AC71A062B952', 'Lead', '132'), ('AC71A062B952', 'Lead', '132'), ('AC71A062B952', 'Lead', '133'), ('AC71A062B952', 'Lead', '134'), ('AC71A062B952', 'Lead', '135'), ('AC71A062B952', 'Lead', '136'), ('AC71A062B952', 'Lead', '137'), ('AC71A062B952', 'Lead', '138'), ('AC71A062B952', 'Lead', '139'), ('AC71A062B952', 'Lead', '140'), ('AC71A062B952', 'Lead', '141'), ('AC71A062B952', 'Lead', '142'), ('AC71A062B952', 'Lead', '143'), ('AC71A062B952', 'Lead', '144'), ('AC71A062B952', 'Lead', '145'), ('AC71A062B952', 'Lead', '146'), ('AC71A062B952', 'Lead', '147'), ('AC71A062B952', 'Lead', '148'), ('AC71A062B952', 'Lead', '149'), ('AC71A062B952', 'Lead', '150'), ('AC71A062B952', 'Lead', '150'), ('AC71A062B952', 'Lead', '151'), ('AC71A062B952', 'Lead', '152'), ('AC71A062B952', 'Lead', '153'), ('AC71A062B952', 'Lead', '154'), ('AC71A062B952', 'Lead', '154'), ('AC71A062B952', 'Lead', '155'), ('AC71A062B952', 'Lead', '156'), ('AC71A062B952', 'Lead', '157'), ('AC71A062B952', 'Lead', '158'), ('AC71A062B952', 'Lead', '159'), ('AC71A062B952', 'Lead', '159'), ('AC71A062B952', 'Lead', '160'), ('AC71A062B952', 'Lead', '160'), ('AC71A062B952', 'Lead', '161'), ('AC71A062B952', 'Lead', '162'), ('AC71A062B952', 'Lead', '163'), ('AC71A062B952', 'Lead', '164'), ('AC71A062B952', 'Lead', '165'), ('AC71A062B952', 'Lead', '166'), ('AC71A062B952', 'Lead', '167'), ('AC71A062B952', 'Lead', '168'), ('AC71A062B952', 'Lead', '169'), ('AC71A062B952', 'Lead', '170'), ('AC71A062B952', 'Lead', '171'), ('AC71A062B952', 'Lead', '171'), ('AC71A062B952', 'Lead', '172'), ('AC71A062B952', 'Lead', '173'), ('AC71A062B952', 'Lead', '174'), ('AC71A062B952', 'Lead', '175'), ('AC71A062B952', 'Lead', '176'), ('AC71A062B952', 'Lead', '176'), ('AC71A062B952', 'Lead', '177'), ('AC71A062B952', 'Lead', '178'), ('AC71A062B952', 'Lead', '179'), ('AC71A062B952', 'Lead', '179'), ('AC71A062B952', 'Lead', '180'), ('AC71A062B952', 'Lead', '181'), ('AC71A062B952', 'Lead', '182'), ('AC71A062B952', 'Lead', '183'), ('AC71A062B952', 'Lead', '184'), ('AC71A062B952', 'Lead', '185'), ('AC71A062B952', 'Lead', '186'), ('AC71A062B952', 'Lead', '187'), ('AC71A062B952', 'Lead', '188'), ('AC71A062B952', 'Lead', '189'), ('AC71A062B952', 'Lead', '190'), ('AC71A062B952', 'Lead', '190'), ('AC71A062B952', 'Lead', '191'), ('AC71A062B952', 'Lead', '192'), ('AC71A062B952', 'Lead', '193'), ('AC71A062B952', 'Lead', '194'), ('AC71A062B952', 'Lead', '194'), ('AC71A062B952', 'Lead', '195'), ('AC71A062B952', 'Lead', '196'), ('AC71A062B952', 'Lead', '197'), ('AC71A062B952', 'Lead', '198'), ('AC71A062B952', 'Lead', '199'), ('AC71A062B952', 'Lead', '200'), ('AC71A062B952', 'Lead', '201'), ('AC71A062B952', 'Lead', '202'), ('AC71A062B952', 'Lead', '203'), ('AC71A062B952', 'Lead', '204'), ('AC71A062B952', 'Lead', '205'), ('AC71A062B952', 'Lead', '205'), ('AC71A062B952', 'Lead', '206'), ('AC71A062B952', 'Lead', '207'), ('AC71A062B952', 'Lead', '207'), ('AC71A062B952', 'Lead', '208'), ('AC71A062B952', 'Lead', '208'), ('AC71A062B952', 'Lead', '209'), ('AC71A062B952', 'Lead', '210'), ('AC71A062B952', 'Lead', '210'), ('AC71A062B952', 'Lead', '211'), ('AC71A062B952', 'Lead', '212'), ('AC71A062B952', 'Lead', '213'), ('AC71A062B952', 'Lead', '213'), ('AC71A062B952', 'Lead', '213'), ('AC71A062B952', 'Lead', '213'), ('AC71A062B952', 'Lead', '213'), ('AC71A062B952', 'Lead', '214'), ('AC71A062B952', 'Lead', '215'), ('AC71A062B952', 'Lead', '216'), ('AC71A062B952', 'Lead', '217'), ('AC71A062B952', 'Lead', '218'), ('AC71A062B952', 'Lead', '219'), ('AC71A062B952', 'Lead', '220'), ('AC71A062B952', 'Lead', '221'), ('AC71A062B952', 'Lead', '222'), ('AC71A062B952', 'Lead', '223'), ('AC71A062B952', 'Lead', '224'), ('AC71A062B952', 'Lead', '225'), ('AC71A062B952', 'Lead', '226'), ('AC71A062B952', 'Lead', '227'), ('AC71A062B952', 'Lead', '228'), ('AC71A062B952', 'Lead', '228'), ('AC71A062B952', 'Lead', '229'), ('AC71A062B952', 'Lead', '230'), ('AC71A062B952', 'Lead', '231'), ('AC71A062B952', 'Lead', '232'), ('AC71A062B952', 'Lead', '233'), ('AC71A062B952', 'Lead', '234'), ('AC71A062B952', 'Lead', '235'), ('AC71A062B952', 'Lead', '236'), ('AC71A062B952', 'Lead', '237'), ('AC71A062B952', 'Lead', '238'), ('AC71A062B952', 'Lead', '239'), ('AC71A062B952', 'Lead', '240'), ('AC71A062B952', 'Lead', '241'), ('AC71A062B952', 'Lead', '241'), ('AC71A062B952', 'Lead', '242'), ('AC71A062B952', 'Lead', '242'), ('AC71A062B952', 'Lead', '242'), ('AC71A062B952', 'Lead', '242'), ('AC71A062B952', 'Lead', '243'), ('AC71A062B952', 'Lead', '244'), ('AC71A062B952', 'Lead', '245'), ('AC71A062B952', 'Lead', '246'), ('AC71A062B952', 'Lead', '247'), ('AC71A062B952', 'Lead', '248'), ('AC71A062B952', 'Lead', '249'), ('AC71A062B952', 'Lead', '250'), ('AC71A062B952', 'Lead', '250'), ('AC71A062B952', 'Lead', '251'), ('AC71A062B952', 'Lead', '252'), ('AC71A062B952', 'Lead', '253'), ('AC71A062B952', 'Lead', '254'), ('AC71A062B952', 'Lead', '255'), ('AC71A062B952', 'Lead', '256'), ('AC71A062B952', 'Lead', '257'), ('AC71A062B952', 'Lead', '257'), ('AC71A062B952', 'Lead', '258'), ('AC71A062B952', 'Lead', '258'), ('AC71A062B952', 'Lead', '259'), ('AC71A062B952', 'Lead', '260'), ('AC71A062B952', 'Lead', '261'), ('AC71A062B952', 'Lead', '262'), ('AC71A062B952', 'Lead', '263'), ('AC71A062B952', 'Lead', '264'), ('AC71A062B952', 'Lead', '265'), ('AC71A062B952', 'Lead', '265'), ('AC71A062B952', 'Lead', '266'), ('AC71A062B952', 'Lead', '267'), ('AC71A062B952', 'Lead', '268'), ('AC71A062B952', 'Lead', '269'), ('AC71A062B952', 'Lead', '269'), ('AC71A062B952', 'Lead', '270'), ('AC71A062B952', 'Lead', '271'), ('AC71A062B952', 'Lead', '272'), ('AC71A062B952', 'Lead', '272'), ('AC71A062B952', 'Lead', '272'), ('AC71A062B952', 'Lead', '273'), ('AC71A062B952', 'Lead', '274'), ('AC71A062B952', 'Lead', '275'), ('AC71A062B952', 'Lead', '276'), ('AC71A062B952', 'Lead', '277'), ('AC71A062B952', 'Lead', '278'), ('AC71A062B952', 'Lead', '279'), ('AC71A062B952', 'Lead', '280'), ('AC71A062B952', 'Lead', '281'), ('AC71A062B952', 'Lead', '282'), ('AC71A062B952', 'Lead', '283'), ('AC71A062B952', 'Lead', '283'), ('AC71A062B952', 'Lead', '284'), ('AC71A062B952', 'Lead', '285'), ('AC71A062B952', 'Lead', '286'), ('AC71A062B952', 'Lead', '287'), ('AC71A062B952', 'Lead', '287'), ('AC71A062B952', 'Lead', '288'), ('AC71A062B952', 'Lead', '289'), ('AC71A062B952', 'Lead', '290'), ('AC71A062B952', 'Lead', '291'), ('AC71A062B952', 'Lead', '291'), ('AC71A062B952', 'Lead', '292'), ('AC71A062B952', 'Lead', '293'), ('AC71A062B952', 'Lead', '294'), ('AC71A062B952', 'Lead', '295'), ('AC71A062B952', 'Lead', '296'), ('AC71A062B952', 'Lead', '297'), ('AC71A062B952', 'Lead', '297'), ('AC71A062B952', 'Lead', '298'), ('AC71A062B952', 'Lead', '299'), ('AC71A062B952', 'Lead', '300'), ('AC71A062B952', 'Lead', '301'), ('AC71A062B952', 'Lead', '302'), ('AC71A062B952', 'Lead', '303'), ('AC71A062B952', 'Lead', '304'), ('AC71A062B952', 'Lead', '305'), ('AC71A062B952', 'Lead', '306'), ('AC71A062B952', 'Lead', '307'), ('AC71A062B952', 'Lead', '308'), ('AC71A062B952', 'Lead', '309'), ('AC71A062B952', 'Lead', '310'), ('AC71A062B952', 'Lead', '311'), ('AC71A062B952', 'Lead', '312'), ('AC71A062B952', 'Lead', '312'), ('AC71A062B952', 'Lead', '313'), ('AC71A062B952', 'Lead', '314'), ('AC71A062B952', 'Lead', '315'), ('AC71A062B952', 'Lead', '316'), ('AC71A062B952', 'Lead', '317'), ('AC71A062B952', 'Lead', '318'), ('AC71A062B952', 'Lead', '319'), ('AC71A062B952', 'Lead', '320'), ('AC71A062B952', 'Lead', '321'), ('AC71A062B952', 'Lead', '322'), ('AC71A062B952', 'Lead', '323'), ('AC71A062B952', 'Lead', '324'), ('AC71A062B952', 'Lead', '325'), ('AC71A062B952', 'Lead', '325'), ('AC71A062B952', 'Lead', '326'), ('AC71A062B952', 'Lead', '327'), ('AC71A062B952', 'Lead', '328'), ('AC71A062B952', 'Lead', '329'), ('AC71A062B952', 'Lead', '330'), ('AC71A062B952', 'Lead', '331'), ('AC71A062B952', 'Lead', '332'), ('AC71A062B952', 'Lead', '332'), ('AC71A062B952', 'Lead', '332'), ('AC71A062B952', 'Lead', '332'), ('AC71A062B952', 'Lead', '332'), ('AC71A062B952', 'Lead', '333'), ('AC71A062B952', 'Lead', '334'), ('AC71A062B952', 'Lead', '335'), ('AC71A062B952', 'Lead', '336'), ('AC71A062B952', 'Lead', '337'), ('AC71A062B952', 'Lead', '338'), ('AC71A062B952', 'Lead', '339'), ('AC71A062B952', 'Lead', '340'), ('AC71A062B952', 'Lead', '341'), ('AC71A062B952', 'Lead', '342'), ('AC71A062B952', 'Lead', '343'), ('AC71A062B952', 'Lead', '344'), ('AC71A062B952', 'Lead', '344'), ('AC71A062B952', 'Lead', '345'), ('AC71A062B952', 'Lead', '345'), ('AC71A062B952', 'Lead', '346'), ('AC71A062B952', 'Lead', '347'), ('AC71A062B952', 'Lead', '348'), ('AC71A062B952', 'Lead', '349'), ('AC71A062B952', 'Lead', '350'), ('AC71A062B952', 'Lead', '351'), ('AC71A062B952', 'Lead', '352'), ('AC71A062B952', 'Lead', '353'), ('AC71A062B952', 'Lead', '354'), ('AC71A062B952', 'Lead', '355'), ('AC71A062B952', 'Lead', '356'), ('AC71A062B952', 'Lead', '356'), ('AC71A062B952', 'Lead', '357'), ('AC71A062B952', 'Lead', '357'), ('AC71A062B952', 'Lead', '358'), ('AC71A062B952', 'Lead', '359'), ('AC71A062B952', 'Lead', '360'), ('AC71A062B952', 'Lead', '361'), ('AC71A062B952', 'Lead', '362'), ('AC71A062B952', 'Lead', '363'), ('AC71A062B952', 'Lead', '364'), ('AC71A062B952', 'Lead', '365'), ('AC71A062B952', 'Lead', '366'), ('AC71A062B952', 'Lead', '367'), ('AC71A062B952', 'Lead', '368'), ('AC71A062B952', 'Lead', '369'), ('AC71A062B952', 'Lead', '370'), ('AC71A062B952', 'Lead', '371'), ('AC71A062B952', 'Lead', '372'), ('AC71A062B952', 'Lead', '373'), ('AC71A062B952', 'Lead', '374'), ('AC71A062B952', 'Lead', '375'), ('AC71A062B952', 'Lead', '375'), ('AC71A062B952', 'Lead', '376'), ('AC71A062B952', 'Lead', '376'), ('AC71A062B952', 'Lead', '377'), ('AC71A062B952', 'Lead', '378'), ('AC71A062B952', 'Lead', '379'), ('AC71A062B952', 'Lead', '379'), ('AC71A062B952', 'Lead', '380'), ('AC71A062B952', 'Lead', '381'), ('AC71A062B952', 'Lead', '382'), ('AC71A062B952', 'Lead', '383'), ('AC71A062B952', 'Lead', '383'), ('AC71A062B952', 'Lead', '384'), ('AC71A062B952', 'Lead', '384'), ('AC71A062B952', 'Lead', '385'), ('AC71A062B952', 'Lead', '386'), ('AC71A062B952', 'Lead', '386'), ('AC71A062B952', 'Lead', '387'), ('AC71A062B952', 'Lead', '388'), ('AC71A062B952', 'Lead', '389'), ('AC71A062B952', 'Lead', '390'), ('AC71A062B952', 'Lead', '391'), ('AC71A062B952', 'Lead', '392'), ('AC71A062B952', 'Lead', '393'), ('AC71A062B952', 'Lead', '394'), ('AC71A062B952', 'Lead', '395'), ('AC71A062B952', 'Lead', '396'), ('AC71A062B952', 'Lead', '397'), ('AC71A062B952', 'Lead', '398'), ('AC71A062B952', 'Lead', '399'), ('AC71A062B952', 'Lead', '400'), ('AC71A062B952', 'Lead', '401'), ('AC71A062B952', 'Lead', '402'), ('AC71A062B952', 'Lead', '403'), ('AC71A062B952', 'Lead', '404'), ('AC71A062B952', 'Lead', '405'), ('AC71A062B952', 'Lead', '406'), ('AC71A062B952', 'Lead', '407'), ('AC71A062B952', 'Lead', '407'), ('AC71A062B952', 'Lead', '408'), ('AC71A062B952', 'Lead', '409'), ('AC71A062B952', 'Lead', '410'), ('AC71A062B952', 'Lead', '411'), ('AC71A062B952', 'Lead', '412'), ('AC71A062B952', 'Lead', '413'), ('AC71A062B952', 'Lead', '414'), ('AC71A062B952', 'Lead', '415'), ('AC71A062B952', 'Lead', '416'), ('AC71A062B952', 'Lead', '417'), ('AC71A062B952', 'Lead', '418'), ('AC71A062B952', 'Lead', '419'), ('AC71A062B952', 'Lead', '420'), ('AC71A062B952', 'Lead', '420'), ('AC71A062B952', 'Lead', '420'), ('AC71A062B952', 'Lead', '420'), ('AC71A062B952', 'Lead', '420'), ('AC71A062B952', 'Lead', '421'), ('AC71A062B952', 'Lead', '422'), ('AC71A062B952', 'Lead', '423'), ('AC71A062B952', 'Lead', '424'), ('AC71A062B952', 'Lead', '425'), ('AC71A062B952', 'Lead', '426'), ('AC71A062B952', 'Lead', '427'), ('AC71A062B952', 'Lead', '428'), ('AC71A062B952', 'Lead', '429'), ('AC71A062B952', 'Lead', '430'), ('AC71A062B952', 'Lead', '431'), ('AC71A062B952', 'Lead', '432'), ('AC71A062B952', 'Lead', '433'), ('AC71A062B952', 'Lead', '434'), ('AC71A062B952', 'Lead', '435'), ('AC71A062B952', 'Lead', '436'), ('AC71A062B952', 'Lead', '437'), ('AC71A062B952', 'Lead', '438'), ('AC71A062B952', 'Lead', '439'), ('AC71A062B952', 'Lead', '440'), ('AC71A062B952', 'Lead', '441'), ('AC71A062B952', 'Lead', '441'), ('AC71A062B952', 'Lead', '442'), ('AC71A062B952', 'Lead', '443'), ('AC71A062B952', 'Lead', '444'), ('AC71A062B952', 'Lead', '445'), ('AC71A062B952', 'Lead', '446'), ('AC71A062B952', 'Lead', '446'), ('AC71A062B952', 'Lead', '447'), ('AC71A062B952', 'Lead', '448'), ('AC71A062B952', 'Lead', '449'), ('AC71A062B952', 'Lead', '450'), ('AC71A062B952', 'Lead', '451'), ('AC71A062B952', 'Lead', '452'), ('AC71A062B952', 'Lead', '453'), ('AC71A062B952', 'Lead', '454'), ('AC71A062B952', 'Lead', '455'), ('AC71A062B952', 'Lead', '456'), ('AC71A062B952', 'Lead', '457'), ('AC71A062B952', 'Lead', '458'), ('AC71A062B952', 'Lead', '459'), ('AC71A062B952', 'Lead', '460'), ('AC71A062B952', 'Lead', '461'), ('AC71A062B952', 'Lead', '462'), ('AC71A062B952', 'Lead', '462'), ('AC71A062B952', 'Lead', '463'), ('AC71A062B952', 'Lead', '464'), ('AC71A062B952', 'Lead', '465'), ('AC71A062B952', 'Lead', '466'), ('AC71A062B952', 'Lead', '467'), ('AC71A062B952', 'Lead', '468'), ('AC71A062B952', 'Lead', '469'), ('AC71A062B952', 'Lead', '470'), ('AC71A062B952', 'Lead', '471'), ('AC71A062B952', 'Lead', '471'), ('AC71A062B952', 'Lead', '471'), ('AC71A062B952', 'Lead', '471'), ('AC71A062B952', 'Lead', '471'), ('AC71A062B952', 'Lead', '471'), ('AC71A062B952', 'Lead', '471'), ('AC71A062B952', 'Lead', '471'), ('AC71A062B952', 'Lead', '471'), ('AC71A062B952', 'Lead', '471'), ('AC71A062B952', 'Lead', '471'), ('AC71A062B952', 'Lead', '471'), ('AC71A062B952', 'Lead', '471'), ('AC71A062B952', 'Lead', '471'), ('AC71A062B952', 'Lead', '471'), ('AC71A062B952', 'Lead', '471'), ('AC71A062B952', 'Lead', '471'), ('AC71A062B952', 'Lead', '471'), ('AC71A062B952', 'Lead', '471'), ('AC71A062B952', 'Lead', '471'), ('2E2C32380220', 'Lead', '0'), ('2E2C32380220', 'Lead', '1'), ('2E2C32380220', 'Lead', '2'), ('2E2C32380220', 'Lead', '2'), ('2E2C32380220', 'Lead', '2'), ('2E2C32380220', 'Lead', '2'), ('2E2C32380220', 'Lead', '3'), ('2E2C32380220', 'Lead', '3'), ('2E2C32380220', 'Lead', '4'), ('2E2C32380220', 'Lead', '4'), ('2E2C32380220', 'Lead', '5'), ('2E2C32380220', 'Lead', '6'), ('2E2C32380220', 'Lead', '7'), ('2E2C32380220', 'Lead', '8'), ('2E2C32380220', 'Lead', '9'), ('2E2C32380220', 'Lead', '10'), ('2E2C32380220', 'Lead', '10'), ('2E2C32380220', 'Lead', '11'), ('2E2C32380220', 'Lead', '12'), ('2E2C32380220', 'Lead', '13'), ('2E2C32380220', 'Lead', '14'), ('2E2C32380220', 'Lead', '15'), ('2E2C32380220', 'Lead', '16'), ('2E2C32380220', 'Lead', '16'), ('2E2C32380220', 'Lead', '17'), ('2E2C32380220', 'Lead', '18'), ('2E2C32380220', 'Lead', '18'), ('2E2C32380220', 'Lead', '19'), ('2E2C32380220', 'Lead', '20'), ('2E2C32380220', 'Lead', '21'), ('2E2C32380220', 'Lead', '22'), ('2E2C32380220', 'Lead', '23'), ('2E2C32380220', 'Lead', '23'), ('2E2C32380220', 'Lead', '24'), ('2E2C32380220', 'Lead', '25'), ('2E2C32380220', 'Lead', '26'), ('2E2C32380220', 'Lead', '27'), ('2E2C32380220', 'Lead', '28'), ('2E2C32380220', 'Lead', '29'), ('2E2C32380220', 'Lead', '30'), ('2E2C32380220', 'Lead', '31'), ('2E2C32380220', 'Lead', '32'), ('2E2C32380220', 'Lead', '33'), ('2E2C32380220', 'Lead', '34'), ('2E2C32380220', 'Lead', '35'), ('2E2C32380220', 'Lead', '36'), ('2E2C32380220', 'Lead', '37'), ('2E2C32380220', 'Lead', '37'), ('2E2C32380220', 'Lead', '38'), ('2E2C32380220', 'Lead', '39'), ('2E2C32380220', 'Lead', '40'), ('2E2C32380220', 'Lead', '41'), ('2E2C32380220', 'Lead', '42'), ('2E2C32380220', 'Lead', '42'), ('2E2C32380220', 'Lead', '43'), ('2E2C32380220', 'Lead', '44'), ('2E2C32380220', 'Lead', '45'), ('2E2C32380220', 'Lead', '46'), ('2E2C32380220', 'Lead', '47'), ('2E2C32380220', 'Lead', '48'), ('2E2C32380220', 'Lead', '49'), ('2E2C32380220', 'Lead', '50'), ('2E2C32380220', 'Lead', '51'), ('2E2C32380220', 'Lead', '52'), ('2E2C32380220', 'Lead', '53'), ('2E2C32380220', 'Lead', '53'), ('2E2C32380220', 'Lead', '54'), ('2E2C32380220', 'Lead', '54'), ('2E2C32380220', 'Lead', '55'), ('2E2C32380220', 'Lead', '56'), ('2E2C32380220', 'Lead', '57'), ('2E2C32380220', 'Lead', '58'), ('2E2C32380220', 'Lead', '59'), ('2E2C32380220', 'Lead', '59'), ('2E2C32380220', 'Lead', '60'), ('2E2C32380220', 'Lead', '60'), ('2E2C32380220', 'Lead', '61'), ('2E2C32380220', 'Lead', '62'), ('2E2C32380220', 'Lead', '63'), ('2E2C32380220', 'Lead', '64'), ('2E2C32380220', 'Lead', '64'), ('2E2C32380220', 'Lead', '64'), ('2E2C32380220', 'Lead', '64'), ('2E2C32380220', 'Lead', '64'), ('2E2C32380220', 'Lead', '65'), ('2E2C32380220', 'Lead', '66'), ('2E2C32380220', 'Lead', '66'), ('2E2C32380220', 'Lead', '67'), ('2E2C32380220', 'Lead', '68'), ('2E2C32380220', 'Lead', '69'), ('2E2C32380220', 'Lead', '70'), ('2E2C32380220', 'Lead', '71'), ('2E2C32380220', 'Lead', '72'), ('2E2C32380220', 'Lead', '73'), ('2E2C32380220', 'Lead', '73'), ('2E2C32380220', 'Lead', '74'), ('2E2C32380220', 'Lead', '75'), ('2E2C32380220', 'Lead', '76'), ('2E2C32380220', 'Lead', '76'), ('2E2C32380220', 'Lead', '77'), ('2E2C32380220', 'Lead', '78'), ('2E2C32380220', 'Lead', '79'), ('2E2C32380220', 'Lead', '80'), ('2E2C32380220', 'Lead', '81'), ('2E2C32380220', 'Lead', '82'), ('2E2C32380220', 'Lead', '83'), ('2E2C32380220', 'Lead', '84'), ('2E2C32380220', 'Lead', '85'), ('2E2C32380220', 'Lead', '86'), ('2E2C32380220', 'Lead', '87'), ('2E2C32380220', 'Lead', '88'), ('2E2C32380220', 'Lead', '89'), ('2E2C32380220', 'Lead', '90'), ('2E2C32380220', 'Lead', '91'), ('2E2C32380220', 'Lead', '92'), ('2E2C32380220', 'Lead', '92'), ('2E2C32380220', 'Lead', '93'), ('2E2C32380220', 'Lead', '94'), ('2E2C32380220', 'Lead', '94'), ('2E2C32380220', 'Lead', '95'), ('2E2C32380220', 'Lead', '96'), ('2E2C32380220', 'Lead', '97'), ('2E2C32380220', 'Lead', '98'), ('2E2C32380220', 'Lead', '99'), ('2E2C32380220', 'Lead', '100'), ('2E2C32380220', 'Lead', '101'), ('2E2C32380220', 'Lead', '102'), ('2E2C32380220', 'Lead', '103'), ('2E2C32380220', 'Lead', '104'), ('2E2C32380220', 'Lead', '105'), ('2E2C32380220', 'Lead', '106'), ('2E2C32380220', 'Lead', '106'), ('2E2C32380220', 'Lead', '107'), ('2E2C32380220', 'Lead', '108'), ('2E2C32380220', 'Lead', '109'), ('2E2C32380220', 'Lead', '109'), ('2E2C32380220', 'Lead', '110'), ('2E2C32380220', 'Lead', '111'), ('2E2C32380220', 'Lead', '112'), ('2E2C32380220', 'Lead', '113'), ('2E2C32380220', 'Lead', '114'), ('2E2C32380220', 'Lead', '115'), ('2E2C32380220', 'Lead', '116'), ('2E2C32380220', 'Lead', '117'), ('2E2C32380220', 'Lead', '118'), ('2E2C32380220', 'Lead', '119'), ('2E2C32380220', 'Lead', '120'), ('2E2C32380220', 'Lead', '121'), ('2E2C32380220', 'Lead', '121'), ('2E2C32380220', 'Lead', '122'), ('2E2C32380220', 'Lead', '123'), ('2E2C32380220', 'Lead', '124'), ('2E2C32380220', 'Lead', '125'), ('2E2C32380220', 'Lead', '126'), ('2E2C32380220', 'Lead', '127'), ('2E2C32380220', 'Lead', '128'), ('2E2C32380220', 'Lead', '129'), ('2E2C32380220', 'Lead', '130'), ('2E2C32380220', 'Lead', '131'), ('2E2C32380220', 'Lead', '132'), ('2E2C32380220', 'Lead', '133'), ('2E2C32380220', 'Lead', '134'), ('2E2C32380220', 'Lead', '135'), ('2E2C32380220', 'Lead', '136'), ('2E2C32380220', 'Lead', '137'), ('2E2C32380220', 'Lead', '137'), ('2E2C32380220', 'Lead', '138'), ('2E2C32380220', 'Lead', '138'), ('2E2C32380220', 'Lead', '139'), ('2E2C32380220', 'Lead', '140'), ('2E2C32380220', 'Lead', '141'), ('2E2C32380220', 'Lead', '142'), ('2E2C32380220', 'Lead', '143'), ('2E2C32380220', 'Lead', '144'), ('2E2C32380220', 'Lead', '145'), ('2E2C32380220', 'Lead', '146'), ('2E2C32380220', 'Lead', '147'), ('2E2C32380220', 'Lead', '147'), ('2E2C32380220', 'Lead', '148'), ('2E2C32380220', 'Lead', '149'), ('2E2C32380220', 'Lead', '150'), ('2E2C32380220', 'Lead', '151'), ('2E2C32380220', 'Lead', '152'), ('2E2C32380220', 'Lead', '153'), ('2E2C32380220', 'Lead', '153'), ('2E2C32380220', 'Lead', '154'), ('2E2C32380220', 'Lead', '155'), ('2E2C32380220', 'Lead', '155'), ('2E2C32380220', 'Lead', '156'), ('2E2C32380220', 'Lead', '157'), ('2E2C32380220', 'Lead', '158'), ('2E2C32380220', 'Lead', '159'), ('2E2C32380220', 'Lead', '160'), ('2E2C32380220', 'Lead', '161'), ('2E2C32380220', 'Lead', '162'), ('2E2C32380220', 'Lead', '163'), ('2E2C32380220', 'Lead', '164'), ('2E2C32380220', 'Lead', '164'), ('2E2C32380220', 'Lead', '165'), ('2E2C32380220', 'Lead', '166'), ('2E2C32380220', 'Lead', '167'), ('2E2C32380220', 'Lead', '168'), ('2E2C32380220', 'Lead', '169'), ('2E2C32380220', 'Lead', '169'), ('2E2C32380220', 'Lead', '170'), ('2E2C32380220', 'Lead', '171'), ('2E2C32380220', 'Lead', '172'), ('2E2C32380220', 'Lead', '173'), ('2E2C32380220', 'Lead', '174'), ('2E2C32380220', 'Lead', '175'), ('2E2C32380220', 'Lead', '176'), ('2E2C32380220', 'Lead', '177'), ('2E2C32380220', 'Lead', '178'), ('2E2C32380220', 'Lead', '179'), ('2E2C32380220', 'Lead', '180'), ('2E2C32380220', 'Lead', '181'), ('2E2C32380220', 'Lead', '182'), ('2E2C32380220', 'Lead', '182'), ('2E2C32380220', 'Lead', '183'), ('2E2C32380220', 'Lead', '184'), ('2E2C32380220', 'Lead', '185'), ('2E2C32380220', 'Lead', '186'), ('2E2C32380220', 'Lead', '187'), ('2E2C32380220', 'Lead', '188'), ('2E2C32380220', 'Lead', '189'), ('2E2C32380220', 'Lead', '190'), ('2E2C32380220', 'Lead', '191'), ('2E2C32380220', 'Lead', '192'), ('2E2C32380220', 'Lead', '193'), ('2E2C32380220', 'Lead', '194'), ('2E2C32380220', 'Lead', '195'), ('2E2C32380220', 'Lead', '196'), ('2E2C32380220', 'Lead', '197'), ('2E2C32380220', 'Lead', '198'), ('2E2C32380220', 'Lead', '199'), ('2E2C32380220', 'Lead', '200'), ('2E2C32380220', 'Lead', '201'), ('2E2C32380220', 'Lead', '202'), ('2E2C32380220', 'Lead', '203'), ('2E2C32380220', 'Lead', '204'), ('2E2C32380220', 'Lead', '204'), ('2E2C32380220', 'Lead', '204'), ('2E2C32380220', 'Lead', '204'), ('2E2C32380220', 'Lead', '204'), ('2E2C32380220', 'Lead', '204'), ('2E2C32380220', 'Lead', '205'), ('2E2C32380220', 'Lead', '206'), ('2E2C32380220', 'Lead', '207'), ('2E2C32380220', 'Lead', '208'), ('2E2C32380220', 'Lead', '209'), ('2E2C32380220', 'Lead', '210'), ('2E2C32380220', 'Lead', '211'), ('2E2C32380220', 'Lead', '212'), ('2E2C32380220', 'Lead', '213'), ('2E2C32380220', 'Lead', '214'), ('2E2C32380220', 'Lead', '215'), ('2E2C32380220', 'Lead', '216'), ('2E2C32380220', 'Lead', '217'), ('2E2C32380220', 'Lead', '218'), ('2E2C32380220', 'Lead', '219'), ('2E2C32380220', 'Lead', '220'), ('2E2C32380220', 'Lead', '221'), ('2E2C32380220', 'Lead', '222'), ('2E2C32380220', 'Lead', '223'), ('2E2C32380220', 'Lead', '224'), ('2E2C32380220', 'Lead', '224'), ('2E2C32380220', 'Lead', '225'), ('2E2C32380220', 'Lead', '226'), ('2E2C32380220', 'Lead', '227'), ('2E2C32380220', 'Lead', '228'), ('2E2C32380220', 'Lead', '229'), ('2E2C32380220', 'Lead', '230'), ('2E2C32380220', 'Lead', '231'), ('2E2C32380220', 'Lead', '232'), ('2E2C32380220', 'Lead', '232'), ('2E2C32380220', 'Lead', '233'), ('2E2C32380220', 'Lead', '234'), ('2E2C32380220', 'Lead', '235'), ('2E2C32380220', 'Lead', '236'), ('2E2C32380220', 'Lead', '237'), ('2E2C32380220', 'Lead', '238'), ('2E2C32380220', 'Lead', '239'), ('2E2C32380220', 'Lead', '240'), ('2E2C32380220', 'Lead', '241'), ('2E2C32380220', 'Lead', '242'), ('2E2C32380220', 'Lead', '243'), ('2E2C32380220', 'Lead', '244'), ('2E2C32380220', 'Lead', '245'), ('2E2C32380220', 'Lead', '246'), ('2E2C32380220', 'Lead', '247'), ('2E2C32380220', 'Lead', '248'), ('2E2C32380220', 'Lead', '248'), ('2E2C32380220', 'Lead', '249'), ('2E2C32380220', 'Lead', '250'), ('2E2C32380220', 'Lead', '251'), ('2E2C32380220', 'Lead', '252'), ('2E2C32380220', 'Lead', '253'), ('2E2C32380220', 'Lead', '254'), ('2E2C32380220', 'Lead', '255'), ('2E2C32380220', 'Lead', '256'), ('2E2C32380220', 'Lead', '257'), ('2E2C32380220', 'Lead', '258'), ('2E2C32380220', 'Lead', '259'), ('2E2C32380220', 'Lead', '260'), ('2E2C32380220', 'Lead', '261'), ('2E2C32380220', 'Lead', '262'), ('2E2C32380220', 'Lead', '263'), ('2E2C32380220', 'Lead', '264'), ('2E2C32380220', 'Lead', '265'), ('2E2C32380220', 'Lead', '265'), ('2E2C32380220', 'Lead', '266'), ('2E2C32380220', 'Lead', '267'), ('2E2C32380220', 'Lead', '268'), ('2E2C32380220', 'Lead', '269'), ('2E2C32380220', 'Lead', '270'), ('2E2C32380220', 'Lead', '271'), ('2E2C32380220', 'Lead', '272'), ('2E2C32380220', 'Lead', '273'), ('2E2C32380220', 'Lead', '274'), ('2E2C32380220', 'Lead', '274'), ('2E2C32380220', 'Lead', '275'), ('2E2C32380220', 'Lead', '276'), ('2E2C32380220', 'Lead', '277'), ('2E2C32380220', 'Lead', '278'), ('2E2C32380220', 'Lead', '279'), ('2E2C32380220', 'Lead', '280'), ('2E2C32380220', 'Lead', '281'), ('2E2C32380220', 'Lead', '282'), ('2E2C32380220', 'Lead', '283'), ('2E2C32380220', 'Lead', '284'), ('2E2C32380220', 'Lead', '285'), ('2E2C32380220', 'Lead', '286'), ('2E2C32380220', 'Lead', '287'), ('2E2C32380220', 'Lead', '287'), ('2E2C32380220', 'Lead', '288'), ('2E2C32380220', 'Lead', '289'), ('2E2C32380220', 'Lead', '290'), ('2E2C32380220', 'Lead', '291'), ('2E2C32380220', 'Lead', '292'), ('2E2C32380220', 'Lead', '293'), ('2E2C32380220', 'Lead', '294'), ('2E2C32380220', 'Lead', '294'), ('2E2C32380220', 'Lead', '295'), ('2E2C32380220', 'Lead', '296'), ('2E2C32380220', 'Lead', '297'), ('2E2C32380220', 'Lead', '298'), ('2E2C32380220', 'Lead', '299'), ('2E2C32380220', 'Lead', '300'), ('2E2C32380220', 'Lead', '301'), ('2E2C32380220', 'Lead', '301'), ('2E2C32380220', 'Lead', '302'), ('2E2C32380220', 'Lead', '303'), ('2E2C32380220', 'Lead', '304'), ('2E2C32380220', 'Lead', '305'), ('2E2C32380220', 'Lead', '306'), ('2E2C32380220', 'Lead', '307'), ('2E2C32380220', 'Lead', '308'), ('2E2C32380220', 'Lead', '309'), ('2E2C32380220', 'Lead', '310'), ('2E2C32380220', 'Lead', '311'), ('2E2C32380220', 'Lead', '312'), ('2E2C32380220', 'Lead', '313'), ('2E2C32380220', 'Lead', '314'), ('2E2C32380220', 'Lead', '315'), ('2E2C32380220', 'Lead', '316'), ('2E2C32380220', 'Lead', '317'), ('2E2C32380220', 'Lead', '318'), ('2E2C32380220', 'Lead', '319'), ('2E2C32380220', 'Lead', '320'), ('2E2C32380220', 'Lead', '321'), ('2E2C32380220', 'Lead', '322'), ('2E2C32380220', 'Lead', '323'), ('2E2C32380220', 'Lead', '324'), ('2E2C32380220', 'Lead', '325'), ('2E2C32380220', 'Lead', '326'), ('2E2C32380220', 'Lead', '327'), ('2E2C32380220', 'Lead', '328'), ('2E2C32380220', 'Lead', '329'), ('2E2C32380220', 'Lead', '330'), ('2E2C32380220', 'Lead', '331'), ('2E2C32380220', 'Lead', '332'), ('2E2C32380220', 'Lead', '333'), ('2E2C32380220', 'Lead', '334'), ('2E2C32380220', 'Lead', '335'), ('2E2C32380220', 'Lead', '336'), ('2E2C32380220', 'Lead', '337'), ('2E2C32380220', 'Lead', '338'), ('2E2C32380220', 'Lead', '339'), ('2E2C32380220', 'Lead', '340'), ('2E2C32380220', 'Lead', '341'), ('2E2C32380220', 'Lead', '342'), ('2E2C32380220', 'Lead', '343'), ('2E2C32380220', 'Lead', '344'), ('2E2C32380220', 'Lead', '344'), ('2E2C32380220', 'Lead', '345'), ('2E2C32380220', 'Lead', '346'), ('2E2C32380220', 'Lead', '347'), ('2E2C32380220', 'Lead', '348'), ('2E2C32380220', 'Lead', '349'), ('2E2C32380220', 'Lead', '350'), ('2E2C32380220', 'Lead', '351'), ('2E2C32380220', 'Lead', '352'), ('2E2C32380220', 'Lead', '353'), ('2E2C32380220', 'Lead', '354'), ('2E2C32380220', 'Lead', '355'), ('2E2C32380220', 'Lead', '356'), ('2E2C32380220', 'Lead', '357'), ('2E2C32380220', 'Lead', '358'), ('2E2C32380220', 'Lead', '359'), ('2E2C32380220', 'Lead', '360'), ('2E2C32380220', 'Lead', '361'), ('2E2C32380220', 'Lead', '362'), ('2E2C32380220', 'Lead', '363'), ('2E2C32380220', 'Lead', '364'), ('2E2C32380220', 'Lead', '365'), ('2E2C32380220', 'Lead', '366'), ('2E2C32380220', 'Lead', '367'), ('2E2C32380220', 'Lead', '368'), ('2E2C32380220', 'Lead', '369'), ('2E2C32380220', 'Lead', '370'), ('2E2C32380220', 'Lead', '371'), ('2E2C32380220', 'Lead', '372'), ('2E2C32380220', 'Lead', '373'), ('2E2C32380220', 'Lead', '374'), ('2E2C32380220', 'Lead', '375'), ('2E2C32380220', 'Lead', '376'), ('2E2C32380220', 'Lead', '377'), ('2E2C32380220', 'Lead', '378'), ('2E2C32380220', 'Lead', '379'), ('2E2C32380220', 'Lead', '380'), ('2E2C32380220', 'Lead', '381'), ('2E2C32380220', 'Lead', '381'), ('2E2C32380220', 'Lead', '382'), ('2E2C32380220', 'Lead', '383'), ('2E2C32380220', 'Lead', '384'), ('2E2C32380220', 'Lead', '385'), ('2E2C32380220', 'Lead', '386'), ('2E2C32380220', 'Lead', '387'), ('2E2C32380220', 'Lead', '388'), ('2E2C32380220', 'Lead', '389'), ('2E2C32380220', 'Lead', '390'), ('2E2C32380220', 'Lead', '391'), ('2E2C32380220', 'Lead', '392'), ('2E2C32380220', 'Lead', '392'), ('2E2C32380220', 'Lead', '393'), ('2E2C32380220', 'Lead', '394'), ('2E2C32380220', 'Lead', '395'), ('2E2C32380220', 'Lead', '396'), ('2E2C32380220', 'Lead', '397'), ('2E2C32380220', 'Lead', '398'), ('2E2C32380220', 'Lead', '399'), ('2E2C32380220', 'Lead', '400'), ('2E2C32380220', 'Lead', '401'), ('2E2C32380220', 'Lead', '402'), ('2E2C32380220', 'Lead', '403'), ('2E2C32380220', 'Lead', '404'), ('2E2C32380220', 'Lead', '405'), ('2E2C32380220', 'Lead', '406'), ('2E2C32380220', 'Lead', '406'), ('2E2C32380220', 'Lead', '407'), ('2E2C32380220', 'Lead', '408'), ('2E2C32380220', 'Lead', '409'), ('2E2C32380220', 'Lead', '410'), ('2E2C32380220', 'Lead', '411'), ('2E2C32380220', 'Lead', '412'), ('2E2C32380220', 'Lead', '413'), ('2E2C32380220', 'Lead', '414'), ('2E2C32380220', 'Lead', '415'), ('2E2C32380220', 'Lead', '416'), ('2E2C32380220', 'Lead', '417'), ('2E2C32380220', 'Lead', '418'), ('2E2C32380220', 'Lead', '418'), ('2E2C32380220', 'Lead', '418'), ('2E2C32380220', 'Lead', '418'), ('2E2C32380220', 'Lead', '418'), ('2E2C32380220', 'Lead', '419'), ('2E2C32380220', 'Lead', '419'), ('2E2C32380220', 'Lead', '420'), ('2E2C32380220', 'Lead', '421'), ('2E2C32380220', 'Lead', '422'), ('2E2C32380220', 'Lead', '423'), ('2E2C32380220', 'Lead', '424'), ('2E2C32380220', 'Lead', '425'), ('2E2C32380220', 'Lead', '426'), ('2E2C32380220', 'Lead', '427'), ('2E2C32380220', 'Lead', '428'), ('2E2C32380220', 'Lead', '429'), ('2E2C32380220', 'Lead', '430'), ('2E2C32380220', 'Lead', '431'), ('2E2C32380220', 'Lead', '432'), ('2E2C32380220', 'Lead', '433'), ('2E2C32380220', 'Lead', '434'), ('2E2C32380220', 'Lead', '435'), ('2E2C32380220', 'Lead', '436'), ('2E2C32380220', 'Lead', '437'), ('2E2C32380220', 'Lead', '438'), ('2E2C32380220', 'Lead', '439'), ('2E2C32380220', 'Lead', '440'), ('2E2C32380220', 'Lead', '440'), ('2E2C32380220', 'Lead', '441'), ('2E2C32380220', 'Lead', '442'), ('2E2C32380220', 'Lead', '443'), ('2E2C32380220', 'Lead', '444'), ('2E2C32380220', 'Lead', '445'), ('2E2C32380220', 'Lead', '446'), ('2E2C32380220', 'Lead', '446'), ('2E2C32380220', 'Lead', '447'), ('2E2C32380220', 'Lead', '447'), ('2E2C32380220', 'Lead', '447'), ('2E2C32380220', 'Lead', '448'), ('2E2C32380220', 'Lead', '449'), ('2E2C32380220', 'Lead', '450'), ('2E2C32380220', 'Lead', '451'), ('2E2C32380220', 'Lead', '452'), ('2E2C32380220', 'Lead', '453'), ('2E2C32380220', 'Lead', '454'), ('2E2C32380220', 'Lead', '455'), ('2E2C32380220', 'Lead', '456'), ('2E2C32380220', 'Lead', '457'), ('2E2C32380220', 'Lead', '458'), ('2E2C32380220', 'Lead', '459'), ('2E2C32380220', 'Lead', '460'), ('2E2C32380220', 'Lead', '461'), ('2E2C32380220', 'Lead', '462'), ('2E2C32380220', 'Lead', '463'), ('2E2C32380220', 'Lead', '464'), ('2E2C32380220', 'Lead', '465'), ('2E2C32380220', 'Lead', '466'), ('2E2C32380220', 'Lead', '467'), ('2E2C32380220', 'Lead', '467'), ('2E2C32380220', 'Lead', '468'), ('2E2C32380220', 'Lead', '468'), ('2E2C32380220', 'Lead', '469'), ('2E2C32380220', 'Lead', '470'), ('2E2C32380220', 'Lead', '471'), ('2E2C32380220', 'Lead', '472'), ('2E2C32380220', 'Lead', '473'), ('2E2C32380220', 'Lead', '474'), ('2E2C32380220', 'Lead', '475'), ('2E2C32380220', 'Lead', '476'), ('2E2C32380220', 'Lead', '477'), ('2E2C32380220', 'Lead', '478'), ('2E2C32380220', 'Lead', '479'), ('2E2C32380220', 'Lead', '480'), ('2E2C32380220', 'Lead', '481'), ('2E2C32380220', 'Lead', '482'), ('2E2C32380220', 'Lead', '483'), ('2E2C32380220', 'Lead', '484'), ('2E2C32380220', 'Lead', '485'), ('2E2C32380220', 'Lead', '486'), ('2E2C32380220', 'Lead', '486'), ('2E2C32380220', 'Lead', '486'), ('2E2C32380220', 'Lead', '486'), ('2E2C32380220', 'Lead', '486'), ('2E2C32380220', 'Lead', '486'), ('2E2C32380220', 'Lead', '486'), ('2E2C32380220', 'Lead', '486'), ('2E2C32380220', 'Lead', '486'), ('2E2C32380220', 'Lead', '486'), ('2E2C32380220', 'Lead', '486'), ('2E2C32380220', 'Lead', '486'), ('2E2C32380220', 'Lead', '486'), ('2E2C32380220', 'Lead', '486'), ('2E2C32380220', 'Lead', '486'), ('2E2C32380220', 'Lead', '486'), ('2E2C32380220', 'Lead', '486'), ('2E2C32380220', 'Lead', '486'), ('2E2C32380220', 'Lead', '486'), ('2E2C32380220', 'Lead', '486'), ('2E2C32380220', 'Lead', '486'), ('2E2C32380220', 'Lead', '486'), ('2E2C32380220', 'Lead', '486'), ('2E2C32380220', 'Lead', '486'), ('2E2C32380220', 'Lead', '486'), ('2E2C32380220', 'Lead', '486'), ('2E2C32380220', 'Lead', '486'), ('2E2C32380220', 'Lead', '486'), ('2E2C32380220', 'Lead', '486'), ('D036DAA5DC63', 'Lead', '0'), ('D036DAA5DC63', 'Lead', '0'), ('D036DAA5DC63', 'Lead', '1'), ('D036DAA5DC63', 'Lead', '2'), ('D036DAA5DC63', 'Lead', '2'), ('D036DAA5DC63', 'Lead', '2'), ('D036DAA5DC63', 'Lead', '2'), ('D036DAA5DC63', 'Lead', '2'), ('D036DAA5DC63', 'Lead', '3'), ('D036DAA5DC63', 'Lead', '4'), ('D036DAA5DC63', 'Lead', '5'), ('D036DAA5DC63', 'Lead', '6'), ('D036DAA5DC63', 'Lead', '6'), ('D036DAA5DC63', 'Lead', '7'), ('D036DAA5DC63', 'Lead', '8'), ('D036DAA5DC63', 'Lead', '9'), ('D036DAA5DC63', 'Lead', '10'), ('D036DAA5DC63', 'Lead', '11'), ('D036DAA5DC63', 'Lead', '12'), ('D036DAA5DC63', 'Lead', '13'), ('D036DAA5DC63', 'Lead', '14'), ('D036DAA5DC63', 'Lead', '15'), ('D036DAA5DC63', 'Lead', '15'), ('D036DAA5DC63', 'Lead', '16'), ('D036DAA5DC63', 'Lead', '17'), ('D036DAA5DC63', 'Lead', '18'), ('D036DAA5DC63', 'Lead', '19'), ('D036DAA5DC63', 'Lead', '20'), ('D036DAA5DC63', 'Lead', '21'), ('D036DAA5DC63', 'Lead', '22'), ('D036DAA5DC63', 'Lead', '23'), ('D036DAA5DC63', 'Lead', '24'), ('D036DAA5DC63', 'Lead', '25'), ('D036DAA5DC63', 'Lead', '26'), ('D036DAA5DC63', 'Lead', '27'), ('D036DAA5DC63', 'Lead', '28'), ('D036DAA5DC63', 'Lead', '29'), ('D036DAA5DC63', 'Lead', '30'), ('D036DAA5DC63', 'Lead', '31'), ('D036DAA5DC63', 'Lead', '32'), ('D036DAA5DC63', 'Lead', '33'), ('D036DAA5DC63', 'Lead', '34'), ('D036DAA5DC63', 'Lead', '35'), ('D036DAA5DC63', 'Lead', '36'), ('D036DAA5DC63', 'Lead', '37'), ('D036DAA5DC63', 'Lead', '37'), ('D036DAA5DC63', 'Lead', '38'), ('D036DAA5DC63', 'Lead', '39'), ('D036DAA5DC63', 'Lead', '40'), ('D036DAA5DC63', 'Lead', '41'), ('D036DAA5DC63', 'Lead', '42'), ('D036DAA5DC63', 'Lead', '43'), ('D036DAA5DC63', 'Lead', '44'), ('D036DAA5DC63', 'Lead', '45'), ('D036DAA5DC63', 'Lead', '46'), ('D036DAA5DC63', 'Lead', '47'), ('D036DAA5DC63', 'Lead', '48'), ('D036DAA5DC63', 'Lead', '49'), ('D036DAA5DC63', 'Lead', '50'), ('D036DAA5DC63', 'Lead', '51'), ('D036DAA5DC63', 'Lead', '52'), ('D036DAA5DC63', 'Lead', '53'), ('D036DAA5DC63', 'Lead', '54'), ('D036DAA5DC63', 'Lead', '55'), ('D036DAA5DC63', 'Lead', '56'), ('D036DAA5DC63', 'Lead', '57'), ('D036DAA5DC63', 'Lead', '58'), ('D036DAA5DC63', 'Lead', '59'), ('D036DAA5DC63', 'Lead', '60'), ('D036DAA5DC63', 'Lead', '61'), ('D036DAA5DC63', 'Lead', '62'), ('D036DAA5DC63', 'Lead', '62'), ('D036DAA5DC63', 'Lead', '63'), ('D036DAA5DC63', 'Lead', '64'), ('D036DAA5DC63', 'Lead', '65'), ('D036DAA5DC63', 'Lead', '66'), ('D036DAA5DC63', 'Lead', '67'), ('D036DAA5DC63', 'Lead', '68'), ('D036DAA5DC63', 'Lead', '69'), ('D036DAA5DC63', 'Lead', '70'), ('D036DAA5DC63', 'Lead', '71'), ('D036DAA5DC63', 'Lead', '72'), ('D036DAA5DC63', 'Lead', '73'), ('D036DAA5DC63', 'Lead', '74'), ('D036DAA5DC63', 'Lead', '75'), ('D036DAA5DC63', 'Lead', '76'), ('D036DAA5DC63', 'Lead', '77'), ('D036DAA5DC63', 'Lead', '78'), ('D036DAA5DC63', 'Lead', '78'), ('D036DAA5DC63', 'Lead', '79'), ('D036DAA5DC63', 'Lead', '80'), ('D036DAA5DC63', 'Lead', '80'), ('D036DAA5DC63', 'Lead', '81'), ('D036DAA5DC63', 'Lead', '81'), ('D036DAA5DC63', 'Lead', '82'), ('D036DAA5DC63', 'Lead', '83'), ('D036DAA5DC63', 'Lead', '84'), ('D036DAA5DC63', 'Lead', '85'), ('D036DAA5DC63', 'Lead', '86'), ('D036DAA5DC63', 'Lead', '87'), ('D036DAA5DC63', 'Lead', '88'), ('D036DAA5DC63', 'Lead', '89'), ('D036DAA5DC63', 'Lead', '90'), ('D036DAA5DC63', 'Lead', '91'), ('D036DAA5DC63', 'Lead', '91'), ('D036DAA5DC63', 'Lead', '91'), ('D036DAA5DC63', 'Lead', '91'), ('D036DAA5DC63', 'Lead', '91'), ('D036DAA5DC63', 'Lead', '92'), ('D036DAA5DC63', 'Lead', '92'), ('D036DAA5DC63', 'Lead', '93'), ('D036DAA5DC63', 'Lead', '94'), ('D036DAA5DC63', 'Lead', '94'), ('D036DAA5DC63', 'Lead', '94'), ('D036DAA5DC63', 'Lead', '94'), ('D036DAA5DC63', 'Lead', '95'), ('D036DAA5DC63', 'Lead', '96'), ('D036DAA5DC63', 'Lead', '97'), ('D036DAA5DC63', 'Lead', '98'), ('D036DAA5DC63', 'Lead', '99'), ('D036DAA5DC63', 'Lead', '100'), ('D036DAA5DC63', 'Lead', '101'), ('D036DAA5DC63', 'Lead', '102'), ('D036DAA5DC63', 'Lead', '103'), ('D036DAA5DC63', 'Lead', '104'), ('D036DAA5DC63', 'Lead', '105'), ('D036DAA5DC63', 'Lead', '106'), ('D036DAA5DC63', 'Lead', '107'), ('D036DAA5DC63', 'Lead', '107'), ('D036DAA5DC63', 'Lead', '108'), ('D036DAA5DC63', 'Lead', '109'), ('D036DAA5DC63', 'Lead', '110'), ('D036DAA5DC63', 'Lead', '111'), ('D036DAA5DC63', 'Lead', '112'), ('D036DAA5DC63', 'Lead', '113'), ('D036DAA5DC63', 'Lead', '114'), ('D036DAA5DC63', 'Lead', '115'), ('D036DAA5DC63', 'Lead', '116'), ('D036DAA5DC63', 'Lead', '117'), ('D036DAA5DC63', 'Lead', '118'), ('D036DAA5DC63', 'Lead', '119'), ('D036DAA5DC63', 'Lead', '120'), ('D036DAA5DC63', 'Lead', '121'), ('D036DAA5DC63', 'Lead', '122'), ('D036DAA5DC63', 'Lead', '123'), ('D036DAA5DC63', 'Lead', '124'), ('D036DAA5DC63', 'Lead', '125'), ('D036DAA5DC63', 'Lead', '126'), ('D036DAA5DC63', 'Lead', '127'), ('D036DAA5DC63', 'Lead', '128'), ('D036DAA5DC63', 'Lead', '129'), ('D036DAA5DC63', 'Lead', '130'), ('D036DAA5DC63', 'Lead', '131'), ('D036DAA5DC63', 'Lead', '132'), ('D036DAA5DC63', 'Lead', '133'), ('D036DAA5DC63', 'Lead', '133'), ('D036DAA5DC63', 'Lead', '134'), ('D036DAA5DC63', 'Lead', '135'), ('D036DAA5DC63', 'Lead', '136'), ('D036DAA5DC63', 'Lead', '137'), ('D036DAA5DC63', 'Lead', '138'), ('D036DAA5DC63', 'Lead', '139'), ('D036DAA5DC63', 'Lead', '140'), ('D036DAA5DC63', 'Lead', '141'), ('D036DAA5DC63', 'Lead', '142'), ('D036DAA5DC63', 'Lead', '143'), ('D036DAA5DC63', 'Lead', '144'), ('D036DAA5DC63', 'Lead', '145'), ('D036DAA5DC63', 'Lead', '146'), ('D036DAA5DC63', 'Lead', '147'), ('D036DAA5DC63', 'Lead', '148'), ('D036DAA5DC63', 'Lead', '149'), ('D036DAA5DC63', 'Lead', '150'), ('D036DAA5DC63', 'Lead', '151'), ('D036DAA5DC63', 'Lead', '152'), ('D036DAA5DC63', 'Lead', '153'), ('D036DAA5DC63', 'Lead', '154'), ('D036DAA5DC63', 'Lead', '155'), ('D036DAA5DC63', 'Lead', '156'), ('D036DAA5DC63', 'Lead', '157'), ('D036DAA5DC63', 'Lead', '157'), ('D036DAA5DC63', 'Lead', '157'), ('D036DAA5DC63', 'Lead', '157'), ('D036DAA5DC63', 'Lead', '157'), ('D036DAA5DC63', 'Lead', '157'), ('D036DAA5DC63', 'Lead', '158'), ('D036DAA5DC63', 'Lead', '159'), ('D036DAA5DC63', 'Lead', '159'), ('D036DAA5DC63', 'Lead', '160'), ('D036DAA5DC63', 'Lead', '161'), ('D036DAA5DC63', 'Lead', '161'), ('D036DAA5DC63', 'Lead', '162'), ('D036DAA5DC63', 'Lead', '163'), ('D036DAA5DC63', 'Lead', '164'), ('D036DAA5DC63', 'Lead', '165'), ('D036DAA5DC63', 'Lead', '166'), ('D036DAA5DC63', 'Lead', '167'), ('D036DAA5DC63', 'Lead', '168'), ('D036DAA5DC63', 'Lead', '168'), ('D036DAA5DC63', 'Lead', '168'), ('D036DAA5DC63', 'Lead', '169'), ('D036DAA5DC63', 'Lead', '170'), ('D036DAA5DC63', 'Lead', '171'), ('D036DAA5DC63', 'Lead', '172'), ('D036DAA5DC63', 'Lead', '173'), ('D036DAA5DC63', 'Lead', '174'), ('D036DAA5DC63', 'Lead', '175'), ('D036DAA5DC63', 'Lead', '176'), ('D036DAA5DC63', 'Lead', '177'), ('D036DAA5DC63', 'Lead', '177'), ('D036DAA5DC63', 'Lead', '178'), ('D036DAA5DC63', 'Lead', '179'), ('D036DAA5DC63', 'Lead', '180'), ('D036DAA5DC63', 'Lead', '181'), ('D036DAA5DC63', 'Lead', '182'), ('D036DAA5DC63', 'Lead', '183'), ('D036DAA5DC63', 'Lead', '183'), ('D036DAA5DC63', 'Lead', '184'), ('D036DAA5DC63', 'Lead', '185'), ('D036DAA5DC63', 'Lead', '185'), ('D036DAA5DC63', 'Lead', '186'), ('D036DAA5DC63', 'Lead', '187'), ('D036DAA5DC63', 'Lead', '188'), ('D036DAA5DC63', 'Lead', '188'), ('D036DAA5DC63', 'Lead', '189'), ('D036DAA5DC63', 'Lead', '190'), ('D036DAA5DC63', 'Lead', '191'), ('D036DAA5DC63', 'Lead', '192'), ('D036DAA5DC63', 'Lead', '193'), ('D036DAA5DC63', 'Lead', '194'), ('D036DAA5DC63', 'Lead', '195'), ('D036DAA5DC63', 'Lead', '196'), ('D036DAA5DC63', 'Lead', '197'), ('D036DAA5DC63', 'Lead', '198'), ('D036DAA5DC63', 'Lead', '199'), ('D036DAA5DC63', 'Lead', '200'), ('D036DAA5DC63', 'Lead', '201'), ('D036DAA5DC63', 'Lead', '202'), ('D036DAA5DC63', 'Lead', '203'), ('D036DAA5DC63', 'Lead', '204'), ('D036DAA5DC63', 'Lead', '205'), ('D036DAA5DC63', 'Lead', '206'), ('D036DAA5DC63', 'Lead', '207'), ('D036DAA5DC63', 'Lead', '208'), ('D036DAA5DC63', 'Lead', '209'), ('D036DAA5DC63', 'Lead', '210'), ('D036DAA5DC63', 'Lead', '211'), ('D036DAA5DC63', 'Lead', '211'), ('D036DAA5DC63', 'Lead', '211'), ('D036DAA5DC63', 'Lead', '211'), ('D036DAA5DC63', 'Lead', '211'), ('D036DAA5DC63', 'Lead', '212'), ('D036DAA5DC63', 'Lead', '212'), ('D036DAA5DC63', 'Lead', '213'), ('D036DAA5DC63', 'Lead', '214'), ('D036DAA5DC63', 'Lead', '215'), ('D036DAA5DC63', 'Lead', '216'), ('D036DAA5DC63', 'Lead', '217'), ('D036DAA5DC63', 'Lead', '218'), ('D036DAA5DC63', 'Lead', '219'), ('D036DAA5DC63', 'Lead', '220'), ('D036DAA5DC63', 'Lead', '221'), ('D036DAA5DC63', 'Lead', '222'), ('D036DAA5DC63', 'Lead', '223'), ('D036DAA5DC63', 'Lead', '224'), ('D036DAA5DC63', 'Lead', '224'), ('D036DAA5DC63', 'Lead', '225'), ('D036DAA5DC63', 'Lead', '226'), ('D036DAA5DC63', 'Lead', '227'), ('D036DAA5DC63', 'Lead', '228'), ('D036DAA5DC63', 'Lead', '229'), ('D036DAA5DC63', 'Lead', '230'), ('D036DAA5DC63', 'Lead', '231'), ('D036DAA5DC63', 'Lead', '232'), ('D036DAA5DC63', 'Lead', '233'), ('D036DAA5DC63', 'Lead', '234'), ('D036DAA5DC63', 'Lead', '235'), ('D036DAA5DC63', 'Lead', '235'), ('D036DAA5DC63', 'Lead', '236'), ('D036DAA5DC63', 'Lead', '237'), ('D036DAA5DC63', 'Lead', '238'), ('D036DAA5DC63', 'Lead', '239'), ('D036DAA5DC63', 'Lead', '240'), ('D036DAA5DC63', 'Lead', '241'), ('D036DAA5DC63', 'Lead', '242'), ('D036DAA5DC63', 'Lead', '243'), ('D036DAA5DC63', 'Lead', '244'), ('D036DAA5DC63', 'Lead', '245'), ('D036DAA5DC63', 'Lead', '246'), ('D036DAA5DC63', 'Lead', '247'), ('D036DAA5DC63', 'Lead', '248'), ('D036DAA5DC63', 'Lead', '249'), ('D036DAA5DC63', 'Lead', '250'), ('D036DAA5DC63', 'Lead', '251'), ('D036DAA5DC63', 'Lead', '252'), ('D036DAA5DC63', 'Lead', '252'), ('D036DAA5DC63', 'Lead', '253'), ('D036DAA5DC63', 'Lead', '254'), ('D036DAA5DC63', 'Lead', '255'), ('D036DAA5DC63', 'Lead', '256'), ('D036DAA5DC63', 'Lead', '257'), ('D036DAA5DC63', 'Lead', '258'), ('D036DAA5DC63', 'Lead', '259'), ('D036DAA5DC63', 'Lead', '260'), ('D036DAA5DC63', 'Lead', '261'), ('D036DAA5DC63', 'Lead', '262'), ('D036DAA5DC63', 'Lead', '263'), ('D036DAA5DC63', 'Lead', '264'), ('D036DAA5DC63', 'Lead', '265'), ('D036DAA5DC63', 'Lead', '266'), ('D036DAA5DC63', 'Lead', '267'), ('D036DAA5DC63', 'Lead', '268'), ('D036DAA5DC63', 'Lead', '269'), ('D036DAA5DC63', 'Lead', '270'), ('D036DAA5DC63', 'Lead', '271'), ('D036DAA5DC63', 'Lead', '272'), ('D036DAA5DC63', 'Lead', '273'), ('D036DAA5DC63', 'Lead', '274'), ('D036DAA5DC63', 'Lead', '275'), ('D036DAA5DC63', 'Lead', '276'), ('D036DAA5DC63', 'Lead', '277'), ('D036DAA5DC63', 'Lead', '278'), ('D036DAA5DC63', 'Lead', '279'), ('D036DAA5DC63', 'Lead', '279'), ('D036DAA5DC63', 'Lead', '279'), ('D036DAA5DC63', 'Lead', '279'), ('D036DAA5DC63', 'Lead', '279'), ('D036DAA5DC63', 'Lead', '280'), ('D036DAA5DC63', 'Lead', '280'), ('D036DAA5DC63', 'Lead', '280'), ('D036DAA5DC63', 'Lead', '280'), ('D036DAA5DC63', 'Lead', '281'), ('D036DAA5DC63', 'Lead', '281'), ('D036DAA5DC63', 'Lead', '281'), ('D036DAA5DC63', 'Lead', '282'), ('D036DAA5DC63', 'Lead', '282'), ('D036DAA5DC63', 'Lead', '282'), ('D036DAA5DC63', 'Lead', '282'), ('D036DAA5DC63', 'Lead', '282'), ('D036DAA5DC63', 'Lead', '282'), ('D036DAA5DC63', 'Lead', '282'), ('D036DAA5DC63', 'Lead', '282'), ('D036DAA5DC63', 'Lead', '282'), ('D036DAA5DC63', 'Lead', '282'), ('D036DAA5DC63', 'Lead', '282'), ('D036DAA5DC63', 'Lead', '282'), ('D036DAA5DC63', 'Lead', '282'), ('D036DAA5DC63', 'Lead', '282'), ('D036DAA5DC63', 'Lead', '282'), ('D036DAA5DC63', 'Lead', '282'), ('D036DAA5DC63', 'Lead', '282'), ('D036DAA5DC63', 'Lead', '282'), ('D036DAA5DC63', 'Lead', '282'), ('D036DAA5DC63', 'Lead', '282'), ('D036DAA5DC63', 'Lead', '282'), ('D036DAA5DC63', 'Lead', '282'), ('D036DAA5DC63', 'Lead', '282'), ('D036DAA5DC63', 'Lead', '282'), ('D036DAA5DC63', 'Lead', '282'), ('D036DAA5DC63', 'Lead', '282'), ('D036DAA5DC63', 'Lead', '282'), ('D036DAA5DC63', 'Lead', '282'), ('D036DAA5DC63', 'Lead', '282'), ('D036DAA5DC63', 'Lead', '282'), ('D036DAA5DC63', 'Lead', '282'), ('D036DAA5DC63', 'Lead', '282'), ('D036DAA5DC63', 'Lead', '282'), ('D036DAA5DC63', 'Lead', '283'), ('D036DAA5DC63', 'Lead', '283'), ('D036DAA5DC63', 'Lead', '283'), ('D036DAA5DC63', 'Lead', '283'), ('D036DAA5DC63', 'Lead', '283'), ('D036DAA5DC63', 'Lead', '283'), ('D036DAA5DC63', 'Lead', '283'), ('D036DAA5DC63', 'Lead', '283'), ('D036DAA5DC63', 'Lead', '283'), ('D036DAA5DC63', 'Lead', '283'), ('D036DAA5DC63', 'Lead', '283'), ('D036DAA5DC63', 'Lead', '283'), ('D036DAA5DC63', 'Lead', '283'), ('D036DAA5DC63', 'Lead', '283'), ('D036DAA5DC63', 'Lead', '283'), ('D036DAA5DC63', 'Lead', '283'), ('D036DAA5DC63', 'Lead', '283'), ('D036DAA5DC63', 'Lead', '283'), ('47185B1F5C2A', 'Lead', '0'), ('47185B1F5C2A', 'Lead', '1'), ('47185B1F5C2A', 'Lead', '2'), ('47185B1F5C2A', 'Lead', '3'), ('47185B1F5C2A', 'Lead', '4'), ('47185B1F5C2A', 'Lead', '5'), ('47185B1F5C2A', 'Lead', '5'), ('47185B1F5C2A', 'Lead', '6'), ('47185B1F5C2A', 'Lead', '7'), ('47185B1F5C2A', 'Lead', '8'), ('47185B1F5C2A', 'Lead', '9'), ('47185B1F5C2A', 'Lead', '10'), ('47185B1F5C2A', 'Lead', '10'), ('47185B1F5C2A', 'Lead', '11'), ('47185B1F5C2A', 'Lead', '12'), ('47185B1F5C2A', 'Lead', '13'), ('47185B1F5C2A', 'Lead', '14'), ('47185B1F5C2A', 'Lead', '15'), ('47185B1F5C2A', 'Lead', '16'), ('47185B1F5C2A', 'Lead', '17'), ('47185B1F5C2A', 'Lead', '18'), ('47185B1F5C2A', 'Lead', '19'), ('47185B1F5C2A', 'Lead', '20'), ('47185B1F5C2A', 'Lead', '21'), ('47185B1F5C2A', 'Lead', '21'), ('47185B1F5C2A', 'Lead', '22'), ('47185B1F5C2A', 'Lead', '23'), ('47185B1F5C2A', 'Lead', '24'), ('47185B1F5C2A', 'Lead', '25'), ('47185B1F5C2A', 'Lead', '26'), ('47185B1F5C2A', 'Lead', '27'), ('47185B1F5C2A', 'Lead', '28'), ('47185B1F5C2A', 'Lead', '29'), ('47185B1F5C2A', 'Lead', '29'), ('47185B1F5C2A', 'Lead', '30'), ('47185B1F5C2A', 'Lead', '31'), ('47185B1F5C2A', 'Lead', '32'), ('47185B1F5C2A', 'Lead', '33'), ('47185B1F5C2A', 'Lead', '34'), ('47185B1F5C2A', 'Lead', '35'), ('47185B1F5C2A', 'Lead', '36'), ('47185B1F5C2A', 'Lead', '36'), ('47185B1F5C2A', 'Lead', '36'), ('47185B1F5C2A', 'Lead', '36'), ('47185B1F5C2A', 'Lead', '36'), ('47185B1F5C2A', 'Lead', '37'), ('47185B1F5C2A', 'Lead', '38'), ('47185B1F5C2A', 'Lead', '39'), ('47185B1F5C2A', 'Lead', '40'), ('47185B1F5C2A', 'Lead', '41'), ('47185B1F5C2A', 'Lead', '42'), ('47185B1F5C2A', 'Lead', '43'), ('47185B1F5C2A', 'Lead', '44'), ('47185B1F5C2A', 'Lead', '45'), ('47185B1F5C2A', 'Lead', '46'), ('47185B1F5C2A', 'Lead', '47'), ('47185B1F5C2A', 'Lead', '48'), ('47185B1F5C2A', 'Lead', '49'), ('47185B1F5C2A', 'Lead', '50'), ('47185B1F5C2A', 'Lead', '51'), ('47185B1F5C2A', 'Lead', '52'), ('47185B1F5C2A', 'Lead', '53'), ('47185B1F5C2A', 'Lead', '54'), ('47185B1F5C2A', 'Lead', '55'), ('47185B1F5C2A', 'Lead', '55'), ('47185B1F5C2A', 'Lead', '56'), ('47185B1F5C2A', 'Lead', '57'), ('47185B1F5C2A', 'Lead', '58'), ('47185B1F5C2A', 'Lead', '59'), ('47185B1F5C2A', 'Lead', '59'), ('47185B1F5C2A', 'Lead', '60'), ('47185B1F5C2A', 'Lead', '61'), ('47185B1F5C2A', 'Lead', '62'), ('47185B1F5C2A', 'Lead', '63'), ('47185B1F5C2A', 'Lead', '64'), ('47185B1F5C2A', 'Lead', '64'), ('47185B1F5C2A', 'Lead', '65'), ('47185B1F5C2A', 'Lead', '66'), ('47185B1F5C2A', 'Lead', '67'), ('47185B1F5C2A', 'Lead', '68'), ('47185B1F5C2A', 'Lead', '69'), ('47185B1F5C2A', 'Lead', '70'), ('47185B1F5C2A', 'Lead', '71'), ('47185B1F5C2A', 'Lead', '72'), ('47185B1F5C2A', 'Lead', '73'), ('47185B1F5C2A', 'Lead', '74'), ('47185B1F5C2A', 'Lead', '75'), ('47185B1F5C2A', 'Lead', '75'), ('47185B1F5C2A', 'Lead', '76'), ('47185B1F5C2A', 'Lead', '77'), ('47185B1F5C2A', 'Lead', '78'), ('47185B1F5C2A', 'Lead', '79'), ('47185B1F5C2A', 'Lead', '80'), ('47185B1F5C2A', 'Lead', '81'), ('47185B1F5C2A', 'Lead', '82'), ('47185B1F5C2A', 'Lead', '83'), ('47185B1F5C2A', 'Lead', '84'), ('47185B1F5C2A', 'Lead', '85'), ('47185B1F5C2A', 'Lead', '86'), ('47185B1F5C2A', 'Lead', '87'), ('47185B1F5C2A', 'Lead', '88'), ('47185B1F5C2A', 'Lead', '89'), ('47185B1F5C2A', 'Lead', '90'), ('47185B1F5C2A', 'Lead', '91'), ('47185B1F5C2A', 'Lead', '91'), ('47185B1F5C2A', 'Lead', '92'), ('47185B1F5C2A', 'Lead', '93'), ('47185B1F5C2A', 'Lead', '94'), ('47185B1F5C2A', 'Lead', '95'), ('47185B1F5C2A', 'Lead', '96'), ('47185B1F5C2A', 'Lead', '97'), ('47185B1F5C2A', 'Lead', '98'), ('47185B1F5C2A', 'Lead', '99'), ('47185B1F5C2A', 'Lead', '100'), ('47185B1F5C2A', 'Lead', '101'), ('47185B1F5C2A', 'Lead', '102'), ('47185B1F5C2A', 'Lead', '102'), ('47185B1F5C2A', 'Lead', '103'), ('47185B1F5C2A', 'Lead', '104'), ('47185B1F5C2A', 'Lead', '105'), ('47185B1F5C2A', 'Lead', '106'), ('47185B1F5C2A', 'Lead', '107'), ('47185B1F5C2A', 'Lead', '108'), ('47185B1F5C2A', 'Lead', '109'), ('47185B1F5C2A', 'Lead', '110'), ('47185B1F5C2A', 'Lead', '111'), ('47185B1F5C2A', 'Lead', '112'), ('47185B1F5C2A', 'Lead', '113'), ('47185B1F5C2A', 'Lead', '114'), ('47185B1F5C2A', 'Lead', '115'), ('47185B1F5C2A', 'Lead', '116'), ('47185B1F5C2A', 'Lead', '117'), ('47185B1F5C2A', 'Lead', '117'), ('47185B1F5C2A', 'Lead', '117'), ('47185B1F5C2A', 'Lead', '117'), ('47185B1F5C2A', 'Lead', '117'), ('47185B1F5C2A', 'Lead', '118'), ('47185B1F5C2A', 'Lead', '119'), ('47185B1F5C2A', 'Lead', '120'), ('47185B1F5C2A', 'Lead', '121'), ('47185B1F5C2A', 'Lead', '121'), ('47185B1F5C2A', 'Lead', '122'), ('47185B1F5C2A', 'Lead', '123'), ('47185B1F5C2A', 'Lead', '124'), ('47185B1F5C2A', 'Lead', '125'), ('47185B1F5C2A', 'Lead', '126'), ('47185B1F5C2A', 'Lead', '127'), ('47185B1F5C2A', 'Lead', '128'), ('47185B1F5C2A', 'Lead', '129'), ('47185B1F5C2A', 'Lead', '130'), ('47185B1F5C2A', 'Lead', '131'), ('47185B1F5C2A', 'Lead', '132'), ('47185B1F5C2A', 'Lead', '132'), ('47185B1F5C2A', 'Lead', '133'), ('47185B1F5C2A', 'Lead', '134'), ('47185B1F5C2A', 'Lead', '135'), ('47185B1F5C2A', 'Lead', '136'), ('47185B1F5C2A', 'Lead', '137'), ('47185B1F5C2A', 'Lead', '138'), ('47185B1F5C2A', 'Lead', '138'), ('47185B1F5C2A', 'Lead', '139'), ('47185B1F5C2A', 'Lead', '140'), ('47185B1F5C2A', 'Lead', '141'), ('47185B1F5C2A', 'Lead', '142'), ('47185B1F5C2A', 'Lead', '143'), ('47185B1F5C2A', 'Lead', '144'), ('47185B1F5C2A', 'Lead', '145'), ('47185B1F5C2A', 'Lead', '146'), ('47185B1F5C2A', 'Lead', '147'), ('47185B1F5C2A', 'Lead', '148'), ('47185B1F5C2A', 'Lead', '149'), ('47185B1F5C2A', 'Lead', '149'), ('47185B1F5C2A', 'Lead', '150'), ('47185B1F5C2A', 'Lead', '151'), ('47185B1F5C2A', 'Lead', '152'), ('47185B1F5C2A', 'Lead', '153'), ('47185B1F5C2A', 'Lead', '154'), ('47185B1F5C2A', 'Lead', '155'), ('47185B1F5C2A', 'Lead', '156'), ('47185B1F5C2A', 'Lead', '157'), ('47185B1F5C2A', 'Lead', '158'), ('47185B1F5C2A', 'Lead', '159'), ('47185B1F5C2A', 'Lead', '159'), ('47185B1F5C2A', 'Lead', '160'), ('47185B1F5C2A', 'Lead', '161'), ('47185B1F5C2A', 'Lead', '162'), ('47185B1F5C2A', 'Lead', '163'), ('47185B1F5C2A', 'Lead', '164'), ('47185B1F5C2A', 'Lead', '165'), ('47185B1F5C2A', 'Lead', '166'), ('47185B1F5C2A', 'Lead', '167'), ('47185B1F5C2A', 'Lead', '168'), ('47185B1F5C2A', 'Lead', '169'), ('47185B1F5C2A', 'Lead', '169'), ('47185B1F5C2A', 'Lead', '170'), ('47185B1F5C2A', 'Lead', '171'), ('47185B1F5C2A', 'Lead', '172'), ('47185B1F5C2A', 'Lead', '173'), ('47185B1F5C2A', 'Lead', '174'), ('47185B1F5C2A', 'Lead', '175'), ('47185B1F5C2A', 'Lead', '175'), ('47185B1F5C2A', 'Lead', '175'), ('47185B1F5C2A', 'Lead', '175'), ('47185B1F5C2A', 'Lead', '175'), ('47185B1F5C2A', 'Lead', '176'), ('47185B1F5C2A', 'Lead', '177'), ('47185B1F5C2A', 'Lead', '178'), ('47185B1F5C2A', 'Lead', '179'), ('47185B1F5C2A', 'Lead', '180'), ('47185B1F5C2A', 'Lead', '181'), ('47185B1F5C2A', 'Lead', '182'), ('47185B1F5C2A', 'Lead', '183'), ('47185B1F5C2A', 'Lead', '184'), ('47185B1F5C2A', 'Lead', '185'), ('47185B1F5C2A', 'Lead', '186'), ('47185B1F5C2A', 'Lead', '187'), ('47185B1F5C2A', 'Lead', '187'), ('47185B1F5C2A', 'Lead', '188'), ('47185B1F5C2A', 'Lead', '189'), ('47185B1F5C2A', 'Lead', '190'), ('47185B1F5C2A', 'Lead', '191'), ('47185B1F5C2A', 'Lead', '192'), ('47185B1F5C2A', 'Lead', '193'), ('47185B1F5C2A', 'Lead', '194'), ('47185B1F5C2A', 'Lead', '195'), ('47185B1F5C2A', 'Lead', '196'), ('47185B1F5C2A', 'Lead', '197'), ('47185B1F5C2A', 'Lead', '198'), ('47185B1F5C2A', 'Lead', '198'), ('47185B1F5C2A', 'Lead', '199'), ('47185B1F5C2A', 'Lead', '200'), ('47185B1F5C2A', 'Lead', '201'), ('47185B1F5C2A', 'Lead', '202'), ('47185B1F5C2A', 'Lead', '203'), ('47185B1F5C2A', 'Lead', '204'), ('47185B1F5C2A', 'Lead', '205'), ('47185B1F5C2A', 'Lead', '206'), ('47185B1F5C2A', 'Lead', '207'), ('47185B1F5C2A', 'Lead', '208'), ('47185B1F5C2A', 'Lead', '209'), ('47185B1F5C2A', 'Lead', '210'), ('47185B1F5C2A', 'Lead', '211'), ('47185B1F5C2A', 'Lead', '212'), ('47185B1F5C2A', 'Lead', '213'), ('47185B1F5C2A', 'Lead', '213'), ('47185B1F5C2A', 'Lead', '214'), ('47185B1F5C2A', 'Lead', '215'), ('47185B1F5C2A', 'Lead', '216'), ('47185B1F5C2A', 'Lead', '217'), ('47185B1F5C2A', 'Lead', '218'), ('47185B1F5C2A', 'Lead', '219'), ('47185B1F5C2A', 'Lead', '220'), ('47185B1F5C2A', 'Lead', '221'), ('47185B1F5C2A', 'Lead', '222'), ('47185B1F5C2A', 'Lead', '223'), ('47185B1F5C2A', 'Lead', '224'), ('47185B1F5C2A', 'Lead', '225'), ('47185B1F5C2A', 'Lead', '226'), ('47185B1F5C2A', 'Lead', '227'), ('47185B1F5C2A', 'Lead', '227'), ('47185B1F5C2A', 'Lead', '228'), ('47185B1F5C2A', 'Lead', '229'), ('47185B1F5C2A', 'Lead', '230'), ('47185B1F5C2A', 'Lead', '230'), ('47185B1F5C2A', 'Lead', '230'), ('47185B1F5C2A', 'Lead', '230'), ('47185B1F5C2A', 'Lead', '230'), ('BFA4685DCDC6', 'Lead', '0'), ('BFA4685DCDC6', 'Lead', '1'), ('BFA4685DCDC6', 'Lead', '2'), ('BFA4685DCDC6', 'Lead', '2'), ('BFA4685DCDC6', 'Lead', '2'), ('BFA4685DCDC6', 'Lead', '2'), ('BFA4685DCDC6', 'Lead', '3'), ('BFA4685DCDC6', 'Lead', '4'), ('BFA4685DCDC6', 'Lead', '5'), ('BFA4685DCDC6', 'Lead', '6'), ('BFA4685DCDC6', 'Lead', '7'), ('BFA4685DCDC6', 'Lead', '8'), ('BFA4685DCDC6', 'Lead', '9'), ('BFA4685DCDC6', 'Lead', '10'), ('BFA4685DCDC6', 'Lead', '11'), ('BFA4685DCDC6', 'Lead', '12'), ('BFA4685DCDC6', 'Lead', '13'), ('BFA4685DCDC6', 'Lead', '14'), ('BFA4685DCDC6', 'Lead', '15'), ('BFA4685DCDC6', 'Lead', '16'), ('BFA4685DCDC6', 'Lead', '17'), ('BFA4685DCDC6', 'Lead', '18'), ('BFA4685DCDC6', 'Lead', '19'), ('BFA4685DCDC6', 'Lead', '20'), ('BFA4685DCDC6', 'Lead', '21'), ('BFA4685DCDC6', 'Lead', '22'), ('BFA4685DCDC6', 'Lead', '23'), ('BFA4685DCDC6', 'Lead', '24'), ('BFA4685DCDC6', 'Lead', '25'), ('BFA4685DCDC6', 'Lead', '26'), ('BFA4685DCDC6', 'Lead', '27'), ('BFA4685DCDC6', 'Lead', '27'), ('BFA4685DCDC6', 'Lead', '28'), ('BFA4685DCDC6', 'Lead', '29'), ('BFA4685DCDC6', 'Lead', '30'), ('BFA4685DCDC6', 'Lead', '31'), ('BFA4685DCDC6', 'Lead', '32'), ('BFA4685DCDC6', 'Lead', '32'), ('BFA4685DCDC6', 'Lead', '33'), ('BFA4685DCDC6', 'Lead', '34'), ('BFA4685DCDC6', 'Lead', '35'), ('BFA4685DCDC6', 'Lead', '36'), ('BFA4685DCDC6', 'Lead', '37'), ('BFA4685DCDC6', 'Lead', '38'), ('BFA4685DCDC6', 'Lead', '38'), ('BFA4685DCDC6', 'Lead', '39'), ('BFA4685DCDC6', 'Lead', '40'), ('BFA4685DCDC6', 'Lead', '41'), ('BFA4685DCDC6', 'Lead', '42'), ('BFA4685DCDC6', 'Lead', '43'), ('BFA4685DCDC6', 'Lead', '44'), ('BFA4685DCDC6', 'Lead', '44'), ('BFA4685DCDC6', 'Lead', '45'), ('BFA4685DCDC6', 'Lead', '46'), ('BFA4685DCDC6', 'Lead', '47'), ('BFA4685DCDC6', 'Lead', '48'), ('BFA4685DCDC6', 'Lead', '49'), ('BFA4685DCDC6', 'Lead', '50'), ('BFA4685DCDC6', 'Lead', '51'), ('BFA4685DCDC6', 'Lead', '51'), ('BFA4685DCDC6', 'Lead', '52'), ('BFA4685DCDC6', 'Lead', '53'), ('BFA4685DCDC6', 'Lead', '54'), ('BFA4685DCDC6', 'Lead', '55'), ('BFA4685DCDC6', 'Lead', '56'), ('BFA4685DCDC6', 'Lead', '57'), ('BFA4685DCDC6', 'Lead', '58'), ('BFA4685DCDC6', 'Lead', '59'), ('BFA4685DCDC6', 'Lead', '60'), ('BFA4685DCDC6', 'Lead', '61'), ('BFA4685DCDC6', 'Lead', '62'), ('BFA4685DCDC6', 'Lead', '63'), ('BFA4685DCDC6', 'Lead', '63'), ('BFA4685DCDC6', 'Lead', '64'), ('BFA4685DCDC6', 'Lead', '65'), ('BFA4685DCDC6', 'Lead', '66'), ('BFA4685DCDC6', 'Lead', '67'), ('BFA4685DCDC6', 'Lead', '68'), ('BFA4685DCDC6', 'Lead', '69'), ('BFA4685DCDC6', 'Lead', '70'), ('BFA4685DCDC6', 'Lead', '71'), ('BFA4685DCDC6', 'Lead', '72'), ('BFA4685DCDC6', 'Lead', '73'), ('BFA4685DCDC6', 'Lead', '74'), ('BFA4685DCDC6', 'Lead', '75'), ('BFA4685DCDC6', 'Lead', '76'), ('BFA4685DCDC6', 'Lead', '77'), ('BFA4685DCDC6', 'Lead', '77'), ('BFA4685DCDC6', 'Lead', '78'), ('BFA4685DCDC6', 'Lead', '79'), ('BFA4685DCDC6', 'Lead', '80'), ('BFA4685DCDC6', 'Lead', '81'), ('BFA4685DCDC6', 'Lead', '82'), ('BFA4685DCDC6', 'Lead', '83'), ('BFA4685DCDC6', 'Lead', '84'), ('BFA4685DCDC6', 'Lead', '85'), ('BFA4685DCDC6', 'Lead', '86'), ('BFA4685DCDC6', 'Lead', '87'), ('BFA4685DCDC6', 'Lead', '88'), ('BFA4685DCDC6', 'Lead', '89'), ('BFA4685DCDC6', 'Lead', '90'), ('BFA4685DCDC6', 'Lead', '91'), ('BFA4685DCDC6', 'Lead', '91'), ('BFA4685DCDC6', 'Lead', '92'), ('BFA4685DCDC6', 'Lead', '93'), ('BFA4685DCDC6', 'Lead', '93'), ('BFA4685DCDC6', 'Lead', '94'), ('BFA4685DCDC6', 'Lead', '95'), ('BFA4685DCDC6', 'Lead', '96'), ('BFA4685DCDC6', 'Lead', '97'), ('BFA4685DCDC6', 'Lead', '97'), ('BFA4685DCDC6', 'Lead', '98'), ('BFA4685DCDC6', 'Lead', '99'), ('BFA4685DCDC6', 'Lead', '100'), ('BFA4685DCDC6', 'Lead', '101'), ('BFA4685DCDC6', 'Lead', '102'), ('BFA4685DCDC6', 'Lead', '103'), ('BFA4685DCDC6', 'Lead', '104'), ('BFA4685DCDC6', 'Lead', '105'), ('BFA4685DCDC6', 'Lead', '106'), ('BFA4685DCDC6', 'Lead', '106'), ('BFA4685DCDC6', 'Lead', '107'), ('BFA4685DCDC6', 'Lead', '108'), ('BFA4685DCDC6', 'Lead', '109'), ('BFA4685DCDC6', 'Lead', '110'), ('BFA4685DCDC6', 'Lead', '111'), ('BFA4685DCDC6', 'Lead', '112'), ('BFA4685DCDC6', 'Lead', '113'), ('BFA4685DCDC6', 'Lead', '114'), ('BFA4685DCDC6', 'Lead', '115'), ('BFA4685DCDC6', 'Lead', '116'), ('BFA4685DCDC6', 'Lead', '117'), ('BFA4685DCDC6', 'Lead', '118'), ('BFA4685DCDC6', 'Lead', '119'), ('BFA4685DCDC6', 'Lead', '120'), ('BFA4685DCDC6', 'Lead', '121'), ('BFA4685DCDC6', 'Lead', '122'), ('BFA4685DCDC6', 'Lead', '123'), ('BFA4685DCDC6', 'Lead', '123'), ('BFA4685DCDC6', 'Lead', '124'), ('BFA4685DCDC6', 'Lead', '125'), ('BFA4685DCDC6', 'Lead', '126'), ('BFA4685DCDC6', 'Lead', '127'), ('BFA4685DCDC6', 'Lead', '128'), ('BFA4685DCDC6', 'Lead', '129'), ('BFA4685DCDC6', 'Lead', '130'), ('BFA4685DCDC6', 'Lead', '131'), ('BFA4685DCDC6', 'Lead', '132'), ('BFA4685DCDC6', 'Lead', '133'), ('BFA4685DCDC6', 'Lead', '134'), ('BFA4685DCDC6', 'Lead', '135'), ('BFA4685DCDC6', 'Lead', '136'), ('BFA4685DCDC6', 'Lead', '137'), ('BFA4685DCDC6', 'Lead', '138'), ('BFA4685DCDC6', 'Lead', '138'), ('BFA4685DCDC6', 'Lead', '139'), ('BFA4685DCDC6', 'Lead', '140'), ('BFA4685DCDC6', 'Lead', '141'), ('BFA4685DCDC6', 'Lead', '141'), ('BFA4685DCDC6', 'Lead', '142'), ('BFA4685DCDC6', 'Lead', '143'), ('BFA4685DCDC6', 'Lead', '143'), ('BFA4685DCDC6', 'Lead', '144'), ('BFA4685DCDC6', 'Lead', '145'), ('BFA4685DCDC6', 'Lead', '146'), ('BFA4685DCDC6', 'Lead', '147'), ('BFA4685DCDC6', 'Lead', '147'), ('BFA4685DCDC6', 'Lead', '148'), ('BFA4685DCDC6', 'Lead', '149'), ('BFA4685DCDC6', 'Lead', '150'), ('BFA4685DCDC6', 'Lead', '151'), ('BFA4685DCDC6', 'Lead', '152'), ('BFA4685DCDC6', 'Lead', '153'), ('BFA4685DCDC6', 'Lead', '153'), ('BFA4685DCDC6', 'Lead', '154'), ('BFA4685DCDC6', 'Lead', '155'), ('BFA4685DCDC6', 'Lead', '156'), ('BFA4685DCDC6', 'Lead', '157'), ('BFA4685DCDC6', 'Lead', '158'), ('BFA4685DCDC6', 'Lead', '159'), ('BFA4685DCDC6', 'Lead', '160'), ('BFA4685DCDC6', 'Lead', '161'), ('BFA4685DCDC6', 'Lead', '161'), ('BFA4685DCDC6', 'Lead', '162'), ('BFA4685DCDC6', 'Lead', '163'), ('BFA4685DCDC6', 'Lead', '164'), ('BFA4685DCDC6', 'Lead', '165'), ('BFA4685DCDC6', 'Lead', '166'), ('BFA4685DCDC6', 'Lead', '167'), ('BFA4685DCDC6', 'Lead', '168'), ('BFA4685DCDC6', 'Lead', '169'), ('BFA4685DCDC6', 'Lead', '170'), ('BFA4685DCDC6', 'Lead', '171'), ('BFA4685DCDC6', 'Lead', '172'), ('BFA4685DCDC6', 'Lead', '173'), ('BFA4685DCDC6', 'Lead', '174'), ('BFA4685DCDC6', 'Lead', '174'), ('BFA4685DCDC6', 'Lead', '175'), ('BFA4685DCDC6', 'Lead', '176'), ('BFA4685DCDC6', 'Lead', '177'), ('BFA4685DCDC6', 'Lead', '178'), ('BFA4685DCDC6', 'Lead', '178'), ('BFA4685DCDC6', 'Lead', '179'), ('BFA4685DCDC6', 'Lead', '180'), ('BFA4685DCDC6', 'Lead', '181'), ('BFA4685DCDC6', 'Lead', '182'), ('BFA4685DCDC6', 'Lead', '183'), ('BFA4685DCDC6', 'Lead', '183'), ('BFA4685DCDC6', 'Lead', '184'), ('BFA4685DCDC6', 'Lead', '185'), ('BFA4685DCDC6', 'Lead', '186'), ('BFA4685DCDC6', 'Lead', '187'), ('BFA4685DCDC6', 'Lead', '188'), ('BFA4685DCDC6', 'Lead', '189'), ('BFA4685DCDC6', 'Lead', '190'), ('BFA4685DCDC6', 'Lead', '191'), ('BFA4685DCDC6', 'Lead', '192'), ('BFA4685DCDC6', 'Lead', '193'), ('BFA4685DCDC6', 'Lead', '194'), ('BFA4685DCDC6', 'Lead', '195'), ('BFA4685DCDC6', 'Lead', '195'), ('BFA4685DCDC6', 'Lead', '196'), ('BFA4685DCDC6', 'Lead', '197'), ('BFA4685DCDC6', 'Lead', '198'), ('BFA4685DCDC6', 'Lead', '199'), ('BFA4685DCDC6', 'Lead', '200'), ('BFA4685DCDC6', 'Lead', '201'), ('BFA4685DCDC6', 'Lead', '202'), ('BFA4685DCDC6', 'Lead', '203'), ('BFA4685DCDC6', 'Lead', '204'), ('BFA4685DCDC6', 'Lead', '205'), ('BFA4685DCDC6', 'Lead', '206'), ('BFA4685DCDC6', 'Lead', '207'), ('BFA4685DCDC6', 'Lead', '208'), ('BFA4685DCDC6', 'Lead', '209'), ('BFA4685DCDC6', 'Lead', '210'), ('BFA4685DCDC6', 'Lead', '211'), ('BFA4685DCDC6', 'Lead', '212'), ('BFA4685DCDC6', 'Lead', '213'), ('BFA4685DCDC6', 'Lead', '214'), ('BFA4685DCDC6', 'Lead', '215'), ('BFA4685DCDC6', 'Lead', '216'), ('BFA4685DCDC6', 'Lead', '217'), ('BFA4685DCDC6', 'Lead', '218'), ('BFA4685DCDC6', 'Lead', '219'), ('BFA4685DCDC6', 'Lead', '220'), ('BFA4685DCDC6', 'Lead', '220'), ('BFA4685DCDC6', 'Lead', '221'), ('BFA4685DCDC6', 'Lead', '222'), ('BFA4685DCDC6', 'Lead', '223'), ('BFA4685DCDC6', 'Lead', '224'), ('BFA4685DCDC6', 'Lead', '225'), ('BFA4685DCDC6', 'Lead', '226'), ('BFA4685DCDC6', 'Lead', '227'), ('BFA4685DCDC6', 'Lead', '228'), ('BFA4685DCDC6', 'Lead', '229'), ('BFA4685DCDC6', 'Lead', '230'), ('BFA4685DCDC6', 'Lead', '231'), ('BFA4685DCDC6', 'Lead', '231'), ('BFA4685DCDC6', 'Lead', '231'), ('BFA4685DCDC6', 'Lead', '232'), ('BFA4685DCDC6', 'Lead', '233'), ('BFA4685DCDC6', 'Lead', '234'), ('BFA4685DCDC6', 'Lead', '234'), ('BFA4685DCDC6', 'Lead', '235'), ('BFA4685DCDC6', 'Lead', '236'), ('BFA4685DCDC6', 'Lead', '237'), ('BFA4685DCDC6', 'Lead', '238'), ('BFA4685DCDC6', 'Lead', '239'), ('BFA4685DCDC6', 'Lead', '240'), ('BFA4685DCDC6', 'Lead', '240'), ('BFA4685DCDC6', 'Lead', '240'), ('BFA4685DCDC6', 'Lead', '241'), ('BFA4685DCDC6', 'Lead', '242'), ('BFA4685DCDC6', 'Lead', '243'), ('BFA4685DCDC6', 'Lead', '243'), ('BFA4685DCDC6', 'Lead', '244'), ('BFA4685DCDC6', 'Lead', '245'), ('BFA4685DCDC6', 'Lead', '246'), ('BFA4685DCDC6', 'Lead', '247'), ('BFA4685DCDC6', 'Lead', '248'), ('BFA4685DCDC6', 'Lead', '249'), ('BFA4685DCDC6', 'Lead', '250'), ('BFA4685DCDC6', 'Lead', '251'), ('BFA4685DCDC6', 'Lead', '252'), ('BFA4685DCDC6', 'Lead', '253'), ('BFA4685DCDC6', 'Lead', '254'), ('BFA4685DCDC6', 'Lead', '255'), ('BFA4685DCDC6', 'Lead', '256'), ('BFA4685DCDC6', 'Lead', '257'), ('BFA4685DCDC6', 'Lead', '258'), ('BFA4685DCDC6', 'Lead', '259'), ('BFA4685DCDC6', 'Lead', '260'), ('BFA4685DCDC6', 'Lead', '261'), ('BFA4685DCDC6', 'Lead', '262'), ('BFA4685DCDC6', 'Lead', '263'), ('BFA4685DCDC6', 'Lead', '264'), ('BFA4685DCDC6', 'Lead', '265'), ('BFA4685DCDC6', 'Lead', '266'), ('BFA4685DCDC6', 'Lead', '266'), ('BFA4685DCDC6', 'Lead', '267'), ('BFA4685DCDC6', 'Lead', '268'), ('BFA4685DCDC6', 'Lead', '269'), ('BFA4685DCDC6', 'Lead', '270'), ('BFA4685DCDC6', 'Lead', '271'), ('BFA4685DCDC6', 'Lead', '272'), ('BFA4685DCDC6', 'Lead', '272'), ('BFA4685DCDC6', 'Lead', '273'), ('BFA4685DCDC6', 'Lead', '274'), ('BFA4685DCDC6', 'Lead', '275'), ('BFA4685DCDC6', 'Lead', '276'), ('BFA4685DCDC6', 'Lead', '277'), ('BFA4685DCDC6', 'Lead', '278'), ('BFA4685DCDC6', 'Lead', '279'), ('BFA4685DCDC6', 'Lead', '280'), ('BFA4685DCDC6', 'Lead', '280'), ('BFA4685DCDC6', 'Lead', '281'), ('BFA4685DCDC6', 'Lead', '282'), ('BFA4685DCDC6', 'Lead', '283'), ('BFA4685DCDC6', 'Lead', '284'), ('BFA4685DCDC6', 'Lead', '285'), ('BFA4685DCDC6', 'Lead', '286'), ('BFA4685DCDC6', 'Lead', '287'), ('BFA4685DCDC6', 'Lead', '287'), ('BFA4685DCDC6', 'Lead', '288'), ('BFA4685DCDC6', 'Lead', '289'), ('BFA4685DCDC6', 'Lead', '290'), ('BFA4685DCDC6', 'Lead', '291'), ('BFA4685DCDC6', 'Lead', '292'), ('BFA4685DCDC6', 'Lead', '293'), ('BFA4685DCDC6', 'Lead', '294'), ('BFA4685DCDC6', 'Lead', '295'), ('BFA4685DCDC6', 'Lead', '296'), ('BFA4685DCDC6', 'Lead', '297'), ('BFA4685DCDC6', 'Lead', '298'), ('BFA4685DCDC6', 'Lead', '299'), ('BFA4685DCDC6', 'Lead', '300'), ('BFA4685DCDC6', 'Lead', '301'), ('BFA4685DCDC6', 'Lead', '302'), ('BFA4685DCDC6', 'Lead', '303'), ('BFA4685DCDC6', 'Lead', '304'), ('BFA4685DCDC6', 'Lead', '305'), ('BFA4685DCDC6', 'Lead', '306'), ('BFA4685DCDC6', 'Lead', '307'), ('BFA4685DCDC6', 'Lead', '308'), ('BFA4685DCDC6', 'Lead', '309'), ('BFA4685DCDC6', 'Lead', '309'), ('BFA4685DCDC6', 'Lead', '310'), ('BFA4685DCDC6', 'Lead', '311'), ('BFA4685DCDC6', 'Lead', '312'), ('BFA4685DCDC6', 'Lead', '313'), ('BFA4685DCDC6', 'Lead', '314'), ('BFA4685DCDC6', 'Lead', '315'), ('BFA4685DCDC6', 'Lead', '316'), ('BFA4685DCDC6', 'Lead', '316'), ('BFA4685DCDC6', 'Lead', '317'), ('BFA4685DCDC6', 'Lead', '318'), ('BFA4685DCDC6', 'Lead', '319'), ('BFA4685DCDC6', 'Lead', '320'), ('BFA4685DCDC6', 'Lead', '320'), ('BFA4685DCDC6', 'Lead', '321'), ('BFA4685DCDC6', 'Lead', '322'), ('BFA4685DCDC6', 'Lead', '323'), ('BFA4685DCDC6', 'Lead', '324'), ('BFA4685DCDC6', 'Lead', '325'), ('BFA4685DCDC6', 'Lead', '326'), ('BFA4685DCDC6', 'Lead', '327'), ('BFA4685DCDC6', 'Lead', '328'), ('BFA4685DCDC6', 'Lead', '329'), ('BFA4685DCDC6', 'Lead', '330'), ('BFA4685DCDC6', 'Lead', '331'), ('BFA4685DCDC6', 'Lead', '332'), ('BFA4685DCDC6', 'Lead', '332'), ('BFA4685DCDC6', 'Lead', '333'), ('BFA4685DCDC6', 'Lead', '334'), ('BFA4685DCDC6', 'Lead', '335'), ('BFA4685DCDC6', 'Lead', '336'), ('BFA4685DCDC6', 'Lead', '337'), ('BFA4685DCDC6', 'Lead', '338'), ('BFA4685DCDC6', 'Lead', '339'), ('BFA4685DCDC6', 'Lead', '340'), ('BFA4685DCDC6', 'Lead', '341'), ('BFA4685DCDC6', 'Lead', '342'), ('BFA4685DCDC6', 'Lead', '343'), ('BFA4685DCDC6', 'Lead', '344'), ('BFA4685DCDC6', 'Lead', '345'), ('BFA4685DCDC6', 'Lead', '346'), ('BFA4685DCDC6', 'Lead', '346'), ('BFA4685DCDC6', 'Lead', '347'), ('BFA4685DCDC6', 'Lead', '348'), ('BFA4685DCDC6', 'Lead', '349'), ('BFA4685DCDC6', 'Lead', '350'), ('BFA4685DCDC6', 'Lead', '351'), ('BFA4685DCDC6', 'Lead', '352'), ('BFA4685DCDC6', 'Lead', '353'), ('BFA4685DCDC6', 'Lead', '354'), ('BFA4685DCDC6', 'Lead', '354'), ('BFA4685DCDC6', 'Lead', '355'), ('BFA4685DCDC6', 'Lead', '356'), ('BFA4685DCDC6', 'Lead', '357'), ('BFA4685DCDC6', 'Lead', '357'), ('BFA4685DCDC6', 'Lead', '358'), ('BFA4685DCDC6', 'Lead', '359'), ('BFA4685DCDC6', 'Lead', '360'), ('BFA4685DCDC6', 'Lead', '361'), ('BFA4685DCDC6', 'Lead', '362'), ('BFA4685DCDC6', 'Lead', '363'), ('BFA4685DCDC6', 'Lead', '363'), ('BFA4685DCDC6', 'Lead', '364'), ('BFA4685DCDC6', 'Lead', '365'), ('BFA4685DCDC6', 'Lead', '366'), ('BFA4685DCDC6', 'Lead', '367'), ('BFA4685DCDC6', 'Lead', '368'), ('BFA4685DCDC6', 'Lead', '369'), ('BFA4685DCDC6', 'Lead', '370'), ('BFA4685DCDC6', 'Lead', '371'), ('BFA4685DCDC6', 'Lead', '372'), ('BFA4685DCDC6', 'Lead', '373'), ('BFA4685DCDC6', 'Lead', '374'), ('BFA4685DCDC6', 'Lead', '375'), ('BFA4685DCDC6', 'Lead', '376'), ('BFA4685DCDC6', 'Lead', '377'), ('BFA4685DCDC6', 'Lead', '378'), ('BFA4685DCDC6', 'Lead', '379'), ('BFA4685DCDC6', 'Lead', '380'), ('BFA4685DCDC6', 'Lead', '381'), ('BFA4685DCDC6', 'Lead', '382'), ('BFA4685DCDC6', 'Lead', '383'), ('BFA4685DCDC6', 'Lead', '384'), ('BFA4685DCDC6', 'Lead', '385'), ('BFA4685DCDC6', 'Lead', '386'), ('BFA4685DCDC6', 'Lead', '387'), ('BFA4685DCDC6', 'Lead', '388'), ('BFA4685DCDC6', 'Lead', '389'), ('BFA4685DCDC6', 'Lead', '389'), ('BFA4685DCDC6', 'Lead', '390'), ('BFA4685DCDC6', 'Lead', '391'), ('BFA4685DCDC6', 'Lead', '392'), ('BFA4685DCDC6', 'Lead', '393'), ('BFA4685DCDC6', 'Lead', '394'), ('BFA4685DCDC6', 'Lead', '395'), ('BFA4685DCDC6', 'Lead', '396'), ('BFA4685DCDC6', 'Lead', '396'), ('BFA4685DCDC6', 'Lead', '397'), ('BFA4685DCDC6', 'Lead', '397'), ('BFA4685DCDC6', 'Lead', '398'), ('BFA4685DCDC6', 'Lead', '399'), ('BFA4685DCDC6', 'Lead', '400'), ('BFA4685DCDC6', 'Lead', '401'), ('BFA4685DCDC6', 'Lead', '402'), ('BFA4685DCDC6', 'Lead', '403'), ('BFA4685DCDC6', 'Lead', '404'), ('BFA4685DCDC6', 'Lead', '405'), ('BFA4685DCDC6', 'Lead', '406'), ('BFA4685DCDC6', 'Lead', '407'), ('BFA4685DCDC6', 'Lead', '408'), ('BFA4685DCDC6', 'Lead', '409'), ('BFA4685DCDC6', 'Lead', '410'), ('BFA4685DCDC6', 'Lead', '411'), ('BFA4685DCDC6', 'Lead', '412'), ('BFA4685DCDC6', 'Lead', '413'), ('BFA4685DCDC6', 'Lead', '414'), ('BFA4685DCDC6', 'Lead', '415'), ('BFA4685DCDC6', 'Lead', '416'), ('BFA4685DCDC6', 'Lead', '417'), ('BFA4685DCDC6', 'Lead', '418'), ('BFA4685DCDC6', 'Lead', '418'), ('BFA4685DCDC6', 'Lead', '419'), ('BFA4685DCDC6', 'Lead', '420'), ('BFA4685DCDC6', 'Lead', '420'), ('BFA4685DCDC6', 'Lead', '421'), ('BFA4685DCDC6', 'Lead', '422'), ('BFA4685DCDC6', 'Lead', '423'), ('BFA4685DCDC6', 'Lead', '424'), ('BFA4685DCDC6', 'Lead', '425'), ('BFA4685DCDC6', 'Lead', '426'), ('BFA4685DCDC6', 'Lead', '427'), ('BFA4685DCDC6', 'Lead', '428'), ('BFA4685DCDC6', 'Lead', '429'), ('BFA4685DCDC6', 'Lead', '430'), ('BFA4685DCDC6', 'Lead', '430'), ('BFA4685DCDC6', 'Lead', '431'), ('BFA4685DCDC6', 'Lead', '432'), ('BFA4685DCDC6', 'Lead', '433'), ('BFA4685DCDC6', 'Lead', '433'), ('BFA4685DCDC6', 'Lead', '434'), ('BFA4685DCDC6', 'Lead', '435'), ('BFA4685DCDC6', 'Lead', '435'), ('BFA4685DCDC6', 'Lead', '436'), ('BFA4685DCDC6', 'Lead', '437'), ('BFA4685DCDC6', 'Lead', '438'), ('BFA4685DCDC6', 'Lead', '439'), ('BFA4685DCDC6', 'Lead', '439'), ('BFA4685DCDC6', 'Lead', '440'), ('BFA4685DCDC6', 'Lead', '441'), ('BFA4685DCDC6', 'Lead', '442'), ('BFA4685DCDC6', 'Lead', '443'), ('BFA4685DCDC6', 'Lead', '444'), ('BFA4685DCDC6', 'Lead', '445'), ('BFA4685DCDC6', 'Lead', '446'), ('BFA4685DCDC6', 'Lead', '447'), ('BFA4685DCDC6', 'Lead', '448'), ('BFA4685DCDC6', 'Lead', '449'), ('BFA4685DCDC6', 'Lead', '450'), ('BFA4685DCDC6', 'Lead', '451'), ('BFA4685DCDC6', 'Lead', '452'), ('BFA4685DCDC6', 'Lead', '453'), ('BFA4685DCDC6', 'Lead', '454'), ('BFA4685DCDC6', 'Lead', '455'), ('BFA4685DCDC6', 'Lead', '456'), ('BFA4685DCDC6', 'Lead', '457'), ('BFA4685DCDC6', 'Lead', '458'), ('BFA4685DCDC6', 'Lead', '459'), ('BFA4685DCDC6', 'Lead', '460'), ('BFA4685DCDC6', 'Lead', '461'), ('BFA4685DCDC6', 'Lead', '462'), ('BFA4685DCDC6', 'Lead', '462'), ('BFA4685DCDC6', 'Lead', '462'), ('BFA4685DCDC6', 'Lead', '462'), ('BFA4685DCDC6', 'Lead', '462'), ('BFA4685DCDC6', 'Lead', '463'), ('BFA4685DCDC6', 'Lead', '464'), ('BFA4685DCDC6', 'Lead', '464'), ('BFA4685DCDC6', 'Lead', '465'), ('BFA4685DCDC6', 'Lead', '465'), ('BFA4685DCDC6', 'Lead', '466'), ('BFA4685DCDC6', 'Lead', '466'), ('BFA4685DCDC6', 'Lead', '466'), ('BFA4685DCDC6', 'Lead', '466'), ('BFA4685DCDC6', 'Lead', '467'), ('BFA4685DCDC6', 'Lead', '468'), ('BFA4685DCDC6', 'Lead', '468'), ('BFA4685DCDC6', 'Lead', '469'), ('BFA4685DCDC6', 'Lead', '469'), ('BFA4685DCDC6', 'Lead', '469'), ('BFA4685DCDC6', 'Lead', '470'), ('BFA4685DCDC6', 'Lead', '470'), ('BFA4685DCDC6', 'Lead', '470'), ('BFA4685DCDC6', 'Lead', '470'), ('BFA4685DCDC6', 'Lead', '470'), ('BFA4685DCDC6', 'Lead', '470'), ('BFA4685DCDC6', 'Lead', '470'), ('BFA4685DCDC6', 'Lead', '470'), ('BFA4685DCDC6', 'Lead', '470'), ('BFA4685DCDC6', 'Lead', '470'), ('BFA4685DCDC6', 'Lead', '470'), ('BFA4685DCDC6', 'Lead', '470'), ('BFA4685DCDC6', 'Lead', '470'), ('BFA4685DCDC6', 'Lead', '470'), ('BFA4685DCDC6', 'Lead', '470'), ('BFA4685DCDC6', 'Lead', '470'), ('BFA4685DCDC6', 'Lead', '470'), ('BFA4685DCDC6', 'Lead', '470'), ('BFA4685DCDC6', 'Lead', '470'), ('BFA4685DCDC6', 'Lead', '470'), ('BFA4685DCDC6', 'Lead', '470'), ('BFA4685DCDC6', 'Lead', '470'), ('BFA4685DCDC6', 'Lead', '470'), ('BFA4685DCDC6', 'Lead', '470'), ('BFA4685DCDC6', 'Lead', '470'), ('BFA4685DCDC6', 'Lead', '470'), ('BFA4685DCDC6', 'Lead', '470'), ('BFA4685DCDC6', 'Lead', '470'), ('BFA4685DCDC6', 'Lead', '470'), ('BFA4685DCDC6', 'Lead', '470'), ('BFA4685DCDC6', 'Lead', '470'), ('BFA4685DCDC6', 'Lead', '470'), ('BFA4685DCDC6', 'Lead', '470'), ('BFA4685DCDC6', 'Lead', '470'), ('BFA4685DCDC6', 'Lead', '470'), ('BFA4685DCDC6', 'Lead', '470'), ('BFA4685DCDC6', 'Lead', '470'), ('BFA4685DCDC6', 'Lead', '470'), ('BFA4685DCDC6', 'Lead', '470'), ('BFA4685DCDC6', 'Lead', '470'), ('BFA4685DCDC6', 'Lead', '470'), ('BFA4685DCDC6', 'Lead', '470'), ('BFA4685DCDC6', 'Lead', '470'), ('BFA4685DCDC6', 'Lead', '470'), ('BFA4685DCDC6', 'Lead', '470'), ('BFA4685DCDC6', 'Lead', '470'), ('BFA4685DCDC6', 'Lead', '470'), ('BFA4685DCDC6', 'Lead', '470'), ('BFA4685DCDC6', 'Lead', '470'), ('BFA4685DCDC6', 'Lead', '470'), ('BFA4685DCDC6', 'Lead', '470'), ('BFA4685DCDC6', 'Lead', '470'), ('BFA4685DCDC6', 'Lead', '470'), ('BFA4685DCDC6', 'Lead', '470'), ('BFA4685DCDC6', 'Lead', '470'), ('BFA4685DCDC6', 'Lead', '470'), ('BFA4685DCDC6', 'Lead', '470'), ('BFA4685DCDC6', 'Lead', '470'), ('BFA4685DCDC6', 'Lead', '470'), ('BFA4685DCDC6', 'Lead', '470'), ('BFA4685DCDC6', 'Lead', '470'), ('BFA4685DCDC6', 'Lead', '470'), ('BFA4685DCDC6', 'Lead', '470'), ('BFA4685DCDC6', 'Lead', '470'), ('BFA4685DCDC6', 'Lead', '470'), ('BFA4685DCDC6', 'Lead', '470'), ('BFA4685DCDC6', 'Lead', '470'), ('BFA4685DCDC6', 'Lead', '470'), ('BFA4685DCDC6', 'Lead', '470'), ('BFA4685DCDC6', 'Lead', '470'), ('BFA4685DCDC6', 'Lead', '470'), ('BFA4685DCDC6', 'Lead', '470'), ('BFA4685DCDC6', 'Lead', '470'), ('BFA4685DCDC6', 'Lead', '470'), ('E86C6679AAF2', 'Lead', '0'), ('E86C6679AAF2', 'Lead', '1'), ('E86C6679AAF2', 'Lead', '2'), ('E86C6679AAF2', 'Lead', '3'), ('E86C6679AAF2', 'Lead', '4'), ('E86C6679AAF2', 'Lead', '5'), ('E86C6679AAF2', 'Lead', '6'), ('E86C6679AAF2', 'Lead', '7'), ('E86C6679AAF2', 'Lead', '7'), ('E86C6679AAF2', 'Lead', '8'), ('E86C6679AAF2', 'Lead', '9'), ('E86C6679AAF2', 'Lead', '10'), ('E86C6679AAF2', 'Lead', '11'), ('E86C6679AAF2', 'Lead', '12'), ('E86C6679AAF2', 'Lead', '13'), ('E86C6679AAF2', 'Lead', '14'), ('E86C6679AAF2', 'Lead', '15'), ('E86C6679AAF2', 'Lead', '16'), ('E86C6679AAF2', 'Lead', '17'), ('E86C6679AAF2', 'Lead', '18'), ('E86C6679AAF2', 'Lead', '19'), ('E86C6679AAF2', 'Lead', '20'), ('E86C6679AAF2', 'Lead', '21'), ('E86C6679AAF2', 'Lead', '22'), ('E86C6679AAF2', 'Lead', '23'), ('E86C6679AAF2', 'Lead', '24'), ('E86C6679AAF2', 'Lead', '25'), ('E86C6679AAF2', 'Lead', '25'), ('E86C6679AAF2', 'Lead', '26'), ('E86C6679AAF2', 'Lead', '27'), ('E86C6679AAF2', 'Lead', '28'), ('E86C6679AAF2', 'Lead', '29'), ('E86C6679AAF2', 'Lead', '30'), ('E86C6679AAF2', 'Lead', '31'), ('E86C6679AAF2', 'Lead', '32'), ('E86C6679AAF2', 'Lead', '33'), ('E86C6679AAF2', 'Lead', '34'), ('E86C6679AAF2', 'Lead', '35'), ('E86C6679AAF2', 'Lead', '36'), ('E86C6679AAF2', 'Lead', '37'), ('E86C6679AAF2', 'Lead', '38'), ('E86C6679AAF2', 'Lead', '39'), ('E86C6679AAF2', 'Lead', '40'), ('E86C6679AAF2', 'Lead', '40'), ('E86C6679AAF2', 'Lead', '41'), ('E86C6679AAF2', 'Lead', '42'), ('E86C6679AAF2', 'Lead', '43'), ('E86C6679AAF2', 'Lead', '44'), ('E86C6679AAF2', 'Lead', '45'), ('E86C6679AAF2', 'Lead', '46'), ('E86C6679AAF2', 'Lead', '47'), ('E86C6679AAF2', 'Lead', '48'), ('E86C6679AAF2', 'Lead', '48'), ('E86C6679AAF2', 'Lead', '49'), ('E86C6679AAF2', 'Lead', '50'), ('E86C6679AAF2', 'Lead', '51'), ('E86C6679AAF2', 'Lead', '52'), ('E86C6679AAF2', 'Lead', '53'), ('E86C6679AAF2', 'Lead', '54'), ('E86C6679AAF2', 'Lead', '55'), ('E86C6679AAF2', 'Lead', '56'), ('E86C6679AAF2', 'Lead', '57'), ('E86C6679AAF2', 'Lead', '58'), ('E86C6679AAF2', 'Lead', '59'), ('E86C6679AAF2', 'Lead', '60'), ('E86C6679AAF2', 'Lead', '61'), ('E86C6679AAF2', 'Lead', '62'), ('E86C6679AAF2', 'Lead', '62'), ('E86C6679AAF2', 'Lead', '62'), ('E86C6679AAF2', 'Lead', '62'), ('E86C6679AAF2', 'Lead', '62'), ('E86C6679AAF2', 'Lead', '63'), ('E86C6679AAF2', 'Lead', '64'), ('E86C6679AAF2', 'Lead', '65'), ('E86C6679AAF2', 'Lead', '66'), ('E86C6679AAF2', 'Lead', '67'), ('E86C6679AAF2', 'Lead', '68'), ('E86C6679AAF2', 'Lead', '69'), ('E86C6679AAF2', 'Lead', '70'), ('E86C6679AAF2', 'Lead', '71'), ('E86C6679AAF2', 'Lead', '72'), ('E86C6679AAF2', 'Lead', '73'), ('E86C6679AAF2', 'Lead', '74'), ('E86C6679AAF2', 'Lead', '75'), ('E86C6679AAF2', 'Lead', '76'), ('E86C6679AAF2', 'Lead', '77'), ('E86C6679AAF2', 'Lead', '78'), ('E86C6679AAF2', 'Lead', '79'), ('E86C6679AAF2', 'Lead', '80'), ('E86C6679AAF2', 'Lead', '81'), ('E86C6679AAF2', 'Lead', '82'), ('E86C6679AAF2', 'Lead', '83'), ('E86C6679AAF2', 'Lead', '84'), ('E86C6679AAF2', 'Lead', '85'), ('E86C6679AAF2', 'Lead', '86'), ('E86C6679AAF2', 'Lead', '87'), ('E86C6679AAF2', 'Lead', '88'), ('E86C6679AAF2', 'Lead', '89'), ('E86C6679AAF2', 'Lead', '90'), ('E86C6679AAF2', 'Lead', '91'), ('E86C6679AAF2', 'Lead', '92'), ('E86C6679AAF2', 'Lead', '93'), ('E86C6679AAF2', 'Lead', '94'), ('E86C6679AAF2', 'Lead', '95'), ('E86C6679AAF2', 'Lead', '96'), ('E86C6679AAF2', 'Lead', '97'), ('E86C6679AAF2', 'Lead', '98'), ('E86C6679AAF2', 'Lead', '98'), ('E86C6679AAF2', 'Lead', '99'), ('E86C6679AAF2', 'Lead', '100'), ('E86C6679AAF2', 'Lead', '101'), ('E86C6679AAF2', 'Lead', '102'), ('E86C6679AAF2', 'Lead', '103'), ('E86C6679AAF2', 'Lead', '104'), ('E86C6679AAF2', 'Lead', '105'), ('E86C6679AAF2', 'Lead', '106'), ('E86C6679AAF2', 'Lead', '107'), ('E86C6679AAF2', 'Lead', '108'), ('E86C6679AAF2', 'Lead', '109'), ('E86C6679AAF2', 'Lead', '110'), ('E86C6679AAF2', 'Lead', '111'), ('E86C6679AAF2', 'Lead', '112'), ('E86C6679AAF2', 'Lead', '112'), ('E86C6679AAF2', 'Lead', '113'), ('E86C6679AAF2', 'Lead', '114'), ('E86C6679AAF2', 'Lead', '115'), ('E86C6679AAF2', 'Lead', '116'), ('E86C6679AAF2', 'Lead', '116'), ('E86C6679AAF2', 'Lead', '117'), ('E86C6679AAF2', 'Lead', '118'), ('E86C6679AAF2', 'Lead', '119'), ('E86C6679AAF2', 'Lead', '120'), ('E86C6679AAF2', 'Lead', '121'), ('E86C6679AAF2', 'Lead', '121'), ('E86C6679AAF2', 'Lead', '122'), ('E86C6679AAF2', 'Lead', '123'), ('E86C6679AAF2', 'Lead', '124'), ('E86C6679AAF2', 'Lead', '125'), ('E86C6679AAF2', 'Lead', '126'), ('E86C6679AAF2', 'Lead', '127'), ('E86C6679AAF2', 'Lead', '128'), ('E86C6679AAF2', 'Lead', '129'), ('E86C6679AAF2', 'Lead', '130'), ('E86C6679AAF2', 'Lead', '130'), ('E86C6679AAF2', 'Lead', '131'), ('E86C6679AAF2', 'Lead', '132'), ('E86C6679AAF2', 'Lead', '133'), ('E86C6679AAF2', 'Lead', '134'), ('E86C6679AAF2', 'Lead', '135'), ('E86C6679AAF2', 'Lead', '136'), ('E86C6679AAF2', 'Lead', '137'), ('E86C6679AAF2', 'Lead', '138'), ('E86C6679AAF2', 'Lead', '139'), ('E86C6679AAF2', 'Lead', '140'), ('E86C6679AAF2', 'Lead', '141'), ('E86C6679AAF2', 'Lead', '142'), ('E86C6679AAF2', 'Lead', '143'), ('E86C6679AAF2', 'Lead', '144'), ('E86C6679AAF2', 'Lead', '145'), ('E86C6679AAF2', 'Lead', '146'), ('E86C6679AAF2', 'Lead', '147'), ('E86C6679AAF2', 'Lead', '147'), ('E86C6679AAF2', 'Lead', '147'), ('E86C6679AAF2', 'Lead', '147'), ('E86C6679AAF2', 'Lead', '147'), ('E86C6679AAF2', 'Lead', '148'), ('E86C6679AAF2', 'Lead', '149'), ('E86C6679AAF2', 'Lead', '150'), ('E86C6679AAF2', 'Lead', '151'), ('E86C6679AAF2', 'Lead', '152'), ('E86C6679AAF2', 'Lead', '153'), ('E86C6679AAF2', 'Lead', '154'), ('E86C6679AAF2', 'Lead', '155'), ('E86C6679AAF2', 'Lead', '156'), ('E86C6679AAF2', 'Lead', '157'), ('E86C6679AAF2', 'Lead', '158'), ('E86C6679AAF2', 'Lead', '159'), ('E86C6679AAF2', 'Lead', '160'), ('E86C6679AAF2', 'Lead', '161'), ('E86C6679AAF2', 'Lead', '162'), ('E86C6679AAF2', 'Lead', '163'), ('E86C6679AAF2', 'Lead', '164'), ('E86C6679AAF2', 'Lead', '165'), ('E86C6679AAF2', 'Lead', '166'), ('E86C6679AAF2', 'Lead', '167'), ('E86C6679AAF2', 'Lead', '168'), ('E86C6679AAF2', 'Lead', '169'), ('E86C6679AAF2', 'Lead', '169'), ('E86C6679AAF2', 'Lead', '170'), ('E86C6679AAF2', 'Lead', '171'), ('E86C6679AAF2', 'Lead', '172'), ('E86C6679AAF2', 'Lead', '173'), ('E86C6679AAF2', 'Lead', '174'), ('E86C6679AAF2', 'Lead', '175'), ('E86C6679AAF2', 'Lead', '175'), ('E86C6679AAF2', 'Lead', '176'), ('E86C6679AAF2', 'Lead', '177'), ('E86C6679AAF2', 'Lead', '178'), ('E86C6679AAF2', 'Lead', '179'), ('E86C6679AAF2', 'Lead', '180'), ('E86C6679AAF2', 'Lead', '181'), ('E86C6679AAF2', 'Lead', '182'), ('E86C6679AAF2', 'Lead', '183'), ('E86C6679AAF2', 'Lead', '184'), ('E86C6679AAF2', 'Lead', '185'), ('E86C6679AAF2', 'Lead', '186'), ('E86C6679AAF2', 'Lead', '187'), ('E86C6679AAF2', 'Lead', '188'), ('E86C6679AAF2', 'Lead', '189'), ('E86C6679AAF2', 'Lead', '190'), ('E86C6679AAF2', 'Lead', '191'), ('E86C6679AAF2', 'Lead', '192'), ('E86C6679AAF2', 'Lead', '193'), ('E86C6679AAF2', 'Lead', '194'), ('E86C6679AAF2', 'Lead', '195'), ('E86C6679AAF2', 'Lead', '196'), ('E86C6679AAF2', 'Lead', '197'), ('E86C6679AAF2', 'Lead', '197'), ('E86C6679AAF2', 'Lead', '198'), ('E86C6679AAF2', 'Lead', '199'), ('E86C6679AAF2', 'Lead', '200'), ('E86C6679AAF2', 'Lead', '201'), ('E86C6679AAF2', 'Lead', '202'), ('E86C6679AAF2', 'Lead', '203'), ('E86C6679AAF2', 'Lead', '204'), ('E86C6679AAF2', 'Lead', '205'), ('E86C6679AAF2', 'Lead', '206'), ('E86C6679AAF2', 'Lead', '207'), ('E86C6679AAF2', 'Lead', '208'), ('E86C6679AAF2', 'Lead', '209'), ('E86C6679AAF2', 'Lead', '210'), ('E86C6679AAF2', 'Lead', '211'), ('E86C6679AAF2', 'Lead', '212'), ('E86C6679AAF2', 'Lead', '213'), ('E86C6679AAF2', 'Lead', '214'), ('E86C6679AAF2', 'Lead', '214'), ('E86C6679AAF2', 'Lead', '214'), ('E86C6679AAF2', 'Lead', '214'), ('E86C6679AAF2', 'Lead', '214'), ('E86C6679AAF2', 'Lead', '214'), ('C2135455106D', 'Lead', '0'), ('C2135455106D', 'Lead', '1'), ('C2135455106D', 'Lead', '2'), ('C2135455106D', 'Lead', '2'), ('C2135455106D', 'Lead', '2'), ('C2135455106D', 'Lead', '2'), ('C2135455106D', 'Lead', '3'), ('C2135455106D', 'Lead', '4'), ('C2135455106D', 'Lead', '5'), ('C2135455106D', 'Lead', '6'), ('C2135455106D', 'Lead', '7'), ('C2135455106D', 'Lead', '8'), ('C2135455106D', 'Lead', '9'), ('C2135455106D', 'Lead', '10'), ('C2135455106D', 'Lead', '11'), ('C2135455106D', 'Lead', '12'), ('C2135455106D', 'Lead', '13'), ('C2135455106D', 'Lead', '14'), ('C2135455106D', 'Lead', '15'), ('C2135455106D', 'Lead', '16'), ('C2135455106D', 'Lead', '17'), ('C2135455106D', 'Lead', '18'), ('C2135455106D', 'Lead', '18'), ('C2135455106D', 'Lead', '19'), ('C2135455106D', 'Lead', '20'), ('C2135455106D', 'Lead', '21'), ('C2135455106D', 'Lead', '22'), ('C2135455106D', 'Lead', '23'), ('C2135455106D', 'Lead', '24'), ('C2135455106D', 'Lead', '25'), ('C2135455106D', 'Lead', '26'), ('C2135455106D', 'Lead', '27'), ('C2135455106D', 'Lead', '28'), ('C2135455106D', 'Lead', '29'), ('C2135455106D', 'Lead', '30'), ('C2135455106D', 'Lead', '31'), ('C2135455106D', 'Lead', '32'), ('C2135455106D', 'Lead', '33'), ('C2135455106D', 'Lead', '34'), ('C2135455106D', 'Lead', '34'), ('C2135455106D', 'Lead', '34'), ('C2135455106D', 'Lead', '35'), ('C2135455106D', 'Lead', '36'), ('C2135455106D', 'Lead', '37'), ('C2135455106D', 'Lead', '38'), ('C2135455106D', 'Lead', '39'), ('C2135455106D', 'Lead', '40'), ('C2135455106D', 'Lead', '41'), ('C2135455106D', 'Lead', '42'), ('C2135455106D', 'Lead', '43'), ('C2135455106D', 'Lead', '44'), ('C2135455106D', 'Lead', '45'), ('C2135455106D', 'Lead', '46'), ('C2135455106D', 'Lead', '47'), ('C2135455106D', 'Lead', '48'), ('C2135455106D', 'Lead', '49'), ('C2135455106D', 'Lead', '50'), ('C2135455106D', 'Lead', '51'), ('C2135455106D', 'Lead', '52'), ('C2135455106D', 'Lead', '53'), ('C2135455106D', 'Lead', '54'), ('C2135455106D', 'Lead', '54'), ('C2135455106D', 'Lead', '55'), ('C2135455106D', 'Lead', '56'), ('C2135455106D', 'Lead', '57'), ('C2135455106D', 'Lead', '58'), ('C2135455106D', 'Lead', '59'), ('C2135455106D', 'Lead', '60'), ('C2135455106D', 'Lead', '61'), ('C2135455106D', 'Lead', '62'), ('C2135455106D', 'Lead', '63'), ('C2135455106D', 'Lead', '64'), ('C2135455106D', 'Lead', '65'), ('C2135455106D', 'Lead', '66'), ('C2135455106D', 'Lead', '67'), ('C2135455106D', 'Lead', '68'), ('C2135455106D', 'Lead', '69'), ('C2135455106D', 'Lead', '70'), ('C2135455106D', 'Lead', '71'), ('C2135455106D', 'Lead', '71'), ('C2135455106D', 'Lead', '71'), ('C2135455106D', 'Lead', '72'), ('C2135455106D', 'Lead', '73'), ('C2135455106D', 'Lead', '74'), ('C2135455106D', 'Lead', '75'), ('C2135455106D', 'Lead', '76'), ('C2135455106D', 'Lead', '77'), ('C2135455106D', 'Lead', '78'), ('C2135455106D', 'Lead', '78'), ('C2135455106D', 'Lead', '79'), ('C2135455106D', 'Lead', '79'), ('C2135455106D', 'Lead', '80'), ('C2135455106D', 'Lead', '80'), ('C2135455106D', 'Lead', '80'), ('C2135455106D', 'Lead', '81'), ('C2135455106D', 'Lead', '82'), ('C2135455106D', 'Lead', '83'), ('C2135455106D', 'Lead', '84'), ('C2135455106D', 'Lead', '85'), ('C2135455106D', 'Lead', '86'), ('C2135455106D', 'Lead', '86'), ('C2135455106D', 'Lead', '87'), ('C2135455106D', 'Lead', '88'), ('C2135455106D', 'Lead', '89'), ('C2135455106D', 'Lead', '90'), ('C2135455106D', 'Lead', '91'), ('C2135455106D', 'Lead', '92'), ('C2135455106D', 'Lead', '93'), ('C2135455106D', 'Lead', '94'), ('C2135455106D', 'Lead', '95'), ('C2135455106D', 'Lead', '96'), ('C2135455106D', 'Lead', '97'), ('C2135455106D', 'Lead', '98'), ('C2135455106D', 'Lead', '99'), ('C2135455106D', 'Lead', '100'), ('C2135455106D', 'Lead', '101'), ('C2135455106D', 'Lead', '102'), ('C2135455106D', 'Lead', '103'), ('C2135455106D', 'Lead', '104'), ('C2135455106D', 'Lead', '105'), ('C2135455106D', 'Lead', '106'), ('C2135455106D', 'Lead', '107'), ('C2135455106D', 'Lead', '107'), ('C2135455106D', 'Lead', '108'), ('C2135455106D', 'Lead', '109'), ('C2135455106D', 'Lead', '110'), ('C2135455106D', 'Lead', '111'), ('C2135455106D', 'Lead', '112'), ('C2135455106D', 'Lead', '113'), ('C2135455106D', 'Lead', '114'), ('C2135455106D', 'Lead', '115'), ('C2135455106D', 'Lead', '115'), ('C2135455106D', 'Lead', '116'), ('C2135455106D', 'Lead', '117'), ('C2135455106D', 'Lead', '118'), ('C2135455106D', 'Lead', '119'), ('C2135455106D', 'Lead', '120'), ('C2135455106D', 'Lead', '121'), ('C2135455106D', 'Lead', '122'), ('C2135455106D', 'Lead', '122'), ('C2135455106D', 'Lead', '122'), ('C2135455106D', 'Lead', '122'), ('C2135455106D', 'Lead', '122'), ('C2135455106D', 'Lead', '123'), ('C2135455106D', 'Lead', '124'), ('C2135455106D', 'Lead', '125'), ('C2135455106D', 'Lead', '126'), ('C2135455106D', 'Lead', '127'), ('C2135455106D', 'Lead', '128'), ('C2135455106D', 'Lead', '129'), ('C2135455106D', 'Lead', '129'), ('C2135455106D', 'Lead', '129'), ('C2135455106D', 'Lead', '130'), ('C2135455106D', 'Lead', '131'), ('C2135455106D', 'Lead', '132'), ('C2135455106D', 'Lead', '133'), ('C2135455106D', 'Lead', '134'), ('C2135455106D', 'Lead', '135'), ('C2135455106D', 'Lead', '135'), ('C2135455106D', 'Lead', '136'), ('C2135455106D', 'Lead', '136'), ('C2135455106D', 'Lead', '137'), ('C2135455106D', 'Lead', '138'), ('C2135455106D', 'Lead', '139'), ('C2135455106D', 'Lead', '140'), ('C2135455106D', 'Lead', '141'), ('C2135455106D', 'Lead', '141'), ('C2135455106D', 'Lead', '142'), ('C2135455106D', 'Lead', '143'), ('C2135455106D', 'Lead', '144'), ('C2135455106D', 'Lead', '144'), ('C2135455106D', 'Lead', '145'), ('C2135455106D', 'Lead', '146'), ('C2135455106D', 'Lead', '147'), ('C2135455106D', 'Lead', '148'), ('C2135455106D', 'Lead', '149'), ('C2135455106D', 'Lead', '150'), ('C2135455106D', 'Lead', '151'), ('C2135455106D', 'Lead', '152'), ('C2135455106D', 'Lead', '152'), ('C2135455106D', 'Lead', '153'), ('C2135455106D', 'Lead', '154'), ('C2135455106D', 'Lead', '155'), ('C2135455106D', 'Lead', '156'), ('C2135455106D', 'Lead', '157'), ('C2135455106D', 'Lead', '158'), ('C2135455106D', 'Lead', '158'), ('C2135455106D', 'Lead', '159'), ('C2135455106D', 'Lead', '160'), ('C2135455106D', 'Lead', '161'), ('C2135455106D', 'Lead', '162'), ('C2135455106D', 'Lead', '163'), ('C2135455106D', 'Lead', '164'), ('C2135455106D', 'Lead', '165'), ('C2135455106D', 'Lead', '166'), ('C2135455106D', 'Lead', '167'), ('C2135455106D', 'Lead', '168'), ('C2135455106D', 'Lead', '169'), ('C2135455106D', 'Lead', '170'), ('C2135455106D', 'Lead', '171'), ('C2135455106D', 'Lead', '172'), ('C2135455106D', 'Lead', '172'), ('C2135455106D', 'Lead', '173'), ('C2135455106D', 'Lead', '174'), ('C2135455106D', 'Lead', '175'), ('C2135455106D', 'Lead', '176'), ('C2135455106D', 'Lead', '176'), ('C2135455106D', 'Lead', '177'), ('C2135455106D', 'Lead', '178'), ('C2135455106D', 'Lead', '179'), ('C2135455106D', 'Lead', '180'), ('C2135455106D', 'Lead', '180'), ('C2135455106D', 'Lead', '181'), ('C2135455106D', 'Lead', '182'), ('C2135455106D', 'Lead', '183'), ('C2135455106D', 'Lead', '184'), ('C2135455106D', 'Lead', '185'), ('C2135455106D', 'Lead', '186'), ('C2135455106D', 'Lead', '187'), ('C2135455106D', 'Lead', '187'), ('C2135455106D', 'Lead', '188'), ('C2135455106D', 'Lead', '188'), ('C2135455106D', 'Lead', '189'), ('C2135455106D', 'Lead', '190'), ('C2135455106D', 'Lead', '191'), ('C2135455106D', 'Lead', '192'), ('C2135455106D', 'Lead', '193'), ('C2135455106D', 'Lead', '194'), ('C2135455106D', 'Lead', '195'), ('C2135455106D', 'Lead', '196'), ('C2135455106D', 'Lead', '197'), ('C2135455106D', 'Lead', '198'), ('C2135455106D', 'Lead', '199'), ('C2135455106D', 'Lead', '200'), ('C2135455106D', 'Lead', '200'), ('C2135455106D', 'Lead', '200'), ('C2135455106D', 'Lead', '200'), ('C2135455106D', 'Lead', '200'), ('C2135455106D', 'Lead', '201'), ('C2135455106D', 'Lead', '202'), ('C2135455106D', 'Lead', '203'), ('C2135455106D', 'Lead', '204'), ('C2135455106D', 'Lead', '205'), ('C2135455106D', 'Lead', '206'), ('C2135455106D', 'Lead', '207'), ('C2135455106D', 'Lead', '208'), ('C2135455106D', 'Lead', '209'), ('C2135455106D', 'Lead', '210'), ('C2135455106D', 'Lead', '211'), ('C2135455106D', 'Lead', '212'), ('C2135455106D', 'Lead', '213'), ('C2135455106D', 'Lead', '214'), ('C2135455106D', 'Lead', '215'), ('C2135455106D', 'Lead', '216'), ('C2135455106D', 'Lead', '217'), ('C2135455106D', 'Lead', '218'), ('C2135455106D', 'Lead', '219'), ('C2135455106D', 'Lead', '220'), ('C2135455106D', 'Lead', '221'), ('C2135455106D', 'Lead', '222'), ('C2135455106D', 'Lead', '223'), ('C2135455106D', 'Lead', '224'), ('C2135455106D', 'Lead', '225'), ('C2135455106D', 'Lead', '226'), ('C2135455106D', 'Lead', '227'), ('C2135455106D', 'Lead', '227'), ('C2135455106D', 'Lead', '227'), ('C2135455106D', 'Lead', '227'), ('C2135455106D', 'Lead', '227'), ('C2135455106D', 'Lead', '227'), ('C2135455106D', 'Lead', '228'), ('C2135455106D', 'Lead', '229'), ('C2135455106D', 'Lead', '229'), ('C2135455106D', 'Lead', '230'), ('C2135455106D', 'Lead', '231'), ('C2135455106D', 'Lead', '232'), ('C2135455106D', 'Lead', '233'), ('C2135455106D', 'Lead', '234'), ('C2135455106D', 'Lead', '235'), ('C2135455106D', 'Lead', '236'), ('C2135455106D', 'Lead', '237'), ('C2135455106D', 'Lead', '238'), ('C2135455106D', 'Lead', '239'), ('C2135455106D', 'Lead', '240'), ('C2135455106D', 'Lead', '241'), ('C2135455106D', 'Lead', '242'), ('C2135455106D', 'Lead', '243'), ('C2135455106D', 'Lead', '243'), ('C2135455106D', 'Lead', '243'), ('C2135455106D', 'Lead', '243'), ('C2135455106D', 'Lead', '243'), ('C2135455106D', 'Lead', '243'), ('C2135455106D', 'Lead', '243'), ('C2135455106D', 'Lead', '243'), ('C2135455106D', 'Lead', '243'), ('C2135455106D', 'Lead', '243'), ('C2135455106D', 'Lead', '243'), ('C2135455106D', 'Lead', '243'), ('C2135455106D', 'Lead', '243'), ('C2135455106D', 'Lead', '243'), ('C2135455106D', 'Lead', '243'), ('C2135455106D', 'Lead', '243'), ('C2135455106D', 'Lead', '243'), ('CED57435BA0B', 'Lead', '0'), ('CED57435BA0B', 'Lead', '0'), ('CED57435BA0B', 'Lead', '1'), ('CED57435BA0B', 'Lead', '2'), ('CED57435BA0B', 'Lead', '3'), ('CED57435BA0B', 'Lead', '4'), ('CED57435BA0B', 'Lead', '4'), ('CED57435BA0B', 'Lead', '4'), ('CED57435BA0B', 'Lead', '4'), ('CED57435BA0B', 'Lead', '5'), ('CED57435BA0B', 'Lead', '6'), ('CED57435BA0B', 'Lead', '7'), ('CED57435BA0B', 'Lead', '7'), ('CED57435BA0B', 'Lead', '8'), ('CED57435BA0B', 'Lead', '9'), ('CED57435BA0B', 'Lead', '10'), ('CED57435BA0B', 'Lead', '11'), ('CED57435BA0B', 'Lead', '12'), ('CED57435BA0B', 'Lead', '13'), ('CED57435BA0B', 'Lead', '14'), ('CED57435BA0B', 'Lead', '15'), ('CED57435BA0B', 'Lead', '15'), ('CED57435BA0B', 'Lead', '16'), ('CED57435BA0B', 'Lead', '17'), ('CED57435BA0B', 'Lead', '18'), ('CED57435BA0B', 'Lead', '19'), ('CED57435BA0B', 'Lead', '20'), ('CED57435BA0B', 'Lead', '21'), ('CED57435BA0B', 'Lead', '22'), ('CED57435BA0B', 'Lead', '23'), ('CED57435BA0B', 'Lead', '24'), ('CED57435BA0B', 'Lead', '25'), ('CED57435BA0B', 'Lead', '26'), ('CED57435BA0B', 'Lead', '27'), ('CED57435BA0B', 'Lead', '28'), ('CED57435BA0B', 'Lead', '29'), ('CED57435BA0B', 'Lead', '30'), ('CED57435BA0B', 'Lead', '31'), ('CED57435BA0B', 'Lead', '32'), ('CED57435BA0B', 'Lead', '33'), ('CED57435BA0B', 'Lead', '33'), ('CED57435BA0B', 'Lead', '33'), ('CED57435BA0B', 'Lead', '34'), ('CED57435BA0B', 'Lead', '35'), ('CED57435BA0B', 'Lead', '35'), ('CED57435BA0B', 'Lead', '36'), ('CED57435BA0B', 'Lead', '37'), ('CED57435BA0B', 'Lead', '38'), ('CED57435BA0B', 'Lead', '39'), ('CED57435BA0B', 'Lead', '40'), ('CED57435BA0B', 'Lead', '41'), ('CED57435BA0B', 'Lead', '42'), ('CED57435BA0B', 'Lead', '43'), ('CED57435BA0B', 'Lead', '44'), ('CED57435BA0B', 'Lead', '45'), ('CED57435BA0B', 'Lead', '45'), ('CED57435BA0B', 'Lead', '46'), ('CED57435BA0B', 'Lead', '47'), ('CED57435BA0B', 'Lead', '48'), ('CED57435BA0B', 'Lead', '49'), ('CED57435BA0B', 'Lead', '50'), ('CED57435BA0B', 'Lead', '51'), ('CED57435BA0B', 'Lead', '52'), ('CED57435BA0B', 'Lead', '53'), ('CED57435BA0B', 'Lead', '54'), ('CED57435BA0B', 'Lead', '55'), ('CED57435BA0B', 'Lead', '56'), ('CED57435BA0B', 'Lead', '57'), ('CED57435BA0B', 'Lead', '58'), ('CED57435BA0B', 'Lead', '59'), ('CED57435BA0B', 'Lead', '60'), ('CED57435BA0B', 'Lead', '61'), ('CED57435BA0B', 'Lead', '62'), ('CED57435BA0B', 'Lead', '63'), ('CED57435BA0B', 'Lead', '64'), ('CED57435BA0B', 'Lead', '64'), ('CED57435BA0B', 'Lead', '65'), ('CED57435BA0B', 'Lead', '66'), ('CED57435BA0B', 'Lead', '67'), ('CED57435BA0B', 'Lead', '68'), ('CED57435BA0B', 'Lead', '69'), ('CED57435BA0B', 'Lead', '69'), ('CED57435BA0B', 'Lead', '70'), ('CED57435BA0B', 'Lead', '71'), ('CED57435BA0B', 'Lead', '72'), ('CED57435BA0B', 'Lead', '73'), ('CED57435BA0B', 'Lead', '74'), ('CED57435BA0B', 'Lead', '75'), ('CED57435BA0B', 'Lead', '76'), ('CED57435BA0B', 'Lead', '77'), ('CED57435BA0B', 'Lead', '77'), ('CED57435BA0B', 'Lead', '78'), ('CED57435BA0B', 'Lead', '79'), ('CED57435BA0B', 'Lead', '80'), ('CED57435BA0B', 'Lead', '80'), ('CED57435BA0B', 'Lead', '81'), ('CED57435BA0B', 'Lead', '82'), ('CED57435BA0B', 'Lead', '83'), ('CED57435BA0B', 'Lead', '84'), ('CED57435BA0B', 'Lead', '85'), ('CED57435BA0B', 'Lead', '86'), ('CED57435BA0B', 'Lead', '87'), ('CED57435BA0B', 'Lead', '88'), ('CED57435BA0B', 'Lead', '89'), ('CED57435BA0B', 'Lead', '90'), ('CED57435BA0B', 'Lead', '91'), ('CED57435BA0B', 'Lead', '92'), ('CED57435BA0B', 'Lead', '93'), ('CED57435BA0B', 'Lead', '93'), ('CED57435BA0B', 'Lead', '94'), ('CED57435BA0B', 'Lead', '95'), ('CED57435BA0B', 'Lead', '96'), ('CED57435BA0B', 'Lead', '97'), ('CED57435BA0B', 'Lead', '98'), ('CED57435BA0B', 'Lead', '99'), ('CED57435BA0B', 'Lead', '100'), ('CED57435BA0B', 'Lead', '101'), ('CED57435BA0B', 'Lead', '102'), ('CED57435BA0B', 'Lead', '103'), ('CED57435BA0B', 'Lead', '103'), ('CED57435BA0B', 'Lead', '104'), ('CED57435BA0B', 'Lead', '104'), ('CED57435BA0B', 'Lead', '105'), ('CED57435BA0B', 'Lead', '106'), ('CED57435BA0B', 'Lead', '107'), ('CED57435BA0B', 'Lead', '108'), ('CED57435BA0B', 'Lead', '109'), ('CED57435BA0B', 'Lead', '110'), ('CED57435BA0B', 'Lead', '111'), ('CED57435BA0B', 'Lead', '112'), ('CED57435BA0B', 'Lead', '112'), ('CED57435BA0B', 'Lead', '112'), ('CED57435BA0B', 'Lead', '112'), ('CED57435BA0B', 'Lead', '112'), ('CED57435BA0B', 'Lead', '112'), ('CED57435BA0B', 'Lead', '113'), ('CED57435BA0B', 'Lead', '114'), ('CED57435BA0B', 'Lead', '115'), ('CED57435BA0B', 'Lead', '116'), ('CED57435BA0B', 'Lead', '116'), ('CED57435BA0B', 'Lead', '117'), ('CED57435BA0B', 'Lead', '118'), ('CED57435BA0B', 'Lead', '119'), ('CED57435BA0B', 'Lead', '120'), ('CED57435BA0B', 'Lead', '121'), ('CED57435BA0B', 'Lead', '122'), ('CED57435BA0B', 'Lead', '123'), ('CED57435BA0B', 'Lead', '124'), ('CED57435BA0B', 'Lead', '125'), ('CED57435BA0B', 'Lead', '126'), ('CED57435BA0B', 'Lead', '127'), ('CED57435BA0B', 'Lead', '127'), ('CED57435BA0B', 'Lead', '128'), ('CED57435BA0B', 'Lead', '129'), ('CED57435BA0B', 'Lead', '130'), ('CED57435BA0B', 'Lead', '131'), ('CED57435BA0B', 'Lead', '132'), ('CED57435BA0B', 'Lead', '133'), ('CED57435BA0B', 'Lead', '133'), ('CED57435BA0B', 'Lead', '133'), ('CED57435BA0B', 'Lead', '134'), ('CED57435BA0B', 'Lead', '135'), ('CED57435BA0B', 'Lead', '136'), ('CED57435BA0B', 'Lead', '136'), ('CED57435BA0B', 'Lead', '137'), ('CED57435BA0B', 'Lead', '138'), ('CED57435BA0B', 'Lead', '139'), ('CED57435BA0B', 'Lead', '140'), ('CED57435BA0B', 'Lead', '141'), ('CED57435BA0B', 'Lead', '142'), ('CED57435BA0B', 'Lead', '143'), ('CED57435BA0B', 'Lead', '144'), ('CED57435BA0B', 'Lead', '144'), ('CED57435BA0B', 'Lead', '145'), ('CED57435BA0B', 'Lead', '146'), ('CED57435BA0B', 'Lead', '147'), ('CED57435BA0B', 'Lead', '148'), ('CED57435BA0B', 'Lead', '148'), ('CED57435BA0B', 'Lead', '149'), ('CED57435BA0B', 'Lead', '149'), ('CED57435BA0B', 'Lead', '150'), ('CED57435BA0B', 'Lead', '151'), ('CED57435BA0B', 'Lead', '152'), ('CED57435BA0B', 'Lead', '153'), ('CED57435BA0B', 'Lead', '154'), ('CED57435BA0B', 'Lead', '155'), ('CED57435BA0B', 'Lead', '156'), ('CED57435BA0B', 'Lead', '157'), ('CED57435BA0B', 'Lead', '158'), ('CED57435BA0B', 'Lead', '158'), ('CED57435BA0B', 'Lead', '159'), ('CED57435BA0B', 'Lead', '160'), ('CED57435BA0B', 'Lead', '161'), ('CED57435BA0B', 'Lead', '162'), ('CED57435BA0B', 'Lead', '163'), ('CED57435BA0B', 'Lead', '163'), ('CED57435BA0B', 'Lead', '164'), ('CED57435BA0B', 'Lead', '165'), ('CED57435BA0B', 'Lead', '166'), ('CED57435BA0B', 'Lead', '167'), ('CED57435BA0B', 'Lead', '168'), ('CED57435BA0B', 'Lead', '169'), ('CED57435BA0B', 'Lead', '169'), ('CED57435BA0B', 'Lead', '169'), ('CED57435BA0B', 'Lead', '170'), ('CED57435BA0B', 'Lead', '171'), ('CED57435BA0B', 'Lead', '172'), ('CED57435BA0B', 'Lead', '173'), ('CED57435BA0B', 'Lead', '173'), ('CED57435BA0B', 'Lead', '174'), ('CED57435BA0B', 'Lead', '174'), ('CED57435BA0B', 'Lead', '175'), ('CED57435BA0B', 'Lead', '176'), ('CED57435BA0B', 'Lead', '177'), ('CED57435BA0B', 'Lead', '178'), ('CED57435BA0B', 'Lead', '179'), ('CED57435BA0B', 'Lead', '180'), ('CED57435BA0B', 'Lead', '181'), ('CED57435BA0B', 'Lead', '182'), ('CED57435BA0B', 'Lead', '183'), ('CED57435BA0B', 'Lead', '184'), ('CED57435BA0B', 'Lead', '185'), ('CED57435BA0B', 'Lead', '186'), ('CED57435BA0B', 'Lead', '187'), ('CED57435BA0B', 'Lead', '188'), ('CED57435BA0B', 'Lead', '189'), ('CED57435BA0B', 'Lead', '190'), ('CED57435BA0B', 'Lead', '191'), ('CED57435BA0B', 'Lead', '192'), ('CED57435BA0B', 'Lead', '192'), ('CED57435BA0B', 'Lead', '193'), ('CED57435BA0B', 'Lead', '194'), ('CED57435BA0B', 'Lead', '195'), ('CED57435BA0B', 'Lead', '196'), ('CED57435BA0B', 'Lead', '197'), ('CED57435BA0B', 'Lead', '198'), ('CED57435BA0B', 'Lead', '199'), ('CED57435BA0B', 'Lead', '200'), ('CED57435BA0B', 'Lead', '201'), ('CED57435BA0B', 'Lead', '202'), ('CED57435BA0B', 'Lead', '202'), ('CED57435BA0B', 'Lead', '203'), ('CED57435BA0B', 'Lead', '204'), ('CED57435BA0B', 'Lead', '205'), ('CED57435BA0B', 'Lead', '206'), ('CED57435BA0B', 'Lead', '207'), ('CED57435BA0B', 'Lead', '208'), ('CED57435BA0B', 'Lead', '209'), ('CED57435BA0B', 'Lead', '210'), ('CED57435BA0B', 'Lead', '211'), ('CED57435BA0B', 'Lead', '212'), ('CED57435BA0B', 'Lead', '213'), ('CED57435BA0B', 'Lead', '214'), ('CED57435BA0B', 'Lead', '215'), ('CED57435BA0B', 'Lead', '215'), ('CED57435BA0B', 'Lead', '215'), ('CED57435BA0B', 'Lead', '216'), ('CED57435BA0B', 'Lead', '217'), ('CED57435BA0B', 'Lead', '218'), ('CED57435BA0B', 'Lead', '219'), ('CED57435BA0B', 'Lead', '220'), ('CED57435BA0B', 'Lead', '221'), ('CED57435BA0B', 'Lead', '222'), ('CED57435BA0B', 'Lead', '222'), ('CED57435BA0B', 'Lead', '222'), ('CED57435BA0B', 'Lead', '223'), ('CED57435BA0B', 'Lead', '224'), ('CED57435BA0B', 'Lead', '225'), ('CED57435BA0B', 'Lead', '226'), ('CED57435BA0B', 'Lead', '227'), ('CED57435BA0B', 'Lead', '228'), ('CED57435BA0B', 'Lead', '229'), ('CED57435BA0B', 'Lead', '230'), ('CED57435BA0B', 'Lead', '231'), ('CED57435BA0B', 'Lead', '232'), ('CED57435BA0B', 'Lead', '233'), ('CED57435BA0B', 'Lead', '233'), ('CED57435BA0B', 'Lead', '234'), ('CED57435BA0B', 'Lead', '235'), ('CED57435BA0B', 'Lead', '236'), ('CED57435BA0B', 'Lead', '237'), ('CED57435BA0B', 'Lead', '238'), ('CED57435BA0B', 'Lead', '239'), ('CED57435BA0B', 'Lead', '240'), ('CED57435BA0B', 'Lead', '241'), ('CED57435BA0B', 'Lead', '242'), ('CED57435BA0B', 'Lead', '243'), ('CED57435BA0B', 'Lead', '244'), ('CED57435BA0B', 'Lead', '245'), ('CED57435BA0B', 'Lead', '246'), ('CED57435BA0B', 'Lead', '247'), ('CED57435BA0B', 'Lead', '248'), ('CED57435BA0B', 'Lead', '249'), ('CED57435BA0B', 'Lead', '250'), ('CED57435BA0B', 'Lead', '250'), ('CED57435BA0B', 'Lead', '250'), ('CED57435BA0B', 'Lead', '250'), ('CED57435BA0B', 'Lead', '250'), ('CED57435BA0B', 'Lead', '250'), ('CED57435BA0B', 'Lead', '251'), ('CED57435BA0B', 'Lead', '252'), ('CED57435BA0B', 'Lead', '252'), ('CED57435BA0B', 'Lead', '253'), ('CED57435BA0B', 'Lead', '254'), ('CED57435BA0B', 'Lead', '255'), ('CED57435BA0B', 'Lead', '256'), ('CED57435BA0B', 'Lead', '257'), ('CED57435BA0B', 'Lead', '258'), ('CED57435BA0B', 'Lead', '259'), ('CED57435BA0B', 'Lead', '260'), ('CED57435BA0B', 'Lead', '261'), ('CED57435BA0B', 'Lead', '261'), ('CED57435BA0B', 'Lead', '262'), ('CED57435BA0B', 'Lead', '263'), ('CED57435BA0B', 'Lead', '264'), ('CED57435BA0B', 'Lead', '265'), ('CED57435BA0B', 'Lead', '265'), ('CED57435BA0B', 'Lead', '266'), ('CED57435BA0B', 'Lead', '267'), ('CED57435BA0B', 'Lead', '268'), ('CED57435BA0B', 'Lead', '269'), ('CED57435BA0B', 'Lead', '270'), ('CED57435BA0B', 'Lead', '271'), ('CED57435BA0B', 'Lead', '272'), ('CED57435BA0B', 'Lead', '273'), ('CED57435BA0B', 'Lead', '274'), ('CED57435BA0B', 'Lead', '275'), ('CED57435BA0B', 'Lead', '276'), ('CED57435BA0B', 'Lead', '277'), ('CED57435BA0B', 'Lead', '278'), ('CED57435BA0B', 'Lead', '279'), ('CED57435BA0B', 'Lead', '280'), ('CED57435BA0B', 'Lead', '281'), ('CED57435BA0B', 'Lead', '282'), ('CED57435BA0B', 'Lead', '283'), ('CED57435BA0B', 'Lead', '284'), ('CED57435BA0B', 'Lead', '285'), ('CED57435BA0B', 'Lead', '285'), ('CED57435BA0B', 'Lead', '286'), ('CED57435BA0B', 'Lead', '287'), ('CED57435BA0B', 'Lead', '287'), ('CED57435BA0B', 'Lead', '288'), ('CED57435BA0B', 'Lead', '289'), ('CED57435BA0B', 'Lead', '290'), ('CED57435BA0B', 'Lead', '291'), ('CED57435BA0B', 'Lead', '292'), ('CED57435BA0B', 'Lead', '293'), ('CED57435BA0B', 'Lead', '294'), ('CED57435BA0B', 'Lead', '295'), ('CED57435BA0B', 'Lead', '295'), ('CED57435BA0B', 'Lead', '296'), ('CED57435BA0B', 'Lead', '297'), ('CED57435BA0B', 'Lead', '298'), ('CED57435BA0B', 'Lead', '299'), ('CED57435BA0B', 'Lead', '300'), ('CED57435BA0B', 'Lead', '301'), ('CED57435BA0B', 'Lead', '302'), ('CED57435BA0B', 'Lead', '303'), ('CED57435BA0B', 'Lead', '304'), ('CED57435BA0B', 'Lead', '305'), ('CED57435BA0B', 'Lead', '306'), ('CED57435BA0B', 'Lead', '307'), ('CED57435BA0B', 'Lead', '308'), ('CED57435BA0B', 'Lead', '309'), ('CED57435BA0B', 'Lead', '309'), ('CED57435BA0B', 'Lead', '309'), ('CED57435BA0B', 'Lead', '310'), ('CED57435BA0B', 'Lead', '311'), ('CED57435BA0B', 'Lead', '311'), ('CED57435BA0B', 'Lead', '312'), ('CED57435BA0B', 'Lead', '312'), ('CED57435BA0B', 'Lead', '313'), ('CED57435BA0B', 'Lead', '314'), ('CED57435BA0B', 'Lead', '315'), ('CED57435BA0B', 'Lead', '315'), ('CED57435BA0B', 'Lead', '316'), ('CED57435BA0B', 'Lead', '317'), ('CED57435BA0B', 'Lead', '318'), ('CED57435BA0B', 'Lead', '318'), ('CED57435BA0B', 'Lead', '319'), ('CED57435BA0B', 'Lead', '320'), ('CED57435BA0B', 'Lead', '321'), ('CED57435BA0B', 'Lead', '322'), ('CED57435BA0B', 'Lead', '323'), ('CED57435BA0B', 'Lead', '324'), ('CED57435BA0B', 'Lead', '325'), ('CED57435BA0B', 'Lead', '326'), ('CED57435BA0B', 'Lead', '327'), ('CED57435BA0B', 'Lead', '328'), ('CED57435BA0B', 'Lead', '329'), ('CED57435BA0B', 'Lead', '330'), ('CED57435BA0B', 'Lead', '331'), ('CED57435BA0B', 'Lead', '331'), ('CED57435BA0B', 'Lead', '332'), ('CED57435BA0B', 'Lead', '333'), ('CED57435BA0B', 'Lead', '334'), ('CED57435BA0B', 'Lead', '335'), ('CED57435BA0B', 'Lead', '336'), ('CED57435BA0B', 'Lead', '337'), ('CED57435BA0B', 'Lead', '338'), ('CED57435BA0B', 'Lead', '339'), ('CED57435BA0B', 'Lead', '340'), ('CED57435BA0B', 'Lead', '341'), ('CED57435BA0B', 'Lead', '342'), ('CED57435BA0B', 'Lead', '343'), ('CED57435BA0B', 'Lead', '344'), ('CED57435BA0B', 'Lead', '345'), ('CED57435BA0B', 'Lead', '346'), ('CED57435BA0B', 'Lead', '347'), ('CED57435BA0B', 'Lead', '348'), ('CED57435BA0B', 'Lead', '349'), ('CED57435BA0B', 'Lead', '350'), ('CED57435BA0B', 'Lead', '350'), ('CED57435BA0B', 'Lead', '350'), ('CED57435BA0B', 'Lead', '350'), ('CED57435BA0B', 'Lead', '350'), ('CED57435BA0B', 'Lead', '351'), ('CED57435BA0B', 'Lead', '351'), ('CED57435BA0B', 'Lead', '352'), ('CED57435BA0B', 'Lead', '353'), ('CED57435BA0B', 'Lead', '354'), ('CED57435BA0B', 'Lead', '355'), ('CED57435BA0B', 'Lead', '356'), ('CED57435BA0B', 'Lead', '357'), ('CED57435BA0B', 'Lead', '358'), ('CED57435BA0B', 'Lead', '359'), ('CED57435BA0B', 'Lead', '360'), ('CED57435BA0B', 'Lead', '361'), ('CED57435BA0B', 'Lead', '362'), ('CED57435BA0B', 'Lead', '363'), ('CED57435BA0B', 'Lead', '364'), ('CED57435BA0B', 'Lead', '365'), ('CED57435BA0B', 'Lead', '366'), ('CED57435BA0B', 'Lead', '367'), ('CED57435BA0B', 'Lead', '368'), ('CED57435BA0B', 'Lead', '369'), ('CED57435BA0B', 'Lead', '370'), ('CED57435BA0B', 'Lead', '371'), ('CED57435BA0B', 'Lead', '372'), ('CED57435BA0B', 'Lead', '373'), ('CED57435BA0B', 'Lead', '373'), ('CED57435BA0B', 'Lead', '374'), ('CED57435BA0B', 'Lead', '374'), ('CED57435BA0B', 'Lead', '375'), ('CED57435BA0B', 'Lead', '376'), ('CED57435BA0B', 'Lead', '377'), ('CED57435BA0B', 'Lead', '378'), ('CED57435BA0B', 'Lead', '379'), ('CED57435BA0B', 'Lead', '380'), ('CED57435BA0B', 'Lead', '381'), ('CED57435BA0B', 'Lead', '382'), ('CED57435BA0B', 'Lead', '383'), ('CED57435BA0B', 'Lead', '384'), ('CED57435BA0B', 'Lead', '385'), ('CED57435BA0B', 'Lead', '386'), ('CED57435BA0B', 'Lead', '387'), ('CED57435BA0B', 'Lead', '387'), ('CED57435BA0B', 'Lead', '388'), ('CED57435BA0B', 'Lead', '389'), ('CED57435BA0B', 'Lead', '390'), ('CED57435BA0B', 'Lead', '391'), ('CED57435BA0B', 'Lead', '392'), ('CED57435BA0B', 'Lead', '393'), ('CED57435BA0B', 'Lead', '394'), ('CED57435BA0B', 'Lead', '395'), ('CED57435BA0B', 'Lead', '396'), ('CED57435BA0B', 'Lead', '397'), ('CED57435BA0B', 'Lead', '398'), ('CED57435BA0B', 'Lead', '399'), ('CED57435BA0B', 'Lead', '400'), ('CED57435BA0B', 'Lead', '401'), ('CED57435BA0B', 'Lead', '401'), ('CED57435BA0B', 'Lead', '402'), ('CED57435BA0B', 'Lead', '403'), ('CED57435BA0B', 'Lead', '404'), ('CED57435BA0B', 'Lead', '405'), ('CED57435BA0B', 'Lead', '406'), ('CED57435BA0B', 'Lead', '407'), ('CED57435BA0B', 'Lead', '408'), ('CED57435BA0B', 'Lead', '409'), ('CED57435BA0B', 'Lead', '410'), ('CED57435BA0B', 'Lead', '411'), ('CED57435BA0B', 'Lead', '412'), ('CED57435BA0B', 'Lead', '413'), ('CED57435BA0B', 'Lead', '414'), ('CED57435BA0B', 'Lead', '414'), ('CED57435BA0B', 'Lead', '414'), ('CED57435BA0B', 'Lead', '414'), ('CED57435BA0B', 'Lead', '414'), ('CED57435BA0B', 'Lead', '414'), ('CED57435BA0B', 'Lead', '414'), ('CED57435BA0B', 'Lead', '414'), ('CED57435BA0B', 'Lead', '414'), ('CED57435BA0B', 'Lead', '415'), ('CED57435BA0B', 'Lead', '415'), ('CED57435BA0B', 'Lead', '415'), ('CED57435BA0B', 'Lead', '416'), ('CED57435BA0B', 'Lead', '416'), ('CED57435BA0B', 'Lead', '417'), ('CED57435BA0B', 'Lead', '417'), ('CED57435BA0B', 'Lead', '418'), ('CED57435BA0B', 'Lead', '419'), ('CED57435BA0B', 'Lead', '419'), ('CED57435BA0B', 'Lead', '420'), ('CED57435BA0B', 'Lead', '420'), ('CED57435BA0B', 'Lead', '421'), ('CED57435BA0B', 'Lead', '422'), ('CED57435BA0B', 'Lead', '423'), ('CED57435BA0B', 'Lead', '424'), ('CED57435BA0B', 'Lead', '425'), ('CED57435BA0B', 'Lead', '426'), ('CED57435BA0B', 'Lead', '427'), ('CED57435BA0B', 'Lead', '428'), ('CED57435BA0B', 'Lead', '429'), ('CED57435BA0B', 'Lead', '430'), ('CED57435BA0B', 'Lead', '431'), ('CED57435BA0B', 'Lead', '431'), ('CED57435BA0B', 'Lead', '432'), ('CED57435BA0B', 'Lead', '433'), ('CED57435BA0B', 'Lead', '433'), ('CED57435BA0B', 'Lead', '434'), ('CED57435BA0B', 'Lead', '434'), ('CED57435BA0B', 'Lead', '434'), ('CED57435BA0B', 'Lead', '435'), ('CED57435BA0B', 'Lead', '436'), ('CED57435BA0B', 'Lead', '437'), ('CED57435BA0B', 'Lead', '437'), ('CED57435BA0B', 'Lead', '438'), ('CED57435BA0B', 'Lead', '439'), ('CED57435BA0B', 'Lead', '440'), ('CED57435BA0B', 'Lead', '440'), ('CED57435BA0B', 'Lead', '441'), ('CED57435BA0B', 'Lead', '441'), ('CED57435BA0B', 'Lead', '442'), ('CED57435BA0B', 'Lead', '442'), ('CED57435BA0B', 'Lead', '442'), ('CED57435BA0B', 'Lead', '442'), ('CED57435BA0B', 'Lead', '443'), ('CED57435BA0B', 'Lead', '443'), ('CED57435BA0B', 'Lead', '443'), ('CED57435BA0B', 'Lead', '443'), ('CED57435BA0B', 'Lead', '443'), ('CED57435BA0B', 'Lead', '443'), ('CED57435BA0B', 'Lead', '443'), ('CED57435BA0B', 'Lead', '443'), ('CED57435BA0B', 'Lead', '443'), ('CED57435BA0B', 'Lead', '443'), ('CED57435BA0B', 'Lead', '443'), ('CED57435BA0B', 'Lead', '443'), ('CED57435BA0B', 'Lead', '443'), ('CED57435BA0B', 'Lead', '443'), ('CED57435BA0B', 'Lead', '443'), ('CED57435BA0B', 'Lead', '443'), ('CED57435BA0B', 'Lead', '443'), ('CED57435BA0B', 'Lead', '443'), ('CED57435BA0B', 'Lead', '443'), ('CED57435BA0B', 'Lead', '443'), ('CED57435BA0B', 'Lead', '443'), ('CED57435BA0B', 'Lead', '443'), ('CED57435BA0B', 'Lead', '443'), ('CED57435BA0B', 'Lead', '443'), ('CED57435BA0B', 'Lead', '443'), ('CED57435BA0B', 'Lead', '443'), ('CED57435BA0B', 'Lead', '443'), ('CED57435BA0B', 'Lead', '443'), ('CED57435BA0B', 'Lead', '443'), ('CED57435BA0B', 'Lead', '443'), ('CED57435BA0B', 'Lead', '443'), ('CED57435BA0B', 'Lead', '443'), ('CED57435BA0B', 'Lead', '443'), ('CED57435BA0B', 'Lead', '443'), ('CED57435BA0B', 'Lead', '443'), ('CED57435BA0B', 'Lead', '443'), ('CED57435BA0B', 'Lead', '443'), ('CED57435BA0B', 'Lead', '443'), ('CED57435BA0B', 'Lead', '443'), ('CED57435BA0B', 'Lead', '443'), ('CED57435BA0B', 'Lead', '443'), ('CED57435BA0B', 'Lead', '443'), ('CED57435BA0B', 'Lead', '443'), ('CED57435BA0B', 'Lead', '443'), ('CED57435BA0B', 'Lead', '443'), ('CED57435BA0B', 'Lead', '444'), ('CED57435BA0B', 'Lead', '444'), ('CED57435BA0B', 'Lead', '444'), ('CED57435BA0B', 'Lead', '445'), ('CED57435BA0B', 'Lead', '445'), ('CED57435BA0B', 'Lead', '446'), ('CED57435BA0B', 'Lead', '446'), ('CED57435BA0B', 'Lead', '447'), ('CED57435BA0B', 'Lead', '447'), ('CED57435BA0B', 'Lead', '447'), ('CED57435BA0B', 'Lead', '448'), ('CED57435BA0B', 'Lead', '448'), ('CED57435BA0B', 'Lead', '448'), ('CED57435BA0B', 'Lead', '448'), ('CED57435BA0B', 'Lead', '448'), ('CED57435BA0B', 'Lead', '448'), ('CED57435BA0B', 'Lead', '448'), ('CED57435BA0B', 'Lead', '448'), ('CED57435BA0B', 'Lead', '448'), ('CED57435BA0B', 'Lead', '448'), ('CED57435BA0B', 'Lead', '448'), ('CED57435BA0B', 'Lead', '448'), ('CED57435BA0B', 'Lead', '448'), ('CED57435BA0B', 'Lead', '448'), ('CED57435BA0B', 'Lead', '448'), ('CED57435BA0B', 'Lead', '448'), ('CED57435BA0B', 'Lead', '448'), ('CED57435BA0B', 'Lead', '448'), ('CED57435BA0B', 'Lead', '448'), ('CED57435BA0B', 'Lead', '448'), ('CED57435BA0B', 'Lead', '449'), ('CED57435BA0B', 'Lead', '449'), ('CED57435BA0B', 'Lead', '449'), ('CED57435BA0B', 'Lead', '450'), ('CED57435BA0B', 'Lead', '451'), ('CED57435BA0B', 'Lead', '452'), ('CED57435BA0B', 'Lead', '452'), ('CED57435BA0B', 'Lead', '453'), ('CED57435BA0B', 'Lead', '454'), ('CED57435BA0B', 'Lead', '455'), ('CED57435BA0B', 'Lead', '455'), ('CED57435BA0B', 'Lead', '456'), ('CED57435BA0B', 'Lead', '456'), ('CED57435BA0B', 'Lead', '457'), ('CED57435BA0B', 'Lead', '457'), ('CED57435BA0B', 'Lead', '457'), ('CED57435BA0B', 'Lead', '457'), ('CED57435BA0B', 'Lead', '458'), ('CED57435BA0B', 'Lead', '458'), ('CED57435BA0B', 'Lead', '459'), ('CED57435BA0B', 'Lead', '459'), ('CED57435BA0B', 'Lead', '460'), ('CED57435BA0B', 'Lead', '460'), ('CED57435BA0B', 'Lead', '460'), ('CED57435BA0B', 'Lead', '460'), ('CED57435BA0B', 'Lead', '461'), ('CED57435BA0B', 'Lead', '461'), ('CED57435BA0B', 'Lead', '461'), ('CED57435BA0B', 'Lead', '461'), ('CED57435BA0B', 'Lead', '461'), ('CED57435BA0B', 'Lead', '461'), ('CED57435BA0B', 'Lead', '461'), ('CED57435BA0B', 'Lead', '461'), ('CED57435BA0B', 'Lead', '461'), ('CED57435BA0B', 'Lead', '461'), ('CED57435BA0B', 'Lead', '461'), ('CED57435BA0B', 'Lead', '461'), ('CED57435BA0B', 'Lead', '461'), ('CED57435BA0B', 'Lead', '461'), ('CED57435BA0B', 'Lead', '461'), ('CED57435BA0B', 'Lead', '461'), ('CED57435BA0B', 'Lead', '461'), ('CED57435BA0B', 'Lead', '461'), ('CED57435BA0B', 'Lead', '461'), ('CED57435BA0B', 'Lead', '461'), ('CED57435BA0B', 'Lead', '461'), ('CED57435BA0B', 'Lead', '461'), ('CED57435BA0B', 'Lead', '461'), ('CED57435BA0B', 'Lead', '461'), ('CED57435BA0B', 'Lead', '461'), ('CED57435BA0B', 'Lead', '462'), ('CED57435BA0B', 'Lead', '462'), ('CED57435BA0B', 'Lead', '462'), ('CED57435BA0B', 'Lead', '462'), ('CED57435BA0B', 'Lead', '462'), ('CED57435BA0B', 'Lead', '462'), ('CED57435BA0B', 'Lead', '462'), ('CED57435BA0B', 'Lead', '462'), ('CED57435BA0B', 'Lead', '462'), ('CED57435BA0B', 'Lead', '462'), ('CED57435BA0B', 'Lead', '462'), ('CED57435BA0B', 'Lead', '462'), ('CED57435BA0B', 'Lead', '462'), ('CED57435BA0B', 'Lead', '462'), ('CED57435BA0B', 'Lead', '462'), ('CED57435BA0B', 'Lead', '462'), ('CED57435BA0B', 'Lead', '462'), ('CED57435BA0B', 'Lead', '462'), ('CED57435BA0B', 'Lead', '462'), ('CED57435BA0B', 'Lead', '462'), ('CED57435BA0B', 'Lead', '462'), ('CED57435BA0B', 'Lead', '462'), ('CED57435BA0B', 'Lead', '462')]\n"
     ]
    },
    {
     "data": {
      "text/html": [
       "<div>\n",
       "<style scoped>\n",
       "    .dataframe tbody tr th:only-of-type {\n",
       "        vertical-align: middle;\n",
       "    }\n",
       "\n",
       "    .dataframe tbody tr th {\n",
       "        vertical-align: top;\n",
       "    }\n",
       "\n",
       "    .dataframe thead th {\n",
       "        text-align: right;\n",
       "    }\n",
       "</style>\n",
       "<table border=\"1\" class=\"dataframe\">\n",
       "  <thead>\n",
       "    <tr style=\"text-align: right;\">\n",
       "      <th></th>\n",
       "      <th>id</th>\n",
       "      <th>class</th>\n",
       "      <th>predictionstring</th>\n",
       "    </tr>\n",
       "  </thead>\n",
       "  <tbody>\n",
       "    <tr>\n",
       "      <th>0</th>\n",
       "      <td>019328A0D7A3</td>\n",
       "      <td>Lead</td>\n",
       "      <td>0</td>\n",
       "    </tr>\n",
       "    <tr>\n",
       "      <th>1</th>\n",
       "      <td>019328A0D7A3</td>\n",
       "      <td>Lead</td>\n",
       "      <td>1</td>\n",
       "    </tr>\n",
       "    <tr>\n",
       "      <th>2</th>\n",
       "      <td>019328A0D7A3</td>\n",
       "      <td>Lead</td>\n",
       "      <td>2</td>\n",
       "    </tr>\n",
       "    <tr>\n",
       "      <th>3</th>\n",
       "      <td>019328A0D7A3</td>\n",
       "      <td>Lead</td>\n",
       "      <td>2</td>\n",
       "    </tr>\n",
       "    <tr>\n",
       "      <th>4</th>\n",
       "      <td>019328A0D7A3</td>\n",
       "      <td>Lead</td>\n",
       "      <td>2</td>\n",
       "    </tr>\n",
       "  </tbody>\n",
       "</table>\n",
       "</div>"
      ],
      "text/plain": [
       "             id class predictionstring\n",
       "0  019328A0D7A3  Lead                0\n",
       "1  019328A0D7A3  Lead                1\n",
       "2  019328A0D7A3  Lead                2\n",
       "3  019328A0D7A3  Lead                2\n",
       "4  019328A0D7A3  Lead                2"
      ]
     },
     "execution_count": 28,
     "metadata": {},
     "output_type": "execute_result"
    }
   ],
   "source": [
    "out_of_fold = calculate_preds(tokenizer, target_id_map_updated, MAX_LEN, ROOT_DIR, text_ids=unique_doc_ids[valid_idx], preds=oof_preds, dataset='train', verbose=True)\n",
    "\n",
    "out_of_fold.head()"
   ]
  },
  {
   "cell_type": "code",
   "execution_count": 29,
   "metadata": {
    "pycharm": {
     "name": "#%%\n"
    },
    "trusted": true
   },
   "outputs": [
    {
     "name": "stdout",
     "output_type": "stream",
     "text": [
      "The following classes are present in out_of_fold preds:\n"
     ]
    },
    {
     "data": {
      "text/plain": [
       "array(['Lead'], dtype=object)"
      ]
     },
     "execution_count": 29,
     "metadata": {},
     "output_type": "execute_result"
    }
   ],
   "source": [
    "print('The following classes are present in out_of_fold preds:')\n",
    "out_of_fold['class'].unique()"
   ]
  },
  {
   "attachments": {},
   "cell_type": "markdown",
   "metadata": {
    "pycharm": {
     "name": "#%% md\n"
    }
   },
   "source": [
    "# Validation Metric"
   ]
  },
  {
   "cell_type": "code",
   "execution_count": 30,
   "metadata": {
    "pycharm": {
     "name": "#%%\n"
    },
    "trusted": true
   },
   "outputs": [],
   "source": [
    "valid = train.loc[train['id'].isin(unique_doc_ids[valid_idx])]"
   ]
  },
  {
   "attachments": {},
   "cell_type": "markdown",
   "metadata": {},
   "source": [
    "This line of code is selecting a subset of rows from the 'train' dataframe based on a condition. Specifically, it is selecting the rows where the value in the 'id' column is present in a list of unique document ids that are part of the validation set.\n",
    "\n",
    "Here's a breakdown of the code:\n",
    "\n",
    "1. `train['id']` selects the 'id' column from the 'train' dataframe.\n",
    "2. `unique_doc_ids[valid_idx]` selects a subset of unique document ids from the validation set, based on the indices in the 'valid_idx' list.\n",
    "3. `train['id'].isin(unique_doc_ids[valid_idx])` creates a boolean Series, which is True for rows where the 'id' value is present in the selected subset of unique document ids.\n",
    "4. `train.loc[]` selects rows from the 'train' dataframe based on the boolean Series created in the previous step. This creates a new dataframe called 'valid' which contains only the rows from 'train' where the 'id' value is present in the validation set."
   ]
  },
  {
   "cell_type": "code",
   "execution_count": 31,
   "metadata": {
    "pycharm": {
     "name": "#%%\n"
    },
    "trusted": true
   },
   "outputs": [
    {
     "name": "stdout",
     "output_type": "stream",
     "text": [
      "Lead 0.0\n",
      "Overall 0.0\n"
     ]
    }
   ],
   "source": [
    "f1s = []\n",
    "CLASSES = out_of_fold['class'].unique()\n",
    "\n",
    "for c in CLASSES:\n",
    "    pred_df = out_of_fold.loc[out_of_fold['class']==c].copy()\n",
    "    gt_df = valid.loc[valid['discourse_type']==c].copy()\n",
    "    f1 = compute_macro_f1_score(pred_df, gt_df)\n",
    "    print(c,f1)\n",
    "    f1s.append(f1)\n",
    "\n",
    "\n",
    "print('Overall',np.mean(f1s))"
   ]
  },
  {
   "cell_type": "markdown",
   "metadata": {
    "pycharm": {
     "name": "#%% md\n"
    }
   },
   "source": [
    "# Infer Test Data\n",
    "We will now infer the test data and create a submission. Our CV is 0.633, let's see what our LB is!"
   ]
  },
  {
   "cell_type": "code",
   "execution_count": 32,
   "metadata": {
    "pycharm": {
     "name": "#%%\n"
    }
   },
   "outputs": [
    {
     "name": "stdout",
     "output_type": "stream",
     "text": [
      "There are 5 test texts.\n"
     ]
    }
   ],
   "source": [
    "# GET TEST TEXT IDS\n",
    "files = os.listdir(ROOT_DIR+'test')\n",
    "\n",
    "TEST_IDS = [f.replace('.txt','') for f in files if 'txt' in f]\n",
    "\n",
    "print('There are',len(TEST_IDS),'test texts.')"
   ]
  },
  {
   "cell_type": "code",
   "execution_count": 33,
   "metadata": {
    "pycharm": {
     "name": "#%%\n"
    },
    "trusted": true
   },
   "outputs": [
    {
     "name": "stdout",
     "output_type": "stream",
     "text": [
      "name  ../input/test/0FB0700DAF44.txt\n",
      "name  ../input/test/18409261F5C2.txt\n",
      "name  ../input/test/D46BCB48440A.txt\n",
      "name  ../input/test/D72CB1C11673.txt\n",
      "name  ../input/test/DF920E0A7337.txt\n"
     ]
    }
   ],
   "source": [
    "# First, converting text into tokens\n",
    "test_tokens = np.zeros((len(TEST_IDS),MAX_LEN), dtype='int32')\n",
    "test_attention = np.zeros((len(TEST_IDS),MAX_LEN), dtype='int32')\n",
    "\n",
    "# I need to read and tokenize the text files before applying the trained model\n",
    "for id_num in range(len(TEST_IDS)):        \n",
    "    n = TEST_IDS[id_num]\n",
    "    name = f'{ROOT_DIR}test/{n}.txt'\n",
    "    print('name ', name)\n",
    "    txt = open(name, 'r').read()\n",
    "    tokens = tokenizer.encode_plus(txt, max_length=MAX_LEN, padding='max_length',\n",
    "                                   truncation=True, return_offsets_mapping=True)\n",
    "    test_tokens[id_num,] = tokens['input_ids']\n",
    "    test_attention[id_num,] = tokens['attention_mask']"
   ]
  },
  {
   "cell_type": "code",
   "execution_count": 34,
   "metadata": {
    "pycharm": {
     "name": "#%%\n"
    },
    "trusted": true
   },
   "outputs": [
    {
     "name": "stdout",
     "output_type": "stream",
     "text": [
      "1/1 - 0s - 405ms/epoch - 405ms/step\n",
      "Test predictions shape: (5, 1024, 15)\n"
     ]
    }
   ],
   "source": [
    "# Finally inference\n",
    "p = model.predict([test_tokens, test_attention], \n",
    "                  batch_size=16, verbose=2)\n",
    "print('Test predictions shape:',p.shape)\n",
    "test_preds = np.argmax(p,axis=-1)"
   ]
  },
  {
   "attachments": {},
   "cell_type": "markdown",
   "metadata": {},
   "source": [
    "\n",
    "`test_preds` will be used for the final evaluate of the model's performance by comparing its predictions with the ground truth labels."
   ]
  },
  {
   "cell_type": "markdown",
   "metadata": {
    "pycharm": {
     "name": "#%% md\n"
    }
   },
   "source": [
    "# Write Submission CSV"
   ]
  },
  {
   "cell_type": "code",
   "execution_count": 35,
   "metadata": {
    "pycharm": {
     "name": "#%%\n"
    },
    "trusted": true
   },
   "outputs": [
    {
     "name": "stdout",
     "output_type": "stream",
     "text": [
      "all_predictions  [('0FB0700DAF44', 'Lead', '0'), ('0FB0700DAF44', 'Lead', '1'), ('0FB0700DAF44', 'Lead', '2'), ('0FB0700DAF44', 'Lead', '3'), ('0FB0700DAF44', 'Lead', '3'), ('0FB0700DAF44', 'Lead', '4'), ('0FB0700DAF44', 'Lead', '5'), ('0FB0700DAF44', 'Lead', '6'), ('0FB0700DAF44', 'Lead', '7'), ('0FB0700DAF44', 'Lead', '8'), ('0FB0700DAF44', 'Lead', '9'), ('0FB0700DAF44', 'Lead', '10'), ('0FB0700DAF44', 'Lead', '11'), ('0FB0700DAF44', 'Lead', '12'), ('0FB0700DAF44', 'Lead', '13'), ('0FB0700DAF44', 'Lead', '14'), ('0FB0700DAF44', 'Lead', '15'), ('0FB0700DAF44', 'Lead', '15'), ('0FB0700DAF44', 'Lead', '16'), ('0FB0700DAF44', 'Lead', '16'), ('0FB0700DAF44', 'Lead', '17'), ('0FB0700DAF44', 'Lead', '18'), ('0FB0700DAF44', 'Lead', '19'), ('0FB0700DAF44', 'Lead', '20'), ('0FB0700DAF44', 'Lead', '21'), ('0FB0700DAF44', 'Lead', '22'), ('0FB0700DAF44', 'Lead', '23'), ('0FB0700DAF44', 'Lead', '24'), ('0FB0700DAF44', 'Lead', '24'), ('0FB0700DAF44', 'Lead', '25'), ('0FB0700DAF44', 'Lead', '26'), ('0FB0700DAF44', 'Lead', '27'), ('0FB0700DAF44', 'Lead', '28'), ('0FB0700DAF44', 'Lead', '29'), ('0FB0700DAF44', 'Lead', '30'), ('0FB0700DAF44', 'Lead', '31'), ('0FB0700DAF44', 'Lead', '32'), ('0FB0700DAF44', 'Lead', '33'), ('0FB0700DAF44', 'Lead', '34'), ('0FB0700DAF44', 'Lead', '35'), ('0FB0700DAF44', 'Lead', '36'), ('0FB0700DAF44', 'Lead', '37'), ('0FB0700DAF44', 'Lead', '38'), ('0FB0700DAF44', 'Lead', '39'), ('0FB0700DAF44', 'Lead', '40'), ('0FB0700DAF44', 'Lead', '40'), ('0FB0700DAF44', 'Lead', '41'), ('0FB0700DAF44', 'Lead', '41'), ('0FB0700DAF44', 'Lead', '42'), ('0FB0700DAF44', 'Lead', '43'), ('0FB0700DAF44', 'Lead', '43'), ('0FB0700DAF44', 'Lead', '44'), ('0FB0700DAF44', 'Lead', '45'), ('0FB0700DAF44', 'Lead', '46'), ('0FB0700DAF44', 'Lead', '47'), ('0FB0700DAF44', 'Lead', '48'), ('0FB0700DAF44', 'Lead', '49'), ('0FB0700DAF44', 'Lead', '50'), ('0FB0700DAF44', 'Lead', '51'), ('0FB0700DAF44', 'Lead', '52'), ('0FB0700DAF44', 'Lead', '53'), ('0FB0700DAF44', 'Lead', '54'), ('0FB0700DAF44', 'Lead', '55'), ('0FB0700DAF44', 'Lead', '56'), ('0FB0700DAF44', 'Lead', '57'), ('0FB0700DAF44', 'Lead', '58'), ('0FB0700DAF44', 'Lead', '59'), ('0FB0700DAF44', 'Lead', '60'), ('0FB0700DAF44', 'Lead', '61'), ('0FB0700DAF44', 'Lead', '62'), ('0FB0700DAF44', 'Lead', '63'), ('0FB0700DAF44', 'Lead', '64'), ('0FB0700DAF44', 'Lead', '64'), ('0FB0700DAF44', 'Lead', '65'), ('0FB0700DAF44', 'Lead', '65'), ('0FB0700DAF44', 'Lead', '66'), ('0FB0700DAF44', 'Lead', '67'), ('0FB0700DAF44', 'Lead', '68'), ('0FB0700DAF44', 'Lead', '69'), ('0FB0700DAF44', 'Lead', '70'), ('0FB0700DAF44', 'Lead', '71'), ('0FB0700DAF44', 'Lead', '72'), ('0FB0700DAF44', 'Lead', '73'), ('0FB0700DAF44', 'Lead', '74'), ('0FB0700DAF44', 'Lead', '75'), ('0FB0700DAF44', 'Lead', '76'), ('0FB0700DAF44', 'Lead', '77'), ('0FB0700DAF44', 'Lead', '78'), ('0FB0700DAF44', 'Lead', '79'), ('0FB0700DAF44', 'Lead', '80'), ('0FB0700DAF44', 'Lead', '81'), ('0FB0700DAF44', 'Lead', '82'), ('0FB0700DAF44', 'Lead', '82'), ('0FB0700DAF44', 'Lead', '82'), ('0FB0700DAF44', 'Lead', '83'), ('0FB0700DAF44', 'Lead', '83'), ('0FB0700DAF44', 'Lead', '84'), ('0FB0700DAF44', 'Lead', '85'), ('0FB0700DAF44', 'Lead', '86'), ('0FB0700DAF44', 'Lead', '87'), ('0FB0700DAF44', 'Lead', '88'), ('0FB0700DAF44', 'Lead', '89'), ('0FB0700DAF44', 'Lead', '90'), ('0FB0700DAF44', 'Lead', '91'), ('0FB0700DAF44', 'Lead', '92'), ('0FB0700DAF44', 'Lead', '93'), ('0FB0700DAF44', 'Lead', '94'), ('0FB0700DAF44', 'Lead', '95'), ('0FB0700DAF44', 'Lead', '96'), ('0FB0700DAF44', 'Lead', '97'), ('0FB0700DAF44', 'Lead', '98'), ('0FB0700DAF44', 'Lead', '99'), ('0FB0700DAF44', 'Lead', '100'), ('0FB0700DAF44', 'Lead', '101'), ('0FB0700DAF44', 'Lead', '102'), ('0FB0700DAF44', 'Lead', '103'), ('0FB0700DAF44', 'Lead', '103'), ('0FB0700DAF44', 'Lead', '103'), ('0FB0700DAF44', 'Lead', '103'), ('0FB0700DAF44', 'Lead', '104'), ('0FB0700DAF44', 'Lead', '105'), ('0FB0700DAF44', 'Lead', '106'), ('0FB0700DAF44', 'Lead', '107'), ('0FB0700DAF44', 'Lead', '107'), ('0FB0700DAF44', 'Lead', '108'), ('0FB0700DAF44', 'Lead', '109'), ('0FB0700DAF44', 'Lead', '110'), ('0FB0700DAF44', 'Lead', '110'), ('0FB0700DAF44', 'Lead', '111'), ('0FB0700DAF44', 'Lead', '112'), ('0FB0700DAF44', 'Lead', '113'), ('0FB0700DAF44', 'Lead', '114'), ('0FB0700DAF44', 'Lead', '115'), ('0FB0700DAF44', 'Lead', '116'), ('0FB0700DAF44', 'Lead', '117'), ('0FB0700DAF44', 'Lead', '118'), ('0FB0700DAF44', 'Lead', '119'), ('0FB0700DAF44', 'Lead', '119'), ('0FB0700DAF44', 'Lead', '119'), ('0FB0700DAF44', 'Lead', '119'), ('0FB0700DAF44', 'Lead', '119'), ('0FB0700DAF44', 'Lead', '120'), ('0FB0700DAF44', 'Lead', '121'), ('0FB0700DAF44', 'Lead', '121'), ('0FB0700DAF44', 'Lead', '122'), ('0FB0700DAF44', 'Lead', '123'), ('0FB0700DAF44', 'Lead', '124'), ('0FB0700DAF44', 'Lead', '125'), ('0FB0700DAF44', 'Lead', '126'), ('0FB0700DAF44', 'Lead', '127'), ('0FB0700DAF44', 'Lead', '128'), ('0FB0700DAF44', 'Lead', '128'), ('0FB0700DAF44', 'Lead', '129'), ('0FB0700DAF44', 'Lead', '130'), ('0FB0700DAF44', 'Lead', '131'), ('0FB0700DAF44', 'Lead', '132'), ('0FB0700DAF44', 'Lead', '133'), ('0FB0700DAF44', 'Lead', '134'), ('0FB0700DAF44', 'Lead', '135'), ('0FB0700DAF44', 'Lead', '136'), ('0FB0700DAF44', 'Lead', '137'), ('0FB0700DAF44', 'Lead', '138'), ('0FB0700DAF44', 'Lead', '139'), ('0FB0700DAF44', 'Lead', '140'), ('0FB0700DAF44', 'Lead', '141'), ('0FB0700DAF44', 'Lead', '142'), ('0FB0700DAF44', 'Lead', '142'), ('0FB0700DAF44', 'Lead', '143'), ('0FB0700DAF44', 'Lead', '144'), ('0FB0700DAF44', 'Lead', '144'), ('0FB0700DAF44', 'Lead', '145'), ('0FB0700DAF44', 'Lead', '146'), ('0FB0700DAF44', 'Lead', '147'), ('0FB0700DAF44', 'Lead', '148'), ('0FB0700DAF44', 'Lead', '149'), ('0FB0700DAF44', 'Lead', '150'), ('0FB0700DAF44', 'Lead', '151'), ('0FB0700DAF44', 'Lead', '152'), ('0FB0700DAF44', 'Lead', '153'), ('0FB0700DAF44', 'Lead', '154'), ('0FB0700DAF44', 'Lead', '155'), ('0FB0700DAF44', 'Lead', '156'), ('0FB0700DAF44', 'Lead', '156'), ('0FB0700DAF44', 'Lead', '157'), ('0FB0700DAF44', 'Lead', '158'), ('0FB0700DAF44', 'Lead', '159'), ('0FB0700DAF44', 'Lead', '160'), ('0FB0700DAF44', 'Lead', '161'), ('0FB0700DAF44', 'Lead', '162'), ('0FB0700DAF44', 'Lead', '162'), ('0FB0700DAF44', 'Lead', '163'), ('0FB0700DAF44', 'Lead', '163'), ('0FB0700DAF44', 'Lead', '164'), ('0FB0700DAF44', 'Lead', '165'), ('0FB0700DAF44', 'Lead', '166'), ('0FB0700DAF44', 'Lead', '166'), ('0FB0700DAF44', 'Lead', '167'), ('0FB0700DAF44', 'Lead', '168'), ('0FB0700DAF44', 'Lead', '169'), ('0FB0700DAF44', 'Lead', '170'), ('0FB0700DAF44', 'Lead', '171'), ('0FB0700DAF44', 'Lead', '172'), ('0FB0700DAF44', 'Lead', '173'), ('0FB0700DAF44', 'Lead', '174'), ('0FB0700DAF44', 'Lead', '175'), ('0FB0700DAF44', 'Lead', '175'), ('0FB0700DAF44', 'Lead', '176'), ('0FB0700DAF44', 'Lead', '177'), ('0FB0700DAF44', 'Lead', '178'), ('0FB0700DAF44', 'Lead', '179'), ('0FB0700DAF44', 'Lead', '180'), ('0FB0700DAF44', 'Lead', '181'), ('0FB0700DAF44', 'Lead', '182'), ('0FB0700DAF44', 'Lead', '183'), ('0FB0700DAF44', 'Lead', '183'), ('0FB0700DAF44', 'Lead', '183'), ('0FB0700DAF44', 'Lead', '184'), ('0FB0700DAF44', 'Lead', '185'), ('0FB0700DAF44', 'Lead', '186'), ('0FB0700DAF44', 'Lead', '186'), ('0FB0700DAF44', 'Lead', '187'), ('0FB0700DAF44', 'Lead', '188'), ('0FB0700DAF44', 'Lead', '189'), ('0FB0700DAF44', 'Lead', '190'), ('0FB0700DAF44', 'Lead', '191'), ('0FB0700DAF44', 'Lead', '191'), ('0FB0700DAF44', 'Lead', '192'), ('0FB0700DAF44', 'Lead', '193'), ('0FB0700DAF44', 'Lead', '193'), ('0FB0700DAF44', 'Lead', '194'), ('0FB0700DAF44', 'Lead', '194'), ('0FB0700DAF44', 'Lead', '195'), ('0FB0700DAF44', 'Lead', '196'), ('0FB0700DAF44', 'Lead', '197'), ('0FB0700DAF44', 'Lead', '198'), ('0FB0700DAF44', 'Lead', '199'), ('0FB0700DAF44', 'Lead', '200'), ('0FB0700DAF44', 'Lead', '201'), ('0FB0700DAF44', 'Lead', '202'), ('0FB0700DAF44', 'Lead', '203'), ('0FB0700DAF44', 'Lead', '204'), ('0FB0700DAF44', 'Lead', '205'), ('0FB0700DAF44', 'Lead', '206'), ('0FB0700DAF44', 'Lead', '207'), ('0FB0700DAF44', 'Lead', '208'), ('0FB0700DAF44', 'Lead', '209'), ('0FB0700DAF44', 'Lead', '209'), ('0FB0700DAF44', 'Lead', '210'), ('0FB0700DAF44', 'Lead', '211'), ('0FB0700DAF44', 'Lead', '212'), ('0FB0700DAF44', 'Lead', '213'), ('0FB0700DAF44', 'Lead', '214'), ('0FB0700DAF44', 'Lead', '215'), ('0FB0700DAF44', 'Lead', '216'), ('0FB0700DAF44', 'Lead', '217'), ('0FB0700DAF44', 'Lead', '218'), ('0FB0700DAF44', 'Lead', '219'), ('0FB0700DAF44', 'Lead', '220'), ('0FB0700DAF44', 'Lead', '221'), ('0FB0700DAF44', 'Lead', '222'), ('0FB0700DAF44', 'Lead', '223'), ('0FB0700DAF44', 'Lead', '224'), ('0FB0700DAF44', 'Lead', '225'), ('0FB0700DAF44', 'Lead', '226'), ('0FB0700DAF44', 'Lead', '227'), ('0FB0700DAF44', 'Lead', '228'), ('0FB0700DAF44', 'Lead', '228'), ('0FB0700DAF44', 'Lead', '229'), ('0FB0700DAF44', 'Lead', '229'), ('0FB0700DAF44', 'Lead', '229'), ('0FB0700DAF44', 'Lead', '230'), ('0FB0700DAF44', 'Lead', '231'), ('0FB0700DAF44', 'Lead', '232'), ('0FB0700DAF44', 'Lead', '233'), ('0FB0700DAF44', 'Lead', '234'), ('0FB0700DAF44', 'Lead', '235'), ('0FB0700DAF44', 'Lead', '236'), ('0FB0700DAF44', 'Lead', '237'), ('0FB0700DAF44', 'Lead', '238'), ('0FB0700DAF44', 'Lead', '239'), ('0FB0700DAF44', 'Lead', '240'), ('0FB0700DAF44', 'Lead', '241'), ('0FB0700DAF44', 'Lead', '242'), ('0FB0700DAF44', 'Lead', '242'), ('0FB0700DAF44', 'Lead', '243'), ('0FB0700DAF44', 'Lead', '243'), ('0FB0700DAF44', 'Lead', '244'), ('0FB0700DAF44', 'Lead', '245'), ('0FB0700DAF44', 'Lead', '246'), ('0FB0700DAF44', 'Lead', '247'), ('0FB0700DAF44', 'Lead', '247'), ('0FB0700DAF44', 'Lead', '248'), ('0FB0700DAF44', 'Lead', '248'), ('0FB0700DAF44', 'Lead', '249'), ('0FB0700DAF44', 'Lead', '250'), ('0FB0700DAF44', 'Lead', '251'), ('0FB0700DAF44', 'Lead', '252'), ('0FB0700DAF44', 'Lead', '253'), ('0FB0700DAF44', 'Lead', '254'), ('0FB0700DAF44', 'Lead', '255'), ('0FB0700DAF44', 'Lead', '255'), ('0FB0700DAF44', 'Lead', '256'), ('0FB0700DAF44', 'Lead', '257'), ('0FB0700DAF44', 'Lead', '258'), ('0FB0700DAF44', 'Lead', '259'), ('0FB0700DAF44', 'Lead', '260'), ('0FB0700DAF44', 'Lead', '260'), ('0FB0700DAF44', 'Lead', '261'), ('0FB0700DAF44', 'Lead', '262'), ('0FB0700DAF44', 'Lead', '263'), ('0FB0700DAF44', 'Lead', '264'), ('0FB0700DAF44', 'Lead', '265'), ('0FB0700DAF44', 'Lead', '266'), ('0FB0700DAF44', 'Lead', '267'), ('0FB0700DAF44', 'Lead', '268'), ('0FB0700DAF44', 'Lead', '269'), ('0FB0700DAF44', 'Lead', '269'), ('0FB0700DAF44', 'Lead', '270'), ('0FB0700DAF44', 'Lead', '271'), ('0FB0700DAF44', 'Lead', '272'), ('0FB0700DAF44', 'Lead', '273'), ('0FB0700DAF44', 'Lead', '274'), ('0FB0700DAF44', 'Lead', '274'), ('0FB0700DAF44', 'Lead', '275'), ('0FB0700DAF44', 'Lead', '276'), ('0FB0700DAF44', 'Lead', '277'), ('0FB0700DAF44', 'Lead', '278'), ('0FB0700DAF44', 'Lead', '279'), ('0FB0700DAF44', 'Lead', '280'), ('0FB0700DAF44', 'Lead', '281'), ('0FB0700DAF44', 'Lead', '281'), ('0FB0700DAF44', 'Lead', '281'), ('0FB0700DAF44', 'Lead', '281'), ('0FB0700DAF44', 'Lead', '281'), ('0FB0700DAF44', 'Lead', '282'), ('0FB0700DAF44', 'Lead', '283'), ('0FB0700DAF44', 'Lead', '284'), ('0FB0700DAF44', 'Lead', '285'), ('0FB0700DAF44', 'Lead', '286'), ('0FB0700DAF44', 'Lead', '287'), ('0FB0700DAF44', 'Lead', '288'), ('0FB0700DAF44', 'Lead', '289'), ('0FB0700DAF44', 'Lead', '290'), ('0FB0700DAF44', 'Lead', '290'), ('0FB0700DAF44', 'Lead', '291'), ('0FB0700DAF44', 'Lead', '292'), ('0FB0700DAF44', 'Lead', '293'), ('0FB0700DAF44', 'Lead', '294'), ('0FB0700DAF44', 'Lead', '295'), ('0FB0700DAF44', 'Lead', '296'), ('0FB0700DAF44', 'Lead', '297'), ('0FB0700DAF44', 'Lead', '297'), ('0FB0700DAF44', 'Lead', '298'), ('0FB0700DAF44', 'Lead', '299'), ('0FB0700DAF44', 'Lead', '300'), ('0FB0700DAF44', 'Lead', '300'), ('0FB0700DAF44', 'Lead', '301'), ('0FB0700DAF44', 'Lead', '302'), ('0FB0700DAF44', 'Lead', '303'), ('0FB0700DAF44', 'Lead', '304'), ('0FB0700DAF44', 'Lead', '305'), ('0FB0700DAF44', 'Lead', '306'), ('0FB0700DAF44', 'Lead', '307'), ('0FB0700DAF44', 'Lead', '308'), ('0FB0700DAF44', 'Lead', '309'), ('0FB0700DAF44', 'Lead', '310'), ('0FB0700DAF44', 'Lead', '311'), ('0FB0700DAF44', 'Lead', '311'), ('0FB0700DAF44', 'Lead', '311'), ('0FB0700DAF44', 'Lead', '311'), ('0FB0700DAF44', 'Lead', '311'), ('0FB0700DAF44', 'Lead', '311'), ('0FB0700DAF44', 'Lead', '312'), ('0FB0700DAF44', 'Lead', '313'), ('0FB0700DAF44', 'Lead', '314'), ('0FB0700DAF44', 'Lead', '315'), ('0FB0700DAF44', 'Lead', '316'), ('0FB0700DAF44', 'Lead', '317'), ('0FB0700DAF44', 'Lead', '317'), ('0FB0700DAF44', 'Lead', '317'), ('0FB0700DAF44', 'Lead', '318'), ('0FB0700DAF44', 'Lead', '319'), ('0FB0700DAF44', 'Lead', '320'), ('0FB0700DAF44', 'Lead', '321'), ('0FB0700DAF44', 'Lead', '322'), ('0FB0700DAF44', 'Lead', '323'), ('0FB0700DAF44', 'Lead', '323'), ('0FB0700DAF44', 'Lead', '324'), ('0FB0700DAF44', 'Lead', '325'), ('0FB0700DAF44', 'Lead', '325'), ('0FB0700DAF44', 'Lead', '326'), ('0FB0700DAF44', 'Lead', '327'), ('0FB0700DAF44', 'Lead', '328'), ('0FB0700DAF44', 'Lead', '329'), ('0FB0700DAF44', 'Lead', '330'), ('0FB0700DAF44', 'Lead', '331'), ('0FB0700DAF44', 'Lead', '332'), ('0FB0700DAF44', 'Lead', '333'), ('0FB0700DAF44', 'Lead', '334'), ('0FB0700DAF44', 'Lead', '335'), ('0FB0700DAF44', 'Lead', '336'), ('0FB0700DAF44', 'Lead', '337'), ('0FB0700DAF44', 'Lead', '337'), ('0FB0700DAF44', 'Lead', '338'), ('0FB0700DAF44', 'Lead', '339'), ('0FB0700DAF44', 'Lead', '339'), ('0FB0700DAF44', 'Lead', '340'), ('0FB0700DAF44', 'Lead', '341'), ('0FB0700DAF44', 'Lead', '342'), ('0FB0700DAF44', 'Lead', '343'), ('0FB0700DAF44', 'Lead', '344'), ('0FB0700DAF44', 'Lead', '345'), ('0FB0700DAF44', 'Lead', '346'), ('0FB0700DAF44', 'Lead', '347'), ('0FB0700DAF44', 'Lead', '347'), ('0FB0700DAF44', 'Lead', '348'), ('0FB0700DAF44', 'Lead', '349'), ('0FB0700DAF44', 'Lead', '350'), ('0FB0700DAF44', 'Lead', '351'), ('0FB0700DAF44', 'Lead', '351'), ('0FB0700DAF44', 'Lead', '351'), ('0FB0700DAF44', 'Lead', '351'), ('0FB0700DAF44', 'Lead', '352'), ('0FB0700DAF44', 'Lead', '353'), ('0FB0700DAF44', 'Lead', '354'), ('0FB0700DAF44', 'Lead', '355'), ('0FB0700DAF44', 'Lead', '355'), ('0FB0700DAF44', 'Lead', '356'), ('0FB0700DAF44', 'Lead', '357'), ('0FB0700DAF44', 'Lead', '358'), ('0FB0700DAF44', 'Lead', '359'), ('0FB0700DAF44', 'Lead', '360'), ('0FB0700DAF44', 'Lead', '361'), ('0FB0700DAF44', 'Lead', '362'), ('0FB0700DAF44', 'Lead', '363'), ('0FB0700DAF44', 'Lead', '364'), ('0FB0700DAF44', 'Lead', '365'), ('0FB0700DAF44', 'Lead', '366'), ('0FB0700DAF44', 'Lead', '367'), ('0FB0700DAF44', 'Lead', '368'), ('0FB0700DAF44', 'Lead', '368'), ('0FB0700DAF44', 'Lead', '368'), ('0FB0700DAF44', 'Lead', '369'), ('0FB0700DAF44', 'Lead', '369'), ('0FB0700DAF44', 'Lead', '370'), ('0FB0700DAF44', 'Lead', '370'), ('0FB0700DAF44', 'Lead', '370'), ('0FB0700DAF44', 'Lead', '371'), ('0FB0700DAF44', 'Lead', '372'), ('0FB0700DAF44', 'Lead', '373'), ('0FB0700DAF44', 'Lead', '374'), ('0FB0700DAF44', 'Lead', '375'), ('0FB0700DAF44', 'Lead', '376'), ('0FB0700DAF44', 'Lead', '377'), ('0FB0700DAF44', 'Lead', '377'), ('0FB0700DAF44', 'Lead', '378'), ('0FB0700DAF44', 'Lead', '378'), ('0FB0700DAF44', 'Lead', '379'), ('0FB0700DAF44', 'Lead', '380'), ('0FB0700DAF44', 'Lead', '381'), ('0FB0700DAF44', 'Lead', '382'), ('0FB0700DAF44', 'Lead', '383'), ('0FB0700DAF44', 'Lead', '384'), ('0FB0700DAF44', 'Lead', '385'), ('0FB0700DAF44', 'Lead', '386'), ('0FB0700DAF44', 'Lead', '387'), ('0FB0700DAF44', 'Lead', '388'), ('0FB0700DAF44', 'Lead', '388'), ('0FB0700DAF44', 'Lead', '389'), ('0FB0700DAF44', 'Lead', '390'), ('0FB0700DAF44', 'Lead', '391'), ('0FB0700DAF44', 'Lead', '392'), ('0FB0700DAF44', 'Lead', '393'), ('0FB0700DAF44', 'Lead', '393'), ('0FB0700DAF44', 'Lead', '393'), ('0FB0700DAF44', 'Lead', '394'), ('0FB0700DAF44', 'Lead', '395'), ('0FB0700DAF44', 'Lead', '396'), ('0FB0700DAF44', 'Lead', '397'), ('0FB0700DAF44', 'Lead', '397'), ('0FB0700DAF44', 'Lead', '398'), ('0FB0700DAF44', 'Lead', '399'), ('0FB0700DAF44', 'Lead', '400'), ('0FB0700DAF44', 'Lead', '401'), ('0FB0700DAF44', 'Lead', '401'), ('0FB0700DAF44', 'Lead', '401'), ('0FB0700DAF44', 'Lead', '401'), ('0FB0700DAF44', 'Lead', '402'), ('0FB0700DAF44', 'Lead', '402'), ('0FB0700DAF44', 'Lead', '403'), ('0FB0700DAF44', 'Lead', '404'), ('0FB0700DAF44', 'Lead', '405'), ('0FB0700DAF44', 'Lead', '405'), ('0FB0700DAF44', 'Lead', '406'), ('0FB0700DAF44', 'Lead', '406'), ('0FB0700DAF44', 'Lead', '407'), ('0FB0700DAF44', 'Lead', '408'), ('0FB0700DAF44', 'Lead', '409'), ('0FB0700DAF44', 'Lead', '410'), ('0FB0700DAF44', 'Lead', '411'), ('0FB0700DAF44', 'Lead', '412'), ('0FB0700DAF44', 'Lead', '413'), ('0FB0700DAF44', 'Lead', '414'), ('0FB0700DAF44', 'Lead', '415'), ('0FB0700DAF44', 'Lead', '416'), ('0FB0700DAF44', 'Lead', '417'), ('0FB0700DAF44', 'Lead', '418'), ('0FB0700DAF44', 'Lead', '419'), ('0FB0700DAF44', 'Lead', '420'), ('0FB0700DAF44', 'Lead', '420'), ('0FB0700DAF44', 'Lead', '421'), ('0FB0700DAF44', 'Lead', '422'), ('0FB0700DAF44', 'Lead', '423'), ('0FB0700DAF44', 'Lead', '423'), ('0FB0700DAF44', 'Lead', '423'), ('0FB0700DAF44', 'Lead', '424'), ('0FB0700DAF44', 'Lead', '424'), ('0FB0700DAF44', 'Lead', '425'), ('0FB0700DAF44', 'Lead', '426'), ('0FB0700DAF44', 'Lead', '427'), ('0FB0700DAF44', 'Lead', '428'), ('0FB0700DAF44', 'Lead', '428'), ('0FB0700DAF44', 'Lead', '429'), ('0FB0700DAF44', 'Lead', '430'), ('0FB0700DAF44', 'Lead', '430'), ('0FB0700DAF44', 'Lead', '431'), ('0FB0700DAF44', 'Lead', '432'), ('0FB0700DAF44', 'Lead', '433'), ('0FB0700DAF44', 'Lead', '434'), ('0FB0700DAF44', 'Lead', '435'), ('0FB0700DAF44', 'Lead', '436'), ('0FB0700DAF44', 'Lead', '437'), ('0FB0700DAF44', 'Lead', '437'), ('0FB0700DAF44', 'Lead', '438'), ('0FB0700DAF44', 'Lead', '439'), ('0FB0700DAF44', 'Lead', '440'), ('0FB0700DAF44', 'Lead', '441'), ('0FB0700DAF44', 'Lead', '442'), ('0FB0700DAF44', 'Lead', '443'), ('0FB0700DAF44', 'Lead', '444'), ('0FB0700DAF44', 'Lead', '445'), ('0FB0700DAF44', 'Lead', '446'), ('0FB0700DAF44', 'Lead', '447'), ('0FB0700DAF44', 'Lead', '448'), ('0FB0700DAF44', 'Lead', '449'), ('0FB0700DAF44', 'Lead', '450'), ('0FB0700DAF44', 'Lead', '451'), ('0FB0700DAF44', 'Lead', '451'), ('0FB0700DAF44', 'Lead', '452'), ('0FB0700DAF44', 'Lead', '453'), ('0FB0700DAF44', 'Lead', '454'), ('0FB0700DAF44', 'Lead', '454'), ('0FB0700DAF44', 'Lead', '455'), ('0FB0700DAF44', 'Lead', '456'), ('0FB0700DAF44', 'Lead', '457'), ('0FB0700DAF44', 'Lead', '458'), ('0FB0700DAF44', 'Lead', '459'), ('0FB0700DAF44', 'Lead', '459'), ('0FB0700DAF44', 'Lead', '460'), ('0FB0700DAF44', 'Lead', '460'), ('0FB0700DAF44', 'Lead', '461'), ('0FB0700DAF44', 'Lead', '462'), ('0FB0700DAF44', 'Lead', '463'), ('0FB0700DAF44', 'Lead', '464'), ('0FB0700DAF44', 'Lead', '465'), ('0FB0700DAF44', 'Lead', '466'), ('0FB0700DAF44', 'Lead', '467'), ('0FB0700DAF44', 'Lead', '468'), ('0FB0700DAF44', 'Lead', '469'), ('0FB0700DAF44', 'Lead', '469'), ('0FB0700DAF44', 'Lead', '470'), ('0FB0700DAF44', 'Lead', '471'), ('0FB0700DAF44', 'Lead', '472'), ('0FB0700DAF44', 'Lead', '473'), ('0FB0700DAF44', 'Lead', '474'), ('0FB0700DAF44', 'Lead', '475'), ('0FB0700DAF44', 'Lead', '476'), ('0FB0700DAF44', 'Lead', '477'), ('0FB0700DAF44', 'Lead', '478'), ('0FB0700DAF44', 'Lead', '479'), ('0FB0700DAF44', 'Lead', '480'), ('0FB0700DAF44', 'Lead', '481'), ('0FB0700DAF44', 'Lead', '482'), ('0FB0700DAF44', 'Lead', '482'), ('0FB0700DAF44', 'Lead', '483'), ('0FB0700DAF44', 'Lead', '484'), ('0FB0700DAF44', 'Lead', '485'), ('0FB0700DAF44', 'Lead', '486'), ('0FB0700DAF44', 'Lead', '487'), ('0FB0700DAF44', 'Lead', '488'), ('0FB0700DAF44', 'Lead', '489'), ('0FB0700DAF44', 'Lead', '490'), ('0FB0700DAF44', 'Lead', '491'), ('0FB0700DAF44', 'Lead', '492'), ('0FB0700DAF44', 'Lead', '493'), ('0FB0700DAF44', 'Lead', '493'), ('0FB0700DAF44', 'Lead', '494'), ('0FB0700DAF44', 'Lead', '495'), ('0FB0700DAF44', 'Lead', '496'), ('0FB0700DAF44', 'Lead', '497'), ('0FB0700DAF44', 'Lead', '498'), ('0FB0700DAF44', 'Lead', '499'), ('0FB0700DAF44', 'Lead', '499'), ('0FB0700DAF44', 'Lead', '500'), ('0FB0700DAF44', 'Lead', '500'), ('0FB0700DAF44', 'Lead', '501'), ('0FB0700DAF44', 'Lead', '502'), ('0FB0700DAF44', 'Lead', '503'), ('0FB0700DAF44', 'Lead', '504'), ('0FB0700DAF44', 'Lead', '505'), ('0FB0700DAF44', 'Lead', '505'), ('0FB0700DAF44', 'Lead', '506'), ('0FB0700DAF44', 'Lead', '507'), ('0FB0700DAF44', 'Lead', '508'), ('0FB0700DAF44', 'Lead', '509'), ('0FB0700DAF44', 'Lead', '510'), ('0FB0700DAF44', 'Lead', '511'), ('0FB0700DAF44', 'Lead', '511'), ('0FB0700DAF44', 'Lead', '512'), ('0FB0700DAF44', 'Lead', '513'), ('0FB0700DAF44', 'Lead', '514'), ('0FB0700DAF44', 'Lead', '515'), ('0FB0700DAF44', 'Lead', '516'), ('0FB0700DAF44', 'Lead', '517'), ('0FB0700DAF44', 'Lead', '518'), ('0FB0700DAF44', 'Lead', '518'), ('0FB0700DAF44', 'Lead', '519'), ('0FB0700DAF44', 'Lead', '520'), ('0FB0700DAF44', 'Lead', '521'), ('0FB0700DAF44', 'Lead', '522'), ('0FB0700DAF44', 'Lead', '523'), ('0FB0700DAF44', 'Lead', '524'), ('0FB0700DAF44', 'Lead', '525'), ('0FB0700DAF44', 'Lead', '526'), ('0FB0700DAF44', 'Lead', '527'), ('0FB0700DAF44', 'Lead', '527'), ('0FB0700DAF44', 'Lead', '528'), ('0FB0700DAF44', 'Lead', '529'), ('0FB0700DAF44', 'Lead', '530'), ('0FB0700DAF44', 'Lead', '531'), ('0FB0700DAF44', 'Lead', '532'), ('0FB0700DAF44', 'Lead', '533'), ('0FB0700DAF44', 'Lead', '534'), ('0FB0700DAF44', 'Lead', '535'), ('0FB0700DAF44', 'Lead', '536'), ('0FB0700DAF44', 'Lead', '537'), ('0FB0700DAF44', 'Lead', '538'), ('0FB0700DAF44', 'Lead', '538'), ('0FB0700DAF44', 'Lead', '539'), ('0FB0700DAF44', 'Lead', '540'), ('0FB0700DAF44', 'Lead', '541'), ('0FB0700DAF44', 'Lead', '541'), ('0FB0700DAF44', 'Lead', '542'), ('0FB0700DAF44', 'Lead', '543'), ('0FB0700DAF44', 'Lead', '544'), ('0FB0700DAF44', 'Lead', '545'), ('0FB0700DAF44', 'Lead', '546'), ('0FB0700DAF44', 'Lead', '547'), ('0FB0700DAF44', 'Lead', '548'), ('0FB0700DAF44', 'Lead', '549'), ('0FB0700DAF44', 'Lead', '550'), ('0FB0700DAF44', 'Lead', '551'), ('0FB0700DAF44', 'Lead', '552'), ('0FB0700DAF44', 'Lead', '553'), ('0FB0700DAF44', 'Lead', '554'), ('0FB0700DAF44', 'Lead', '555'), ('0FB0700DAF44', 'Lead', '556'), ('0FB0700DAF44', 'Lead', '556'), ('0FB0700DAF44', 'Lead', '556'), ('0FB0700DAF44', 'Lead', '556'), ('0FB0700DAF44', 'Lead', '556'), ('0FB0700DAF44', 'Lead', '557'), ('0FB0700DAF44', 'Lead', '558'), ('0FB0700DAF44', 'Lead', '559'), ('0FB0700DAF44', 'Lead', '560'), ('0FB0700DAF44', 'Lead', '561'), ('0FB0700DAF44', 'Lead', '562'), ('0FB0700DAF44', 'Lead', '563'), ('0FB0700DAF44', 'Lead', '564'), ('0FB0700DAF44', 'Lead', '565'), ('0FB0700DAF44', 'Lead', '566'), ('0FB0700DAF44', 'Lead', '566'), ('0FB0700DAF44', 'Lead', '567'), ('0FB0700DAF44', 'Lead', '568'), ('0FB0700DAF44', 'Lead', '569'), ('0FB0700DAF44', 'Lead', '570'), ('0FB0700DAF44', 'Lead', '571'), ('0FB0700DAF44', 'Lead', '572'), ('0FB0700DAF44', 'Lead', '573'), ('0FB0700DAF44', 'Lead', '574'), ('0FB0700DAF44', 'Lead', '575'), ('0FB0700DAF44', 'Lead', '575'), ('0FB0700DAF44', 'Lead', '576'), ('0FB0700DAF44', 'Lead', '577'), ('0FB0700DAF44', 'Lead', '578'), ('0FB0700DAF44', 'Lead', '579'), ('0FB0700DAF44', 'Lead', '580'), ('0FB0700DAF44', 'Lead', '581'), ('0FB0700DAF44', 'Lead', '582'), ('0FB0700DAF44', 'Lead', '583'), ('0FB0700DAF44', 'Lead', '584'), ('0FB0700DAF44', 'Lead', '585'), ('0FB0700DAF44', 'Lead', '586'), ('0FB0700DAF44', 'Lead', '586'), ('0FB0700DAF44', 'Lead', '587'), ('0FB0700DAF44', 'Lead', '588'), ('0FB0700DAF44', 'Lead', '589'), ('0FB0700DAF44', 'Lead', '590'), ('0FB0700DAF44', 'Lead', '591'), ('0FB0700DAF44', 'Lead', '592'), ('0FB0700DAF44', 'Lead', '592'), ('0FB0700DAF44', 'Lead', '593'), ('0FB0700DAF44', 'Lead', '594'), ('0FB0700DAF44', 'Lead', '595'), ('0FB0700DAF44', 'Lead', '596'), ('0FB0700DAF44', 'Lead', '596'), ('0FB0700DAF44', 'Lead', '597'), ('0FB0700DAF44', 'Lead', '597'), ('0FB0700DAF44', 'Lead', '598'), ('0FB0700DAF44', 'Lead', '599'), ('0FB0700DAF44', 'Lead', '600'), ('0FB0700DAF44', 'Lead', '601'), ('0FB0700DAF44', 'Lead', '602'), ('0FB0700DAF44', 'Lead', '603'), ('0FB0700DAF44', 'Lead', '604'), ('0FB0700DAF44', 'Lead', '605'), ('0FB0700DAF44', 'Lead', '606'), ('0FB0700DAF44', 'Lead', '607'), ('0FB0700DAF44', 'Lead', '608'), ('0FB0700DAF44', 'Lead', '609'), ('0FB0700DAF44', 'Lead', '610'), ('0FB0700DAF44', 'Lead', '611'), ('0FB0700DAF44', 'Lead', '612'), ('0FB0700DAF44', 'Lead', '613'), ('0FB0700DAF44', 'Lead', '614'), ('0FB0700DAF44', 'Lead', '614'), ('0FB0700DAF44', 'Lead', '615'), ('0FB0700DAF44', 'Lead', '615'), ('0FB0700DAF44', 'Lead', '615'), ('0FB0700DAF44', 'Lead', '616'), ('0FB0700DAF44', 'Lead', '617'), ('0FB0700DAF44', 'Lead', '618'), ('0FB0700DAF44', 'Lead', '619'), ('0FB0700DAF44', 'Lead', '620'), ('0FB0700DAF44', 'Lead', '621'), ('0FB0700DAF44', 'Lead', '622'), ('0FB0700DAF44', 'Lead', '623'), ('0FB0700DAF44', 'Lead', '624'), ('0FB0700DAF44', 'Lead', '625'), ('0FB0700DAF44', 'Lead', '626'), ('0FB0700DAF44', 'Lead', '627'), ('0FB0700DAF44', 'Lead', '628'), ('0FB0700DAF44', 'Lead', '629'), ('0FB0700DAF44', 'Lead', '630'), ('0FB0700DAF44', 'Lead', '630'), ('0FB0700DAF44', 'Lead', '630'), ('18409261F5C2', 'Lead', '0'), ('18409261F5C2', 'Lead', '0'), ('18409261F5C2', 'Lead', '1'), ('18409261F5C2', 'Lead', '2'), ('18409261F5C2', 'Lead', '3'), ('18409261F5C2', 'Lead', '4'), ('18409261F5C2', 'Lead', '5'), ('18409261F5C2', 'Lead', '6'), ('18409261F5C2', 'Lead', '7'), ('18409261F5C2', 'Lead', '8'), ('18409261F5C2', 'Lead', '9'), ('18409261F5C2', 'Lead', '10'), ('18409261F5C2', 'Lead', '11'), ('18409261F5C2', 'Lead', '12'), ('18409261F5C2', 'Lead', '12'), ('18409261F5C2', 'Lead', '13'), ('18409261F5C2', 'Lead', '14'), ('18409261F5C2', 'Lead', '15'), ('18409261F5C2', 'Lead', '16'), ('18409261F5C2', 'Lead', '16'), ('18409261F5C2', 'Lead', '17'), ('18409261F5C2', 'Lead', '18'), ('18409261F5C2', 'Lead', '19'), ('18409261F5C2', 'Lead', '20'), ('18409261F5C2', 'Lead', '21'), ('18409261F5C2', 'Lead', '22'), ('18409261F5C2', 'Lead', '23'), ('18409261F5C2', 'Lead', '23'), ('18409261F5C2', 'Lead', '24'), ('18409261F5C2', 'Lead', '25'), ('18409261F5C2', 'Lead', '26'), ('18409261F5C2', 'Lead', '27'), ('18409261F5C2', 'Lead', '28'), ('18409261F5C2', 'Lead', '29'), ('18409261F5C2', 'Lead', '30'), ('18409261F5C2', 'Lead', '31'), ('18409261F5C2', 'Lead', '32'), ('18409261F5C2', 'Lead', '33'), ('18409261F5C2', 'Lead', '34'), ('18409261F5C2', 'Lead', '35'), ('18409261F5C2', 'Lead', '36'), ('18409261F5C2', 'Lead', '37'), ('18409261F5C2', 'Lead', '38'), ('18409261F5C2', 'Lead', '38'), ('18409261F5C2', 'Lead', '39'), ('18409261F5C2', 'Lead', '39'), ('18409261F5C2', 'Lead', '40'), ('18409261F5C2', 'Lead', '41'), ('18409261F5C2', 'Lead', '42'), ('18409261F5C2', 'Lead', '43'), ('18409261F5C2', 'Lead', '44'), ('18409261F5C2', 'Lead', '45'), ('18409261F5C2', 'Lead', '46'), ('18409261F5C2', 'Lead', '47'), ('18409261F5C2', 'Lead', '48'), ('18409261F5C2', 'Lead', '49'), ('18409261F5C2', 'Lead', '50'), ('18409261F5C2', 'Lead', '51'), ('18409261F5C2', 'Lead', '52'), ('18409261F5C2', 'Lead', '53'), ('18409261F5C2', 'Lead', '53'), ('18409261F5C2', 'Lead', '54'), ('18409261F5C2', 'Lead', '54'), ('18409261F5C2', 'Lead', '55'), ('18409261F5C2', 'Lead', '56'), ('18409261F5C2', 'Lead', '56'), ('18409261F5C2', 'Lead', '57'), ('18409261F5C2', 'Lead', '57'), ('18409261F5C2', 'Lead', '58'), ('18409261F5C2', 'Lead', '59'), ('18409261F5C2', 'Lead', '60'), ('18409261F5C2', 'Lead', '61'), ('18409261F5C2', 'Lead', '62'), ('18409261F5C2', 'Lead', '63'), ('18409261F5C2', 'Lead', '64'), ('18409261F5C2', 'Lead', '64'), ('18409261F5C2', 'Lead', '64'), ('18409261F5C2', 'Lead', '65'), ('18409261F5C2', 'Lead', '66'), ('18409261F5C2', 'Lead', '67'), ('18409261F5C2', 'Lead', '68'), ('18409261F5C2', 'Lead', '69'), ('18409261F5C2', 'Lead', '70'), ('18409261F5C2', 'Lead', '70'), ('18409261F5C2', 'Lead', '71'), ('18409261F5C2', 'Lead', '72'), ('18409261F5C2', 'Lead', '73'), ('18409261F5C2', 'Lead', '74'), ('18409261F5C2', 'Lead', '75'), ('18409261F5C2', 'Lead', '76'), ('18409261F5C2', 'Lead', '77'), ('18409261F5C2', 'Lead', '77'), ('18409261F5C2', 'Lead', '78'), ('18409261F5C2', 'Lead', '79'), ('18409261F5C2', 'Lead', '79'), ('18409261F5C2', 'Lead', '80'), ('18409261F5C2', 'Lead', '81'), ('18409261F5C2', 'Lead', '82'), ('18409261F5C2', 'Lead', '83'), ('18409261F5C2', 'Lead', '84'), ('18409261F5C2', 'Lead', '85'), ('18409261F5C2', 'Lead', '85'), ('18409261F5C2', 'Lead', '85'), ('18409261F5C2', 'Lead', '86'), ('18409261F5C2', 'Lead', '87'), ('18409261F5C2', 'Lead', '88'), ('18409261F5C2', 'Lead', '89'), ('18409261F5C2', 'Lead', '90'), ('18409261F5C2', 'Lead', '91'), ('18409261F5C2', 'Lead', '92'), ('18409261F5C2', 'Lead', '92'), ('18409261F5C2', 'Lead', '93'), ('18409261F5C2', 'Lead', '94'), ('18409261F5C2', 'Lead', '95'), ('18409261F5C2', 'Lead', '96'), ('18409261F5C2', 'Lead', '97'), ('18409261F5C2', 'Lead', '97'), ('18409261F5C2', 'Lead', '98'), ('18409261F5C2', 'Lead', '99'), ('18409261F5C2', 'Lead', '100'), ('18409261F5C2', 'Lead', '101'), ('18409261F5C2', 'Lead', '102'), ('18409261F5C2', 'Lead', '103'), ('18409261F5C2', 'Lead', '103'), ('18409261F5C2', 'Lead', '104'), ('18409261F5C2', 'Lead', '105'), ('18409261F5C2', 'Lead', '106'), ('18409261F5C2', 'Lead', '107'), ('18409261F5C2', 'Lead', '108'), ('18409261F5C2', 'Lead', '109'), ('18409261F5C2', 'Lead', '110'), ('18409261F5C2', 'Lead', '111'), ('18409261F5C2', 'Lead', '112'), ('18409261F5C2', 'Lead', '113'), ('18409261F5C2', 'Lead', '113'), ('18409261F5C2', 'Lead', '114'), ('18409261F5C2', 'Lead', '115'), ('18409261F5C2', 'Lead', '115'), ('18409261F5C2', 'Lead', '116'), ('18409261F5C2', 'Lead', '117'), ('18409261F5C2', 'Lead', '118'), ('18409261F5C2', 'Lead', '119'), ('18409261F5C2', 'Lead', '120'), ('18409261F5C2', 'Lead', '121'), ('18409261F5C2', 'Lead', '122'), ('18409261F5C2', 'Lead', '123'), ('18409261F5C2', 'Lead', '123'), ('18409261F5C2', 'Lead', '124'), ('18409261F5C2', 'Lead', '124'), ('18409261F5C2', 'Lead', '125'), ('18409261F5C2', 'Lead', '126'), ('18409261F5C2', 'Lead', '127'), ('18409261F5C2', 'Lead', '128'), ('18409261F5C2', 'Lead', '129'), ('18409261F5C2', 'Lead', '129'), ('18409261F5C2', 'Lead', '130'), ('18409261F5C2', 'Lead', '131'), ('18409261F5C2', 'Lead', '132'), ('18409261F5C2', 'Lead', '133'), ('18409261F5C2', 'Lead', '134'), ('18409261F5C2', 'Lead', '135'), ('18409261F5C2', 'Lead', '136'), ('18409261F5C2', 'Lead', '137'), ('18409261F5C2', 'Lead', '138'), ('18409261F5C2', 'Lead', '139'), ('18409261F5C2', 'Lead', '140'), ('18409261F5C2', 'Lead', '141'), ('18409261F5C2', 'Lead', '142'), ('18409261F5C2', 'Lead', '143'), ('18409261F5C2', 'Lead', '144'), ('18409261F5C2', 'Lead', '145'), ('18409261F5C2', 'Lead', '145'), ('18409261F5C2', 'Lead', '146'), ('18409261F5C2', 'Lead', '147'), ('18409261F5C2', 'Lead', '148'), ('18409261F5C2', 'Lead', '149'), ('18409261F5C2', 'Lead', '150'), ('18409261F5C2', 'Lead', '151'), ('18409261F5C2', 'Lead', '152'), ('18409261F5C2', 'Lead', '153'), ('18409261F5C2', 'Lead', '153'), ('18409261F5C2', 'Lead', '154'), ('18409261F5C2', 'Lead', '155'), ('18409261F5C2', 'Lead', '156'), ('18409261F5C2', 'Lead', '157'), ('18409261F5C2', 'Lead', '158'), ('18409261F5C2', 'Lead', '159'), ('18409261F5C2', 'Lead', '160'), ('18409261F5C2', 'Lead', '161'), ('18409261F5C2', 'Lead', '161'), ('18409261F5C2', 'Lead', '161'), ('18409261F5C2', 'Lead', '161'), ('18409261F5C2', 'Lead', '161'), ('18409261F5C2', 'Lead', '162'), ('18409261F5C2', 'Lead', '162'), ('18409261F5C2', 'Lead', '163'), ('18409261F5C2', 'Lead', '164'), ('18409261F5C2', 'Lead', '165'), ('18409261F5C2', 'Lead', '166'), ('18409261F5C2', 'Lead', '167'), ('18409261F5C2', 'Lead', '168'), ('18409261F5C2', 'Lead', '169'), ('18409261F5C2', 'Lead', '170'), ('18409261F5C2', 'Lead', '171'), ('18409261F5C2', 'Lead', '171'), ('18409261F5C2', 'Lead', '171'), ('18409261F5C2', 'Lead', '171'), ('18409261F5C2', 'Lead', '172'), ('18409261F5C2', 'Lead', '173'), ('18409261F5C2', 'Lead', '174'), ('18409261F5C2', 'Lead', '175'), ('18409261F5C2', 'Lead', '176'), ('18409261F5C2', 'Lead', '177'), ('18409261F5C2', 'Lead', '178'), ('18409261F5C2', 'Lead', '179'), ('18409261F5C2', 'Lead', '180'), ('18409261F5C2', 'Lead', '181'), ('18409261F5C2', 'Lead', '182'), ('18409261F5C2', 'Lead', '183'), ('18409261F5C2', 'Lead', '184'), ('18409261F5C2', 'Lead', '185'), ('18409261F5C2', 'Lead', '186'), ('18409261F5C2', 'Lead', '187'), ('18409261F5C2', 'Lead', '187'), ('18409261F5C2', 'Lead', '188'), ('18409261F5C2', 'Lead', '189'), ('18409261F5C2', 'Lead', '190'), ('18409261F5C2', 'Lead', '191'), ('18409261F5C2', 'Lead', '191'), ('18409261F5C2', 'Lead', '192'), ('18409261F5C2', 'Lead', '193'), ('18409261F5C2', 'Lead', '193'), ('18409261F5C2', 'Lead', '193'), ('18409261F5C2', 'Lead', '194'), ('18409261F5C2', 'Lead', '195'), ('18409261F5C2', 'Lead', '196'), ('18409261F5C2', 'Lead', '197'), ('18409261F5C2', 'Lead', '198'), ('18409261F5C2', 'Lead', '199'), ('18409261F5C2', 'Lead', '199'), ('18409261F5C2', 'Lead', '200'), ('18409261F5C2', 'Lead', '201'), ('18409261F5C2', 'Lead', '202'), ('18409261F5C2', 'Lead', '203'), ('18409261F5C2', 'Lead', '204'), ('18409261F5C2', 'Lead', '205'), ('18409261F5C2', 'Lead', '206'), ('18409261F5C2', 'Lead', '207'), ('18409261F5C2', 'Lead', '208'), ('18409261F5C2', 'Lead', '208'), ('18409261F5C2', 'Lead', '208'), ('18409261F5C2', 'Lead', '209'), ('18409261F5C2', 'Lead', '210'), ('18409261F5C2', 'Lead', '210'), ('18409261F5C2', 'Lead', '210'), ('18409261F5C2', 'Lead', '210'), ('18409261F5C2', 'Lead', '211'), ('18409261F5C2', 'Lead', '211'), ('18409261F5C2', 'Lead', '212'), ('18409261F5C2', 'Lead', '213'), ('18409261F5C2', 'Lead', '214'), ('18409261F5C2', 'Lead', '215'), ('18409261F5C2', 'Lead', '216'), ('18409261F5C2', 'Lead', '216'), ('18409261F5C2', 'Lead', '216'), ('18409261F5C2', 'Lead', '217'), ('18409261F5C2', 'Lead', '217'), ('18409261F5C2', 'Lead', '218'), ('18409261F5C2', 'Lead', '219'), ('18409261F5C2', 'Lead', '220'), ('18409261F5C2', 'Lead', '221'), ('18409261F5C2', 'Lead', '222'), ('18409261F5C2', 'Lead', '223'), ('18409261F5C2', 'Lead', '224'), ('18409261F5C2', 'Lead', '225'), ('18409261F5C2', 'Lead', '225'), ('18409261F5C2', 'Lead', '226'), ('18409261F5C2', 'Lead', '227'), ('18409261F5C2', 'Lead', '228'), ('18409261F5C2', 'Lead', '228'), ('18409261F5C2', 'Lead', '229'), ('18409261F5C2', 'Lead', '230'), ('18409261F5C2', 'Lead', '231'), ('18409261F5C2', 'Lead', '232'), ('18409261F5C2', 'Lead', '233'), ('18409261F5C2', 'Lead', '234'), ('18409261F5C2', 'Lead', '235'), ('18409261F5C2', 'Lead', '236'), ('18409261F5C2', 'Lead', '237'), ('18409261F5C2', 'Lead', '238'), ('18409261F5C2', 'Lead', '239'), ('18409261F5C2', 'Lead', '240'), ('18409261F5C2', 'Lead', '241'), ('18409261F5C2', 'Lead', '242'), ('18409261F5C2', 'Lead', '243'), ('18409261F5C2', 'Lead', '243'), ('18409261F5C2', 'Lead', '244'), ('18409261F5C2', 'Lead', '245'), ('18409261F5C2', 'Lead', '246'), ('18409261F5C2', 'Lead', '247'), ('18409261F5C2', 'Lead', '248'), ('18409261F5C2', 'Lead', '248'), ('18409261F5C2', 'Lead', '249'), ('18409261F5C2', 'Lead', '250'), ('18409261F5C2', 'Lead', '251'), ('18409261F5C2', 'Lead', '251'), ('18409261F5C2', 'Lead', '251'), ('18409261F5C2', 'Lead', '251'), ('18409261F5C2', 'Lead', '252'), ('18409261F5C2', 'Lead', '253'), ('18409261F5C2', 'Lead', '254'), ('18409261F5C2', 'Lead', '255'), ('18409261F5C2', 'Lead', '255'), ('18409261F5C2', 'Lead', '255'), ('18409261F5C2', 'Lead', '255'), ('18409261F5C2', 'Lead', '256'), ('18409261F5C2', 'Lead', '256'), ('18409261F5C2', 'Lead', '257'), ('18409261F5C2', 'Lead', '258'), ('18409261F5C2', 'Lead', '259'), ('18409261F5C2', 'Lead', '260'), ('18409261F5C2', 'Lead', '261'), ('18409261F5C2', 'Lead', '262'), ('18409261F5C2', 'Lead', '262'), ('18409261F5C2', 'Lead', '263'), ('18409261F5C2', 'Lead', '264'), ('18409261F5C2', 'Lead', '265'), ('18409261F5C2', 'Lead', '266'), ('18409261F5C2', 'Lead', '267'), ('18409261F5C2', 'Lead', '268'), ('18409261F5C2', 'Lead', '269'), ('18409261F5C2', 'Lead', '270'), ('18409261F5C2', 'Lead', '270'), ('18409261F5C2', 'Lead', '271'), ('18409261F5C2', 'Lead', '272'), ('18409261F5C2', 'Lead', '272'), ('18409261F5C2', 'Lead', '272'), ('18409261F5C2', 'Lead', '272'), ('18409261F5C2', 'Lead', '273'), ('18409261F5C2', 'Lead', '274'), ('18409261F5C2', 'Lead', '274'), ('18409261F5C2', 'Lead', '275'), ('18409261F5C2', 'Lead', '276'), ('18409261F5C2', 'Lead', '277'), ('18409261F5C2', 'Lead', '278'), ('18409261F5C2', 'Lead', '279'), ('18409261F5C2', 'Lead', '280'), ('18409261F5C2', 'Lead', '281'), ('18409261F5C2', 'Lead', '282'), ('18409261F5C2', 'Lead', '283'), ('18409261F5C2', 'Lead', '284'), ('18409261F5C2', 'Lead', '285'), ('18409261F5C2', 'Lead', '286'), ('18409261F5C2', 'Lead', '287'), ('18409261F5C2', 'Lead', '288'), ('18409261F5C2', 'Lead', '289'), ('18409261F5C2', 'Lead', '289'), ('18409261F5C2', 'Lead', '290'), ('18409261F5C2', 'Lead', '291'), ('18409261F5C2', 'Lead', '292'), ('18409261F5C2', 'Lead', '292'), ('18409261F5C2', 'Lead', '293'), ('18409261F5C2', 'Lead', '294'), ('18409261F5C2', 'Lead', '295'), ('18409261F5C2', 'Lead', '296'), ('18409261F5C2', 'Lead', '297'), ('18409261F5C2', 'Lead', '298'), ('18409261F5C2', 'Lead', '299'), ('18409261F5C2', 'Lead', '299'), ('18409261F5C2', 'Lead', '299'), ('18409261F5C2', 'Lead', '299'), ('18409261F5C2', 'Lead', '300'), ('18409261F5C2', 'Lead', '300'), ('18409261F5C2', 'Lead', '301'), ('18409261F5C2', 'Lead', '302'), ('18409261F5C2', 'Lead', '303'), ('18409261F5C2', 'Lead', '304'), ('18409261F5C2', 'Lead', '305'), ('18409261F5C2', 'Lead', '306'), ('18409261F5C2', 'Lead', '307'), ('18409261F5C2', 'Lead', '308'), ('18409261F5C2', 'Lead', '309'), ('18409261F5C2', 'Lead', '309'), ('18409261F5C2', 'Lead', '310'), ('18409261F5C2', 'Lead', '311'), ('18409261F5C2', 'Lead', '312'), ('18409261F5C2', 'Lead', '313'), ('18409261F5C2', 'Lead', '314'), ('18409261F5C2', 'Lead', '315'), ('18409261F5C2', 'Lead', '316'), ('18409261F5C2', 'Lead', '317'), ('18409261F5C2', 'Lead', '318'), ('18409261F5C2', 'Lead', '319'), ('18409261F5C2', 'Lead', '320'), ('18409261F5C2', 'Lead', '321'), ('18409261F5C2', 'Lead', '321'), ('18409261F5C2', 'Lead', '321'), ('18409261F5C2', 'Lead', '321'), ('18409261F5C2', 'Lead', '322'), ('18409261F5C2', 'Lead', '323'), ('18409261F5C2', 'Lead', '324'), ('18409261F5C2', 'Lead', '325'), ('18409261F5C2', 'Lead', '326'), ('18409261F5C2', 'Lead', '327'), ('18409261F5C2', 'Lead', '328'), ('18409261F5C2', 'Lead', '328'), ('18409261F5C2', 'Lead', '329'), ('18409261F5C2', 'Lead', '329'), ('18409261F5C2', 'Lead', '329'), ('18409261F5C2', 'Lead', '330'), ('18409261F5C2', 'Lead', '331'), ('18409261F5C2', 'Lead', '331'), ('18409261F5C2', 'Lead', '332'), ('18409261F5C2', 'Lead', '333'), ('18409261F5C2', 'Lead', '334'), ('18409261F5C2', 'Lead', '335'), ('18409261F5C2', 'Lead', '335'), ('18409261F5C2', 'Lead', '336'), ('18409261F5C2', 'Lead', '337'), ('18409261F5C2', 'Lead', '338'), ('18409261F5C2', 'Lead', '339'), ('18409261F5C2', 'Lead', '340'), ('18409261F5C2', 'Lead', '341'), ('18409261F5C2', 'Lead', '342'), ('18409261F5C2', 'Lead', '343'), ('18409261F5C2', 'Lead', '344'), ('18409261F5C2', 'Lead', '344'), ('18409261F5C2', 'Lead', '345'), ('18409261F5C2', 'Lead', '345'), ('18409261F5C2', 'Lead', '346'), ('18409261F5C2', 'Lead', '347'), ('18409261F5C2', 'Lead', '347'), ('18409261F5C2', 'Lead', '348'), ('18409261F5C2', 'Lead', '349'), ('18409261F5C2', 'Lead', '350'), ('18409261F5C2', 'Lead', '351'), ('18409261F5C2', 'Lead', '352'), ('18409261F5C2', 'Lead', '353'), ('18409261F5C2', 'Lead', '354'), ('18409261F5C2', 'Lead', '355'), ('18409261F5C2', 'Lead', '355'), ('18409261F5C2', 'Lead', '356'), ('18409261F5C2', 'Lead', '357'), ('18409261F5C2', 'Lead', '358'), ('18409261F5C2', 'Lead', '358'), ('18409261F5C2', 'Lead', '358'), ('18409261F5C2', 'Lead', '358'), ('18409261F5C2', 'Lead', '359'), ('18409261F5C2', 'Lead', '360'), ('18409261F5C2', 'Lead', '361'), ('18409261F5C2', 'Lead', '362'), ('18409261F5C2', 'Lead', '363'), ('18409261F5C2', 'Lead', '363'), ('18409261F5C2', 'Lead', '364'), ('18409261F5C2', 'Lead', '365'), ('18409261F5C2', 'Lead', '366'), ('18409261F5C2', 'Lead', '367'), ('18409261F5C2', 'Lead', '368'), ('18409261F5C2', 'Lead', '369'), ('18409261F5C2', 'Lead', '370'), ('18409261F5C2', 'Lead', '371'), ('18409261F5C2', 'Lead', '372'), ('18409261F5C2', 'Lead', '373'), ('18409261F5C2', 'Lead', '374'), ('18409261F5C2', 'Lead', '374'), ('18409261F5C2', 'Lead', '375'), ('18409261F5C2', 'Lead', '376'), ('18409261F5C2', 'Lead', '376'), ('18409261F5C2', 'Lead', '377'), ('18409261F5C2', 'Lead', '378'), ('18409261F5C2', 'Lead', '379'), ('18409261F5C2', 'Lead', '379'), ('18409261F5C2', 'Lead', '380'), ('18409261F5C2', 'Lead', '380'), ('18409261F5C2', 'Lead', '380'), ('18409261F5C2', 'Lead', '381'), ('18409261F5C2', 'Lead', '382'), ('18409261F5C2', 'Lead', '383'), ('18409261F5C2', 'Lead', '384'), ('18409261F5C2', 'Lead', '385'), ('18409261F5C2', 'Lead', '386'), ('18409261F5C2', 'Lead', '387'), ('18409261F5C2', 'Lead', '387'), ('18409261F5C2', 'Lead', '388'), ('18409261F5C2', 'Lead', '389'), ('18409261F5C2', 'Lead', '389'), ('18409261F5C2', 'Lead', '389'), ('18409261F5C2', 'Lead', '389'), ('18409261F5C2', 'Lead', '390'), ('18409261F5C2', 'Lead', '391'), ('18409261F5C2', 'Lead', '391'), ('18409261F5C2', 'Lead', '392'), ('18409261F5C2', 'Lead', '393'), ('18409261F5C2', 'Lead', '394'), ('18409261F5C2', 'Lead', '395'), ('18409261F5C2', 'Lead', '396'), ('18409261F5C2', 'Lead', '397'), ('18409261F5C2', 'Lead', '398'), ('18409261F5C2', 'Lead', '399'), ('18409261F5C2', 'Lead', '399'), ('18409261F5C2', 'Lead', '399'), ('18409261F5C2', 'Lead', '400'), ('18409261F5C2', 'Lead', '401'), ('18409261F5C2', 'Lead', '402'), ('18409261F5C2', 'Lead', '403'), ('18409261F5C2', 'Lead', '403'), ('18409261F5C2', 'Lead', '404'), ('18409261F5C2', 'Lead', '405'), ('18409261F5C2', 'Lead', '406'), ('18409261F5C2', 'Lead', '406'), ('18409261F5C2', 'Lead', '407'), ('18409261F5C2', 'Lead', '408'), ('18409261F5C2', 'Lead', '409'), ('18409261F5C2', 'Lead', '410'), ('18409261F5C2', 'Lead', '411'), ('18409261F5C2', 'Lead', '412'), ('18409261F5C2', 'Lead', '413'), ('18409261F5C2', 'Lead', '414'), ('18409261F5C2', 'Lead', '415'), ('18409261F5C2', 'Lead', '416'), ('18409261F5C2', 'Lead', '417'), ('18409261F5C2', 'Lead', '418'), ('18409261F5C2', 'Lead', '418'), ('18409261F5C2', 'Lead', '419'), ('18409261F5C2', 'Lead', '419'), ('18409261F5C2', 'Lead', '420'), ('18409261F5C2', 'Lead', '421'), ('18409261F5C2', 'Lead', '422'), ('18409261F5C2', 'Lead', '423'), ('18409261F5C2', 'Lead', '424'), ('18409261F5C2', 'Lead', '425'), ('18409261F5C2', 'Lead', '426'), ('18409261F5C2', 'Lead', '427'), ('18409261F5C2', 'Lead', '428'), ('18409261F5C2', 'Lead', '429'), ('18409261F5C2', 'Lead', '430'), ('18409261F5C2', 'Lead', '431'), ('18409261F5C2', 'Lead', '432'), ('18409261F5C2', 'Lead', '433'), ('18409261F5C2', 'Lead', '434'), ('18409261F5C2', 'Lead', '435'), ('18409261F5C2', 'Lead', '436'), ('18409261F5C2', 'Lead', '437'), ('18409261F5C2', 'Lead', '438'), ('18409261F5C2', 'Lead', '439'), ('18409261F5C2', 'Lead', '439'), ('18409261F5C2', 'Lead', '439'), ('18409261F5C2', 'Lead', '439'), ('18409261F5C2', 'Lead', '439'), ('18409261F5C2', 'Lead', '440'), ('18409261F5C2', 'Lead', '441'), ('18409261F5C2', 'Lead', '442'), ('18409261F5C2', 'Lead', '443'), ('18409261F5C2', 'Lead', '444'), ('18409261F5C2', 'Lead', '445'), ('18409261F5C2', 'Lead', '446'), ('18409261F5C2', 'Lead', '447'), ('18409261F5C2', 'Lead', '448'), ('18409261F5C2', 'Lead', '449'), ('18409261F5C2', 'Lead', '449'), ('18409261F5C2', 'Lead', '449'), ('18409261F5C2', 'Lead', '449'), ('18409261F5C2', 'Lead', '450'), ('18409261F5C2', 'Lead', '451'), ('18409261F5C2', 'Lead', '452'), ('18409261F5C2', 'Lead', '453'), ('18409261F5C2', 'Lead', '454'), ('18409261F5C2', 'Lead', '455'), ('18409261F5C2', 'Lead', '456'), ('18409261F5C2', 'Lead', '457'), ('18409261F5C2', 'Lead', '458'), ('18409261F5C2', 'Lead', '459'), ('18409261F5C2', 'Lead', '460'), ('18409261F5C2', 'Lead', '461'), ('18409261F5C2', 'Lead', '462'), ('18409261F5C2', 'Lead', '462'), ('18409261F5C2', 'Lead', '463'), ('18409261F5C2', 'Lead', '464'), ('18409261F5C2', 'Lead', '464'), ('18409261F5C2', 'Lead', '464'), ('18409261F5C2', 'Lead', '465'), ('18409261F5C2', 'Lead', '466'), ('18409261F5C2', 'Lead', '467'), ('18409261F5C2', 'Lead', '468'), ('18409261F5C2', 'Lead', '469'), ('18409261F5C2', 'Lead', '470'), ('18409261F5C2', 'Lead', '471'), ('18409261F5C2', 'Lead', '471'), ('18409261F5C2', 'Lead', '472'), ('18409261F5C2', 'Lead', '473'), ('18409261F5C2', 'Lead', '474'), ('18409261F5C2', 'Lead', '475'), ('18409261F5C2', 'Lead', '476'), ('18409261F5C2', 'Lead', '477'), ('18409261F5C2', 'Lead', '478'), ('18409261F5C2', 'Lead', '479'), ('18409261F5C2', 'Lead', '479'), ('18409261F5C2', 'Lead', '480'), ('18409261F5C2', 'Lead', '480'), ('18409261F5C2', 'Lead', '480'), ('18409261F5C2', 'Lead', '481'), ('18409261F5C2', 'Lead', '482'), ('18409261F5C2', 'Lead', '483'), ('18409261F5C2', 'Lead', '484'), ('18409261F5C2', 'Lead', '484'), ('18409261F5C2', 'Lead', '485'), ('18409261F5C2', 'Lead', '486'), ('18409261F5C2', 'Lead', '487'), ('18409261F5C2', 'Lead', '487'), ('18409261F5C2', 'Lead', '488'), ('18409261F5C2', 'Lead', '489'), ('18409261F5C2', 'Lead', '490'), ('18409261F5C2', 'Lead', '491'), ('18409261F5C2', 'Lead', '492'), ('18409261F5C2', 'Lead', '493'), ('18409261F5C2', 'Lead', '494'), ('18409261F5C2', 'Lead', '494'), ('18409261F5C2', 'Lead', '494'), ('18409261F5C2', 'Lead', '495'), ('18409261F5C2', 'Lead', '496'), ('18409261F5C2', 'Lead', '497'), ('18409261F5C2', 'Lead', '498'), ('18409261F5C2', 'Lead', '499'), ('18409261F5C2', 'Lead', '500'), ('18409261F5C2', 'Lead', '501'), ('18409261F5C2', 'Lead', '502'), ('18409261F5C2', 'Lead', '502'), ('18409261F5C2', 'Lead', '503'), ('18409261F5C2', 'Lead', '503'), ('18409261F5C2', 'Lead', '503'), ('18409261F5C2', 'Lead', '504'), ('18409261F5C2', 'Lead', '504'), ('18409261F5C2', 'Lead', '505'), ('18409261F5C2', 'Lead', '506'), ('18409261F5C2', 'Lead', '507'), ('18409261F5C2', 'Lead', '508'), ('18409261F5C2', 'Lead', '509'), ('18409261F5C2', 'Lead', '509'), ('18409261F5C2', 'Lead', '510'), ('18409261F5C2', 'Lead', '511'), ('18409261F5C2', 'Lead', '512'), ('18409261F5C2', 'Lead', '513'), ('18409261F5C2', 'Lead', '514'), ('18409261F5C2', 'Lead', '515'), ('18409261F5C2', 'Lead', '515'), ('18409261F5C2', 'Lead', '516'), ('18409261F5C2', 'Lead', '517'), ('18409261F5C2', 'Lead', '518'), ('18409261F5C2', 'Lead', '519'), ('18409261F5C2', 'Lead', '519'), ('18409261F5C2', 'Lead', '520'), ('18409261F5C2', 'Lead', '521'), ('18409261F5C2', 'Lead', '521'), ('18409261F5C2', 'Lead', '522'), ('18409261F5C2', 'Lead', '523'), ('18409261F5C2', 'Lead', '524'), ('18409261F5C2', 'Lead', '525'), ('18409261F5C2', 'Lead', '526'), ('18409261F5C2', 'Lead', '527'), ('18409261F5C2', 'Lead', '527'), ('18409261F5C2', 'Lead', '527'), ('18409261F5C2', 'Lead', '528'), ('18409261F5C2', 'Lead', '529'), ('18409261F5C2', 'Lead', '529'), ('18409261F5C2', 'Lead', '530'), ('18409261F5C2', 'Lead', '531'), ('18409261F5C2', 'Lead', '532'), ('18409261F5C2', 'Lead', '533'), ('18409261F5C2', 'Lead', '534'), ('18409261F5C2', 'Lead', '535'), ('18409261F5C2', 'Lead', '536'), ('18409261F5C2', 'Lead', '537'), ('18409261F5C2', 'Lead', '538'), ('18409261F5C2', 'Lead', '539'), ('18409261F5C2', 'Lead', '539'), ('18409261F5C2', 'Lead', '540'), ('18409261F5C2', 'Lead', '541'), ('18409261F5C2', 'Lead', '542'), ('18409261F5C2', 'Lead', '543'), ('18409261F5C2', 'Lead', '544'), ('18409261F5C2', 'Lead', '545'), ('18409261F5C2', 'Lead', '546'), ('18409261F5C2', 'Lead', '547'), ('18409261F5C2', 'Lead', '548'), ('18409261F5C2', 'Lead', '549'), ('18409261F5C2', 'Lead', '549'), ('18409261F5C2', 'Lead', '550'), ('18409261F5C2', 'Lead', '551'), ('18409261F5C2', 'Lead', '552'), ('18409261F5C2', 'Lead', '553'), ('18409261F5C2', 'Lead', '554'), ('18409261F5C2', 'Lead', '555'), ('18409261F5C2', 'Lead', '556'), ('18409261F5C2', 'Lead', '557'), ('18409261F5C2', 'Lead', '558'), ('18409261F5C2', 'Lead', '559'), ('18409261F5C2', 'Lead', '560'), ('18409261F5C2', 'Lead', '561'), ('18409261F5C2', 'Lead', '561'), ('18409261F5C2', 'Lead', '562'), ('18409261F5C2', 'Lead', '563'), ('18409261F5C2', 'Lead', '563'), ('18409261F5C2', 'Lead', '563'), ('18409261F5C2', 'Lead', '564'), ('18409261F5C2', 'Lead', '564'), ('18409261F5C2', 'Lead', '565'), ('18409261F5C2', 'Lead', '566'), ('18409261F5C2', 'Lead', '567'), ('18409261F5C2', 'Lead', '568'), ('18409261F5C2', 'Lead', '569'), ('18409261F5C2', 'Lead', '570'), ('18409261F5C2', 'Lead', '571'), ('18409261F5C2', 'Lead', '572'), ('18409261F5C2', 'Lead', '573'), ('18409261F5C2', 'Lead', '574'), ('18409261F5C2', 'Lead', '574'), ('18409261F5C2', 'Lead', '575'), ('18409261F5C2', 'Lead', '576'), ('18409261F5C2', 'Lead', '577'), ('18409261F5C2', 'Lead', '578'), ('18409261F5C2', 'Lead', '579'), ('18409261F5C2', 'Lead', '580'), ('18409261F5C2', 'Lead', '581'), ('18409261F5C2', 'Lead', '582'), ('18409261F5C2', 'Lead', '583'), ('18409261F5C2', 'Lead', '584'), ('18409261F5C2', 'Lead', '585'), ('18409261F5C2', 'Lead', '586'), ('18409261F5C2', 'Lead', '587'), ('18409261F5C2', 'Lead', '588'), ('18409261F5C2', 'Lead', '589'), ('18409261F5C2', 'Lead', '590'), ('18409261F5C2', 'Lead', '591'), ('18409261F5C2', 'Lead', '591'), ('18409261F5C2', 'Lead', '592'), ('18409261F5C2', 'Lead', '593'), ('18409261F5C2', 'Lead', '593'), ('18409261F5C2', 'Lead', '594'), ('18409261F5C2', 'Lead', '594'), ('18409261F5C2', 'Lead', '594'), ('18409261F5C2', 'Lead', '595'), ('18409261F5C2', 'Lead', '596'), ('18409261F5C2', 'Lead', '597'), ('18409261F5C2', 'Lead', '598'), ('18409261F5C2', 'Lead', '599'), ('18409261F5C2', 'Lead', '599'), ('18409261F5C2', 'Lead', '600'), ('18409261F5C2', 'Lead', '600'), ('18409261F5C2', 'Lead', '601'), ('18409261F5C2', 'Lead', '602'), ('18409261F5C2', 'Lead', '603'), ('18409261F5C2', 'Lead', '604'), ('18409261F5C2', 'Lead', '605'), ('18409261F5C2', 'Lead', '606'), ('18409261F5C2', 'Lead', '607'), ('18409261F5C2', 'Lead', '608'), ('18409261F5C2', 'Lead', '609'), ('18409261F5C2', 'Lead', '610'), ('18409261F5C2', 'Lead', '611'), ('18409261F5C2', 'Lead', '612'), ('18409261F5C2', 'Lead', '612'), ('18409261F5C2', 'Lead', '612'), ('18409261F5C2', 'Lead', '612'), ('18409261F5C2', 'Lead', '613'), ('18409261F5C2', 'Lead', '614'), ('18409261F5C2', 'Lead', '615'), ('18409261F5C2', 'Lead', '616'), ('18409261F5C2', 'Lead', '617'), ('18409261F5C2', 'Lead', '617'), ('18409261F5C2', 'Lead', '618'), ('18409261F5C2', 'Lead', '618'), ('18409261F5C2', 'Lead', '618'), ('18409261F5C2', 'Lead', '619'), ('18409261F5C2', 'Lead', '619'), ('18409261F5C2', 'Lead', '620'), ('18409261F5C2', 'Lead', '621'), ('18409261F5C2', 'Lead', '622'), ('18409261F5C2', 'Lead', '623'), ('18409261F5C2', 'Lead', '624'), ('18409261F5C2', 'Lead', '625'), ('18409261F5C2', 'Lead', '625'), ('18409261F5C2', 'Lead', '626'), ('18409261F5C2', 'Lead', '627'), ('18409261F5C2', 'Lead', '628'), ('18409261F5C2', 'Lead', '629'), ('18409261F5C2', 'Lead', '630'), ('18409261F5C2', 'Lead', '631'), ('18409261F5C2', 'Lead', '632'), ('18409261F5C2', 'Lead', '632'), ('18409261F5C2', 'Lead', '633'), ('18409261F5C2', 'Lead', '634'), ('18409261F5C2', 'Lead', '635'), ('18409261F5C2', 'Lead', '636'), ('18409261F5C2', 'Lead', '637'), ('18409261F5C2', 'Lead', '638'), ('18409261F5C2', 'Lead', '639'), ('18409261F5C2', 'Lead', '640'), ('18409261F5C2', 'Lead', '641'), ('18409261F5C2', 'Lead', '641'), ('18409261F5C2', 'Lead', '642'), ('18409261F5C2', 'Lead', '643'), ('18409261F5C2', 'Lead', '644'), ('18409261F5C2', 'Lead', '645'), ('18409261F5C2', 'Lead', '646'), ('18409261F5C2', 'Lead', '647'), ('18409261F5C2', 'Lead', '648'), ('18409261F5C2', 'Lead', '649'), ('18409261F5C2', 'Lead', '650'), ('18409261F5C2', 'Lead', '651'), ('18409261F5C2', 'Lead', '652'), ('18409261F5C2', 'Lead', '652'), ('18409261F5C2', 'Lead', '653'), ('18409261F5C2', 'Lead', '653'), ('18409261F5C2', 'Lead', '653'), ('18409261F5C2', 'Lead', '654'), ('18409261F5C2', 'Lead', '655'), ('18409261F5C2', 'Lead', '656'), ('18409261F5C2', 'Lead', '657'), ('18409261F5C2', 'Lead', '658'), ('18409261F5C2', 'Lead', '659'), ('18409261F5C2', 'Lead', '660'), ('18409261F5C2', 'Lead', '661'), ('18409261F5C2', 'Lead', '662'), ('18409261F5C2', 'Lead', '663'), ('18409261F5C2', 'Lead', '664'), ('18409261F5C2', 'Lead', '664'), ('18409261F5C2', 'Lead', '665'), ('18409261F5C2', 'Lead', '666'), ('18409261F5C2', 'Lead', '667'), ('18409261F5C2', 'Lead', '667'), ('18409261F5C2', 'Lead', '668'), ('18409261F5C2', 'Lead', '668'), ('18409261F5C2', 'Lead', '668'), ('18409261F5C2', 'Lead', '669'), ('18409261F5C2', 'Lead', '670'), ('18409261F5C2', 'Lead', '671'), ('18409261F5C2', 'Lead', '672'), ('18409261F5C2', 'Lead', '673'), ('18409261F5C2', 'Lead', '674'), ('18409261F5C2', 'Lead', '675'), ('18409261F5C2', 'Lead', '676'), ('18409261F5C2', 'Lead', '677'), ('18409261F5C2', 'Lead', '678'), ('18409261F5C2', 'Lead', '679'), ('18409261F5C2', 'Lead', '679'), ('18409261F5C2', 'Lead', '680'), ('18409261F5C2', 'Lead', '681'), ('18409261F5C2', 'Lead', '682'), ('18409261F5C2', 'Lead', '683'), ('18409261F5C2', 'Lead', '684'), ('18409261F5C2', 'Lead', '685'), ('18409261F5C2', 'Lead', '686'), ('18409261F5C2', 'Lead', '687'), ('18409261F5C2', 'Lead', '687'), ('18409261F5C2', 'Lead', '688'), ('18409261F5C2', 'Lead', '689'), ('18409261F5C2', 'Lead', '690'), ('18409261F5C2', 'Lead', '690'), ('18409261F5C2', 'Lead', '691'), ('18409261F5C2', 'Lead', '692'), ('18409261F5C2', 'Lead', '693'), ('18409261F5C2', 'Lead', '694'), ('18409261F5C2', 'Lead', '695'), ('18409261F5C2', 'Lead', '696'), ('18409261F5C2', 'Lead', '697'), ('18409261F5C2', 'Lead', '697'), ('18409261F5C2', 'Lead', '698'), ('18409261F5C2', 'Lead', '699'), ('18409261F5C2', 'Lead', '700'), ('18409261F5C2', 'Lead', '701'), ('18409261F5C2', 'Lead', '702'), ('18409261F5C2', 'Lead', '703'), ('18409261F5C2', 'Lead', '703'), ('18409261F5C2', 'Lead', '704'), ('18409261F5C2', 'Lead', '705'), ('18409261F5C2', 'Lead', '706'), ('18409261F5C2', 'Lead', '707'), ('18409261F5C2', 'Lead', '708'), ('18409261F5C2', 'Lead', '709'), ('18409261F5C2', 'Lead', '710'), ('18409261F5C2', 'Lead', '711'), ('18409261F5C2', 'Lead', '711'), ('18409261F5C2', 'Lead', '712'), ('18409261F5C2', 'Lead', '712'), ('18409261F5C2', 'Lead', '713'), ('18409261F5C2', 'Lead', '714'), ('18409261F5C2', 'Lead', '715'), ('18409261F5C2', 'Lead', '716'), ('18409261F5C2', 'Lead', '717'), ('18409261F5C2', 'Lead', '718'), ('18409261F5C2', 'Lead', '718'), ('18409261F5C2', 'Lead', '719'), ('18409261F5C2', 'Lead', '720'), ('18409261F5C2', 'Lead', '721'), ('18409261F5C2', 'Lead', '722'), ('18409261F5C2', 'Lead', '723'), ('18409261F5C2', 'Lead', '724'), ('18409261F5C2', 'Lead', '725'), ('18409261F5C2', 'Lead', '726'), ('18409261F5C2', 'Lead', '727'), ('18409261F5C2', 'Lead', '728'), ('18409261F5C2', 'Lead', '729'), ('18409261F5C2', 'Lead', '730'), ('18409261F5C2', 'Lead', '731'), ('18409261F5C2', 'Lead', '732'), ('18409261F5C2', 'Lead', '733'), ('18409261F5C2', 'Lead', '734'), ('18409261F5C2', 'Lead', '735'), ('18409261F5C2', 'Lead', '736'), ('18409261F5C2', 'Lead', '736'), ('18409261F5C2', 'Lead', '736'), ('18409261F5C2', 'Lead', '736'), ('18409261F5C2', 'Lead', '736'), ('18409261F5C2', 'Lead', '737'), ('18409261F5C2', 'Lead', '738'), ('18409261F5C2', 'Lead', '739'), ('18409261F5C2', 'Lead', '740'), ('18409261F5C2', 'Lead', '741'), ('18409261F5C2', 'Lead', '742'), ('18409261F5C2', 'Lead', '743'), ('18409261F5C2', 'Lead', '744'), ('18409261F5C2', 'Lead', '745'), ('18409261F5C2', 'Lead', '746'), ('18409261F5C2', 'Lead', '747'), ('18409261F5C2', 'Lead', '747'), ('18409261F5C2', 'Lead', '747'), ('18409261F5C2', 'Lead', '747'), ('18409261F5C2', 'Lead', '748'), ('18409261F5C2', 'Lead', '749'), ('18409261F5C2', 'Lead', '750'), ('18409261F5C2', 'Lead', '751'), ('18409261F5C2', 'Lead', '752'), ('18409261F5C2', 'Lead', '753'), ('18409261F5C2', 'Lead', '754'), ('18409261F5C2', 'Lead', '755'), ('18409261F5C2', 'Lead', '756'), ('18409261F5C2', 'Lead', '756'), ('18409261F5C2', 'Lead', '757'), ('18409261F5C2', 'Lead', '758'), ('18409261F5C2', 'Lead', '758'), ('18409261F5C2', 'Lead', '759'), ('18409261F5C2', 'Lead', '760'), ('18409261F5C2', 'Lead', '761'), ('18409261F5C2', 'Lead', '762'), ('18409261F5C2', 'Lead', '763'), ('18409261F5C2', 'Lead', '764'), ('18409261F5C2', 'Lead', '765'), ('18409261F5C2', 'Lead', '766'), ('18409261F5C2', 'Lead', '767'), ('18409261F5C2', 'Lead', '768'), ('18409261F5C2', 'Lead', '769'), ('18409261F5C2', 'Lead', '770'), ('18409261F5C2', 'Lead', '771'), ('18409261F5C2', 'Lead', '771'), ('18409261F5C2', 'Lead', '772'), ('18409261F5C2', 'Lead', '773'), ('18409261F5C2', 'Lead', '774'), ('18409261F5C2', 'Lead', '775'), ('18409261F5C2', 'Lead', '776'), ('18409261F5C2', 'Lead', '777'), ('18409261F5C2', 'Lead', '778'), ('18409261F5C2', 'Lead', '779'), ('18409261F5C2', 'Lead', '780'), ('18409261F5C2', 'Lead', '781'), ('18409261F5C2', 'Lead', '782'), ('18409261F5C2', 'Lead', '782'), ('18409261F5C2', 'Lead', '783'), ('18409261F5C2', 'Lead', '784'), ('18409261F5C2', 'Lead', '785'), ('18409261F5C2', 'Lead', '786'), ('18409261F5C2', 'Lead', '787'), ('18409261F5C2', 'Lead', '788'), ('18409261F5C2', 'Lead', '789'), ('18409261F5C2', 'Lead', '790'), ('18409261F5C2', 'Lead', '791'), ('18409261F5C2', 'Lead', '792'), ('18409261F5C2', 'Lead', '792'), ('18409261F5C2', 'Lead', '793'), ('18409261F5C2', 'Lead', '794'), ('18409261F5C2', 'Lead', '795'), ('18409261F5C2', 'Lead', '796'), ('18409261F5C2', 'Lead', '797'), ('18409261F5C2', 'Lead', '798'), ('18409261F5C2', 'Lead', '798'), ('18409261F5C2', 'Lead', '798'), ('18409261F5C2', 'Lead', '798'), ('18409261F5C2', 'Lead', '798'), ('18409261F5C2', 'Lead', '799'), ('18409261F5C2', 'Lead', '800'), ('18409261F5C2', 'Lead', '800'), ('18409261F5C2', 'Lead', '801'), ('18409261F5C2', 'Lead', '801'), ('18409261F5C2', 'Lead', '801'), ('18409261F5C2', 'Lead', '802'), ('18409261F5C2', 'Lead', '803'), ('18409261F5C2', 'Lead', '804'), ('18409261F5C2', 'Lead', '805'), ('18409261F5C2', 'Lead', '806'), ('18409261F5C2', 'Lead', '807'), ('18409261F5C2', 'Lead', '807'), ('18409261F5C2', 'Lead', '808'), ('18409261F5C2', 'Lead', '809'), ('18409261F5C2', 'Lead', '810'), ('18409261F5C2', 'Lead', '811'), ('18409261F5C2', 'Lead', '812'), ('18409261F5C2', 'Lead', '813'), ('18409261F5C2', 'Lead', '814'), ('18409261F5C2', 'Lead', '815'), ('18409261F5C2', 'Lead', '816'), ('18409261F5C2', 'Lead', '816'), ('18409261F5C2', 'Lead', '817'), ('18409261F5C2', 'Lead', '818'), ('18409261F5C2', 'Lead', '819'), ('18409261F5C2', 'Lead', '820'), ('18409261F5C2', 'Lead', '821'), ('18409261F5C2', 'Lead', '822'), ('18409261F5C2', 'Lead', '823'), ('18409261F5C2', 'Lead', '824'), ('18409261F5C2', 'Lead', '824'), ('18409261F5C2', 'Lead', '825'), ('18409261F5C2', 'Lead', '826'), ('18409261F5C2', 'Lead', '827'), ('D46BCB48440A', 'Lead', '0'), ('D46BCB48440A', 'Lead', '1'), ('D46BCB48440A', 'Lead', '2'), ('D46BCB48440A', 'Lead', '3'), ('D46BCB48440A', 'Lead', '4'), ('D46BCB48440A', 'Lead', '4'), ('D46BCB48440A', 'Lead', '4'), ('D46BCB48440A', 'Lead', '5'), ('D46BCB48440A', 'Lead', '6'), ('D46BCB48440A', 'Lead', '7'), ('D46BCB48440A', 'Lead', '8'), ('D46BCB48440A', 'Lead', '9'), ('D46BCB48440A', 'Lead', '10'), ('D46BCB48440A', 'Lead', '11'), ('D46BCB48440A', 'Lead', '11'), ('D46BCB48440A', 'Lead', '12'), ('D46BCB48440A', 'Lead', '13'), ('D46BCB48440A', 'Lead', '14'), ('D46BCB48440A', 'Lead', '15'), ('D46BCB48440A', 'Lead', '15'), ('D46BCB48440A', 'Lead', '15'), ('D46BCB48440A', 'Lead', '15'), ('D46BCB48440A', 'Lead', '16'), ('D46BCB48440A', 'Lead', '17'), ('D46BCB48440A', 'Lead', '18'), ('D46BCB48440A', 'Lead', '19'), ('D46BCB48440A', 'Lead', '19'), ('D46BCB48440A', 'Lead', '20'), ('D46BCB48440A', 'Lead', '21'), ('D46BCB48440A', 'Lead', '22'), ('D46BCB48440A', 'Lead', '22'), ('D46BCB48440A', 'Lead', '23'), ('D46BCB48440A', 'Lead', '24'), ('D46BCB48440A', 'Lead', '25'), ('D46BCB48440A', 'Lead', '26'), ('D46BCB48440A', 'Lead', '27'), ('D46BCB48440A', 'Lead', '27'), ('D46BCB48440A', 'Lead', '28'), ('D46BCB48440A', 'Lead', '29'), ('D46BCB48440A', 'Lead', '30'), ('D46BCB48440A', 'Lead', '31'), ('D46BCB48440A', 'Lead', '32'), ('D46BCB48440A', 'Lead', '33'), ('D46BCB48440A', 'Lead', '34'), ('D46BCB48440A', 'Lead', '35'), ('D46BCB48440A', 'Lead', '36'), ('D46BCB48440A', 'Lead', '37'), ('D46BCB48440A', 'Lead', '38'), ('D46BCB48440A', 'Lead', '38'), ('D46BCB48440A', 'Lead', '39'), ('D46BCB48440A', 'Lead', '40'), ('D46BCB48440A', 'Lead', '41'), ('D46BCB48440A', 'Lead', '42'), ('D46BCB48440A', 'Lead', '42'), ('D46BCB48440A', 'Lead', '43'), ('D46BCB48440A', 'Lead', '44'), ('D46BCB48440A', 'Lead', '45'), ('D46BCB48440A', 'Lead', '45'), ('D46BCB48440A', 'Lead', '45'), ('D46BCB48440A', 'Lead', '45'), ('D46BCB48440A', 'Lead', '45'), ('D46BCB48440A', 'Lead', '46'), ('D46BCB48440A', 'Lead', '47'), ('D46BCB48440A', 'Lead', '48'), ('D46BCB48440A', 'Lead', '49'), ('D46BCB48440A', 'Lead', '50'), ('D46BCB48440A', 'Lead', '51'), ('D46BCB48440A', 'Lead', '52'), ('D46BCB48440A', 'Lead', '53'), ('D46BCB48440A', 'Lead', '54'), ('D46BCB48440A', 'Lead', '54'), ('D46BCB48440A', 'Lead', '55'), ('D46BCB48440A', 'Lead', '56'), ('D46BCB48440A', 'Lead', '57'), ('D46BCB48440A', 'Lead', '58'), ('D46BCB48440A', 'Lead', '59'), ('D46BCB48440A', 'Lead', '60'), ('D46BCB48440A', 'Lead', '61'), ('D46BCB48440A', 'Lead', '62'), ('D46BCB48440A', 'Lead', '63'), ('D46BCB48440A', 'Lead', '64'), ('D46BCB48440A', 'Lead', '64'), ('D46BCB48440A', 'Lead', '65'), ('D46BCB48440A', 'Lead', '66'), ('D46BCB48440A', 'Lead', '67'), ('D46BCB48440A', 'Lead', '68'), ('D46BCB48440A', 'Lead', '69'), ('D46BCB48440A', 'Lead', '70'), ('D46BCB48440A', 'Lead', '71'), ('D46BCB48440A', 'Lead', '72'), ('D46BCB48440A', 'Lead', '72'), ('D46BCB48440A', 'Lead', '73'), ('D46BCB48440A', 'Lead', '74'), ('D46BCB48440A', 'Lead', '75'), ('D46BCB48440A', 'Lead', '76'), ('D46BCB48440A', 'Lead', '77'), ('D46BCB48440A', 'Lead', '78'), ('D46BCB48440A', 'Lead', '79'), ('D46BCB48440A', 'Lead', '80'), ('D46BCB48440A', 'Lead', '81'), ('D46BCB48440A', 'Lead', '82'), ('D46BCB48440A', 'Lead', '83'), ('D46BCB48440A', 'Lead', '83'), ('D46BCB48440A', 'Lead', '84'), ('D46BCB48440A', 'Lead', '85'), ('D46BCB48440A', 'Lead', '86'), ('D46BCB48440A', 'Lead', '87'), ('D46BCB48440A', 'Lead', '88'), ('D46BCB48440A', 'Lead', '89'), ('D46BCB48440A', 'Lead', '90'), ('D46BCB48440A', 'Lead', '91'), ('D46BCB48440A', 'Lead', '92'), ('D46BCB48440A', 'Lead', '93'), ('D46BCB48440A', 'Lead', '94'), ('D46BCB48440A', 'Lead', '95'), ('D46BCB48440A', 'Lead', '96'), ('D46BCB48440A', 'Lead', '97'), ('D46BCB48440A', 'Lead', '98'), ('D46BCB48440A', 'Lead', '99'), ('D46BCB48440A', 'Lead', '100'), ('D46BCB48440A', 'Lead', '100'), ('D46BCB48440A', 'Lead', '101'), ('D46BCB48440A', 'Lead', '102'), ('D46BCB48440A', 'Lead', '103'), ('D46BCB48440A', 'Lead', '104'), ('D46BCB48440A', 'Lead', '105'), ('D46BCB48440A', 'Lead', '106'), ('D46BCB48440A', 'Lead', '107'), ('D46BCB48440A', 'Lead', '107'), ('D46BCB48440A', 'Lead', '108'), ('D46BCB48440A', 'Lead', '109'), ('D46BCB48440A', 'Lead', '110'), ('D46BCB48440A', 'Lead', '111'), ('D46BCB48440A', 'Lead', '112'), ('D46BCB48440A', 'Lead', '113'), ('D46BCB48440A', 'Lead', '113'), ('D46BCB48440A', 'Lead', '114'), ('D46BCB48440A', 'Lead', '115'), ('D46BCB48440A', 'Lead', '116'), ('D46BCB48440A', 'Lead', '117'), ('D46BCB48440A', 'Lead', '117'), ('D46BCB48440A', 'Lead', '117'), ('D46BCB48440A', 'Lead', '118'), ('D46BCB48440A', 'Lead', '119'), ('D46BCB48440A', 'Lead', '120'), ('D46BCB48440A', 'Lead', '120'), ('D46BCB48440A', 'Lead', '121'), ('D46BCB48440A', 'Lead', '122'), ('D46BCB48440A', 'Lead', '123'), ('D46BCB48440A', 'Lead', '124'), ('D46BCB48440A', 'Lead', '125'), ('D46BCB48440A', 'Lead', '126'), ('D46BCB48440A', 'Lead', '126'), ('D46BCB48440A', 'Lead', '127'), ('D46BCB48440A', 'Lead', '127'), ('D46BCB48440A', 'Lead', '128'), ('D46BCB48440A', 'Lead', '129'), ('D46BCB48440A', 'Lead', '130'), ('D46BCB48440A', 'Lead', '131'), ('D46BCB48440A', 'Lead', '132'), ('D46BCB48440A', 'Lead', '133'), ('D46BCB48440A', 'Lead', '134'), ('D46BCB48440A', 'Lead', '135'), ('D46BCB48440A', 'Lead', '136'), ('D46BCB48440A', 'Lead', '137'), ('D46BCB48440A', 'Lead', '137'), ('D46BCB48440A', 'Lead', '137'), ('D46BCB48440A', 'Lead', '137'), ('D46BCB48440A', 'Lead', '137'), ('D46BCB48440A', 'Lead', '138'), ('D46BCB48440A', 'Lead', '139'), ('D46BCB48440A', 'Lead', '140'), ('D46BCB48440A', 'Lead', '141'), ('D46BCB48440A', 'Lead', '141'), ('D46BCB48440A', 'Lead', '142'), ('D46BCB48440A', 'Lead', '143'), ('D46BCB48440A', 'Lead', '144'), ('D46BCB48440A', 'Lead', '145'), ('D46BCB48440A', 'Lead', '146'), ('D46BCB48440A', 'Lead', '147'), ('D46BCB48440A', 'Lead', '147'), ('D46BCB48440A', 'Lead', '148'), ('D46BCB48440A', 'Lead', '149'), ('D46BCB48440A', 'Lead', '150'), ('D46BCB48440A', 'Lead', '151'), ('D46BCB48440A', 'Lead', '152'), ('D46BCB48440A', 'Lead', '153'), ('D46BCB48440A', 'Lead', '154'), ('D46BCB48440A', 'Lead', '154'), ('D46BCB48440A', 'Lead', '155'), ('D46BCB48440A', 'Lead', '156'), ('D46BCB48440A', 'Lead', '157'), ('D46BCB48440A', 'Lead', '158'), ('D46BCB48440A', 'Lead', '159'), ('D46BCB48440A', 'Lead', '160'), ('D46BCB48440A', 'Lead', '161'), ('D46BCB48440A', 'Lead', '162'), ('D46BCB48440A', 'Lead', '163'), ('D46BCB48440A', 'Lead', '164'), ('D46BCB48440A', 'Lead', '165'), ('D46BCB48440A', 'Lead', '166'), ('D46BCB48440A', 'Lead', '167'), ('D46BCB48440A', 'Lead', '168'), ('D46BCB48440A', 'Lead', '168'), ('D46BCB48440A', 'Lead', '169'), ('D46BCB48440A', 'Lead', '170'), ('D46BCB48440A', 'Lead', '171'), ('D46BCB48440A', 'Lead', '172'), ('D46BCB48440A', 'Lead', '173'), ('D46BCB48440A', 'Lead', '174'), ('D46BCB48440A', 'Lead', '175'), ('D46BCB48440A', 'Lead', '176'), ('D46BCB48440A', 'Lead', '176'), ('D46BCB48440A', 'Lead', '177'), ('D46BCB48440A', 'Lead', '178'), ('D46BCB48440A', 'Lead', '179'), ('D46BCB48440A', 'Lead', '180'), ('D46BCB48440A', 'Lead', '181'), ('D46BCB48440A', 'Lead', '182'), ('D46BCB48440A', 'Lead', '183'), ('D46BCB48440A', 'Lead', '184'), ('D46BCB48440A', 'Lead', '185'), ('D46BCB48440A', 'Lead', '186'), ('D46BCB48440A', 'Lead', '187'), ('D46BCB48440A', 'Lead', '188'), ('D46BCB48440A', 'Lead', '189'), ('D46BCB48440A', 'Lead', '190'), ('D46BCB48440A', 'Lead', '191'), ('D46BCB48440A', 'Lead', '192'), ('D46BCB48440A', 'Lead', '193'), ('D46BCB48440A', 'Lead', '193'), ('D46BCB48440A', 'Lead', '194'), ('D46BCB48440A', 'Lead', '195'), ('D46BCB48440A', 'Lead', '196'), ('D46BCB48440A', 'Lead', '197'), ('D46BCB48440A', 'Lead', '198'), ('D46BCB48440A', 'Lead', '199'), ('D46BCB48440A', 'Lead', '199'), ('D46BCB48440A', 'Lead', '200'), ('D46BCB48440A', 'Lead', '201'), ('D46BCB48440A', 'Lead', '202'), ('D46BCB48440A', 'Lead', '203'), ('D46BCB48440A', 'Lead', '204'), ('D46BCB48440A', 'Lead', '205'), ('D46BCB48440A', 'Lead', '206'), ('D46BCB48440A', 'Lead', '207'), ('D46BCB48440A', 'Lead', '208'), ('D46BCB48440A', 'Lead', '209'), ('D46BCB48440A', 'Lead', '210'), ('D46BCB48440A', 'Lead', '210'), ('D46BCB48440A', 'Lead', '210'), ('D46BCB48440A', 'Lead', '210'), ('D46BCB48440A', 'Lead', '210'), ('D46BCB48440A', 'Lead', '211'), ('D46BCB48440A', 'Lead', '212'), ('D46BCB48440A', 'Lead', '213'), ('D46BCB48440A', 'Lead', '214'), ('D46BCB48440A', 'Lead', '215'), ('D46BCB48440A', 'Lead', '216'), ('D46BCB48440A', 'Lead', '217'), ('D46BCB48440A', 'Lead', '218'), ('D46BCB48440A', 'Lead', '219'), ('D46BCB48440A', 'Lead', '219'), ('D46BCB48440A', 'Lead', '220'), ('D46BCB48440A', 'Lead', '221'), ('D46BCB48440A', 'Lead', '222'), ('D46BCB48440A', 'Lead', '223'), ('D46BCB48440A', 'Lead', '224'), ('D46BCB48440A', 'Lead', '225'), ('D46BCB48440A', 'Lead', '226'), ('D46BCB48440A', 'Lead', '226'), ('D46BCB48440A', 'Lead', '227'), ('D46BCB48440A', 'Lead', '228'), ('D46BCB48440A', 'Lead', '229'), ('D46BCB48440A', 'Lead', '230'), ('D46BCB48440A', 'Lead', '231'), ('D46BCB48440A', 'Lead', '232'), ('D46BCB48440A', 'Lead', '233'), ('D46BCB48440A', 'Lead', '234'), ('D46BCB48440A', 'Lead', '235'), ('D46BCB48440A', 'Lead', '235'), ('D46BCB48440A', 'Lead', '236'), ('D46BCB48440A', 'Lead', '237'), ('D46BCB48440A', 'Lead', '238'), ('D46BCB48440A', 'Lead', '238'), ('D46BCB48440A', 'Lead', '238'), ('D46BCB48440A', 'Lead', '239'), ('D46BCB48440A', 'Lead', '239'), ('D46BCB48440A', 'Lead', '240'), ('D46BCB48440A', 'Lead', '241'), ('D46BCB48440A', 'Lead', '242'), ('D46BCB48440A', 'Lead', '242'), ('D46BCB48440A', 'Lead', '243'), ('D46BCB48440A', 'Lead', '244'), ('D46BCB48440A', 'Lead', '245'), ('D46BCB48440A', 'Lead', '246'), ('D46BCB48440A', 'Lead', '247'), ('D46BCB48440A', 'Lead', '248'), ('D46BCB48440A', 'Lead', '249'), ('D46BCB48440A', 'Lead', '249'), ('D46BCB48440A', 'Lead', '250'), ('D46BCB48440A', 'Lead', '250'), ('D46BCB48440A', 'Lead', '251'), ('D46BCB48440A', 'Lead', '252'), ('D46BCB48440A', 'Lead', '253'), ('D46BCB48440A', 'Lead', '254'), ('D46BCB48440A', 'Lead', '255'), ('D46BCB48440A', 'Lead', '256'), ('D46BCB48440A', 'Lead', '257'), ('D46BCB48440A', 'Lead', '258'), ('D46BCB48440A', 'Lead', '259'), ('D46BCB48440A', 'Lead', '260'), ('D46BCB48440A', 'Lead', '261'), ('D46BCB48440A', 'Lead', '262'), ('D46BCB48440A', 'Lead', '263'), ('D46BCB48440A', 'Lead', '264'), ('D46BCB48440A', 'Lead', '264'), ('D46BCB48440A', 'Lead', '265'), ('D46BCB48440A', 'Lead', '266'), ('D46BCB48440A', 'Lead', '267'), ('D46BCB48440A', 'Lead', '268'), ('D46BCB48440A', 'Lead', '268'), ('D46BCB48440A', 'Lead', '269'), ('D46BCB48440A', 'Lead', '270'), ('D46BCB48440A', 'Lead', '271'), ('D46BCB48440A', 'Lead', '272'), ('D46BCB48440A', 'Lead', '273'), ('D46BCB48440A', 'Lead', '274'), ('D46BCB48440A', 'Lead', '275'), ('D46BCB48440A', 'Lead', '275'), ('D46BCB48440A', 'Lead', '276'), ('D46BCB48440A', 'Lead', '277'), ('D46BCB48440A', 'Lead', '278'), ('D46BCB48440A', 'Lead', '279'), ('D46BCB48440A', 'Lead', '280'), ('D46BCB48440A', 'Lead', '281'), ('D46BCB48440A', 'Lead', '282'), ('D46BCB48440A', 'Lead', '282'), ('D46BCB48440A', 'Lead', '283'), ('D46BCB48440A', 'Lead', '284'), ('D46BCB48440A', 'Lead', '284'), ('D46BCB48440A', 'Lead', '285'), ('D46BCB48440A', 'Lead', '286'), ('D46BCB48440A', 'Lead', '287'), ('D46BCB48440A', 'Lead', '288'), ('D46BCB48440A', 'Lead', '289'), ('D46BCB48440A', 'Lead', '290'), ('D46BCB48440A', 'Lead', '291'), ('D46BCB48440A', 'Lead', '292'), ('D46BCB48440A', 'Lead', '292'), ('D46BCB48440A', 'Lead', '293'), ('D46BCB48440A', 'Lead', '294'), ('D46BCB48440A', 'Lead', '295'), ('D46BCB48440A', 'Lead', '295'), ('D46BCB48440A', 'Lead', '295'), ('D46BCB48440A', 'Lead', '296'), ('D46BCB48440A', 'Lead', '297'), ('D46BCB48440A', 'Lead', '298'), ('D46BCB48440A', 'Lead', '299'), ('D46BCB48440A', 'Lead', '299'), ('D46BCB48440A', 'Lead', '300'), ('D46BCB48440A', 'Lead', '301'), ('D46BCB48440A', 'Lead', '302'), ('D46BCB48440A', 'Lead', '302'), ('D46BCB48440A', 'Lead', '302'), ('D46BCB48440A', 'Lead', '302'), ('D46BCB48440A', 'Lead', '302'), ('D46BCB48440A', 'Lead', '302'), ('D46BCB48440A', 'Lead', '303'), ('D46BCB48440A', 'Lead', '304'), ('D46BCB48440A', 'Lead', '305'), ('D46BCB48440A', 'Lead', '306'), ('D46BCB48440A', 'Lead', '307'), ('D46BCB48440A', 'Lead', '308'), ('D46BCB48440A', 'Lead', '308'), ('D46BCB48440A', 'Lead', '309'), ('D46BCB48440A', 'Lead', '310'), ('D46BCB48440A', 'Lead', '311'), ('D46BCB48440A', 'Lead', '312'), ('D46BCB48440A', 'Lead', '313'), ('D46BCB48440A', 'Lead', '314'), ('D46BCB48440A', 'Lead', '315'), ('D46BCB48440A', 'Lead', '316'), ('D46BCB48440A', 'Lead', '317'), ('D46BCB48440A', 'Lead', '318'), ('D46BCB48440A', 'Lead', '319'), ('D46BCB48440A', 'Lead', '319'), ('D46BCB48440A', 'Lead', '320'), ('D46BCB48440A', 'Lead', '320'), ('D46BCB48440A', 'Lead', '321'), ('D46BCB48440A', 'Lead', '322'), ('D46BCB48440A', 'Lead', '323'), ('D46BCB48440A', 'Lead', '324'), ('D46BCB48440A', 'Lead', '324'), ('D46BCB48440A', 'Lead', '325'), ('D46BCB48440A', 'Lead', '326'), ('D46BCB48440A', 'Lead', '327'), ('D46BCB48440A', 'Lead', '328'), ('D46BCB48440A', 'Lead', '328'), ('D46BCB48440A', 'Lead', '329'), ('D46BCB48440A', 'Lead', '329'), ('D46BCB48440A', 'Lead', '330'), ('D46BCB48440A', 'Lead', '331'), ('D46BCB48440A', 'Lead', '332'), ('D46BCB48440A', 'Lead', '333'), ('D46BCB48440A', 'Lead', '334'), ('D46BCB48440A', 'Lead', '335'), ('D46BCB48440A', 'Lead', '336'), ('D46BCB48440A', 'Lead', '337'), ('D46BCB48440A', 'Lead', '338'), ('D46BCB48440A', 'Lead', '339'), ('D46BCB48440A', 'Lead', '339'), ('D46BCB48440A', 'Lead', '339'), ('D46BCB48440A', 'Lead', '340'), ('D46BCB48440A', 'Lead', '341'), ('D46BCB48440A', 'Lead', '342'), ('D46BCB48440A', 'Lead', '343'), ('D46BCB48440A', 'Lead', '344'), ('D46BCB48440A', 'Lead', '345'), ('D46BCB48440A', 'Lead', '345'), ('D46BCB48440A', 'Lead', '346'), ('D46BCB48440A', 'Lead', '347'), ('D46BCB48440A', 'Lead', '347'), ('D46BCB48440A', 'Lead', '348'), ('D46BCB48440A', 'Lead', '349'), ('D46BCB48440A', 'Lead', '350'), ('D46BCB48440A', 'Lead', '351'), ('D46BCB48440A', 'Lead', '351'), ('D46BCB48440A', 'Lead', '352'), ('D46BCB48440A', 'Lead', '352'), ('D46BCB48440A', 'Lead', '353'), ('D46BCB48440A', 'Lead', '353'), ('D46BCB48440A', 'Lead', '354'), ('D46BCB48440A', 'Lead', '355'), ('D46BCB48440A', 'Lead', '356'), ('D46BCB48440A', 'Lead', '357'), ('D46BCB48440A', 'Lead', '358'), ('D46BCB48440A', 'Lead', '358'), ('D46BCB48440A', 'Lead', '358'), ('D46BCB48440A', 'Lead', '358'), ('D46BCB48440A', 'Lead', '358'), ('D46BCB48440A', 'Lead', '358'), ('D46BCB48440A', 'Lead', '358'), ('D46BCB48440A', 'Lead', '358'), ('D46BCB48440A', 'Lead', '358'), ('D46BCB48440A', 'Lead', '358'), ('D46BCB48440A', 'Lead', '358'), ('D46BCB48440A', 'Lead', '358'), ('D46BCB48440A', 'Lead', '358'), ('D46BCB48440A', 'Lead', '358'), ('D72CB1C11673', 'Lead', '0'), ('D72CB1C11673', 'Lead', '1'), ('D72CB1C11673', 'Lead', '2'), ('D72CB1C11673', 'Lead', '3'), ('D72CB1C11673', 'Lead', '4'), ('D72CB1C11673', 'Lead', '5'), ('D72CB1C11673', 'Lead', '6'), ('D72CB1C11673', 'Lead', '7'), ('D72CB1C11673', 'Lead', '7'), ('D72CB1C11673', 'Lead', '8'), ('D72CB1C11673', 'Lead', '9'), ('D72CB1C11673', 'Lead', '10'), ('D72CB1C11673', 'Lead', '11'), ('D72CB1C11673', 'Lead', '12'), ('D72CB1C11673', 'Lead', '13'), ('D72CB1C11673', 'Lead', '14'), ('D72CB1C11673', 'Lead', '15'), ('D72CB1C11673', 'Lead', '16'), ('D72CB1C11673', 'Lead', '17'), ('D72CB1C11673', 'Lead', '18'), ('D72CB1C11673', 'Lead', '19'), ('D72CB1C11673', 'Lead', '20'), ('D72CB1C11673', 'Lead', '20'), ('D72CB1C11673', 'Lead', '21'), ('D72CB1C11673', 'Lead', '21'), ('D72CB1C11673', 'Lead', '22'), ('D72CB1C11673', 'Lead', '23'), ('D72CB1C11673', 'Lead', '24'), ('D72CB1C11673', 'Lead', '25'), ('D72CB1C11673', 'Lead', '26'), ('D72CB1C11673', 'Lead', '27'), ('D72CB1C11673', 'Lead', '28'), ('D72CB1C11673', 'Lead', '29'), ('D72CB1C11673', 'Lead', '30'), ('D72CB1C11673', 'Lead', '31'), ('D72CB1C11673', 'Lead', '32'), ('D72CB1C11673', 'Lead', '33'), ('D72CB1C11673', 'Lead', '33'), ('D72CB1C11673', 'Lead', '34'), ('D72CB1C11673', 'Lead', '35'), ('D72CB1C11673', 'Lead', '36'), ('D72CB1C11673', 'Lead', '37'), ('D72CB1C11673', 'Lead', '38'), ('D72CB1C11673', 'Lead', '39'), ('D72CB1C11673', 'Lead', '40'), ('D72CB1C11673', 'Lead', '41'), ('D72CB1C11673', 'Lead', '42'), ('D72CB1C11673', 'Lead', '43'), ('D72CB1C11673', 'Lead', '44'), ('D72CB1C11673', 'Lead', '45'), ('D72CB1C11673', 'Lead', '46'), ('D72CB1C11673', 'Lead', '47'), ('D72CB1C11673', 'Lead', '48'), ('D72CB1C11673', 'Lead', '49'), ('D72CB1C11673', 'Lead', '49'), ('D72CB1C11673', 'Lead', '50'), ('D72CB1C11673', 'Lead', '51'), ('D72CB1C11673', 'Lead', '52'), ('D72CB1C11673', 'Lead', '53'), ('D72CB1C11673', 'Lead', '54'), ('D72CB1C11673', 'Lead', '55'), ('D72CB1C11673', 'Lead', '56'), ('D72CB1C11673', 'Lead', '57'), ('D72CB1C11673', 'Lead', '58'), ('D72CB1C11673', 'Lead', '59'), ('D72CB1C11673', 'Lead', '60'), ('D72CB1C11673', 'Lead', '61'), ('D72CB1C11673', 'Lead', '62'), ('D72CB1C11673', 'Lead', '63'), ('D72CB1C11673', 'Lead', '64'), ('D72CB1C11673', 'Lead', '65'), ('D72CB1C11673', 'Lead', '66'), ('D72CB1C11673', 'Lead', '66'), ('D72CB1C11673', 'Lead', '67'), ('D72CB1C11673', 'Lead', '68'), ('D72CB1C11673', 'Lead', '69'), ('D72CB1C11673', 'Lead', '70'), ('D72CB1C11673', 'Lead', '71'), ('D72CB1C11673', 'Lead', '72'), ('D72CB1C11673', 'Lead', '73'), ('D72CB1C11673', 'Lead', '73'), ('D72CB1C11673', 'Lead', '74'), ('D72CB1C11673', 'Lead', '75'), ('D72CB1C11673', 'Lead', '76'), ('D72CB1C11673', 'Lead', '77'), ('D72CB1C11673', 'Lead', '78'), ('D72CB1C11673', 'Lead', '79'), ('D72CB1C11673', 'Lead', '79'), ('D72CB1C11673', 'Lead', '79'), ('D72CB1C11673', 'Lead', '79'), ('D72CB1C11673', 'Lead', '79'), ('D72CB1C11673', 'Lead', '80'), ('D72CB1C11673', 'Lead', '81'), ('D72CB1C11673', 'Lead', '81'), ('D72CB1C11673', 'Lead', '82'), ('D72CB1C11673', 'Lead', '83'), ('D72CB1C11673', 'Lead', '84'), ('D72CB1C11673', 'Lead', '85'), ('D72CB1C11673', 'Lead', '86'), ('D72CB1C11673', 'Lead', '87'), ('D72CB1C11673', 'Lead', '88'), ('D72CB1C11673', 'Lead', '89'), ('D72CB1C11673', 'Lead', '90'), ('D72CB1C11673', 'Lead', '91'), ('D72CB1C11673', 'Lead', '92'), ('D72CB1C11673', 'Lead', '92'), ('D72CB1C11673', 'Lead', '93'), ('D72CB1C11673', 'Lead', '94'), ('D72CB1C11673', 'Lead', '95'), ('D72CB1C11673', 'Lead', '96'), ('D72CB1C11673', 'Lead', '97'), ('D72CB1C11673', 'Lead', '98'), ('D72CB1C11673', 'Lead', '99'), ('D72CB1C11673', 'Lead', '100'), ('D72CB1C11673', 'Lead', '101'), ('D72CB1C11673', 'Lead', '102'), ('D72CB1C11673', 'Lead', '103'), ('D72CB1C11673', 'Lead', '104'), ('D72CB1C11673', 'Lead', '105'), ('D72CB1C11673', 'Lead', '106'), ('D72CB1C11673', 'Lead', '107'), ('D72CB1C11673', 'Lead', '108'), ('D72CB1C11673', 'Lead', '108'), ('D72CB1C11673', 'Lead', '109'), ('D72CB1C11673', 'Lead', '110'), ('D72CB1C11673', 'Lead', '111'), ('D72CB1C11673', 'Lead', '112'), ('D72CB1C11673', 'Lead', '113'), ('D72CB1C11673', 'Lead', '114'), ('D72CB1C11673', 'Lead', '115'), ('D72CB1C11673', 'Lead', '116'), ('D72CB1C11673', 'Lead', '117'), ('D72CB1C11673', 'Lead', '118'), ('D72CB1C11673', 'Lead', '119'), ('D72CB1C11673', 'Lead', '120'), ('D72CB1C11673', 'Lead', '121'), ('D72CB1C11673', 'Lead', '122'), ('D72CB1C11673', 'Lead', '122'), ('D72CB1C11673', 'Lead', '123'), ('D72CB1C11673', 'Lead', '124'), ('D72CB1C11673', 'Lead', '125'), ('D72CB1C11673', 'Lead', '126'), ('D72CB1C11673', 'Lead', '127'), ('D72CB1C11673', 'Lead', '128'), ('D72CB1C11673', 'Lead', '129'), ('D72CB1C11673', 'Lead', '130'), ('D72CB1C11673', 'Lead', '131'), ('D72CB1C11673', 'Lead', '132'), ('D72CB1C11673', 'Lead', '133'), ('D72CB1C11673', 'Lead', '134'), ('D72CB1C11673', 'Lead', '135'), ('D72CB1C11673', 'Lead', '136'), ('D72CB1C11673', 'Lead', '137'), ('D72CB1C11673', 'Lead', '137'), ('D72CB1C11673', 'Lead', '138'), ('D72CB1C11673', 'Lead', '139'), ('D72CB1C11673', 'Lead', '140'), ('D72CB1C11673', 'Lead', '141'), ('D72CB1C11673', 'Lead', '142'), ('D72CB1C11673', 'Lead', '143'), ('D72CB1C11673', 'Lead', '144'), ('D72CB1C11673', 'Lead', '145'), ('D72CB1C11673', 'Lead', '146'), ('D72CB1C11673', 'Lead', '147'), ('D72CB1C11673', 'Lead', '148'), ('D72CB1C11673', 'Lead', '149'), ('D72CB1C11673', 'Lead', '150'), ('D72CB1C11673', 'Lead', '151'), ('D72CB1C11673', 'Lead', '152'), ('D72CB1C11673', 'Lead', '152'), ('D72CB1C11673', 'Lead', '153'), ('D72CB1C11673', 'Lead', '154'), ('D72CB1C11673', 'Lead', '155'), ('D72CB1C11673', 'Lead', '156'), ('D72CB1C11673', 'Lead', '157'), ('D72CB1C11673', 'Lead', '158'), ('D72CB1C11673', 'Lead', '159'), ('D72CB1C11673', 'Lead', '160'), ('D72CB1C11673', 'Lead', '161'), ('D72CB1C11673', 'Lead', '162'), ('D72CB1C11673', 'Lead', '163'), ('D72CB1C11673', 'Lead', '164'), ('D72CB1C11673', 'Lead', '165'), ('D72CB1C11673', 'Lead', '166'), ('D72CB1C11673', 'Lead', '166'), ('D72CB1C11673', 'Lead', '166'), ('D72CB1C11673', 'Lead', '166'), ('D72CB1C11673', 'Lead', '166'), ('D72CB1C11673', 'Lead', '167'), ('D72CB1C11673', 'Lead', '168'), ('D72CB1C11673', 'Lead', '169'), ('D72CB1C11673', 'Lead', '170'), ('D72CB1C11673', 'Lead', '171'), ('D72CB1C11673', 'Lead', '172'), ('D72CB1C11673', 'Lead', '173'), ('D72CB1C11673', 'Lead', '174'), ('D72CB1C11673', 'Lead', '175'), ('D72CB1C11673', 'Lead', '176'), ('D72CB1C11673', 'Lead', '177'), ('D72CB1C11673', 'Lead', '178'), ('D72CB1C11673', 'Lead', '179'), ('D72CB1C11673', 'Lead', '180'), ('D72CB1C11673', 'Lead', '180'), ('D72CB1C11673', 'Lead', '181'), ('D72CB1C11673', 'Lead', '182'), ('D72CB1C11673', 'Lead', '183'), ('D72CB1C11673', 'Lead', '184'), ('D72CB1C11673', 'Lead', '185'), ('D72CB1C11673', 'Lead', '186'), ('D72CB1C11673', 'Lead', '187'), ('D72CB1C11673', 'Lead', '188'), ('D72CB1C11673', 'Lead', '189'), ('D72CB1C11673', 'Lead', '190'), ('D72CB1C11673', 'Lead', '190'), ('D72CB1C11673', 'Lead', '191'), ('D72CB1C11673', 'Lead', '192'), ('D72CB1C11673', 'Lead', '193'), ('D72CB1C11673', 'Lead', '194'), ('D72CB1C11673', 'Lead', '195'), ('D72CB1C11673', 'Lead', '196'), ('D72CB1C11673', 'Lead', '197'), ('D72CB1C11673', 'Lead', '198'), ('D72CB1C11673', 'Lead', '199'), ('D72CB1C11673', 'Lead', '200'), ('D72CB1C11673', 'Lead', '201'), ('D72CB1C11673', 'Lead', '202'), ('D72CB1C11673', 'Lead', '203'), ('D72CB1C11673', 'Lead', '204'), ('D72CB1C11673', 'Lead', '204'), ('D72CB1C11673', 'Lead', '205'), ('D72CB1C11673', 'Lead', '206'), ('D72CB1C11673', 'Lead', '206'), ('D72CB1C11673', 'Lead', '207'), ('D72CB1C11673', 'Lead', '207'), ('D72CB1C11673', 'Lead', '208'), ('D72CB1C11673', 'Lead', '209'), ('D72CB1C11673', 'Lead', '210'), ('D72CB1C11673', 'Lead', '211'), ('D72CB1C11673', 'Lead', '212'), ('D72CB1C11673', 'Lead', '213'), ('D72CB1C11673', 'Lead', '214'), ('D72CB1C11673', 'Lead', '215'), ('D72CB1C11673', 'Lead', '216'), ('D72CB1C11673', 'Lead', '217'), ('D72CB1C11673', 'Lead', '218'), ('D72CB1C11673', 'Lead', '218'), ('D72CB1C11673', 'Lead', '219'), ('D72CB1C11673', 'Lead', '220'), ('D72CB1C11673', 'Lead', '221'), ('D72CB1C11673', 'Lead', '222'), ('D72CB1C11673', 'Lead', '223'), ('D72CB1C11673', 'Lead', '224'), ('D72CB1C11673', 'Lead', '225'), ('D72CB1C11673', 'Lead', '226'), ('D72CB1C11673', 'Lead', '227'), ('D72CB1C11673', 'Lead', '228'), ('D72CB1C11673', 'Lead', '229'), ('D72CB1C11673', 'Lead', '230'), ('D72CB1C11673', 'Lead', '230'), ('D72CB1C11673', 'Lead', '231'), ('D72CB1C11673', 'Lead', '232'), ('D72CB1C11673', 'Lead', '233'), ('D72CB1C11673', 'Lead', '234'), ('D72CB1C11673', 'Lead', '235'), ('D72CB1C11673', 'Lead', '236'), ('D72CB1C11673', 'Lead', '237'), ('D72CB1C11673', 'Lead', '238'), ('D72CB1C11673', 'Lead', '239'), ('D72CB1C11673', 'Lead', '239'), ('D72CB1C11673', 'Lead', '240'), ('D72CB1C11673', 'Lead', '241'), ('D72CB1C11673', 'Lead', '242'), ('D72CB1C11673', 'Lead', '243'), ('D72CB1C11673', 'Lead', '244'), ('D72CB1C11673', 'Lead', '245'), ('D72CB1C11673', 'Lead', '246'), ('D72CB1C11673', 'Lead', '247'), ('D72CB1C11673', 'Lead', '247'), ('D72CB1C11673', 'Lead', '248'), ('D72CB1C11673', 'Lead', '249'), ('D72CB1C11673', 'Lead', '250'), ('D72CB1C11673', 'Lead', '251'), ('D72CB1C11673', 'Lead', '252'), ('D72CB1C11673', 'Lead', '253'), ('D72CB1C11673', 'Lead', '254'), ('D72CB1C11673', 'Lead', '255'), ('D72CB1C11673', 'Lead', '256'), ('D72CB1C11673', 'Lead', '257'), ('D72CB1C11673', 'Lead', '258'), ('D72CB1C11673', 'Lead', '259'), ('D72CB1C11673', 'Lead', '260'), ('D72CB1C11673', 'Lead', '261'), ('D72CB1C11673', 'Lead', '262'), ('D72CB1C11673', 'Lead', '262'), ('D72CB1C11673', 'Lead', '262'), ('D72CB1C11673', 'Lead', '262'), ('D72CB1C11673', 'Lead', '262'), ('D72CB1C11673', 'Lead', '262'), ('D72CB1C11673', 'Lead', '263'), ('D72CB1C11673', 'Lead', '264'), ('D72CB1C11673', 'Lead', '265'), ('D72CB1C11673', 'Lead', '266'), ('D72CB1C11673', 'Lead', '267'), ('D72CB1C11673', 'Lead', '268'), ('D72CB1C11673', 'Lead', '269'), ('D72CB1C11673', 'Lead', '270'), ('D72CB1C11673', 'Lead', '270'), ('D72CB1C11673', 'Lead', '271'), ('D72CB1C11673', 'Lead', '272'), ('D72CB1C11673', 'Lead', '273'), ('D72CB1C11673', 'Lead', '274'), ('D72CB1C11673', 'Lead', '275'), ('D72CB1C11673', 'Lead', '276'), ('D72CB1C11673', 'Lead', '277'), ('D72CB1C11673', 'Lead', '278'), ('D72CB1C11673', 'Lead', '279'), ('D72CB1C11673', 'Lead', '280'), ('D72CB1C11673', 'Lead', '281'), ('D72CB1C11673', 'Lead', '282'), ('D72CB1C11673', 'Lead', '283'), ('D72CB1C11673', 'Lead', '284'), ('D72CB1C11673', 'Lead', '285'), ('D72CB1C11673', 'Lead', '285'), ('D72CB1C11673', 'Lead', '286'), ('D72CB1C11673', 'Lead', '287'), ('D72CB1C11673', 'Lead', '288'), ('D72CB1C11673', 'Lead', '289'), ('D72CB1C11673', 'Lead', '290'), ('D72CB1C11673', 'Lead', '291'), ('D72CB1C11673', 'Lead', '292'), ('D72CB1C11673', 'Lead', '293'), ('D72CB1C11673', 'Lead', '294'), ('D72CB1C11673', 'Lead', '295'), ('D72CB1C11673', 'Lead', '296'), ('D72CB1C11673', 'Lead', '297'), ('D72CB1C11673', 'Lead', '298'), ('D72CB1C11673', 'Lead', '299'), ('D72CB1C11673', 'Lead', '300'), ('D72CB1C11673', 'Lead', '301'), ('D72CB1C11673', 'Lead', '302'), ('D72CB1C11673', 'Lead', '303'), ('D72CB1C11673', 'Lead', '304'), ('D72CB1C11673', 'Lead', '305'), ('D72CB1C11673', 'Lead', '306'), ('D72CB1C11673', 'Lead', '307'), ('D72CB1C11673', 'Lead', '308'), ('D72CB1C11673', 'Lead', '309'), ('D72CB1C11673', 'Lead', '310'), ('D72CB1C11673', 'Lead', '310'), ('D72CB1C11673', 'Lead', '311'), ('D72CB1C11673', 'Lead', '312'), ('D72CB1C11673', 'Lead', '312'), ('D72CB1C11673', 'Lead', '313'), ('D72CB1C11673', 'Lead', '314'), ('D72CB1C11673', 'Lead', '315'), ('D72CB1C11673', 'Lead', '316'), ('D72CB1C11673', 'Lead', '317'), ('D72CB1C11673', 'Lead', '318'), ('D72CB1C11673', 'Lead', '319'), ('D72CB1C11673', 'Lead', '320'), ('D72CB1C11673', 'Lead', '321'), ('D72CB1C11673', 'Lead', '322'), ('D72CB1C11673', 'Lead', '322'), ('D72CB1C11673', 'Lead', '323'), ('D72CB1C11673', 'Lead', '324'), ('D72CB1C11673', 'Lead', '325'), ('D72CB1C11673', 'Lead', '326'), ('D72CB1C11673', 'Lead', '327'), ('D72CB1C11673', 'Lead', '328'), ('D72CB1C11673', 'Lead', '329'), ('D72CB1C11673', 'Lead', '330'), ('D72CB1C11673', 'Lead', '331'), ('D72CB1C11673', 'Lead', '332'), ('D72CB1C11673', 'Lead', '333'), ('D72CB1C11673', 'Lead', '333'), ('D72CB1C11673', 'Lead', '334'), ('D72CB1C11673', 'Lead', '335'), ('D72CB1C11673', 'Lead', '336'), ('D72CB1C11673', 'Lead', '337'), ('D72CB1C11673', 'Lead', '338'), ('D72CB1C11673', 'Lead', '339'), ('D72CB1C11673', 'Lead', '340'), ('D72CB1C11673', 'Lead', '341'), ('D72CB1C11673', 'Lead', '342'), ('D72CB1C11673', 'Lead', '342'), ('D72CB1C11673', 'Lead', '343'), ('D72CB1C11673', 'Lead', '344'), ('D72CB1C11673', 'Lead', '345'), ('D72CB1C11673', 'Lead', '346'), ('D72CB1C11673', 'Lead', '347'), ('D72CB1C11673', 'Lead', '348'), ('D72CB1C11673', 'Lead', '349'), ('D72CB1C11673', 'Lead', '350'), ('D72CB1C11673', 'Lead', '351'), ('D72CB1C11673', 'Lead', '352'), ('D72CB1C11673', 'Lead', '353'), ('D72CB1C11673', 'Lead', '354'), ('D72CB1C11673', 'Lead', '355'), ('D72CB1C11673', 'Lead', '356'), ('D72CB1C11673', 'Lead', '357'), ('D72CB1C11673', 'Lead', '358'), ('D72CB1C11673', 'Lead', '358'), ('D72CB1C11673', 'Lead', '358'), ('D72CB1C11673', 'Lead', '358'), ('D72CB1C11673', 'Lead', '358'), ('D72CB1C11673', 'Lead', '359'), ('D72CB1C11673', 'Lead', '359'), ('D72CB1C11673', 'Lead', '360'), ('D72CB1C11673', 'Lead', '361'), ('D72CB1C11673', 'Lead', '362'), ('D72CB1C11673', 'Lead', '363'), ('D72CB1C11673', 'Lead', '364'), ('D72CB1C11673', 'Lead', '365'), ('D72CB1C11673', 'Lead', '366'), ('D72CB1C11673', 'Lead', '367'), ('D72CB1C11673', 'Lead', '368'), ('D72CB1C11673', 'Lead', '369'), ('D72CB1C11673', 'Lead', '370'), ('D72CB1C11673', 'Lead', '371'), ('D72CB1C11673', 'Lead', '372'), ('D72CB1C11673', 'Lead', '373'), ('D72CB1C11673', 'Lead', '373'), ('D72CB1C11673', 'Lead', '374'), ('D72CB1C11673', 'Lead', '375'), ('D72CB1C11673', 'Lead', '376'), ('D72CB1C11673', 'Lead', '377'), ('D72CB1C11673', 'Lead', '378'), ('D72CB1C11673', 'Lead', '379'), ('D72CB1C11673', 'Lead', '380'), ('D72CB1C11673', 'Lead', '381'), ('D72CB1C11673', 'Lead', '381'), ('D72CB1C11673', 'Lead', '382'), ('D72CB1C11673', 'Lead', '382'), ('D72CB1C11673', 'Lead', '383'), ('D72CB1C11673', 'Lead', '384'), ('D72CB1C11673', 'Lead', '384'), ('D72CB1C11673', 'Lead', '385'), ('D72CB1C11673', 'Lead', '386'), ('D72CB1C11673', 'Lead', '387'), ('D72CB1C11673', 'Lead', '388'), ('D72CB1C11673', 'Lead', '389'), ('D72CB1C11673', 'Lead', '389'), ('D72CB1C11673', 'Lead', '389'), ('D72CB1C11673', 'Lead', '390'), ('D72CB1C11673', 'Lead', '391'), ('D72CB1C11673', 'Lead', '392'), ('D72CB1C11673', 'Lead', '393'), ('D72CB1C11673', 'Lead', '394'), ('D72CB1C11673', 'Lead', '395'), ('D72CB1C11673', 'Lead', '396'), ('D72CB1C11673', 'Lead', '396'), ('D72CB1C11673', 'Lead', '397'), ('D72CB1C11673', 'Lead', '398'), ('D72CB1C11673', 'Lead', '399'), ('D72CB1C11673', 'Lead', '400'), ('D72CB1C11673', 'Lead', '401'), ('D72CB1C11673', 'Lead', '402'), ('D72CB1C11673', 'Lead', '403'), ('D72CB1C11673', 'Lead', '404'), ('D72CB1C11673', 'Lead', '405'), ('D72CB1C11673', 'Lead', '405'), ('D72CB1C11673', 'Lead', '406'), ('D72CB1C11673', 'Lead', '407'), ('D72CB1C11673', 'Lead', '408'), ('D72CB1C11673', 'Lead', '409'), ('D72CB1C11673', 'Lead', '410'), ('D72CB1C11673', 'Lead', '411'), ('D72CB1C11673', 'Lead', '412'), ('D72CB1C11673', 'Lead', '413'), ('D72CB1C11673', 'Lead', '414'), ('D72CB1C11673', 'Lead', '415'), ('D72CB1C11673', 'Lead', '416'), ('D72CB1C11673', 'Lead', '416'), ('D72CB1C11673', 'Lead', '416'), ('DF920E0A7337', 'Lead', '0'), ('DF920E0A7337', 'Lead', '1'), ('DF920E0A7337', 'Lead', '2'), ('DF920E0A7337', 'Lead', '3'), ('DF920E0A7337', 'Lead', '4'), ('DF920E0A7337', 'Lead', '5'), ('DF920E0A7337', 'Lead', '6'), ('DF920E0A7337', 'Lead', '7'), ('DF920E0A7337', 'Lead', '8'), ('DF920E0A7337', 'Lead', '9'), ('DF920E0A7337', 'Lead', '10'), ('DF920E0A7337', 'Lead', '11'), ('DF920E0A7337', 'Lead', '12'), ('DF920E0A7337', 'Lead', '13'), ('DF920E0A7337', 'Lead', '14'), ('DF920E0A7337', 'Lead', '15'), ('DF920E0A7337', 'Lead', '16'), ('DF920E0A7337', 'Lead', '17'), ('DF920E0A7337', 'Lead', '17'), ('DF920E0A7337', 'Lead', '18'), ('DF920E0A7337', 'Lead', '18'), ('DF920E0A7337', 'Lead', '19'), ('DF920E0A7337', 'Lead', '20'), ('DF920E0A7337', 'Lead', '21'), ('DF920E0A7337', 'Lead', '22'), ('DF920E0A7337', 'Lead', '23'), ('DF920E0A7337', 'Lead', '24'), ('DF920E0A7337', 'Lead', '25'), ('DF920E0A7337', 'Lead', '26'), ('DF920E0A7337', 'Lead', '27'), ('DF920E0A7337', 'Lead', '28'), ('DF920E0A7337', 'Lead', '28'), ('DF920E0A7337', 'Lead', '29'), ('DF920E0A7337', 'Lead', '29'), ('DF920E0A7337', 'Lead', '30'), ('DF920E0A7337', 'Lead', '31'), ('DF920E0A7337', 'Lead', '32'), ('DF920E0A7337', 'Lead', '33'), ('DF920E0A7337', 'Lead', '34'), ('DF920E0A7337', 'Lead', '34'), ('DF920E0A7337', 'Lead', '35'), ('DF920E0A7337', 'Lead', '36'), ('DF920E0A7337', 'Lead', '37'), ('DF920E0A7337', 'Lead', '37'), ('DF920E0A7337', 'Lead', '38'), ('DF920E0A7337', 'Lead', '39'), ('DF920E0A7337', 'Lead', '40'), ('DF920E0A7337', 'Lead', '41'), ('DF920E0A7337', 'Lead', '42'), ('DF920E0A7337', 'Lead', '42'), ('DF920E0A7337', 'Lead', '43'), ('DF920E0A7337', 'Lead', '44'), ('DF920E0A7337', 'Lead', '45'), ('DF920E0A7337', 'Lead', '46'), ('DF920E0A7337', 'Lead', '47'), ('DF920E0A7337', 'Lead', '48'), ('DF920E0A7337', 'Lead', '49'), ('DF920E0A7337', 'Lead', '50'), ('DF920E0A7337', 'Lead', '51'), ('DF920E0A7337', 'Lead', '52'), ('DF920E0A7337', 'Lead', '53'), ('DF920E0A7337', 'Lead', '54'), ('DF920E0A7337', 'Lead', '55'), ('DF920E0A7337', 'Lead', '56'), ('DF920E0A7337', 'Lead', '57'), ('DF920E0A7337', 'Lead', '58'), ('DF920E0A7337', 'Lead', '58'), ('DF920E0A7337', 'Lead', '59'), ('DF920E0A7337', 'Lead', '60'), ('DF920E0A7337', 'Lead', '61'), ('DF920E0A7337', 'Lead', '62'), ('DF920E0A7337', 'Lead', '63'), ('DF920E0A7337', 'Lead', '64'), ('DF920E0A7337', 'Lead', '65'), ('DF920E0A7337', 'Lead', '66'), ('DF920E0A7337', 'Lead', '67'), ('DF920E0A7337', 'Lead', '67'), ('DF920E0A7337', 'Lead', '68'), ('DF920E0A7337', 'Lead', '69'), ('DF920E0A7337', 'Lead', '70'), ('DF920E0A7337', 'Lead', '71'), ('DF920E0A7337', 'Lead', '72'), ('DF920E0A7337', 'Lead', '73'), ('DF920E0A7337', 'Lead', '74'), ('DF920E0A7337', 'Lead', '75'), ('DF920E0A7337', 'Lead', '76'), ('DF920E0A7337', 'Lead', '77'), ('DF920E0A7337', 'Lead', '78'), ('DF920E0A7337', 'Lead', '79'), ('DF920E0A7337', 'Lead', '80'), ('DF920E0A7337', 'Lead', '81'), ('DF920E0A7337', 'Lead', '82'), ('DF920E0A7337', 'Lead', '83'), ('DF920E0A7337', 'Lead', '84'), ('DF920E0A7337', 'Lead', '85'), ('DF920E0A7337', 'Lead', '86'), ('DF920E0A7337', 'Lead', '87'), ('DF920E0A7337', 'Lead', '88'), ('DF920E0A7337', 'Lead', '89'), ('DF920E0A7337', 'Lead', '90'), ('DF920E0A7337', 'Lead', '90'), ('DF920E0A7337', 'Lead', '91'), ('DF920E0A7337', 'Lead', '92'), ('DF920E0A7337', 'Lead', '93'), ('DF920E0A7337', 'Lead', '94'), ('DF920E0A7337', 'Lead', '95'), ('DF920E0A7337', 'Lead', '96'), ('DF920E0A7337', 'Lead', '97'), ('DF920E0A7337', 'Lead', '98'), ('DF920E0A7337', 'Lead', '98'), ('DF920E0A7337', 'Lead', '99'), ('DF920E0A7337', 'Lead', '100'), ('DF920E0A7337', 'Lead', '101'), ('DF920E0A7337', 'Lead', '102'), ('DF920E0A7337', 'Lead', '103'), ('DF920E0A7337', 'Lead', '104'), ('DF920E0A7337', 'Lead', '105'), ('DF920E0A7337', 'Lead', '106'), ('DF920E0A7337', 'Lead', '107'), ('DF920E0A7337', 'Lead', '107'), ('DF920E0A7337', 'Lead', '107'), ('DF920E0A7337', 'Lead', '107'), ('DF920E0A7337', 'Lead', '107'), ('DF920E0A7337', 'Lead', '107'), ('DF920E0A7337', 'Lead', '108'), ('DF920E0A7337', 'Lead', '109'), ('DF920E0A7337', 'Lead', '110'), ('DF920E0A7337', 'Lead', '111'), ('DF920E0A7337', 'Lead', '112'), ('DF920E0A7337', 'Lead', '113'), ('DF920E0A7337', 'Lead', '114'), ('DF920E0A7337', 'Lead', '115'), ('DF920E0A7337', 'Lead', '116'), ('DF920E0A7337', 'Lead', '116'), ('DF920E0A7337', 'Lead', '117'), ('DF920E0A7337', 'Lead', '118'), ('DF920E0A7337', 'Lead', '119'), ('DF920E0A7337', 'Lead', '120'), ('DF920E0A7337', 'Lead', '121'), ('DF920E0A7337', 'Lead', '122'), ('DF920E0A7337', 'Lead', '123'), ('DF920E0A7337', 'Lead', '124'), ('DF920E0A7337', 'Lead', '125'), ('DF920E0A7337', 'Lead', '126'), ('DF920E0A7337', 'Lead', '127'), ('DF920E0A7337', 'Lead', '128'), ('DF920E0A7337', 'Lead', '129'), ('DF920E0A7337', 'Lead', '130'), ('DF920E0A7337', 'Lead', '131'), ('DF920E0A7337', 'Lead', '132'), ('DF920E0A7337', 'Lead', '133'), ('DF920E0A7337', 'Lead', '133'), ('DF920E0A7337', 'Lead', '134'), ('DF920E0A7337', 'Lead', '135'), ('DF920E0A7337', 'Lead', '136'), ('DF920E0A7337', 'Lead', '137'), ('DF920E0A7337', 'Lead', '138'), ('DF920E0A7337', 'Lead', '139'), ('DF920E0A7337', 'Lead', '140'), ('DF920E0A7337', 'Lead', '141'), ('DF920E0A7337', 'Lead', '142'), ('DF920E0A7337', 'Lead', '143'), ('DF920E0A7337', 'Lead', '143'), ('DF920E0A7337', 'Lead', '144'), ('DF920E0A7337', 'Lead', '145'), ('DF920E0A7337', 'Lead', '146'), ('DF920E0A7337', 'Lead', '147'), ('DF920E0A7337', 'Lead', '148'), ('DF920E0A7337', 'Lead', '148'), ('DF920E0A7337', 'Lead', '149'), ('DF920E0A7337', 'Lead', '150'), ('DF920E0A7337', 'Lead', '150'), ('DF920E0A7337', 'Lead', '151'), ('DF920E0A7337', 'Lead', '152'), ('DF920E0A7337', 'Lead', '153'), ('DF920E0A7337', 'Lead', '154'), ('DF920E0A7337', 'Lead', '155'), ('DF920E0A7337', 'Lead', '156'), ('DF920E0A7337', 'Lead', '157'), ('DF920E0A7337', 'Lead', '157'), ('DF920E0A7337', 'Lead', '158'), ('DF920E0A7337', 'Lead', '159'), ('DF920E0A7337', 'Lead', '160'), ('DF920E0A7337', 'Lead', '161'), ('DF920E0A7337', 'Lead', '162'), ('DF920E0A7337', 'Lead', '163'), ('DF920E0A7337', 'Lead', '163'), ('DF920E0A7337', 'Lead', '164'), ('DF920E0A7337', 'Lead', '165'), ('DF920E0A7337', 'Lead', '166'), ('DF920E0A7337', 'Lead', '167'), ('DF920E0A7337', 'Lead', '168'), ('DF920E0A7337', 'Lead', '169'), ('DF920E0A7337', 'Lead', '170'), ('DF920E0A7337', 'Lead', '171'), ('DF920E0A7337', 'Lead', '172'), ('DF920E0A7337', 'Lead', '173'), ('DF920E0A7337', 'Lead', '174'), ('DF920E0A7337', 'Lead', '175'), ('DF920E0A7337', 'Lead', '176'), ('DF920E0A7337', 'Lead', '177'), ('DF920E0A7337', 'Lead', '178'), ('DF920E0A7337', 'Lead', '178'), ('DF920E0A7337', 'Lead', '179'), ('DF920E0A7337', 'Lead', '180'), ('DF920E0A7337', 'Lead', '181'), ('DF920E0A7337', 'Lead', '182'), ('DF920E0A7337', 'Lead', '183'), ('DF920E0A7337', 'Lead', '184'), ('DF920E0A7337', 'Lead', '185'), ('DF920E0A7337', 'Lead', '186'), ('DF920E0A7337', 'Lead', '186'), ('DF920E0A7337', 'Lead', '187'), ('DF920E0A7337', 'Lead', '188'), ('DF920E0A7337', 'Lead', '189'), ('DF920E0A7337', 'Lead', '190'), ('DF920E0A7337', 'Lead', '191'), ('DF920E0A7337', 'Lead', '192'), ('DF920E0A7337', 'Lead', '193'), ('DF920E0A7337', 'Lead', '194'), ('DF920E0A7337', 'Lead', '195'), ('DF920E0A7337', 'Lead', '196'), ('DF920E0A7337', 'Lead', '197'), ('DF920E0A7337', 'Lead', '198'), ('DF920E0A7337', 'Lead', '199'), ('DF920E0A7337', 'Lead', '200'), ('DF920E0A7337', 'Lead', '200'), ('DF920E0A7337', 'Lead', '201'), ('DF920E0A7337', 'Lead', '202'), ('DF920E0A7337', 'Lead', '203'), ('DF920E0A7337', 'Lead', '204'), ('DF920E0A7337', 'Lead', '205'), ('DF920E0A7337', 'Lead', '206'), ('DF920E0A7337', 'Lead', '207'), ('DF920E0A7337', 'Lead', '208'), ('DF920E0A7337', 'Lead', '208'), ('DF920E0A7337', 'Lead', '209'), ('DF920E0A7337', 'Lead', '210'), ('DF920E0A7337', 'Lead', '211'), ('DF920E0A7337', 'Lead', '212'), ('DF920E0A7337', 'Lead', '213'), ('DF920E0A7337', 'Lead', '214'), ('DF920E0A7337', 'Lead', '215'), ('DF920E0A7337', 'Lead', '216'), ('DF920E0A7337', 'Lead', '217'), ('DF920E0A7337', 'Lead', '218'), ('DF920E0A7337', 'Lead', '218'), ('DF920E0A7337', 'Lead', '219'), ('DF920E0A7337', 'Lead', '220'), ('DF920E0A7337', 'Lead', '221'), ('DF920E0A7337', 'Lead', '222'), ('DF920E0A7337', 'Lead', '223'), ('DF920E0A7337', 'Lead', '224'), ('DF920E0A7337', 'Lead', '225'), ('DF920E0A7337', 'Lead', '225'), ('DF920E0A7337', 'Lead', '226'), ('DF920E0A7337', 'Lead', '227'), ('DF920E0A7337', 'Lead', '228'), ('DF920E0A7337', 'Lead', '229'), ('DF920E0A7337', 'Lead', '229'), ('DF920E0A7337', 'Lead', '230'), ('DF920E0A7337', 'Lead', '231'), ('DF920E0A7337', 'Lead', '232'), ('DF920E0A7337', 'Lead', '233'), ('DF920E0A7337', 'Lead', '234'), ('DF920E0A7337', 'Lead', '235'), ('DF920E0A7337', 'Lead', '236'), ('DF920E0A7337', 'Lead', '237'), ('DF920E0A7337', 'Lead', '238'), ('DF920E0A7337', 'Lead', '239'), ('DF920E0A7337', 'Lead', '240'), ('DF920E0A7337', 'Lead', '241'), ('DF920E0A7337', 'Lead', '242'), ('DF920E0A7337', 'Lead', '243'), ('DF920E0A7337', 'Lead', '244'), ('DF920E0A7337', 'Lead', '244'), ('DF920E0A7337', 'Lead', '245'), ('DF920E0A7337', 'Lead', '246'), ('DF920E0A7337', 'Lead', '247'), ('DF920E0A7337', 'Lead', '248'), ('DF920E0A7337', 'Lead', '249'), ('DF920E0A7337', 'Lead', '250'), ('DF920E0A7337', 'Lead', '251'), ('DF920E0A7337', 'Lead', '252'), ('DF920E0A7337', 'Lead', '253'), ('DF920E0A7337', 'Lead', '253'), ('DF920E0A7337', 'Lead', '254'), ('DF920E0A7337', 'Lead', '255'), ('DF920E0A7337', 'Lead', '256'), ('DF920E0A7337', 'Lead', '257'), ('DF920E0A7337', 'Lead', '258'), ('DF920E0A7337', 'Lead', '259'), ('DF920E0A7337', 'Lead', '260'), ('DF920E0A7337', 'Lead', '261'), ('DF920E0A7337', 'Lead', '261'), ('DF920E0A7337', 'Lead', '262'), ('DF920E0A7337', 'Lead', '263'), ('DF920E0A7337', 'Lead', '264'), ('DF920E0A7337', 'Lead', '265'), ('DF920E0A7337', 'Lead', '266'), ('DF920E0A7337', 'Lead', '267'), ('DF920E0A7337', 'Lead', '268'), ('DF920E0A7337', 'Lead', '269'), ('DF920E0A7337', 'Lead', '270'), ('DF920E0A7337', 'Lead', '271'), ('DF920E0A7337', 'Lead', '272'), ('DF920E0A7337', 'Lead', '272'), ('DF920E0A7337', 'Lead', '273'), ('DF920E0A7337', 'Lead', '274'), ('DF920E0A7337', 'Lead', '275'), ('DF920E0A7337', 'Lead', '276'), ('DF920E0A7337', 'Lead', '277'), ('DF920E0A7337', 'Lead', '278'), ('DF920E0A7337', 'Lead', '279'), ('DF920E0A7337', 'Lead', '280'), ('DF920E0A7337', 'Lead', '281'), ('DF920E0A7337', 'Lead', '282'), ('DF920E0A7337', 'Lead', '282'), ('DF920E0A7337', 'Lead', '283'), ('DF920E0A7337', 'Lead', '284'), ('DF920E0A7337', 'Lead', '285'), ('DF920E0A7337', 'Lead', '286'), ('DF920E0A7337', 'Lead', '287'), ('DF920E0A7337', 'Lead', '288'), ('DF920E0A7337', 'Lead', '289'), ('DF920E0A7337', 'Lead', '290'), ('DF920E0A7337', 'Lead', '291'), ('DF920E0A7337', 'Lead', '292'), ('DF920E0A7337', 'Lead', '293'), ('DF920E0A7337', 'Lead', '294'), ('DF920E0A7337', 'Lead', '295'), ('DF920E0A7337', 'Lead', '296'), ('DF920E0A7337', 'Lead', '297'), ('DF920E0A7337', 'Lead', '298'), ('DF920E0A7337', 'Lead', '299'), ('DF920E0A7337', 'Lead', '299'), ('DF920E0A7337', 'Lead', '299'), ('DF920E0A7337', 'Lead', '299'), ('DF920E0A7337', 'Lead', '299'), ('DF920E0A7337', 'Lead', '299'), ('DF920E0A7337', 'Lead', '300'), ('DF920E0A7337', 'Lead', '301'), ('DF920E0A7337', 'Lead', '302'), ('DF920E0A7337', 'Lead', '303'), ('DF920E0A7337', 'Lead', '304'), ('DF920E0A7337', 'Lead', '305'), ('DF920E0A7337', 'Lead', '306'), ('DF920E0A7337', 'Lead', '307'), ('DF920E0A7337', 'Lead', '307'), ('DF920E0A7337', 'Lead', '308'), ('DF920E0A7337', 'Lead', '309'), ('DF920E0A7337', 'Lead', '310'), ('DF920E0A7337', 'Lead', '311'), ('DF920E0A7337', 'Lead', '312'), ('DF920E0A7337', 'Lead', '313'), ('DF920E0A7337', 'Lead', '313'), ('DF920E0A7337', 'Lead', '314'), ('DF920E0A7337', 'Lead', '315'), ('DF920E0A7337', 'Lead', '316'), ('DF920E0A7337', 'Lead', '317'), ('DF920E0A7337', 'Lead', '318'), ('DF920E0A7337', 'Lead', '319'), ('DF920E0A7337', 'Lead', '320'), ('DF920E0A7337', 'Lead', '321'), ('DF920E0A7337', 'Lead', '322'), ('DF920E0A7337', 'Lead', '323'), ('DF920E0A7337', 'Lead', '323'), ('DF920E0A7337', 'Lead', '324'), ('DF920E0A7337', 'Lead', '325'), ('DF920E0A7337', 'Lead', '326'), ('DF920E0A7337', 'Lead', '327'), ('DF920E0A7337', 'Lead', '328'), ('DF920E0A7337', 'Lead', '329'), ('DF920E0A7337', 'Lead', '330'), ('DF920E0A7337', 'Lead', '331'), ('DF920E0A7337', 'Lead', '332'), ('DF920E0A7337', 'Lead', '333'), ('DF920E0A7337', 'Lead', '334'), ('DF920E0A7337', 'Lead', '335'), ('DF920E0A7337', 'Lead', '336'), ('DF920E0A7337', 'Lead', '337'), ('DF920E0A7337', 'Lead', '338'), ('DF920E0A7337', 'Lead', '339'), ('DF920E0A7337', 'Lead', '340'), ('DF920E0A7337', 'Lead', '341'), ('DF920E0A7337', 'Lead', '342'), ('DF920E0A7337', 'Lead', '343'), ('DF920E0A7337', 'Lead', '344'), ('DF920E0A7337', 'Lead', '344'), ('DF920E0A7337', 'Lead', '345'), ('DF920E0A7337', 'Lead', '346'), ('DF920E0A7337', 'Lead', '347'), ('DF920E0A7337', 'Lead', '348'), ('DF920E0A7337', 'Lead', '349'), ('DF920E0A7337', 'Lead', '350'), ('DF920E0A7337', 'Lead', '351'), ('DF920E0A7337', 'Lead', '352'), ('DF920E0A7337', 'Lead', '353'), ('DF920E0A7337', 'Lead', '354'), ('DF920E0A7337', 'Lead', '354'), ('DF920E0A7337', 'Lead', '355'), ('DF920E0A7337', 'Lead', '356'), ('DF920E0A7337', 'Lead', '357'), ('DF920E0A7337', 'Lead', '358'), ('DF920E0A7337', 'Lead', '359'), ('DF920E0A7337', 'Lead', '360'), ('DF920E0A7337', 'Lead', '361'), ('DF920E0A7337', 'Lead', '362'), ('DF920E0A7337', 'Lead', '363'), ('DF920E0A7337', 'Lead', '364'), ('DF920E0A7337', 'Lead', '365'), ('DF920E0A7337', 'Lead', '365'), ('DF920E0A7337', 'Lead', '366'), ('DF920E0A7337', 'Lead', '367'), ('DF920E0A7337', 'Lead', '368'), ('DF920E0A7337', 'Lead', '369'), ('DF920E0A7337', 'Lead', '370'), ('DF920E0A7337', 'Lead', '371'), ('DF920E0A7337', 'Lead', '372'), ('DF920E0A7337', 'Lead', '373'), ('DF920E0A7337', 'Lead', '374'), ('DF920E0A7337', 'Lead', '375'), ('DF920E0A7337', 'Lead', '376'), ('DF920E0A7337', 'Lead', '377'), ('DF920E0A7337', 'Lead', '378'), ('DF920E0A7337', 'Lead', '378'), ('DF920E0A7337', 'Lead', '379'), ('DF920E0A7337', 'Lead', '380'), ('DF920E0A7337', 'Lead', '381'), ('DF920E0A7337', 'Lead', '382'), ('DF920E0A7337', 'Lead', '383'), ('DF920E0A7337', 'Lead', '384'), ('DF920E0A7337', 'Lead', '385'), ('DF920E0A7337', 'Lead', '386'), ('DF920E0A7337', 'Lead', '386'), ('DF920E0A7337', 'Lead', '387'), ('DF920E0A7337', 'Lead', '388'), ('DF920E0A7337', 'Lead', '389'), ('DF920E0A7337', 'Lead', '390'), ('DF920E0A7337', 'Lead', '391'), ('DF920E0A7337', 'Lead', '392'), ('DF920E0A7337', 'Lead', '393'), ('DF920E0A7337', 'Lead', '394'), ('DF920E0A7337', 'Lead', '395'), ('DF920E0A7337', 'Lead', '395'), ('DF920E0A7337', 'Lead', '396'), ('DF920E0A7337', 'Lead', '397'), ('DF920E0A7337', 'Lead', '398'), ('DF920E0A7337', 'Lead', '399'), ('DF920E0A7337', 'Lead', '400'), ('DF920E0A7337', 'Lead', '401'), ('DF920E0A7337', 'Lead', '402'), ('DF920E0A7337', 'Lead', '402'), ('DF920E0A7337', 'Lead', '403'), ('DF920E0A7337', 'Lead', '404'), ('DF920E0A7337', 'Lead', '405'), ('DF920E0A7337', 'Lead', '406'), ('DF920E0A7337', 'Lead', '406'), ('DF920E0A7337', 'Lead', '407'), ('DF920E0A7337', 'Lead', '408'), ('DF920E0A7337', 'Lead', '409'), ('DF920E0A7337', 'Lead', '410'), ('DF920E0A7337', 'Lead', '411'), ('DF920E0A7337', 'Lead', '412'), ('DF920E0A7337', 'Lead', '413'), ('DF920E0A7337', 'Lead', '413'), ('DF920E0A7337', 'Lead', '414'), ('DF920E0A7337', 'Lead', '415'), ('DF920E0A7337', 'Lead', '416'), ('DF920E0A7337', 'Lead', '417'), ('DF920E0A7337', 'Lead', '418'), ('DF920E0A7337', 'Lead', '419'), ('DF920E0A7337', 'Lead', '420'), ('DF920E0A7337', 'Lead', '421'), ('DF920E0A7337', 'Lead', '421'), ('DF920E0A7337', 'Lead', '422'), ('DF920E0A7337', 'Lead', '423'), ('DF920E0A7337', 'Lead', '424'), ('DF920E0A7337', 'Lead', '425'), ('DF920E0A7337', 'Lead', '426'), ('DF920E0A7337', 'Lead', '427'), ('DF920E0A7337', 'Lead', '428'), ('DF920E0A7337', 'Lead', '429'), ('DF920E0A7337', 'Lead', '430'), ('DF920E0A7337', 'Lead', '431'), ('DF920E0A7337', 'Lead', '431'), ('DF920E0A7337', 'Lead', '432'), ('DF920E0A7337', 'Lead', '433'), ('DF920E0A7337', 'Lead', '434'), ('DF920E0A7337', 'Lead', '435'), ('DF920E0A7337', 'Lead', '436'), ('DF920E0A7337', 'Lead', '437'), ('DF920E0A7337', 'Lead', '438'), ('DF920E0A7337', 'Lead', '439'), ('DF920E0A7337', 'Lead', '440'), ('DF920E0A7337', 'Lead', '441'), ('DF920E0A7337', 'Lead', '442'), ('DF920E0A7337', 'Lead', '443'), ('DF920E0A7337', 'Lead', '444'), ('DF920E0A7337', 'Lead', '445'), ('DF920E0A7337', 'Lead', '446'), ('DF920E0A7337', 'Lead', '447'), ('DF920E0A7337', 'Lead', '447'), ('DF920E0A7337', 'Lead', '448'), ('DF920E0A7337', 'Lead', '449'), ('DF920E0A7337', 'Lead', '450'), ('DF920E0A7337', 'Lead', '451'), ('DF920E0A7337', 'Lead', '452'), ('DF920E0A7337', 'Lead', '453'), ('DF920E0A7337', 'Lead', '454'), ('DF920E0A7337', 'Lead', '454'), ('DF920E0A7337', 'Lead', '454'), ('DF920E0A7337', 'Lead', '454'), ('DF920E0A7337', 'Lead', '454'), ('DF920E0A7337', 'Lead', '454'), ('DF920E0A7337', 'Lead', '455'), ('DF920E0A7337', 'Lead', '456'), ('DF920E0A7337', 'Lead', '457'), ('DF920E0A7337', 'Lead', '458'), ('DF920E0A7337', 'Lead', '459'), ('DF920E0A7337', 'Lead', '460'), ('DF920E0A7337', 'Lead', '461'), ('DF920E0A7337', 'Lead', '462'), ('DF920E0A7337', 'Lead', '462'), ('DF920E0A7337', 'Lead', '463'), ('DF920E0A7337', 'Lead', '464'), ('DF920E0A7337', 'Lead', '465'), ('DF920E0A7337', 'Lead', '466'), ('DF920E0A7337', 'Lead', '467'), ('DF920E0A7337', 'Lead', '467'), ('DF920E0A7337', 'Lead', '468'), ('DF920E0A7337', 'Lead', '469'), ('DF920E0A7337', 'Lead', '470'), ('DF920E0A7337', 'Lead', '471'), ('DF920E0A7337', 'Lead', '472'), ('DF920E0A7337', 'Lead', '473'), ('DF920E0A7337', 'Lead', '474'), ('DF920E0A7337', 'Lead', '475'), ('DF920E0A7337', 'Lead', '476'), ('DF920E0A7337', 'Lead', '476'), ('DF920E0A7337', 'Lead', '477'), ('DF920E0A7337', 'Lead', '478'), ('DF920E0A7337', 'Lead', '479'), ('DF920E0A7337', 'Lead', '480'), ('DF920E0A7337', 'Lead', '481'), ('DF920E0A7337', 'Lead', '482'), ('DF920E0A7337', 'Lead', '483'), ('DF920E0A7337', 'Lead', '484'), ('DF920E0A7337', 'Lead', '485'), ('DF920E0A7337', 'Lead', '486'), ('DF920E0A7337', 'Lead', '487'), ('DF920E0A7337', 'Lead', '488'), ('DF920E0A7337', 'Lead', '489'), ('DF920E0A7337', 'Lead', '490'), ('DF920E0A7337', 'Lead', '490'), ('DF920E0A7337', 'Lead', '491'), ('DF920E0A7337', 'Lead', '492'), ('DF920E0A7337', 'Lead', '493'), ('DF920E0A7337', 'Lead', '494'), ('DF920E0A7337', 'Lead', '495'), ('DF920E0A7337', 'Lead', '496'), ('DF920E0A7337', 'Lead', '497'), ('DF920E0A7337', 'Lead', '498'), ('DF920E0A7337', 'Lead', '499'), ('DF920E0A7337', 'Lead', '500'), ('DF920E0A7337', 'Lead', '501'), ('DF920E0A7337', 'Lead', '502'), ('DF920E0A7337', 'Lead', '503'), ('DF920E0A7337', 'Lead', '504'), ('DF920E0A7337', 'Lead', '505'), ('DF920E0A7337', 'Lead', '505'), ('DF920E0A7337', 'Lead', '506'), ('DF920E0A7337', 'Lead', '507'), ('DF920E0A7337', 'Lead', '508'), ('DF920E0A7337', 'Lead', '509'), ('DF920E0A7337', 'Lead', '510'), ('DF920E0A7337', 'Lead', '511'), ('DF920E0A7337', 'Lead', '512'), ('DF920E0A7337', 'Lead', '513'), ('DF920E0A7337', 'Lead', '514'), ('DF920E0A7337', 'Lead', '515'), ('DF920E0A7337', 'Lead', '516'), ('DF920E0A7337', 'Lead', '517'), ('DF920E0A7337', 'Lead', '518'), ('DF920E0A7337', 'Lead', '519'), ('DF920E0A7337', 'Lead', '519'), ('DF920E0A7337', 'Lead', '520'), ('DF920E0A7337', 'Lead', '521'), ('DF920E0A7337', 'Lead', '522'), ('DF920E0A7337', 'Lead', '523'), ('DF920E0A7337', 'Lead', '523'), ('DF920E0A7337', 'Lead', '524'), ('DF920E0A7337', 'Lead', '525'), ('DF920E0A7337', 'Lead', '526'), ('DF920E0A7337', 'Lead', '527'), ('DF920E0A7337', 'Lead', '528'), ('DF920E0A7337', 'Lead', '529'), ('DF920E0A7337', 'Lead', '530'), ('DF920E0A7337', 'Lead', '531'), ('DF920E0A7337', 'Lead', '532'), ('DF920E0A7337', 'Lead', '533'), ('DF920E0A7337', 'Lead', '534'), ('DF920E0A7337', 'Lead', '535'), ('DF920E0A7337', 'Lead', '536'), ('DF920E0A7337', 'Lead', '537'), ('DF920E0A7337', 'Lead', '538'), ('DF920E0A7337', 'Lead', '538'), ('DF920E0A7337', 'Lead', '539'), ('DF920E0A7337', 'Lead', '540'), ('DF920E0A7337', 'Lead', '541'), ('DF920E0A7337', 'Lead', '542'), ('DF920E0A7337', 'Lead', '543'), ('DF920E0A7337', 'Lead', '544'), ('DF920E0A7337', 'Lead', '545'), ('DF920E0A7337', 'Lead', '546'), ('DF920E0A7337', 'Lead', '547'), ('DF920E0A7337', 'Lead', '548'), ('DF920E0A7337', 'Lead', '549'), ('DF920E0A7337', 'Lead', '550'), ('DF920E0A7337', 'Lead', '550'), ('DF920E0A7337', 'Lead', '551'), ('DF920E0A7337', 'Lead', '552'), ('DF920E0A7337', 'Lead', '553'), ('DF920E0A7337', 'Lead', '554'), ('DF920E0A7337', 'Lead', '555'), ('DF920E0A7337', 'Lead', '556'), ('DF920E0A7337', 'Lead', '557'), ('DF920E0A7337', 'Lead', '558'), ('DF920E0A7337', 'Lead', '559'), ('DF920E0A7337', 'Lead', '560'), ('DF920E0A7337', 'Lead', '561'), ('DF920E0A7337', 'Lead', '562'), ('DF920E0A7337', 'Lead', '563'), ('DF920E0A7337', 'Lead', '563'), ('DF920E0A7337', 'Lead', '564'), ('DF920E0A7337', 'Lead', '565'), ('DF920E0A7337', 'Lead', '566'), ('DF920E0A7337', 'Lead', '567'), ('DF920E0A7337', 'Lead', '568'), ('DF920E0A7337', 'Lead', '569'), ('DF920E0A7337', 'Lead', '570'), ('DF920E0A7337', 'Lead', '571'), ('DF920E0A7337', 'Lead', '572'), ('DF920E0A7337', 'Lead', '572'), ('DF920E0A7337', 'Lead', '573'), ('DF920E0A7337', 'Lead', '574'), ('DF920E0A7337', 'Lead', '575'), ('DF920E0A7337', 'Lead', '576'), ('DF920E0A7337', 'Lead', '577'), ('DF920E0A7337', 'Lead', '578'), ('DF920E0A7337', 'Lead', '579'), ('DF920E0A7337', 'Lead', '580'), ('DF920E0A7337', 'Lead', '580'), ('DF920E0A7337', 'Lead', '581'), ('DF920E0A7337', 'Lead', '582'), ('DF920E0A7337', 'Lead', '583'), ('DF920E0A7337', 'Lead', '584'), ('DF920E0A7337', 'Lead', '584'), ('DF920E0A7337', 'Lead', '585'), ('DF920E0A7337', 'Lead', '586'), ('DF920E0A7337', 'Lead', '587'), ('DF920E0A7337', 'Lead', '588'), ('DF920E0A7337', 'Lead', '589'), ('DF920E0A7337', 'Lead', '590'), ('DF920E0A7337', 'Lead', '591'), ('DF920E0A7337', 'Lead', '592'), ('DF920E0A7337', 'Lead', '593'), ('DF920E0A7337', 'Lead', '594'), ('DF920E0A7337', 'Lead', '595'), ('DF920E0A7337', 'Lead', '595'), ('DF920E0A7337', 'Lead', '596'), ('DF920E0A7337', 'Lead', '597'), ('DF920E0A7337', 'Lead', '598'), ('DF920E0A7337', 'Lead', '599'), ('DF920E0A7337', 'Lead', '600'), ('DF920E0A7337', 'Lead', '601'), ('DF920E0A7337', 'Lead', '602'), ('DF920E0A7337', 'Lead', '603'), ('DF920E0A7337', 'Lead', '604'), ('DF920E0A7337', 'Lead', '605'), ('DF920E0A7337', 'Lead', '606'), ('DF920E0A7337', 'Lead', '606'), ('DF920E0A7337', 'Lead', '607'), ('DF920E0A7337', 'Lead', '608'), ('DF920E0A7337', 'Lead', '609'), ('DF920E0A7337', 'Lead', '610'), ('DF920E0A7337', 'Lead', '611'), ('DF920E0A7337', 'Lead', '612'), ('DF920E0A7337', 'Lead', '613'), ('DF920E0A7337', 'Lead', '614'), ('DF920E0A7337', 'Lead', '614'), ('DF920E0A7337', 'Lead', '614'), ('DF920E0A7337', 'Lead', '614'), ('DF920E0A7337', 'Lead', '614'), ('DF920E0A7337', 'Lead', '615'), ('DF920E0A7337', 'Lead', '615'), ('DF920E0A7337', 'Lead', '616'), ('DF920E0A7337', 'Lead', '617'), ('DF920E0A7337', 'Lead', '618'), ('DF920E0A7337', 'Lead', '619'), ('DF920E0A7337', 'Lead', '620'), ('DF920E0A7337', 'Lead', '621'), ('DF920E0A7337', 'Lead', '622'), ('DF920E0A7337', 'Lead', '623'), ('DF920E0A7337', 'Lead', '624'), ('DF920E0A7337', 'Lead', '625'), ('DF920E0A7337', 'Lead', '626'), ('DF920E0A7337', 'Lead', '627'), ('DF920E0A7337', 'Lead', '628'), ('DF920E0A7337', 'Lead', '629'), ('DF920E0A7337', 'Lead', '630'), ('DF920E0A7337', 'Lead', '630'), ('DF920E0A7337', 'Lead', '631'), ('DF920E0A7337', 'Lead', '632'), ('DF920E0A7337', 'Lead', '633'), ('DF920E0A7337', 'Lead', '634'), ('DF920E0A7337', 'Lead', '635'), ('DF920E0A7337', 'Lead', '636'), ('DF920E0A7337', 'Lead', '636'), ('DF920E0A7337', 'Lead', '637'), ('DF920E0A7337', 'Lead', '638'), ('DF920E0A7337', 'Lead', '639'), ('DF920E0A7337', 'Lead', '640'), ('DF920E0A7337', 'Lead', '641'), ('DF920E0A7337', 'Lead', '642'), ('DF920E0A7337', 'Lead', '643'), ('DF920E0A7337', 'Lead', '644'), ('DF920E0A7337', 'Lead', '645'), ('DF920E0A7337', 'Lead', '646'), ('DF920E0A7337', 'Lead', '646'), ('DF920E0A7337', 'Lead', '647'), ('DF920E0A7337', 'Lead', '648'), ('DF920E0A7337', 'Lead', '649'), ('DF920E0A7337', 'Lead', '650'), ('DF920E0A7337', 'Lead', '651'), ('DF920E0A7337', 'Lead', '652'), ('DF920E0A7337', 'Lead', '652'), ('DF920E0A7337', 'Lead', '653'), ('DF920E0A7337', 'Lead', '654'), ('DF920E0A7337', 'Lead', '655'), ('DF920E0A7337', 'Lead', '656'), ('DF920E0A7337', 'Lead', '657'), ('DF920E0A7337', 'Lead', '658'), ('DF920E0A7337', 'Lead', '659'), ('DF920E0A7337', 'Lead', '660'), ('DF920E0A7337', 'Lead', '661'), ('DF920E0A7337', 'Lead', '662'), ('DF920E0A7337', 'Lead', '663'), ('DF920E0A7337', 'Lead', '664'), ('DF920E0A7337', 'Lead', '664'), ('DF920E0A7337', 'Lead', '665'), ('DF920E0A7337', 'Lead', '666'), ('DF920E0A7337', 'Lead', '667'), ('DF920E0A7337', 'Lead', '668'), ('DF920E0A7337', 'Lead', '669'), ('DF920E0A7337', 'Lead', '670'), ('DF920E0A7337', 'Lead', '671'), ('DF920E0A7337', 'Lead', '671'), ('DF920E0A7337', 'Lead', '672'), ('DF920E0A7337', 'Lead', '673'), ('DF920E0A7337', 'Lead', '674'), ('DF920E0A7337', 'Lead', '675'), ('DF920E0A7337', 'Lead', '676'), ('DF920E0A7337', 'Lead', '677'), ('DF920E0A7337', 'Lead', '678'), ('DF920E0A7337', 'Lead', '678'), ('DF920E0A7337', 'Lead', '679'), ('DF920E0A7337', 'Lead', '680'), ('DF920E0A7337', 'Lead', '681'), ('DF920E0A7337', 'Lead', '682'), ('DF920E0A7337', 'Lead', '682'), ('DF920E0A7337', 'Lead', '683'), ('DF920E0A7337', 'Lead', '683'), ('DF920E0A7337', 'Lead', '684'), ('DF920E0A7337', 'Lead', '685'), ('DF920E0A7337', 'Lead', '686'), ('DF920E0A7337', 'Lead', '687'), ('DF920E0A7337', 'Lead', '688'), ('DF920E0A7337', 'Lead', '689'), ('DF920E0A7337', 'Lead', '690'), ('DF920E0A7337', 'Lead', '691'), ('DF920E0A7337', 'Lead', '692'), ('DF920E0A7337', 'Lead', '693'), ('DF920E0A7337', 'Lead', '694'), ('DF920E0A7337', 'Lead', '695'), ('DF920E0A7337', 'Lead', '696'), ('DF920E0A7337', 'Lead', '697'), ('DF920E0A7337', 'Lead', '697'), ('DF920E0A7337', 'Lead', '698'), ('DF920E0A7337', 'Lead', '698'), ('DF920E0A7337', 'Lead', '699'), ('DF920E0A7337', 'Lead', '700'), ('DF920E0A7337', 'Lead', '701'), ('DF920E0A7337', 'Lead', '702'), ('DF920E0A7337', 'Lead', '703'), ('DF920E0A7337', 'Lead', '704'), ('DF920E0A7337', 'Lead', '705'), ('DF920E0A7337', 'Lead', '706'), ('DF920E0A7337', 'Lead', '706')]\n"
     ]
    },
    {
     "data": {
      "text/html": [
       "<div>\n",
       "<style scoped>\n",
       "    .dataframe tbody tr th:only-of-type {\n",
       "        vertical-align: middle;\n",
       "    }\n",
       "\n",
       "    .dataframe tbody tr th {\n",
       "        vertical-align: top;\n",
       "    }\n",
       "\n",
       "    .dataframe thead th {\n",
       "        text-align: right;\n",
       "    }\n",
       "</style>\n",
       "<table border=\"1\" class=\"dataframe\">\n",
       "  <thead>\n",
       "    <tr style=\"text-align: right;\">\n",
       "      <th></th>\n",
       "      <th>id</th>\n",
       "      <th>class</th>\n",
       "      <th>predictionstring</th>\n",
       "    </tr>\n",
       "  </thead>\n",
       "  <tbody>\n",
       "    <tr>\n",
       "      <th>0</th>\n",
       "      <td>0FB0700DAF44</td>\n",
       "      <td>Lead</td>\n",
       "      <td>0</td>\n",
       "    </tr>\n",
       "    <tr>\n",
       "      <th>1</th>\n",
       "      <td>0FB0700DAF44</td>\n",
       "      <td>Lead</td>\n",
       "      <td>1</td>\n",
       "    </tr>\n",
       "    <tr>\n",
       "      <th>2</th>\n",
       "      <td>0FB0700DAF44</td>\n",
       "      <td>Lead</td>\n",
       "      <td>2</td>\n",
       "    </tr>\n",
       "    <tr>\n",
       "      <th>3</th>\n",
       "      <td>0FB0700DAF44</td>\n",
       "      <td>Lead</td>\n",
       "      <td>3</td>\n",
       "    </tr>\n",
       "    <tr>\n",
       "      <th>4</th>\n",
       "      <td>0FB0700DAF44</td>\n",
       "      <td>Lead</td>\n",
       "      <td>3</td>\n",
       "    </tr>\n",
       "  </tbody>\n",
       "</table>\n",
       "</div>"
      ],
      "text/plain": [
       "             id class predictionstring\n",
       "0  0FB0700DAF44  Lead                0\n",
       "1  0FB0700DAF44  Lead                1\n",
       "2  0FB0700DAF44  Lead                2\n",
       "3  0FB0700DAF44  Lead                3\n",
       "4  0FB0700DAF44  Lead                3"
      ]
     },
     "execution_count": 35,
     "metadata": {},
     "output_type": "execute_result"
    }
   ],
   "source": [
    "# Calculate the predictions for test files\n",
    "\n",
    "inference_df = calculate_preds(tokenizer, target_id_map_updated, MAX_LEN, ROOT_DIR, text_ids=TEST_IDS, preds=test_preds, dataset='test', verbose=False)\n",
    "\n",
    "inference_df.head()"
   ]
  },
  {
   "cell_type": "code",
   "execution_count": 36,
   "metadata": {
    "pycharm": {
     "name": "#%%\n"
    },
    "trusted": true
   },
   "outputs": [],
   "source": [
    "# WRITE SUBMISSION CSV\n",
    "inference_df.to_csv('submission.csv',index=False)"
   ]
  }
 ],
 "metadata": {
  "kernelspec": {
   "display_name": "Python 3",
   "language": "python",
   "name": "python3"
  },
  "language_info": {
   "codemirror_mode": {
    "name": "ipython",
    "version": 3
   },
   "file_extension": ".py",
   "mimetype": "text/x-python",
   "name": "python",
   "nbconvert_exporter": "python",
   "pygments_lexer": "ipython3",
   "version": "3.10.9"
  }
 },
 "nbformat": 4,
 "nbformat_minor": 4
}
